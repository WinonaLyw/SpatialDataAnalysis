{
 "cells": [
  {
   "cell_type": "markdown",
   "metadata": {},
   "source": [
    "# Spatial Data Analysis - mini Project\n",
    "# Grocery Shops within London\n",
    "\n",
    "## try to analyse the spatial distribution of the shops in London"
   ]
  },
  {
   "cell_type": "code",
   "execution_count": 82,
   "metadata": {},
   "outputs": [],
   "source": [
    "import numpy as np\n",
    "import pandas as pd\n",
    "import geopandas as gpd\n",
    "\n",
    "import matplotlib.pyplot as plt\n",
    "%matplotlib inline\n",
    "import seaborn as sns\n",
    "sns.set(style=\"whitegrid\")\n",
    "\n",
    "from shapely.geometry import Point\n",
    "\n",
    "import pysal as ps\n",
    "\n",
    "import warnings\n",
    "warnings.simplefilter('ignore')"
   ]
  },
  {
   "cell_type": "markdown",
   "metadata": {},
   "source": [
    "## Data Preprocessing"
   ]
  },
  {
   "cell_type": "code",
   "execution_count": 27,
   "metadata": {},
   "outputs": [
    {
     "data": {
      "text/plain": [
       "3600065606"
      ]
     },
     "execution_count": 27,
     "metadata": {},
     "output_type": "execute_result"
    }
   ],
   "source": [
    "from OSMPythonTools.nominatim import Nominatim\n",
    "from OSMPythonTools.overpass import Overpass\n",
    "nominatim = Nominatim()\n",
    "areaId = nominatim.query('London, UK').areaId()\n",
    "areaId"
   ]
  },
  {
   "cell_type": "code",
   "execution_count": 28,
   "metadata": {},
   "outputs": [],
   "source": [
    "api = Overpass()\n",
    "r1 = api.query(\"\"\"\n",
    "area(3600065606);\n",
    "node[\"shop\"=\"supermarket\"](area);\n",
    "out;\n",
    "\"\"\")\n",
    "# print (r.nodes()[0].geometry)"
   ]
  },
  {
   "cell_type": "code",
   "execution_count": 29,
   "metadata": {},
   "outputs": [],
   "source": [
    "coords  = []\n",
    "coords += [[node.id(), node.tag('name'), node.tag('shop'), node.tag('brand'), float(node.lon()), float(node.lat())]\n",
    "           for node in r1.nodes()]"
   ]
  },
  {
   "cell_type": "code",
   "execution_count": 30,
   "metadata": {},
   "outputs": [],
   "source": [
    "r2 = api.query(\"\"\"\n",
    "area(3600065606);\n",
    "node[\"shop\"=\"convenience\"](area);\n",
    "out;\n",
    "\"\"\")"
   ]
  },
  {
   "cell_type": "code",
   "execution_count": 31,
   "metadata": {},
   "outputs": [],
   "source": [
    "coords += [[node.id(), node.tag('name'), node.tag('shop'), node.tag('brand'), float(node.lon()), float(node.lat())]\n",
    "           for node in r2.nodes()]"
   ]
  },
  {
   "cell_type": "code",
   "execution_count": 32,
   "metadata": {},
   "outputs": [
    {
     "data": {
      "text/html": [
       "<div>\n",
       "<style scoped>\n",
       "    .dataframe tbody tr th:only-of-type {\n",
       "        vertical-align: middle;\n",
       "    }\n",
       "\n",
       "    .dataframe tbody tr th {\n",
       "        vertical-align: top;\n",
       "    }\n",
       "\n",
       "    .dataframe thead th {\n",
       "        text-align: right;\n",
       "    }\n",
       "</style>\n",
       "<table border=\"1\" class=\"dataframe\">\n",
       "  <thead>\n",
       "    <tr style=\"text-align: right;\">\n",
       "      <th></th>\n",
       "      <th>id</th>\n",
       "      <th>name</th>\n",
       "      <th>type</th>\n",
       "      <th>brand</th>\n",
       "      <th>longitude</th>\n",
       "      <th>latitude</th>\n",
       "    </tr>\n",
       "  </thead>\n",
       "  <tbody>\n",
       "    <tr>\n",
       "      <th>0</th>\n",
       "      <td>25544124</td>\n",
       "      <td>Tesco Metro</td>\n",
       "      <td>supermarket</td>\n",
       "      <td>Tesco Metro</td>\n",
       "      <td>-0.125165</td>\n",
       "      <td>51.511122</td>\n",
       "    </tr>\n",
       "    <tr>\n",
       "      <th>1</th>\n",
       "      <td>25744394</td>\n",
       "      <td>Tesco Express</td>\n",
       "      <td>supermarket</td>\n",
       "      <td>Tesco Express</td>\n",
       "      <td>-0.149359</td>\n",
       "      <td>51.562078</td>\n",
       "    </tr>\n",
       "    <tr>\n",
       "      <th>2</th>\n",
       "      <td>25813308</td>\n",
       "      <td>tesco express</td>\n",
       "      <td>supermarket</td>\n",
       "      <td>None</td>\n",
       "      <td>-0.133341</td>\n",
       "      <td>51.545341</td>\n",
       "    </tr>\n",
       "    <tr>\n",
       "      <th>3</th>\n",
       "      <td>26618618</td>\n",
       "      <td>Marks and Spencer</td>\n",
       "      <td>supermarket</td>\n",
       "      <td>None</td>\n",
       "      <td>-0.142041</td>\n",
       "      <td>51.537810</td>\n",
       "    </tr>\n",
       "    <tr>\n",
       "      <th>4</th>\n",
       "      <td>26817795</td>\n",
       "      <td>Tesco Express</td>\n",
       "      <td>supermarket</td>\n",
       "      <td>None</td>\n",
       "      <td>-0.158722</td>\n",
       "      <td>51.522805</td>\n",
       "    </tr>\n",
       "    <tr>\n",
       "      <th>...</th>\n",
       "      <td>...</td>\n",
       "      <td>...</td>\n",
       "      <td>...</td>\n",
       "      <td>...</td>\n",
       "      <td>...</td>\n",
       "      <td>...</td>\n",
       "    </tr>\n",
       "    <tr>\n",
       "      <th>2819</th>\n",
       "      <td>7401591150</td>\n",
       "      <td>Sainsbury's Local</td>\n",
       "      <td>convenience</td>\n",
       "      <td>Sainsbury's Local</td>\n",
       "      <td>-0.205008</td>\n",
       "      <td>51.497141</td>\n",
       "    </tr>\n",
       "    <tr>\n",
       "      <th>2820</th>\n",
       "      <td>7401798511</td>\n",
       "      <td>Sainsbury's Local</td>\n",
       "      <td>convenience</td>\n",
       "      <td>Sainsbury's Local</td>\n",
       "      <td>-0.129237</td>\n",
       "      <td>51.432494</td>\n",
       "    </tr>\n",
       "    <tr>\n",
       "      <th>2821</th>\n",
       "      <td>7419375764</td>\n",
       "      <td>Sainsbury's Local</td>\n",
       "      <td>convenience</td>\n",
       "      <td>Sainsbury's Local</td>\n",
       "      <td>-0.210045</td>\n",
       "      <td>51.402717</td>\n",
       "    </tr>\n",
       "    <tr>\n",
       "      <th>2822</th>\n",
       "      <td>7433268116</td>\n",
       "      <td>None</td>\n",
       "      <td>convenience</td>\n",
       "      <td>None</td>\n",
       "      <td>0.019572</td>\n",
       "      <td>51.550955</td>\n",
       "    </tr>\n",
       "    <tr>\n",
       "      <th>2823</th>\n",
       "      <td>7442901643</td>\n",
       "      <td>Mile End Cash &amp; Carry</td>\n",
       "      <td>convenience</td>\n",
       "      <td>None</td>\n",
       "      <td>-0.030357</td>\n",
       "      <td>51.525863</td>\n",
       "    </tr>\n",
       "  </tbody>\n",
       "</table>\n",
       "<p>2824 rows × 6 columns</p>\n",
       "</div>"
      ],
      "text/plain": [
       "              id                   name         type              brand  \\\n",
       "0       25544124            Tesco Metro  supermarket        Tesco Metro   \n",
       "1       25744394          Tesco Express  supermarket      Tesco Express   \n",
       "2       25813308          tesco express  supermarket               None   \n",
       "3       26618618      Marks and Spencer  supermarket               None   \n",
       "4       26817795          Tesco Express  supermarket               None   \n",
       "...          ...                    ...          ...                ...   \n",
       "2819  7401591150      Sainsbury's Local  convenience  Sainsbury's Local   \n",
       "2820  7401798511      Sainsbury's Local  convenience  Sainsbury's Local   \n",
       "2821  7419375764      Sainsbury's Local  convenience  Sainsbury's Local   \n",
       "2822  7433268116                   None  convenience               None   \n",
       "2823  7442901643  Mile End Cash & Carry  convenience               None   \n",
       "\n",
       "      longitude   latitude  \n",
       "0     -0.125165  51.511122  \n",
       "1     -0.149359  51.562078  \n",
       "2     -0.133341  51.545341  \n",
       "3     -0.142041  51.537810  \n",
       "4     -0.158722  51.522805  \n",
       "...         ...        ...  \n",
       "2819  -0.205008  51.497141  \n",
       "2820  -0.129237  51.432494  \n",
       "2821  -0.210045  51.402717  \n",
       "2822   0.019572  51.550955  \n",
       "2823  -0.030357  51.525863  \n",
       "\n",
       "[2824 rows x 6 columns]"
      ]
     },
     "execution_count": 32,
     "metadata": {},
     "output_type": "execute_result"
    }
   ],
   "source": [
    "shop_df = pd.DataFrame(coords, columns = ['id', 'name', 'type', 'brand', 'longitude', 'latitude'])\n",
    "shop_df"
   ]
  },
  {
   "cell_type": "code",
   "execution_count": 33,
   "metadata": {},
   "outputs": [
    {
     "name": "stdout",
     "output_type": "stream",
     "text": [
      "{'Tesco Metro', 'Sainsburys', 'Co-op', 'The Co-operative Food', \"Sainsbury's Local\", 'Whole Foods Market', 'Ministop', \"McColl's\", 'Spar', 'Aldi', 'Post Office', 'Farmfoods', 'Waitrose', 'Nisa', 'Shell', 'Best-one', 'Hudson', 'Budgens', 'Costcutter', 'Shell Select', 'Federated Co-operatives', 'Texaco', None, 'Asda', \"Sainsbury's\", 'Premier', 'M&S Foodhall', 'Marks & Spencer', 'Little Waitrose', 'Londis', 'Lycamobile', 'Iceland', 'Tesco', 'Nisa Local', 'Jumbo', 'Lidl', 'Market Basket', 'Tesco Express', 'M&S Simply Food'}\n"
     ]
    }
   ],
   "source": [
    "print (set(shop_df['brand']))"
   ]
  },
  {
   "cell_type": "code",
   "execution_count": 34,
   "metadata": {
    "tags": [
     "outputPrepend",
     "outputPrepend",
     "outputPrepend",
     "outputPrepend",
     "outputPrepend",
     "outputPrepend",
     "outputPrepend",
     "outputPrepend",
     "outputPrepend",
     "outputPrepend",
     "outputPrepend",
     "outputPrepend",
     "outputPrepend",
     "outputPrepend",
     "outputPrepend",
     "outputPrepend",
     "outputPrepend",
     "outputPrepend",
     "outputPrepend",
     "outputPrepend",
     "outputPrepend",
     "outputPrepend",
     "outputPrepend",
     "outputPrepend",
     "outputPrepend",
     "outputPrepend",
     "outputPrepend",
     "outputPrepend",
     "outputPrepend",
     "outputPrepend",
     "outputPrepend",
     "outputPrepend",
     "outputPrepend",
     "outputPrepend",
     "outputPrepend",
     "outputPrepend",
     "outputPrepend",
     "outputPrepend",
     "outputPrepend",
     "outputPrepend",
     "outputPrepend"
    ]
   },
   "outputs": [],
   "source": [
    "brands_dict = {'whole foods':'Whole Foods', 'mark & spencer' : 'M&S', 'marks & spencer' : 'M&S', 'marks and spencer' : 'M&S', 'm&s':'M&S', 'waitrose':'Waitrose', \"sainsbury\" : \"Sainsbury's\", 'co-op':'Co-op', 'co-operative':'Co-op', 'tesco':'Tesco', 'asda':'Asda', 'lidl':'Lidl', 'aldi':'Aldi', 'iceland':'Iceland', 'morrisons': 'Morrisons'}\n",
    "\n",
    "def brand_mapping(name):\n",
    "    if name is not None:\n",
    "        for key in brands_dict:\n",
    "            # print (name, key)\n",
    "            if key in name.lower() :\n",
    "                return brands_dict[key]\n",
    "    return 'Others'\n",
    "\n",
    "shop_df['brand'] = shop_df.apply(lambda row:brand_mapping(row['name']), axis = 1)\n"
   ]
  },
  {
   "cell_type": "code",
   "execution_count": 35,
   "metadata": {},
   "outputs": [],
   "source": [
    "geometry = [Point(xy) for xy in zip(shop_df.longitude, shop_df.latitude)]"
   ]
  },
  {
   "cell_type": "code",
   "execution_count": 36,
   "metadata": {},
   "outputs": [
    {
     "data": {
      "text/html": [
       "<div>\n",
       "<style scoped>\n",
       "    .dataframe tbody tr th:only-of-type {\n",
       "        vertical-align: middle;\n",
       "    }\n",
       "\n",
       "    .dataframe tbody tr th {\n",
       "        vertical-align: top;\n",
       "    }\n",
       "\n",
       "    .dataframe thead th {\n",
       "        text-align: right;\n",
       "    }\n",
       "</style>\n",
       "<table border=\"1\" class=\"dataframe\">\n",
       "  <thead>\n",
       "    <tr style=\"text-align: right;\">\n",
       "      <th></th>\n",
       "      <th>id</th>\n",
       "      <th>name</th>\n",
       "      <th>type</th>\n",
       "      <th>brand</th>\n",
       "      <th>longitude</th>\n",
       "      <th>latitude</th>\n",
       "      <th>geometry</th>\n",
       "    </tr>\n",
       "  </thead>\n",
       "  <tbody>\n",
       "    <tr>\n",
       "      <th>0</th>\n",
       "      <td>25544124</td>\n",
       "      <td>Tesco Metro</td>\n",
       "      <td>supermarket</td>\n",
       "      <td>Tesco</td>\n",
       "      <td>-0.125165</td>\n",
       "      <td>51.511122</td>\n",
       "      <td>POINT (-0.12516 51.51112)</td>\n",
       "    </tr>\n",
       "    <tr>\n",
       "      <th>1</th>\n",
       "      <td>25744394</td>\n",
       "      <td>Tesco Express</td>\n",
       "      <td>supermarket</td>\n",
       "      <td>Tesco</td>\n",
       "      <td>-0.149359</td>\n",
       "      <td>51.562078</td>\n",
       "      <td>POINT (-0.14936 51.56208)</td>\n",
       "    </tr>\n",
       "    <tr>\n",
       "      <th>2</th>\n",
       "      <td>25813308</td>\n",
       "      <td>tesco express</td>\n",
       "      <td>supermarket</td>\n",
       "      <td>Tesco</td>\n",
       "      <td>-0.133341</td>\n",
       "      <td>51.545341</td>\n",
       "      <td>POINT (-0.13334 51.54534)</td>\n",
       "    </tr>\n",
       "    <tr>\n",
       "      <th>3</th>\n",
       "      <td>26618618</td>\n",
       "      <td>Marks and Spencer</td>\n",
       "      <td>supermarket</td>\n",
       "      <td>M&amp;S</td>\n",
       "      <td>-0.142041</td>\n",
       "      <td>51.537810</td>\n",
       "      <td>POINT (-0.14204 51.53781)</td>\n",
       "    </tr>\n",
       "    <tr>\n",
       "      <th>4</th>\n",
       "      <td>26817795</td>\n",
       "      <td>Tesco Express</td>\n",
       "      <td>supermarket</td>\n",
       "      <td>Tesco</td>\n",
       "      <td>-0.158722</td>\n",
       "      <td>51.522805</td>\n",
       "      <td>POINT (-0.15872 51.52281)</td>\n",
       "    </tr>\n",
       "    <tr>\n",
       "      <th>...</th>\n",
       "      <td>...</td>\n",
       "      <td>...</td>\n",
       "      <td>...</td>\n",
       "      <td>...</td>\n",
       "      <td>...</td>\n",
       "      <td>...</td>\n",
       "      <td>...</td>\n",
       "    </tr>\n",
       "    <tr>\n",
       "      <th>2819</th>\n",
       "      <td>7401591150</td>\n",
       "      <td>Sainsbury's Local</td>\n",
       "      <td>convenience</td>\n",
       "      <td>Sainsbury's</td>\n",
       "      <td>-0.205008</td>\n",
       "      <td>51.497141</td>\n",
       "      <td>POINT (-0.20501 51.49714)</td>\n",
       "    </tr>\n",
       "    <tr>\n",
       "      <th>2820</th>\n",
       "      <td>7401798511</td>\n",
       "      <td>Sainsbury's Local</td>\n",
       "      <td>convenience</td>\n",
       "      <td>Sainsbury's</td>\n",
       "      <td>-0.129237</td>\n",
       "      <td>51.432494</td>\n",
       "      <td>POINT (-0.12924 51.43249)</td>\n",
       "    </tr>\n",
       "    <tr>\n",
       "      <th>2821</th>\n",
       "      <td>7419375764</td>\n",
       "      <td>Sainsbury's Local</td>\n",
       "      <td>convenience</td>\n",
       "      <td>Sainsbury's</td>\n",
       "      <td>-0.210045</td>\n",
       "      <td>51.402717</td>\n",
       "      <td>POINT (-0.21005 51.40272)</td>\n",
       "    </tr>\n",
       "    <tr>\n",
       "      <th>2822</th>\n",
       "      <td>7433268116</td>\n",
       "      <td>None</td>\n",
       "      <td>convenience</td>\n",
       "      <td>Others</td>\n",
       "      <td>0.019572</td>\n",
       "      <td>51.550955</td>\n",
       "      <td>POINT (0.01957 51.55095)</td>\n",
       "    </tr>\n",
       "    <tr>\n",
       "      <th>2823</th>\n",
       "      <td>7442901643</td>\n",
       "      <td>Mile End Cash &amp; Carry</td>\n",
       "      <td>convenience</td>\n",
       "      <td>Others</td>\n",
       "      <td>-0.030357</td>\n",
       "      <td>51.525863</td>\n",
       "      <td>POINT (-0.03036 51.52586)</td>\n",
       "    </tr>\n",
       "  </tbody>\n",
       "</table>\n",
       "<p>2824 rows × 7 columns</p>\n",
       "</div>"
      ],
      "text/plain": [
       "              id                   name         type        brand  longitude  \\\n",
       "0       25544124            Tesco Metro  supermarket        Tesco  -0.125165   \n",
       "1       25744394          Tesco Express  supermarket        Tesco  -0.149359   \n",
       "2       25813308          tesco express  supermarket        Tesco  -0.133341   \n",
       "3       26618618      Marks and Spencer  supermarket          M&S  -0.142041   \n",
       "4       26817795          Tesco Express  supermarket        Tesco  -0.158722   \n",
       "...          ...                    ...          ...          ...        ...   \n",
       "2819  7401591150      Sainsbury's Local  convenience  Sainsbury's  -0.205008   \n",
       "2820  7401798511      Sainsbury's Local  convenience  Sainsbury's  -0.129237   \n",
       "2821  7419375764      Sainsbury's Local  convenience  Sainsbury's  -0.210045   \n",
       "2822  7433268116                   None  convenience       Others   0.019572   \n",
       "2823  7442901643  Mile End Cash & Carry  convenience       Others  -0.030357   \n",
       "\n",
       "       latitude                   geometry  \n",
       "0     51.511122  POINT (-0.12516 51.51112)  \n",
       "1     51.562078  POINT (-0.14936 51.56208)  \n",
       "2     51.545341  POINT (-0.13334 51.54534)  \n",
       "3     51.537810  POINT (-0.14204 51.53781)  \n",
       "4     51.522805  POINT (-0.15872 51.52281)  \n",
       "...         ...                        ...  \n",
       "2819  51.497141  POINT (-0.20501 51.49714)  \n",
       "2820  51.432494  POINT (-0.12924 51.43249)  \n",
       "2821  51.402717  POINT (-0.21005 51.40272)  \n",
       "2822  51.550955   POINT (0.01957 51.55095)  \n",
       "2823  51.525863  POINT (-0.03036 51.52586)  \n",
       "\n",
       "[2824 rows x 7 columns]"
      ]
     },
     "execution_count": 36,
     "metadata": {},
     "output_type": "execute_result"
    }
   ],
   "source": [
    "shop_gdf = gpd.GeoDataFrame(shop_df, geometry =geometry, crs={'init' :'epsg:4326'})\n",
    "shop_gdf"
   ]
  },
  {
   "cell_type": "code",
   "execution_count": 37,
   "metadata": {},
   "outputs": [
    {
     "data": {
      "text/html": [
       "<div>\n",
       "<style scoped>\n",
       "    .dataframe tbody tr th:only-of-type {\n",
       "        vertical-align: middle;\n",
       "    }\n",
       "\n",
       "    .dataframe tbody tr th {\n",
       "        vertical-align: top;\n",
       "    }\n",
       "\n",
       "    .dataframe thead th {\n",
       "        text-align: right;\n",
       "    }\n",
       "</style>\n",
       "<table border=\"1\" class=\"dataframe\">\n",
       "  <thead>\n",
       "    <tr style=\"text-align: right;\">\n",
       "      <th></th>\n",
       "      <th>id</th>\n",
       "      <th>name</th>\n",
       "      <th>type</th>\n",
       "      <th>brand</th>\n",
       "      <th>longitude</th>\n",
       "      <th>latitude</th>\n",
       "      <th>geometry</th>\n",
       "    </tr>\n",
       "  </thead>\n",
       "  <tbody>\n",
       "    <tr>\n",
       "      <th>0</th>\n",
       "      <td>25544124</td>\n",
       "      <td>Tesco Metro</td>\n",
       "      <td>supermarket</td>\n",
       "      <td>Tesco</td>\n",
       "      <td>-0.125165</td>\n",
       "      <td>51.511122</td>\n",
       "      <td>POINT (530201.037 180798.619)</td>\n",
       "    </tr>\n",
       "    <tr>\n",
       "      <th>1</th>\n",
       "      <td>25744394</td>\n",
       "      <td>Tesco Express</td>\n",
       "      <td>supermarket</td>\n",
       "      <td>Tesco</td>\n",
       "      <td>-0.149359</td>\n",
       "      <td>51.562078</td>\n",
       "      <td>POINT (528378.869 186422.445)</td>\n",
       "    </tr>\n",
       "    <tr>\n",
       "      <th>2</th>\n",
       "      <td>25813308</td>\n",
       "      <td>tesco express</td>\n",
       "      <td>supermarket</td>\n",
       "      <td>Tesco</td>\n",
       "      <td>-0.133341</td>\n",
       "      <td>51.545341</td>\n",
       "      <td>POINT (529536.562 184589.478)</td>\n",
       "    </tr>\n",
       "    <tr>\n",
       "      <th>3</th>\n",
       "      <td>26618618</td>\n",
       "      <td>Marks and Spencer</td>\n",
       "      <td>supermarket</td>\n",
       "      <td>M&amp;S</td>\n",
       "      <td>-0.142041</td>\n",
       "      <td>51.537810</td>\n",
       "      <td>POINT (528954.637 183736.621)</td>\n",
       "    </tr>\n",
       "    <tr>\n",
       "      <th>4</th>\n",
       "      <td>26817795</td>\n",
       "      <td>Tesco Express</td>\n",
       "      <td>supermarket</td>\n",
       "      <td>Tesco</td>\n",
       "      <td>-0.158722</td>\n",
       "      <td>51.522805</td>\n",
       "      <td>POINT (527839.780 182038.764)</td>\n",
       "    </tr>\n",
       "    <tr>\n",
       "      <th>...</th>\n",
       "      <td>...</td>\n",
       "      <td>...</td>\n",
       "      <td>...</td>\n",
       "      <td>...</td>\n",
       "      <td>...</td>\n",
       "      <td>...</td>\n",
       "      <td>...</td>\n",
       "    </tr>\n",
       "    <tr>\n",
       "      <th>2819</th>\n",
       "      <td>7401591150</td>\n",
       "      <td>Sainsbury's Local</td>\n",
       "      <td>convenience</td>\n",
       "      <td>Sainsbury's</td>\n",
       "      <td>-0.205008</td>\n",
       "      <td>51.497141</td>\n",
       "      <td>POINT (524698.838 179105.042)</td>\n",
       "    </tr>\n",
       "    <tr>\n",
       "      <th>2820</th>\n",
       "      <td>7401798511</td>\n",
       "      <td>Sainsbury's Local</td>\n",
       "      <td>convenience</td>\n",
       "      <td>Sainsbury's</td>\n",
       "      <td>-0.129237</td>\n",
       "      <td>51.432494</td>\n",
       "      <td>POINT (530141.838 172047.788)</td>\n",
       "    </tr>\n",
       "    <tr>\n",
       "      <th>2821</th>\n",
       "      <td>7419375764</td>\n",
       "      <td>Sainsbury's Local</td>\n",
       "      <td>convenience</td>\n",
       "      <td>Sainsbury's</td>\n",
       "      <td>-0.210045</td>\n",
       "      <td>51.402717</td>\n",
       "      <td>POINT (524605.786 168596.194)</td>\n",
       "    </tr>\n",
       "    <tr>\n",
       "      <th>2822</th>\n",
       "      <td>7433268116</td>\n",
       "      <td>None</td>\n",
       "      <td>convenience</td>\n",
       "      <td>Others</td>\n",
       "      <td>0.019572</td>\n",
       "      <td>51.550955</td>\n",
       "      <td>POINT (540121.897 185495.382)</td>\n",
       "    </tr>\n",
       "    <tr>\n",
       "      <th>2823</th>\n",
       "      <td>7442901643</td>\n",
       "      <td>Mile End Cash &amp; Carry</td>\n",
       "      <td>convenience</td>\n",
       "      <td>Others</td>\n",
       "      <td>-0.030357</td>\n",
       "      <td>51.525863</td>\n",
       "      <td>POINT (536735.491 182610.723)</td>\n",
       "    </tr>\n",
       "  </tbody>\n",
       "</table>\n",
       "<p>2824 rows × 7 columns</p>\n",
       "</div>"
      ],
      "text/plain": [
       "              id                   name         type        brand  longitude  \\\n",
       "0       25544124            Tesco Metro  supermarket        Tesco  -0.125165   \n",
       "1       25744394          Tesco Express  supermarket        Tesco  -0.149359   \n",
       "2       25813308          tesco express  supermarket        Tesco  -0.133341   \n",
       "3       26618618      Marks and Spencer  supermarket          M&S  -0.142041   \n",
       "4       26817795          Tesco Express  supermarket        Tesco  -0.158722   \n",
       "...          ...                    ...          ...          ...        ...   \n",
       "2819  7401591150      Sainsbury's Local  convenience  Sainsbury's  -0.205008   \n",
       "2820  7401798511      Sainsbury's Local  convenience  Sainsbury's  -0.129237   \n",
       "2821  7419375764      Sainsbury's Local  convenience  Sainsbury's  -0.210045   \n",
       "2822  7433268116                   None  convenience       Others   0.019572   \n",
       "2823  7442901643  Mile End Cash & Carry  convenience       Others  -0.030357   \n",
       "\n",
       "       latitude                       geometry  \n",
       "0     51.511122  POINT (530201.037 180798.619)  \n",
       "1     51.562078  POINT (528378.869 186422.445)  \n",
       "2     51.545341  POINT (529536.562 184589.478)  \n",
       "3     51.537810  POINT (528954.637 183736.621)  \n",
       "4     51.522805  POINT (527839.780 182038.764)  \n",
       "...         ...                            ...  \n",
       "2819  51.497141  POINT (524698.838 179105.042)  \n",
       "2820  51.432494  POINT (530141.838 172047.788)  \n",
       "2821  51.402717  POINT (524605.786 168596.194)  \n",
       "2822  51.550955  POINT (540121.897 185495.382)  \n",
       "2823  51.525863  POINT (536735.491 182610.723)  \n",
       "\n",
       "[2824 rows x 7 columns]"
      ]
     },
     "execution_count": 37,
     "metadata": {},
     "output_type": "execute_result"
    }
   ],
   "source": [
    "shop_gdf.to_crs(epsg=27700)"
   ]
  },
  {
   "cell_type": "code",
   "execution_count": 38,
   "metadata": {},
   "outputs": [
    {
     "data": {
      "text/plain": [
       "{'Aldi',\n",
       " 'Asda',\n",
       " 'Co-op',\n",
       " 'Iceland',\n",
       " 'Lidl',\n",
       " 'M&S',\n",
       " 'Morrisons',\n",
       " 'Others',\n",
       " \"Sainsbury's\",\n",
       " 'Tesco',\n",
       " 'Waitrose',\n",
       " 'Whole Foods'}"
      ]
     },
     "execution_count": 38,
     "metadata": {},
     "output_type": "execute_result"
    }
   ],
   "source": [
    "set(shop_gdf.brand)"
   ]
  },
  {
   "cell_type": "code",
   "execution_count": 193,
   "metadata": {},
   "outputs": [],
   "source": [
    "# We call folium to realize interactive heatmap of London pubs\n",
    "import folium\n",
    "from folium import plugins\n",
    "from folium.plugins import HeatMap, MarkerCluster, FastMarkerCluster\n",
    "\n",
    "heat_df = shop_gdf[['latitude', 'longitude']]\n",
    "\n",
    "# List comprehension to make out list of lists\n",
    "heat_data = [[row['latitude'],row['longitude']] for index, row in heat_df.iterrows()]\n",
    "\n",
    "heatmap_map = folium.Map([51.50632, -0.1271448], zoom_start=12)\n",
    "\n",
    "# Plot it on the map\n",
    "hm=plugins.HeatMap(heat_data)\n",
    "heatmap_map.add_child(hm)\n",
    "# get the map shown below \n",
    "# if it is blank for browser reason, please save it as html file\n",
    "heatmap_map"
   ]
  },
  {
   "cell_type": "code",
   "execution_count": 97,
   "metadata": {},
   "outputs": [],
   "source": [
    "lsoa = gpd.read_file('data/LSOA_IMD2019.shp')"
   ]
  },
  {
   "cell_type": "code",
   "execution_count": 22,
   "metadata": {},
   "outputs": [
    {
     "data": {
      "text/plain": [
       "{'init': 'epsg:4326'}"
      ]
     },
     "execution_count": 22,
     "metadata": {},
     "output_type": "execute_result"
    }
   ],
   "source": [
    "shop_gdf.crs"
   ]
  },
  {
   "cell_type": "code",
   "execution_count": 44,
   "metadata": {},
   "outputs": [],
   "source": [
    "shop_gdf = shop_gdf.to_crs(lsoa.crs)\n",
    "shop_gdf.plot()"
   ]
  },
  {
   "cell_type": "code",
   "execution_count": 45,
   "metadata": {},
   "outputs": [],
   "source": [
    "shop_gdf.to_file('data/shops_supermarket&convenience_LDN.shp')"
   ]
  },
  {
   "cell_type": "code",
   "execution_count": 98,
   "metadata": {},
   "outputs": [],
   "source": [
    "# pointsInPolys = pointsInPolys.drop('index_right', axis=1)\n",
    "lsoa['ShopDens'] = lsoa.apply(lambda row:1*100000/row['st_areasha'], axis=1)"
   ]
  },
  {
   "cell_type": "code",
   "execution_count": 99,
   "metadata": {},
   "outputs": [
    {
     "data": {
      "text/html": [
       "<div>\n",
       "<style scoped>\n",
       "    .dataframe tbody tr th:only-of-type {\n",
       "        vertical-align: middle;\n",
       "    }\n",
       "\n",
       "    .dataframe tbody tr th {\n",
       "        vertical-align: top;\n",
       "    }\n",
       "\n",
       "    .dataframe thead th {\n",
       "        text-align: right;\n",
       "    }\n",
       "</style>\n",
       "<table border=\"1\" class=\"dataframe\">\n",
       "  <thead>\n",
       "    <tr style=\"text-align: right;\">\n",
       "      <th></th>\n",
       "      <th>index_left</th>\n",
       "      <th>id</th>\n",
       "      <th>name</th>\n",
       "      <th>type</th>\n",
       "      <th>brand</th>\n",
       "      <th>longitude</th>\n",
       "      <th>latitude</th>\n",
       "      <th>ShopDens</th>\n",
       "      <th>lsoa11cd</th>\n",
       "      <th>st_areasha</th>\n",
       "      <th>geometry</th>\n",
       "    </tr>\n",
       "    <tr>\n",
       "      <th>index_right</th>\n",
       "      <th></th>\n",
       "      <th></th>\n",
       "      <th></th>\n",
       "      <th></th>\n",
       "      <th></th>\n",
       "      <th></th>\n",
       "      <th></th>\n",
       "      <th></th>\n",
       "      <th></th>\n",
       "      <th></th>\n",
       "      <th></th>\n",
       "    </tr>\n",
       "  </thead>\n",
       "  <tbody>\n",
       "    <tr>\n",
       "      <th>4613</th>\n",
       "      <td>0.0</td>\n",
       "      <td>2.554412e+07</td>\n",
       "      <td>Tesco Metro</td>\n",
       "      <td>supermarket</td>\n",
       "      <td>Tesco</td>\n",
       "      <td>-0.125165</td>\n",
       "      <td>51.511122</td>\n",
       "      <td>0.312200</td>\n",
       "      <td>E01004734</td>\n",
       "      <td>3.203077e+05</td>\n",
       "      <td>POLYGON ((529794.943 180929.364, 529797.104 18...</td>\n",
       "    </tr>\n",
       "    <tr>\n",
       "      <th>4613</th>\n",
       "      <td>379.0</td>\n",
       "      <td>3.841675e+09</td>\n",
       "      <td>SeeWoo</td>\n",
       "      <td>supermarket</td>\n",
       "      <td>Others</td>\n",
       "      <td>-0.130398</td>\n",
       "      <td>51.511629</td>\n",
       "      <td>0.312200</td>\n",
       "      <td>E01004734</td>\n",
       "      <td>3.203077e+05</td>\n",
       "      <td>POLYGON ((529794.943 180929.364, 529797.104 18...</td>\n",
       "    </tr>\n",
       "    <tr>\n",
       "      <th>4613</th>\n",
       "      <td>468.0</td>\n",
       "      <td>4.878454e+09</td>\n",
       "      <td>New Loon Moon Supermarket</td>\n",
       "      <td>supermarket</td>\n",
       "      <td>Others</td>\n",
       "      <td>-0.130662</td>\n",
       "      <td>51.512031</td>\n",
       "      <td>0.312200</td>\n",
       "      <td>E01004734</td>\n",
       "      <td>3.203077e+05</td>\n",
       "      <td>POLYGON ((529794.943 180929.364, 529797.104 18...</td>\n",
       "    </tr>\n",
       "    <tr>\n",
       "      <th>4613</th>\n",
       "      <td>469.0</td>\n",
       "      <td>4.878458e+09</td>\n",
       "      <td>Oriental Delight</td>\n",
       "      <td>supermarket</td>\n",
       "      <td>Others</td>\n",
       "      <td>-0.131053</td>\n",
       "      <td>51.511885</td>\n",
       "      <td>0.312200</td>\n",
       "      <td>E01004734</td>\n",
       "      <td>3.203077e+05</td>\n",
       "      <td>POLYGON ((529794.943 180929.364, 529797.104 18...</td>\n",
       "    </tr>\n",
       "    <tr>\n",
       "      <th>4613</th>\n",
       "      <td>470.0</td>\n",
       "      <td>4.878468e+09</td>\n",
       "      <td>Young Cheng Fresh Seafood Shop</td>\n",
       "      <td>supermarket</td>\n",
       "      <td>Others</td>\n",
       "      <td>-0.131860</td>\n",
       "      <td>51.511738</td>\n",
       "      <td>0.312200</td>\n",
       "      <td>E01004734</td>\n",
       "      <td>3.203077e+05</td>\n",
       "      <td>POLYGON ((529794.943 180929.364, 529797.104 18...</td>\n",
       "    </tr>\n",
       "    <tr>\n",
       "      <th>...</th>\n",
       "      <td>...</td>\n",
       "      <td>...</td>\n",
       "      <td>...</td>\n",
       "      <td>...</td>\n",
       "      <td>...</td>\n",
       "      <td>...</td>\n",
       "      <td>...</td>\n",
       "      <td>...</td>\n",
       "      <td>...</td>\n",
       "      <td>...</td>\n",
       "      <td>...</td>\n",
       "    </tr>\n",
       "    <tr>\n",
       "      <th>4939</th>\n",
       "      <td>NaN</td>\n",
       "      <td>NaN</td>\n",
       "      <td>NaN</td>\n",
       "      <td>NaN</td>\n",
       "      <td>NaN</td>\n",
       "      <td>NaN</td>\n",
       "      <td>NaN</td>\n",
       "      <td>0.608434</td>\n",
       "      <td>E01033740</td>\n",
       "      <td>1.643562e+05</td>\n",
       "      <td>POLYGON ((544643.005 179833.468, 544644.485 17...</td>\n",
       "    </tr>\n",
       "    <tr>\n",
       "      <th>4941</th>\n",
       "      <td>NaN</td>\n",
       "      <td>NaN</td>\n",
       "      <td>NaN</td>\n",
       "      <td>NaN</td>\n",
       "      <td>NaN</td>\n",
       "      <td>NaN</td>\n",
       "      <td>NaN</td>\n",
       "      <td>0.810970</td>\n",
       "      <td>E01033742</td>\n",
       "      <td>1.233092e+05</td>\n",
       "      <td>MULTIPOLYGON (((544286.705 179551.996, 544287....</td>\n",
       "    </tr>\n",
       "    <tr>\n",
       "      <th>4942</th>\n",
       "      <td>NaN</td>\n",
       "      <td>NaN</td>\n",
       "      <td>NaN</td>\n",
       "      <td>NaN</td>\n",
       "      <td>NaN</td>\n",
       "      <td>NaN</td>\n",
       "      <td>NaN</td>\n",
       "      <td>0.099517</td>\n",
       "      <td>E01033743</td>\n",
       "      <td>1.004853e+06</td>\n",
       "      <td>POLYGON ((545586.239 180275.842, 545555.661 18...</td>\n",
       "    </tr>\n",
       "    <tr>\n",
       "      <th>4944</th>\n",
       "      <td>NaN</td>\n",
       "      <td>NaN</td>\n",
       "      <td>NaN</td>\n",
       "      <td>NaN</td>\n",
       "      <td>NaN</td>\n",
       "      <td>NaN</td>\n",
       "      <td>NaN</td>\n",
       "      <td>0.179058</td>\n",
       "      <td>E01033745</td>\n",
       "      <td>5.584777e+05</td>\n",
       "      <td>POLYGON ((546495.730 180438.119, 546494.383 18...</td>\n",
       "    </tr>\n",
       "    <tr>\n",
       "      <th>4945</th>\n",
       "      <td>NaN</td>\n",
       "      <td>NaN</td>\n",
       "      <td>NaN</td>\n",
       "      <td>NaN</td>\n",
       "      <td>NaN</td>\n",
       "      <td>NaN</td>\n",
       "      <td>NaN</td>\n",
       "      <td>0.775334</td>\n",
       "      <td>E01033746</td>\n",
       "      <td>1.289767e+05</td>\n",
       "      <td>POLYGON ((538073.358 177007.835, 538073.658 17...</td>\n",
       "    </tr>\n",
       "  </tbody>\n",
       "</table>\n",
       "<p>6256 rows × 11 columns</p>\n",
       "</div>"
      ],
      "text/plain": [
       "             index_left            id                            name  \\\n",
       "index_right                                                             \n",
       "4613                0.0  2.554412e+07                     Tesco Metro   \n",
       "4613              379.0  3.841675e+09                          SeeWoo   \n",
       "4613              468.0  4.878454e+09       New Loon Moon Supermarket   \n",
       "4613              469.0  4.878458e+09                Oriental Delight   \n",
       "4613              470.0  4.878468e+09  Young Cheng Fresh Seafood Shop   \n",
       "...                 ...           ...                             ...   \n",
       "4939                NaN           NaN                             NaN   \n",
       "4941                NaN           NaN                             NaN   \n",
       "4942                NaN           NaN                             NaN   \n",
       "4944                NaN           NaN                             NaN   \n",
       "4945                NaN           NaN                             NaN   \n",
       "\n",
       "                    type   brand  longitude   latitude  ShopDens   lsoa11cd  \\\n",
       "index_right                                                                   \n",
       "4613         supermarket   Tesco  -0.125165  51.511122  0.312200  E01004734   \n",
       "4613         supermarket  Others  -0.130398  51.511629  0.312200  E01004734   \n",
       "4613         supermarket  Others  -0.130662  51.512031  0.312200  E01004734   \n",
       "4613         supermarket  Others  -0.131053  51.511885  0.312200  E01004734   \n",
       "4613         supermarket  Others  -0.131860  51.511738  0.312200  E01004734   \n",
       "...                  ...     ...        ...        ...       ...        ...   \n",
       "4939                 NaN     NaN        NaN        NaN  0.608434  E01033740   \n",
       "4941                 NaN     NaN        NaN        NaN  0.810970  E01033742   \n",
       "4942                 NaN     NaN        NaN        NaN  0.099517  E01033743   \n",
       "4944                 NaN     NaN        NaN        NaN  0.179058  E01033745   \n",
       "4945                 NaN     NaN        NaN        NaN  0.775334  E01033746   \n",
       "\n",
       "               st_areasha                                           geometry  \n",
       "index_right                                                                   \n",
       "4613         3.203077e+05  POLYGON ((529794.943 180929.364, 529797.104 18...  \n",
       "4613         3.203077e+05  POLYGON ((529794.943 180929.364, 529797.104 18...  \n",
       "4613         3.203077e+05  POLYGON ((529794.943 180929.364, 529797.104 18...  \n",
       "4613         3.203077e+05  POLYGON ((529794.943 180929.364, 529797.104 18...  \n",
       "4613         3.203077e+05  POLYGON ((529794.943 180929.364, 529797.104 18...  \n",
       "...                   ...                                                ...  \n",
       "4939         1.643562e+05  POLYGON ((544643.005 179833.468, 544644.485 17...  \n",
       "4941         1.233092e+05  MULTIPOLYGON (((544286.705 179551.996, 544287....  \n",
       "4942         1.004853e+06  POLYGON ((545586.239 180275.842, 545555.661 18...  \n",
       "4944         5.584777e+05  POLYGON ((546495.730 180438.119, 546494.383 18...  \n",
       "4945         1.289767e+05  POLYGON ((538073.358 177007.835, 538073.658 17...  \n",
       "\n",
       "[6256 rows x 11 columns]"
      ]
     },
     "execution_count": 99,
     "metadata": {},
     "output_type": "execute_result"
    }
   ],
   "source": [
    "pointsInPolys = gpd.sjoin(shop_gdf, lsoa[['ShopDens', 'lsoa11cd', 'st_areasha', 'geometry']],  how='right', op='within')\n",
    "pointsInPolys"
   ]
  },
  {
   "cell_type": "code",
   "execution_count": 106,
   "metadata": {},
   "outputs": [],
   "source": [
    "dens = pointsInPolys.groupby('index_right').sum()['ShopDens']"
   ]
  },
  {
   "cell_type": "code",
   "execution_count": 108,
   "metadata": {},
   "outputs": [],
   "source": [
    "lsoa['ShopDens'] = dens"
   ]
  },
  {
   "cell_type": "code",
   "execution_count": 110,
   "metadata": {},
   "outputs": [
    {
     "data": {
      "text/plain": [
       "objectid                                                   4614\n",
       "lsoa11cd                                              E01004734\n",
       "lsoa11nm                                       Westminster 018A\n",
       "lsoa11nmw                                      Westminster 018A\n",
       "st_areasha                                               320308\n",
       "                                    ...                        \n",
       "Pop16_59                                                1258.75\n",
       "Pop60_                                                   825986\n",
       "WorkPop                                                 7044.99\n",
       "geometry      POLYGON ((529794.943 180929.3640000001, 529797...\n",
       "ShopDens                                                 3.4342\n",
       "Name: 4613, Length: 68, dtype: object"
      ]
     },
     "execution_count": 110,
     "metadata": {},
     "output_type": "execute_result"
    }
   ],
   "source": [
    "lsoa.loc[4613][:]"
   ]
  },
  {
   "cell_type": "code",
   "execution_count": 111,
   "metadata": {},
   "outputs": [],
   "source": [
    "lsoa.to_file('data/LSOA_Shop_Density.shp')"
   ]
  },
  {
   "cell_type": "code",
   "execution_count": 2,
   "metadata": {},
   "outputs": [],
   "source": [
    "#'shops_density_per10E5', 'IMDScore', 'IncScore', 'EmpScore', 'CriScore', 'OutScore', 'Pop16_59', 'Pop60_', 'WorkPop'\n",
    "shop_lsoa = gpd.read_file('data/LSOA_Shop_Density.shp')"
   ]
  },
  {
   "cell_type": "code",
   "execution_count": 114,
   "metadata": {},
   "outputs": [],
   "source": [
    "sns.boxplot(shop_lsoa['ShopDens'])"
   ]
  },
  {
   "cell_type": "markdown",
   "metadata": {},
   "source": [
    "## OLS"
   ]
  },
  {
   "cell_type": "code",
   "execution_count": 71,
   "metadata": {},
   "outputs": [
    {
     "data": {
      "text/html": [
       "<table class=\"simpletable\">\n",
       "<caption>OLS Regression Results</caption>\n",
       "<tr>\n",
       "  <th>Dep. Variable:</th>            <td>y</td>        <th>  R-squared:         </th> <td>   0.230</td> \n",
       "</tr>\n",
       "<tr>\n",
       "  <th>Model:</th>                   <td>OLS</td>       <th>  Adj. R-squared:    </th> <td>   0.229</td> \n",
       "</tr>\n",
       "<tr>\n",
       "  <th>Method:</th>             <td>Least Squares</td>  <th>  F-statistic:       </th> <td>   211.1</td> \n",
       "</tr>\n",
       "<tr>\n",
       "  <th>Date:</th>             <td>Wed, 29 Apr 2020</td> <th>  Prob (F-statistic):</th> <td>4.25e-275</td>\n",
       "</tr>\n",
       "<tr>\n",
       "  <th>Time:</th>                 <td>23:49:43</td>     <th>  Log-Likelihood:    </th> <td> -5074.8</td> \n",
       "</tr>\n",
       "<tr>\n",
       "  <th>No. Observations:</th>      <td>  4946</td>      <th>  AIC:               </th> <td>1.017e+04</td>\n",
       "</tr>\n",
       "<tr>\n",
       "  <th>Df Residuals:</th>          <td>  4938</td>      <th>  BIC:               </th> <td>1.022e+04</td>\n",
       "</tr>\n",
       "<tr>\n",
       "  <th>Df Model:</th>              <td>     7</td>      <th>                     </th>     <td> </td>    \n",
       "</tr>\n",
       "<tr>\n",
       "  <th>Covariance Type:</th>      <td>nonrobust</td>    <th>                     </th>     <td> </td>    \n",
       "</tr>\n",
       "</table>\n",
       "<table class=\"simpletable\">\n",
       "<tr>\n",
       "      <td></td>        <th>coef</th>     <th>std err</th>      <th>t</th>      <th>P>|t|</th>  <th>[0.025</th>    <th>0.975]</th>  \n",
       "</tr>\n",
       "<tr>\n",
       "  <th>const</th>    <td>   -0.2304</td> <td>    0.045</td> <td>   -5.099</td> <td> 0.000</td> <td>   -0.319</td> <td>   -0.142</td>\n",
       "</tr>\n",
       "<tr>\n",
       "  <th>IncScore</th> <td>    2.8954</td> <td>    0.549</td> <td>    5.274</td> <td> 0.000</td> <td>    1.819</td> <td>    3.972</td>\n",
       "</tr>\n",
       "<tr>\n",
       "  <th>EmpScore</th> <td>   -0.3326</td> <td>    0.741</td> <td>   -0.449</td> <td> 0.654</td> <td>   -1.785</td> <td>    1.120</td>\n",
       "</tr>\n",
       "<tr>\n",
       "  <th>OutScore</th> <td>    0.5855</td> <td>    0.020</td> <td>   28.587</td> <td> 0.000</td> <td>    0.545</td> <td>    0.626</td>\n",
       "</tr>\n",
       "<tr>\n",
       "  <th>CriScore</th> <td>   -0.1652</td> <td>    0.024</td> <td>   -6.777</td> <td> 0.000</td> <td>   -0.213</td> <td>   -0.117</td>\n",
       "</tr>\n",
       "<tr>\n",
       "  <th>IMDScore</th> <td>   -0.0103</td> <td>    0.004</td> <td>   -2.639</td> <td> 0.008</td> <td>   -0.018</td> <td>   -0.003</td>\n",
       "</tr>\n",
       "<tr>\n",
       "  <th>Pop16_59</th> <td>    0.0002</td> <td> 3.39e-05</td> <td>    5.180</td> <td> 0.000</td> <td>    0.000</td> <td>    0.000</td>\n",
       "</tr>\n",
       "<tr>\n",
       "  <th>Pop60_</th>   <td>-1.571e-08</td> <td> 2.96e-09</td> <td>   -5.312</td> <td> 0.000</td> <td>-2.15e-08</td> <td>-9.91e-09</td>\n",
       "</tr>\n",
       "</table>\n",
       "<table class=\"simpletable\">\n",
       "<tr>\n",
       "  <th>Omnibus:</th>       <td>5153.304</td> <th>  Durbin-Watson:     </th>  <td>   1.764</td> \n",
       "</tr>\n",
       "<tr>\n",
       "  <th>Prob(Omnibus):</th>  <td> 0.000</td>  <th>  Jarque-Bera (JB):  </th> <td>471616.135</td>\n",
       "</tr>\n",
       "<tr>\n",
       "  <th>Skew:</th>           <td> 5.068</td>  <th>  Prob(JB):          </th>  <td>    0.00</td> \n",
       "</tr>\n",
       "<tr>\n",
       "  <th>Kurtosis:</th>       <td>49.752</td>  <th>  Cond. No.          </th>  <td>2.98e+08</td> \n",
       "</tr>\n",
       "</table><br/><br/>Warnings:<br/>[1] Standard Errors assume that the covariance matrix of the errors is correctly specified.<br/>[2] The condition number is large, 2.98e+08. This might indicate that there are<br/>strong multicollinearity or other numerical problems."
      ],
      "text/plain": [
       "<class 'statsmodels.iolib.summary.Summary'>\n",
       "\"\"\"\n",
       "                            OLS Regression Results                            \n",
       "==============================================================================\n",
       "Dep. Variable:                      y   R-squared:                       0.230\n",
       "Model:                            OLS   Adj. R-squared:                  0.229\n",
       "Method:                 Least Squares   F-statistic:                     211.1\n",
       "Date:                Wed, 29 Apr 2020   Prob (F-statistic):          4.25e-275\n",
       "Time:                        23:49:43   Log-Likelihood:                -5074.8\n",
       "No. Observations:                4946   AIC:                         1.017e+04\n",
       "Df Residuals:                    4938   BIC:                         1.022e+04\n",
       "Df Model:                           7                                         \n",
       "Covariance Type:            nonrobust                                         \n",
       "==============================================================================\n",
       "                 coef    std err          t      P>|t|      [0.025      0.975]\n",
       "------------------------------------------------------------------------------\n",
       "const         -0.2304      0.045     -5.099      0.000      -0.319      -0.142\n",
       "IncScore       2.8954      0.549      5.274      0.000       1.819       3.972\n",
       "EmpScore      -0.3326      0.741     -0.449      0.654      -1.785       1.120\n",
       "OutScore       0.5855      0.020     28.587      0.000       0.545       0.626\n",
       "CriScore      -0.1652      0.024     -6.777      0.000      -0.213      -0.117\n",
       "IMDScore      -0.0103      0.004     -2.639      0.008      -0.018      -0.003\n",
       "Pop16_59       0.0002   3.39e-05      5.180      0.000       0.000       0.000\n",
       "Pop60_     -1.571e-08   2.96e-09     -5.312      0.000   -2.15e-08   -9.91e-09\n",
       "==============================================================================\n",
       "Omnibus:                     5153.304   Durbin-Watson:                   1.764\n",
       "Prob(Omnibus):                  0.000   Jarque-Bera (JB):           471616.135\n",
       "Skew:                           5.068   Prob(JB):                         0.00\n",
       "Kurtosis:                      49.752   Cond. No.                     2.98e+08\n",
       "==============================================================================\n",
       "\n",
       "Warnings:\n",
       "[1] Standard Errors assume that the covariance matrix of the errors is correctly specified.\n",
       "[2] The condition number is large, 2.98e+08. This might indicate that there are\n",
       "strong multicollinearity or other numerical problems.\n",
       "\"\"\""
      ]
     },
     "execution_count": 71,
     "metadata": {},
     "output_type": "execute_result"
    }
   ],
   "source": [
    "import statsmodels.api as sm\n",
    "x = ['IncScore', 'EmpScore', 'OutScore', 'CriScore', 'IMDScore', 'Pop16_59', 'Pop60_'] # define input/independant variables\n",
    "X = shop_lsoa.loc[:, x].dropna()\n",
    "X = sm.add_constant(X)\n",
    "y = np.array(shop_lsoa['ShopDens']) # define output/dependant variable\n",
    "# Note the difference in argument order\n",
    "model = sm.OLS(y, X).fit()\n",
    "predictions = model.predict(X) # make the predictions by the model\n",
    "\n",
    "# Print out the statistics\n",
    "model.summary()"
   ]
  },
  {
   "cell_type": "markdown",
   "metadata": {},
   "source": [
    "Current model is not good enough, because the R-squared value is 0.2303, which means only 23% of the dependent variable is explained by the input independant variables. And there are risk of strong multicollinearity."
   ]
  },
  {
   "cell_type": "code",
   "execution_count": 173,
   "metadata": {},
   "outputs": [
    {
     "data": {
      "text/html": [
       "<style  type=\"text/css\" >\n",
       "    #T_4e2c6722_8a3f_11ea_b695_acde48001122row0_col0 {\n",
       "            background-color:  #b40426;\n",
       "            color:  #f1f1f1;\n",
       "        }    #T_4e2c6722_8a3f_11ea_b695_acde48001122row0_col1 {\n",
       "            background-color:  #c43032;\n",
       "            color:  #f1f1f1;\n",
       "        }    #T_4e2c6722_8a3f_11ea_b695_acde48001122row0_col2 {\n",
       "            background-color:  #c1d4f4;\n",
       "            color:  #000000;\n",
       "        }    #T_4e2c6722_8a3f_11ea_b695_acde48001122row0_col3 {\n",
       "            background-color:  #e0dbd8;\n",
       "            color:  #000000;\n",
       "        }    #T_4e2c6722_8a3f_11ea_b695_acde48001122row0_col4 {\n",
       "            background-color:  #c32e31;\n",
       "            color:  #f1f1f1;\n",
       "        }    #T_4e2c6722_8a3f_11ea_b695_acde48001122row0_col5 {\n",
       "            background-color:  #688aef;\n",
       "            color:  #000000;\n",
       "        }    #T_4e2c6722_8a3f_11ea_b695_acde48001122row0_col6 {\n",
       "            background-color:  #4a63d3;\n",
       "            color:  #f1f1f1;\n",
       "        }    #T_4e2c6722_8a3f_11ea_b695_acde48001122row1_col0 {\n",
       "            background-color:  #c43032;\n",
       "            color:  #f1f1f1;\n",
       "        }    #T_4e2c6722_8a3f_11ea_b695_acde48001122row1_col1 {\n",
       "            background-color:  #b40426;\n",
       "            color:  #f1f1f1;\n",
       "        }    #T_4e2c6722_8a3f_11ea_b695_acde48001122row1_col2 {\n",
       "            background-color:  #afcafc;\n",
       "            color:  #000000;\n",
       "        }    #T_4e2c6722_8a3f_11ea_b695_acde48001122row1_col3 {\n",
       "            background-color:  #d8dce2;\n",
       "            color:  #000000;\n",
       "        }    #T_4e2c6722_8a3f_11ea_b695_acde48001122row1_col4 {\n",
       "            background-color:  #cc403a;\n",
       "            color:  #f1f1f1;\n",
       "        }    #T_4e2c6722_8a3f_11ea_b695_acde48001122row1_col5 {\n",
       "            background-color:  #4e68d8;\n",
       "            color:  #000000;\n",
       "        }    #T_4e2c6722_8a3f_11ea_b695_acde48001122row1_col6 {\n",
       "            background-color:  #4f69d9;\n",
       "            color:  #000000;\n",
       "        }    #T_4e2c6722_8a3f_11ea_b695_acde48001122row2_col0 {\n",
       "            background-color:  #b7cff9;\n",
       "            color:  #000000;\n",
       "        }    #T_4e2c6722_8a3f_11ea_b695_acde48001122row2_col1 {\n",
       "            background-color:  #9fbfff;\n",
       "            color:  #000000;\n",
       "        }    #T_4e2c6722_8a3f_11ea_b695_acde48001122row2_col2 {\n",
       "            background-color:  #b40426;\n",
       "            color:  #f1f1f1;\n",
       "        }    #T_4e2c6722_8a3f_11ea_b695_acde48001122row2_col3 {\n",
       "            background-color:  #dbdcde;\n",
       "            color:  #000000;\n",
       "        }    #T_4e2c6722_8a3f_11ea_b695_acde48001122row2_col4 {\n",
       "            background-color:  #ccd9ed;\n",
       "            color:  #000000;\n",
       "        }    #T_4e2c6722_8a3f_11ea_b695_acde48001122row2_col5 {\n",
       "            background-color:  #b2ccfb;\n",
       "            color:  #000000;\n",
       "        }    #T_4e2c6722_8a3f_11ea_b695_acde48001122row2_col6 {\n",
       "            background-color:  #3b4cc0;\n",
       "            color:  #f1f1f1;\n",
       "        }    #T_4e2c6722_8a3f_11ea_b695_acde48001122row3_col0 {\n",
       "            background-color:  #ead5c9;\n",
       "            color:  #000000;\n",
       "        }    #T_4e2c6722_8a3f_11ea_b695_acde48001122row3_col1 {\n",
       "            background-color:  #e1dad6;\n",
       "            color:  #000000;\n",
       "        }    #T_4e2c6722_8a3f_11ea_b695_acde48001122row3_col2 {\n",
       "            background-color:  #ebd3c6;\n",
       "            color:  #000000;\n",
       "        }    #T_4e2c6722_8a3f_11ea_b695_acde48001122row3_col3 {\n",
       "            background-color:  #b40426;\n",
       "            color:  #f1f1f1;\n",
       "        }    #T_4e2c6722_8a3f_11ea_b695_acde48001122row3_col4 {\n",
       "            background-color:  #f7bca1;\n",
       "            color:  #000000;\n",
       "        }    #T_4e2c6722_8a3f_11ea_b695_acde48001122row3_col5 {\n",
       "            background-color:  #85a8fc;\n",
       "            color:  #000000;\n",
       "        }    #T_4e2c6722_8a3f_11ea_b695_acde48001122row3_col6 {\n",
       "            background-color:  #6384eb;\n",
       "            color:  #000000;\n",
       "        }    #T_4e2c6722_8a3f_11ea_b695_acde48001122row4_col0 {\n",
       "            background-color:  #c32e31;\n",
       "            color:  #f1f1f1;\n",
       "        }    #T_4e2c6722_8a3f_11ea_b695_acde48001122row4_col1 {\n",
       "            background-color:  #cc403a;\n",
       "            color:  #f1f1f1;\n",
       "        }    #T_4e2c6722_8a3f_11ea_b695_acde48001122row4_col2 {\n",
       "            background-color:  #d9dce1;\n",
       "            color:  #000000;\n",
       "        }    #T_4e2c6722_8a3f_11ea_b695_acde48001122row4_col3 {\n",
       "            background-color:  #f5c2aa;\n",
       "            color:  #000000;\n",
       "        }    #T_4e2c6722_8a3f_11ea_b695_acde48001122row4_col4 {\n",
       "            background-color:  #b40426;\n",
       "            color:  #f1f1f1;\n",
       "        }    #T_4e2c6722_8a3f_11ea_b695_acde48001122row4_col5 {\n",
       "            background-color:  #799cf8;\n",
       "            color:  #000000;\n",
       "        }    #T_4e2c6722_8a3f_11ea_b695_acde48001122row4_col6 {\n",
       "            background-color:  #5470de;\n",
       "            color:  #000000;\n",
       "        }    #T_4e2c6722_8a3f_11ea_b695_acde48001122row5_col0 {\n",
       "            background-color:  #7699f6;\n",
       "            color:  #000000;\n",
       "        }    #T_4e2c6722_8a3f_11ea_b695_acde48001122row5_col1 {\n",
       "            background-color:  #5673e0;\n",
       "            color:  #000000;\n",
       "        }    #T_4e2c6722_8a3f_11ea_b695_acde48001122row5_col2 {\n",
       "            background-color:  #c5d6f2;\n",
       "            color:  #000000;\n",
       "        }    #T_4e2c6722_8a3f_11ea_b695_acde48001122row5_col3 {\n",
       "            background-color:  #799cf8;\n",
       "            color:  #000000;\n",
       "        }    #T_4e2c6722_8a3f_11ea_b695_acde48001122row5_col4 {\n",
       "            background-color:  #7da0f9;\n",
       "            color:  #000000;\n",
       "        }    #T_4e2c6722_8a3f_11ea_b695_acde48001122row5_col5 {\n",
       "            background-color:  #b40426;\n",
       "            color:  #f1f1f1;\n",
       "        }    #T_4e2c6722_8a3f_11ea_b695_acde48001122row5_col6 {\n",
       "            background-color:  #5875e1;\n",
       "            color:  #000000;\n",
       "        }    #T_4e2c6722_8a3f_11ea_b695_acde48001122row6_col0 {\n",
       "            background-color:  #3b4cc0;\n",
       "            color:  #f1f1f1;\n",
       "        }    #T_4e2c6722_8a3f_11ea_b695_acde48001122row6_col1 {\n",
       "            background-color:  #3b4cc0;\n",
       "            color:  #f1f1f1;\n",
       "        }    #T_4e2c6722_8a3f_11ea_b695_acde48001122row6_col2 {\n",
       "            background-color:  #3b4cc0;\n",
       "            color:  #f1f1f1;\n",
       "        }    #T_4e2c6722_8a3f_11ea_b695_acde48001122row6_col3 {\n",
       "            background-color:  #3b4cc0;\n",
       "            color:  #f1f1f1;\n",
       "        }    #T_4e2c6722_8a3f_11ea_b695_acde48001122row6_col4 {\n",
       "            background-color:  #3b4cc0;\n",
       "            color:  #f1f1f1;\n",
       "        }    #T_4e2c6722_8a3f_11ea_b695_acde48001122row6_col5 {\n",
       "            background-color:  #3b4cc0;\n",
       "            color:  #f1f1f1;\n",
       "        }    #T_4e2c6722_8a3f_11ea_b695_acde48001122row6_col6 {\n",
       "            background-color:  #b40426;\n",
       "            color:  #f1f1f1;\n",
       "        }</style><table id=\"T_4e2c6722_8a3f_11ea_b695_acde48001122\" ><thead>    <tr>        <th class=\"blank level0\" ></th>        <th class=\"col_heading level0 col0\" >IncScore</th>        <th class=\"col_heading level0 col1\" >EmpScore</th>        <th class=\"col_heading level0 col2\" >OutScore</th>        <th class=\"col_heading level0 col3\" >CriScore</th>        <th class=\"col_heading level0 col4\" >IMDScore</th>        <th class=\"col_heading level0 col5\" >Pop16_59</th>        <th class=\"col_heading level0 col6\" >Pop60_</th>    </tr></thead><tbody>\n",
       "                <tr>\n",
       "                        <th id=\"T_4e2c6722_8a3f_11ea_b695_acde48001122level0_row0\" class=\"row_heading level0 row0\" >IncScore</th>\n",
       "                        <td id=\"T_4e2c6722_8a3f_11ea_b695_acde48001122row0_col0\" class=\"data row0 col0\" >1</td>\n",
       "                        <td id=\"T_4e2c6722_8a3f_11ea_b695_acde48001122row0_col1\" class=\"data row0 col1\" >0.951262</td>\n",
       "                        <td id=\"T_4e2c6722_8a3f_11ea_b695_acde48001122row0_col2\" class=\"data row0 col2\" >0.300615</td>\n",
       "                        <td id=\"T_4e2c6722_8a3f_11ea_b695_acde48001122row0_col3\" class=\"data row0 col3\" >0.50403</td>\n",
       "                        <td id=\"T_4e2c6722_8a3f_11ea_b695_acde48001122row0_col4\" class=\"data row0 col4\" >0.954256</td>\n",
       "                        <td id=\"T_4e2c6722_8a3f_11ea_b695_acde48001122row0_col5\" class=\"data row0 col5\" >0.0919066</td>\n",
       "                        <td id=\"T_4e2c6722_8a3f_11ea_b695_acde48001122row0_col6\" class=\"data row0 col6\" >-0.113421</td>\n",
       "            </tr>\n",
       "            <tr>\n",
       "                        <th id=\"T_4e2c6722_8a3f_11ea_b695_acde48001122level0_row1\" class=\"row_heading level0 row1\" >EmpScore</th>\n",
       "                        <td id=\"T_4e2c6722_8a3f_11ea_b695_acde48001122row1_col0\" class=\"data row1 col0\" >0.951262</td>\n",
       "                        <td id=\"T_4e2c6722_8a3f_11ea_b695_acde48001122row1_col1\" class=\"data row1 col1\" >1</td>\n",
       "                        <td id=\"T_4e2c6722_8a3f_11ea_b695_acde48001122row1_col2\" class=\"data row1 col2\" >0.23752</td>\n",
       "                        <td id=\"T_4e2c6722_8a3f_11ea_b695_acde48001122row1_col3\" class=\"data row1 col3\" >0.472814</td>\n",
       "                        <td id=\"T_4e2c6722_8a3f_11ea_b695_acde48001122row1_col4\" class=\"data row1 col4\" >0.927034</td>\n",
       "                        <td id=\"T_4e2c6722_8a3f_11ea_b695_acde48001122row1_col5\" class=\"data row1 col5\" >0.00592931</td>\n",
       "                        <td id=\"T_4e2c6722_8a3f_11ea_b695_acde48001122row1_col6\" class=\"data row1 col6\" >-0.0946496</td>\n",
       "            </tr>\n",
       "            <tr>\n",
       "                        <th id=\"T_4e2c6722_8a3f_11ea_b695_acde48001122level0_row2\" class=\"row_heading level0 row2\" >OutScore</th>\n",
       "                        <td id=\"T_4e2c6722_8a3f_11ea_b695_acde48001122row2_col0\" class=\"data row2 col0\" >0.300615</td>\n",
       "                        <td id=\"T_4e2c6722_8a3f_11ea_b695_acde48001122row2_col1\" class=\"data row2 col1\" >0.23752</td>\n",
       "                        <td id=\"T_4e2c6722_8a3f_11ea_b695_acde48001122row2_col2\" class=\"data row2 col2\" >1</td>\n",
       "                        <td id=\"T_4e2c6722_8a3f_11ea_b695_acde48001122row2_col3\" class=\"data row2 col3\" >0.483722</td>\n",
       "                        <td id=\"T_4e2c6722_8a3f_11ea_b695_acde48001122row2_col4\" class=\"data row2 col4\" >0.394973</td>\n",
       "                        <td id=\"T_4e2c6722_8a3f_11ea_b695_acde48001122row2_col5\" class=\"data row2 col5\" >0.31562</td>\n",
       "                        <td id=\"T_4e2c6722_8a3f_11ea_b695_acde48001122row2_col6\" class=\"data row2 col6\" >-0.174268</td>\n",
       "            </tr>\n",
       "            <tr>\n",
       "                        <th id=\"T_4e2c6722_8a3f_11ea_b695_acde48001122level0_row3\" class=\"row_heading level0 row3\" >CriScore</th>\n",
       "                        <td id=\"T_4e2c6722_8a3f_11ea_b695_acde48001122row3_col0\" class=\"data row3 col0\" >0.50403</td>\n",
       "                        <td id=\"T_4e2c6722_8a3f_11ea_b695_acde48001122row3_col1\" class=\"data row3 col1\" >0.472814</td>\n",
       "                        <td id=\"T_4e2c6722_8a3f_11ea_b695_acde48001122row3_col2\" class=\"data row3 col2\" >0.483722</td>\n",
       "                        <td id=\"T_4e2c6722_8a3f_11ea_b695_acde48001122row3_col3\" class=\"data row3 col3\" >1</td>\n",
       "                        <td id=\"T_4e2c6722_8a3f_11ea_b695_acde48001122row3_col4\" class=\"data row3 col4\" >0.625604</td>\n",
       "                        <td id=\"T_4e2c6722_8a3f_11ea_b695_acde48001122row3_col5\" class=\"data row3 col5\" >0.180065</td>\n",
       "                        <td id=\"T_4e2c6722_8a3f_11ea_b695_acde48001122row3_col6\" class=\"data row3 col6\" >-0.0185908</td>\n",
       "            </tr>\n",
       "            <tr>\n",
       "                        <th id=\"T_4e2c6722_8a3f_11ea_b695_acde48001122level0_row4\" class=\"row_heading level0 row4\" >IMDScore</th>\n",
       "                        <td id=\"T_4e2c6722_8a3f_11ea_b695_acde48001122row4_col0\" class=\"data row4 col0\" >0.954256</td>\n",
       "                        <td id=\"T_4e2c6722_8a3f_11ea_b695_acde48001122row4_col1\" class=\"data row4 col1\" >0.927034</td>\n",
       "                        <td id=\"T_4e2c6722_8a3f_11ea_b695_acde48001122row4_col2\" class=\"data row4 col2\" >0.394973</td>\n",
       "                        <td id=\"T_4e2c6722_8a3f_11ea_b695_acde48001122row4_col3\" class=\"data row4 col3\" >0.625604</td>\n",
       "                        <td id=\"T_4e2c6722_8a3f_11ea_b695_acde48001122row4_col4\" class=\"data row4 col4\" >1</td>\n",
       "                        <td id=\"T_4e2c6722_8a3f_11ea_b695_acde48001122row4_col5\" class=\"data row4 col5\" >0.144068</td>\n",
       "                        <td id=\"T_4e2c6722_8a3f_11ea_b695_acde48001122row4_col6\" class=\"data row4 col6\" >-0.077816</td>\n",
       "            </tr>\n",
       "            <tr>\n",
       "                        <th id=\"T_4e2c6722_8a3f_11ea_b695_acde48001122level0_row5\" class=\"row_heading level0 row5\" >Pop16_59</th>\n",
       "                        <td id=\"T_4e2c6722_8a3f_11ea_b695_acde48001122row5_col0\" class=\"data row5 col0\" >0.0919066</td>\n",
       "                        <td id=\"T_4e2c6722_8a3f_11ea_b695_acde48001122row5_col1\" class=\"data row5 col1\" >0.00592931</td>\n",
       "                        <td id=\"T_4e2c6722_8a3f_11ea_b695_acde48001122row5_col2\" class=\"data row5 col2\" >0.31562</td>\n",
       "                        <td id=\"T_4e2c6722_8a3f_11ea_b695_acde48001122row5_col3\" class=\"data row5 col3\" >0.180065</td>\n",
       "                        <td id=\"T_4e2c6722_8a3f_11ea_b695_acde48001122row5_col4\" class=\"data row5 col4\" >0.144068</td>\n",
       "                        <td id=\"T_4e2c6722_8a3f_11ea_b695_acde48001122row5_col5\" class=\"data row5 col5\" >1</td>\n",
       "                        <td id=\"T_4e2c6722_8a3f_11ea_b695_acde48001122row5_col6\" class=\"data row5 col6\" >-0.0629213</td>\n",
       "            </tr>\n",
       "            <tr>\n",
       "                        <th id=\"T_4e2c6722_8a3f_11ea_b695_acde48001122level0_row6\" class=\"row_heading level0 row6\" >Pop60_</th>\n",
       "                        <td id=\"T_4e2c6722_8a3f_11ea_b695_acde48001122row6_col0\" class=\"data row6 col0\" >-0.113421</td>\n",
       "                        <td id=\"T_4e2c6722_8a3f_11ea_b695_acde48001122row6_col1\" class=\"data row6 col1\" >-0.0946496</td>\n",
       "                        <td id=\"T_4e2c6722_8a3f_11ea_b695_acde48001122row6_col2\" class=\"data row6 col2\" >-0.174268</td>\n",
       "                        <td id=\"T_4e2c6722_8a3f_11ea_b695_acde48001122row6_col3\" class=\"data row6 col3\" >-0.0185908</td>\n",
       "                        <td id=\"T_4e2c6722_8a3f_11ea_b695_acde48001122row6_col4\" class=\"data row6 col4\" >-0.077816</td>\n",
       "                        <td id=\"T_4e2c6722_8a3f_11ea_b695_acde48001122row6_col5\" class=\"data row6 col5\" >-0.0629213</td>\n",
       "                        <td id=\"T_4e2c6722_8a3f_11ea_b695_acde48001122row6_col6\" class=\"data row6 col6\" >1</td>\n",
       "            </tr>\n",
       "    </tbody></table>"
      ],
      "text/plain": [
       "<pandas.io.formats.style.Styler at 0x12bdabd50>"
      ]
     },
     "execution_count": 173,
     "metadata": {},
     "output_type": "execute_result"
    }
   ],
   "source": [
    "import pandas as pd\n",
    "import numpy as np\n",
    "\n",
    "corr = shop_lsoa.loc[:, x].corr()\n",
    "corr.style.background_gradient(cmap='coolwarm')"
   ]
  },
  {
   "cell_type": "markdown",
   "metadata": {},
   "source": [
    "Remove dependent variables with multicollineatity."
   ]
  },
  {
   "cell_type": "code",
   "execution_count": 73,
   "metadata": {},
   "outputs": [
    {
     "data": {
      "text/html": [
       "<table class=\"simpletable\">\n",
       "<caption>OLS Regression Results</caption>\n",
       "<tr>\n",
       "  <th>Dep. Variable:</th>            <td>y</td>        <th>  R-squared:         </th> <td>   0.225</td> \n",
       "</tr>\n",
       "<tr>\n",
       "  <th>Model:</th>                   <td>OLS</td>       <th>  Adj. R-squared:    </th> <td>   0.224</td> \n",
       "</tr>\n",
       "<tr>\n",
       "  <th>Method:</th>             <td>Least Squares</td>  <th>  F-statistic:       </th> <td>   286.9</td> \n",
       "</tr>\n",
       "<tr>\n",
       "  <th>Date:</th>             <td>Wed, 29 Apr 2020</td> <th>  Prob (F-statistic):</th> <td>3.22e-270</td>\n",
       "</tr>\n",
       "<tr>\n",
       "  <th>Time:</th>                 <td>23:50:00</td>     <th>  Log-Likelihood:    </th> <td> -5091.8</td> \n",
       "</tr>\n",
       "<tr>\n",
       "  <th>No. Observations:</th>      <td>  4946</td>      <th>  AIC:               </th> <td>1.020e+04</td>\n",
       "</tr>\n",
       "<tr>\n",
       "  <th>Df Residuals:</th>          <td>  4940</td>      <th>  BIC:               </th> <td>1.023e+04</td>\n",
       "</tr>\n",
       "<tr>\n",
       "  <th>Df Model:</th>              <td>     5</td>      <th>                     </th>     <td> </td>    \n",
       "</tr>\n",
       "<tr>\n",
       "  <th>Covariance Type:</th>      <td>nonrobust</td>    <th>                     </th>     <td> </td>    \n",
       "</tr>\n",
       "</table>\n",
       "<table class=\"simpletable\">\n",
       "<tr>\n",
       "      <td></td>        <th>coef</th>     <th>std err</th>      <th>t</th>      <th>P>|t|</th>  <th>[0.025</th>    <th>0.975]</th>  \n",
       "</tr>\n",
       "<tr>\n",
       "  <th>const</th>    <td>   -0.2404</td> <td>    0.043</td> <td>   -5.595</td> <td> 0.000</td> <td>   -0.325</td> <td>   -0.156</td>\n",
       "</tr>\n",
       "<tr>\n",
       "  <th>OutScore</th> <td>    0.5671</td> <td>    0.020</td> <td>   28.462</td> <td> 0.000</td> <td>    0.528</td> <td>    0.606</td>\n",
       "</tr>\n",
       "<tr>\n",
       "  <th>CriScore</th> <td>   -0.2099</td> <td>    0.023</td> <td>   -9.146</td> <td> 0.000</td> <td>   -0.255</td> <td>   -0.165</td>\n",
       "</tr>\n",
       "<tr>\n",
       "  <th>IMDScore</th> <td>    0.0094</td> <td>    0.001</td> <td>    8.192</td> <td> 0.000</td> <td>    0.007</td> <td>    0.012</td>\n",
       "</tr>\n",
       "<tr>\n",
       "  <th>Pop16_59</th> <td>    0.0002</td> <td> 3.26e-05</td> <td>    5.039</td> <td> 0.000</td> <td>    0.000</td> <td>    0.000</td>\n",
       "</tr>\n",
       "<tr>\n",
       "  <th>Pop60_</th>   <td>-1.846e-08</td> <td> 2.93e-09</td> <td>   -6.312</td> <td> 0.000</td> <td>-2.42e-08</td> <td>-1.27e-08</td>\n",
       "</tr>\n",
       "</table>\n",
       "<table class=\"simpletable\">\n",
       "<tr>\n",
       "  <th>Omnibus:</th>       <td>5132.334</td> <th>  Durbin-Watson:     </th>  <td>   1.748</td> \n",
       "</tr>\n",
       "<tr>\n",
       "  <th>Prob(Omnibus):</th>  <td> 0.000</td>  <th>  Jarque-Bera (JB):  </th> <td>468295.788</td>\n",
       "</tr>\n",
       "<tr>\n",
       "  <th>Skew:</th>           <td> 5.033</td>  <th>  Prob(JB):          </th>  <td>    0.00</td> \n",
       "</tr>\n",
       "<tr>\n",
       "  <th>Kurtosis:</th>       <td>49.594</td>  <th>  Cond. No.          </th>  <td>1.62e+07</td> \n",
       "</tr>\n",
       "</table><br/><br/>Warnings:<br/>[1] Standard Errors assume that the covariance matrix of the errors is correctly specified.<br/>[2] The condition number is large, 1.62e+07. This might indicate that there are<br/>strong multicollinearity or other numerical problems."
      ],
      "text/plain": [
       "<class 'statsmodels.iolib.summary.Summary'>\n",
       "\"\"\"\n",
       "                            OLS Regression Results                            \n",
       "==============================================================================\n",
       "Dep. Variable:                      y   R-squared:                       0.225\n",
       "Model:                            OLS   Adj. R-squared:                  0.224\n",
       "Method:                 Least Squares   F-statistic:                     286.9\n",
       "Date:                Wed, 29 Apr 2020   Prob (F-statistic):          3.22e-270\n",
       "Time:                        23:50:00   Log-Likelihood:                -5091.8\n",
       "No. Observations:                4946   AIC:                         1.020e+04\n",
       "Df Residuals:                    4940   BIC:                         1.023e+04\n",
       "Df Model:                           5                                         \n",
       "Covariance Type:            nonrobust                                         \n",
       "==============================================================================\n",
       "                 coef    std err          t      P>|t|      [0.025      0.975]\n",
       "------------------------------------------------------------------------------\n",
       "const         -0.2404      0.043     -5.595      0.000      -0.325      -0.156\n",
       "OutScore       0.5671      0.020     28.462      0.000       0.528       0.606\n",
       "CriScore      -0.2099      0.023     -9.146      0.000      -0.255      -0.165\n",
       "IMDScore       0.0094      0.001      8.192      0.000       0.007       0.012\n",
       "Pop16_59       0.0002   3.26e-05      5.039      0.000       0.000       0.000\n",
       "Pop60_     -1.846e-08   2.93e-09     -6.312      0.000   -2.42e-08   -1.27e-08\n",
       "==============================================================================\n",
       "Omnibus:                     5132.334   Durbin-Watson:                   1.748\n",
       "Prob(Omnibus):                  0.000   Jarque-Bera (JB):           468295.788\n",
       "Skew:                           5.033   Prob(JB):                         0.00\n",
       "Kurtosis:                      49.594   Cond. No.                     1.62e+07\n",
       "==============================================================================\n",
       "\n",
       "Warnings:\n",
       "[1] Standard Errors assume that the covariance matrix of the errors is correctly specified.\n",
       "[2] The condition number is large, 1.62e+07. This might indicate that there are\n",
       "strong multicollinearity or other numerical problems.\n",
       "\"\"\""
      ]
     },
     "execution_count": 73,
     "metadata": {},
     "output_type": "execute_result"
    }
   ],
   "source": [
    "x2 = ['OutScore', 'CriScore', 'IMDScore', 'Pop16_59', 'Pop60_'] \n",
    "X2 = shop_lsoa.loc[:, x2].dropna()\n",
    "X2 = sm.add_constant(X2)\n",
    "\n",
    "# Note the difference in argument order\n",
    "model2 = sm.OLS(y, X2).fit()\n",
    "predictions = model2.predict(X2) # make the predictions by the model\n",
    "\n",
    "# Print out the statistics\n",
    "model2.summary()"
   ]
  },
  {
   "cell_type": "code",
   "execution_count": null,
   "metadata": {},
   "outputs": [],
   "source": []
  },
  {
   "cell_type": "markdown",
   "metadata": {},
   "source": [
    "## Regression Diagnostics\n"
   ]
  },
  {
   "cell_type": "code",
   "execution_count": 175,
   "metadata": {},
   "outputs": [],
   "source": [
    "fig = plt.figure(figsize=(12,24))\n",
    "fig = sm.graphics.plot_partregress_grid(model2, fig=fig)\n",
    "plt.savefig('output/part_regression.png')"
   ]
  },
  {
   "cell_type": "code",
   "execution_count": 176,
   "metadata": {},
   "outputs": [],
   "source": [
    "# visualize the influence from each borough\n",
    "fig, ax = plt.subplots(figsize=(10,6))\n",
    "fig = sm.graphics.influence_plot(model2, ax=ax)\n",
    "plt.savefig('output/influence.png')"
   ]
  },
  {
   "cell_type": "code",
   "execution_count": 187,
   "metadata": {},
   "outputs": [],
   "source": [
    "fig = plt.figure(figsize=(12,8))\n",
    "fig = sm.graphics.plot_regress_exog(model2, 'OutScore', fig=fig)"
   ]
  },
  {
   "cell_type": "code",
   "execution_count": 177,
   "metadata": {},
   "outputs": [
    {
     "data": {
      "text/plain": [
       "array([[ 0.0007299 , -0.0289209 ,  0.04404283, -0.0099719 ,  0.01428152,\n",
       "        -0.00298602],\n",
       "       [-0.00050448, -0.03643004,  0.06773195, -0.01884068,  0.0215785 ,\n",
       "        -0.00452468],\n",
       "       [-0.00172265,  0.01500131, -0.01558712,  0.00506793, -0.00709147,\n",
       "         0.00161923],\n",
       "       [ 0.0122737 , -0.05168645,  0.08550382, -0.05137396,  0.03360007,\n",
       "        -0.00843633],\n",
       "       [ 0.00021939,  0.00014984,  0.00056286, -0.00028424, -0.0004565 ,\n",
       "         0.0001385 ]])"
      ]
     },
     "execution_count": 177,
     "metadata": {},
     "output_type": "execute_result"
    }
   ],
   "source": [
    "# Influence tests\n",
    "from statsmodels.stats.outliers_influence import OLSInfluence\n",
    "test_class = OLSInfluence(model2)\n",
    "test_class.dfbetas[:5,:]"
   ]
  },
  {
   "cell_type": "code",
   "execution_count": 178,
   "metadata": {},
   "outputs": [
    {
     "data": {
      "text/plain": [
       "[('Chi^2', 5132.333885740617), ('Two-tail probability', 0.0)]"
      ]
     },
     "execution_count": 178,
     "metadata": {},
     "output_type": "execute_result"
    }
   ],
   "source": [
    "from statsmodels.compat import lzip\n",
    "import statsmodels.stats.api as sms\n",
    "# Omni test\n",
    "name = ['Chi^2', 'Two-tail probability']\n",
    "test = sms.omni_normtest(model2.resid)\n",
    "lzip(name, test)"
   ]
  },
  {
   "cell_type": "code",
   "execution_count": 179,
   "metadata": {},
   "outputs": [
    {
     "data": {
      "text/plain": [
       "[('Jarque-Bera', 468295.78759119427),\n",
       " ('Chi^2 two-tail prob.', 0.0),\n",
       " ('Skew', 5.032800635138559),\n",
       " ('Kurtosis', 49.59447342072042)]"
      ]
     },
     "execution_count": 179,
     "metadata": {},
     "output_type": "execute_result"
    }
   ],
   "source": [
    "# Jarque-Bera test\n",
    "name = ['Jarque-Bera', 'Chi^2 two-tail prob.', 'Skew', 'Kurtosis']\n",
    "test = sms.jarque_bera(model2.resid)\n",
    "lzip(name, test)"
   ]
  },
  {
   "cell_type": "code",
   "execution_count": 180,
   "metadata": {},
   "outputs": [
    {
     "data": {
      "text/plain": [
       "16224989.409876376"
      ]
     },
     "execution_count": 180,
     "metadata": {},
     "output_type": "execute_result"
    }
   ],
   "source": [
    "# Multicollinearity on condition number\n",
    "np.linalg.cond(model2.model.exog)"
   ]
  },
  {
   "cell_type": "code",
   "execution_count": 181,
   "metadata": {},
   "outputs": [],
   "source": [
    "# Heteroskedasticity tests\n",
    "# Breush-Pagan test\n",
    "name = ['Lagrange multiplier statistic', 'p-value',\n",
    "        'f-value', 'f p-value']\n",
    "test = sms.het_breuschpagan(model2.resid, model2.model.exog)\n",
    "lzip(name, test)"
   ]
  },
  {
   "cell_type": "code",
   "execution_count": 182,
   "metadata": {},
   "outputs": [
    {
     "data": {
      "text/plain": [
       "[('F statistic', 2.2515416196980835), ('p-value', 2.6249910056211165e-88)]"
      ]
     },
     "execution_count": 182,
     "metadata": {},
     "output_type": "execute_result"
    }
   ],
   "source": [
    "# Goldfeld-Quandt test\n",
    "name = ['F statistic', 'p-value']\n",
    "test = sms.het_goldfeldquandt(model2.resid, model2.model.exog)\n",
    "lzip(name, test)"
   ]
  },
  {
   "cell_type": "markdown",
   "metadata": {},
   "source": [
    "## Spatial Analysis"
   ]
  },
  {
   "cell_type": "code",
   "execution_count": 191,
   "metadata": {},
   "outputs": [],
   "source": [
    "f, ax = plt.subplots(1,1,figsize=(10,8))\n",
    "# cmap = sns.cubehelix_palette(as_cmap=True, dark=1, light=0, reverse=True)\n",
    "shop_lsoa.plot(column='ShopDens', cmap='Reds', scheme='quantiles', linewidth = 0.005, edgecolor='grey', legend=True, ax=ax)\n",
    "f.suptitle('Density of Shops in LSOAs', size=25)\n",
    "ax.set_axis_off()\n",
    "plt.savefig('output/density_map.png')"
   ]
  },
  {
   "cell_type": "code",
   "execution_count": 12,
   "metadata": {},
   "outputs": [],
   "source": [
    "pr = ps.viz.mapclassify.Quantiles(shop_lsoa['ShopDens'], k=5)\n",
    "f, ax = plt.subplots(1, figsize=(20, 12))\n",
    "shop_lsoa.assign(cl_pr=pr.yb).plot(column='cl_pr', categorical=True, k=5, cmap='OrRd', \n",
    "                                      linewidth=0.1, ax=ax, edgecolor='white', legend=True)\n",
    "\n",
    "plt.title('Shop Density Quantiles')\n",
    "plt.savefig('output/density_map_quantiles.png')"
   ]
  },
  {
   "cell_type": "code",
   "execution_count": 5,
   "metadata": {},
   "outputs": [
    {
     "data": {
      "text/plain": [
       "4946"
      ]
     },
     "execution_count": 5,
     "metadata": {},
     "output_type": "execute_result"
    }
   ],
   "source": [
    "# Create the spatial weights matrix\n",
    "w_queen = ps.lib.weights.Queen.from_dataframe(shop_lsoa)\n",
    "w_queen.n"
   ]
  },
  {
   "cell_type": "code",
   "execution_count": 8,
   "metadata": {},
   "outputs": [
    {
     "data": {
      "text/plain": [
       "[(1, 21),\n",
       " (2, 46),\n",
       " (3, 182),\n",
       " (4, 648),\n",
       " (5, 1239),\n",
       " (6, 1301),\n",
       " (7, 794),\n",
       " (8, 410),\n",
       " (9, 185),\n",
       " (10, 67),\n",
       " (11, 21),\n",
       " (12, 17),\n",
       " (13, 9),\n",
       " (14, 2),\n",
       " (15, 3),\n",
       " (16, 1)]"
      ]
     },
     "execution_count": 8,
     "metadata": {},
     "output_type": "execute_result"
    }
   ],
   "source": [
    "w_queen.histogram"
   ]
  },
  {
   "cell_type": "code",
   "execution_count": 19,
   "metadata": {},
   "outputs": [],
   "source": [
    "shop_lsoa['DensLag'] = ps.lib.weights.lag_spatial(w_queen, shop_lsoa['ShopDens'])"
   ]
  },
  {
   "cell_type": "code",
   "execution_count": 11,
   "metadata": {},
   "outputs": [],
   "source": [
    "shop_lsoa['DensStd'] = (shop_lsoa['ShopDens'] - shop_lsoa['ShopDens'].mean()) / shop_lsoa['ShopDens'].std()\n",
    "shop_lsoa['DensStdLag'] = ps.lib.weights.lag_spatial(w_queen, shop_lsoa['DensStd'])"
   ]
  },
  {
   "cell_type": "markdown",
   "metadata": {},
   "source": [
    "### Spatial Autocorrelation"
   ]
  },
  {
   "cell_type": "code",
   "execution_count": 92,
   "metadata": {},
   "outputs": [],
   "source": [
    "f, ax = plt.subplots(1, figsize=(10, 8))\n",
    "\n",
    "density_LagQ5 = ps.viz.mapclassify.Quantiles(shop_lsoa['DensLag'], k=5) \n",
    "shop_lsoa.assign(cl_lag=density_LagQ5.yb).plot(column='cl_lag', categorical=True, k=5, cmap='coolwarm', linewidth=0.1, ax=ax, edgecolor='white', legend=True)\n",
    "plt.title('Shop Density Lag Quantiles', size=25)\n",
    "ax.set_axis_off()\n",
    "plt.savefig('output/shop_lag_quantiles')\n",
    "plt.close()"
   ]
  },
  {
   "cell_type": "code",
   "execution_count": 69,
   "metadata": {},
   "outputs": [],
   "source": [
    "density = shop_lsoa['ShopDens']\n",
    "density_lag = shop_lsoa['DensLag']\n",
    "b,a = np.polyfit(density, density_lag, 1)\n",
    "f, ax = plt.subplots(1, figsize=(10, 8))\n",
    "plt.plot(density, density_lag, '.', color='#E6BF00')\n",
    "\n",
    " # dashed vert at mean of the density level\n",
    "plt.vlines(density.mean(), density_lag.min(), density_lag.max(), linestyle='--')\n",
    " # dashed horizontal at mean of lagged density\n",
    "plt.hlines(density_lag.mean(), density.min(), density.max(), linestyle='--')\n",
    "\n",
    "# red line of best fit using global I as slope\n",
    "plt.plot(density, a + b*density, 'r')\n",
    "plt.title('Moran Scatterplot')\n",
    "plt.ylabel('Spatial Lag of Shop Density')\n",
    "plt.xlabel('Shop Density')\n",
    "plt.savefig('output/moran_plot.png')\n",
    "plt.close()"
   ]
  },
  {
   "cell_type": "code",
   "execution_count": 22,
   "metadata": {},
   "outputs": [],
   "source": [
    "# classify the \"low density\" and \"high density\" dividing by its median value to convert it into binary case\n",
    "binary = shop_lsoa['ShopDens']>shop_lsoa['ShopDens'].median()\n",
    "labels = ['Low Density', 'High Density']\n",
    "binary = [labels[i] for i in 1*binary] \n",
    "shop_lsoa['binary'] = binary"
   ]
  },
  {
   "cell_type": "code",
   "execution_count": 23,
   "metadata": {},
   "outputs": [],
   "source": [
    "fig = plt.figure(figsize=(12,10))\n",
    "ax = plt.gca()\n",
    "shop_lsoa.plot(column='binary', cmap='binary', edgecolor='grey', legend=True, ax=ax)\n",
    "plt.savefig('output/binary_map.png')\n",
    "plt.close()"
   ]
  },
  {
   "cell_type": "markdown",
   "metadata": {},
   "source": [
    "### Check of CSR"
   ]
  },
  {
   "cell_type": "markdown",
   "metadata": {},
   "source": [
    "* Global Moran's I"
   ]
  },
  {
   "cell_type": "code",
   "execution_count": 28,
   "metadata": {},
   "outputs": [
    {
     "data": {
      "text/plain": [
       "(0.33493237163901224, 0.001)"
      ]
     },
     "execution_count": 28,
     "metadata": {},
     "output_type": "execute_result"
    }
   ],
   "source": [
    "mi = ps.explore.esda.moran.Moran(shop_lsoa.ShopDens, w_queen) # call moran function\n",
    "mi.I, mi.p_sim # print out the moran's I value and p value"
   ]
  },
  {
   "cell_type": "code",
   "execution_count": 75,
   "metadata": {},
   "outputs": [
    {
     "name": "stdout",
     "output_type": "stream",
     "text": [
      "The Statistic Moran's I is: 0.3349 \n",
      "The Expected Value for Statistic I is: -0.0002 \n",
      "The Significance Test Value is: 0.0000\n"
     ]
    }
   ],
   "source": [
    "print(\"The Statistic Moran's I is: \"+str(\"%.4f\"%mi.I),\n",
    "      \"\\nThe Expected Value for Statistic I is: \"+str(\"%.4f\"%mi.EI),\n",
    "      \"\\nThe Significance Test Value is: \"+str(\"%.4f\"%mi.p_norm))"
   ]
  },
  {
   "cell_type": "code",
   "execution_count": 41,
   "metadata": {},
   "outputs": [],
   "source": [
    "sns.kdeplot(mi.sim, shade=True)\n",
    "plt.vlines(mi.I, 0, 1, color='r')\n",
    "plt.vlines(mi.EI, 0, 1)\n",
    "plt.xlabel(\"Moran's I\")\n",
    "plt.savefig('output/moran_I_KDE.png')\n",
    "plt.close()"
   ]
  },
  {
   "cell_type": "markdown",
   "metadata": {},
   "source": [
    "* Local Moran's I"
   ]
  },
  {
   "cell_type": "code",
   "execution_count": 39,
   "metadata": {},
   "outputs": [
    {
     "data": {
      "text/plain": [
       "array([-0.00362083, -0.13813326,  0.20678272, ...,  0.01210756,\n",
       "        0.43510478, -0.03076221])"
      ]
     },
     "execution_count": 39,
     "metadata": {},
     "output_type": "execute_result"
    }
   ],
   "source": [
    "lisa = ps.explore.esda.Moran_Local(shop_lsoa.ShopDens.values, w_queen, permutations=999)\n",
    "lisa.Is"
   ]
  },
  {
   "cell_type": "code",
   "execution_count": 40,
   "metadata": {},
   "outputs": [
    {
     "data": {
      "text/plain": [
       "array([4, 2, 1, ..., 3, 3, 4])"
      ]
     },
     "execution_count": 40,
     "metadata": {},
     "output_type": "execute_result"
    }
   ],
   "source": [
    "lisa.q "
   ]
  },
  {
   "cell_type": "code",
   "execution_count": 37,
   "metadata": {},
   "outputs": [
    {
     "data": {
      "text/plain": [
       "array([0.498, 0.155, 0.274, ..., 0.435, 0.003, 0.098])"
      ]
     },
     "execution_count": 37,
     "metadata": {},
     "output_type": "execute_result"
    }
   ],
   "source": [
    "lisa.p_sim"
   ]
  },
  {
   "cell_type": "code",
   "execution_count": 38,
   "metadata": {},
   "outputs": [
    {
     "data": {
      "text/plain": [
       "1702"
      ]
     },
     "execution_count": 38,
     "metadata": {},
     "output_type": "execute_result"
    }
   ],
   "source": [
    "(lisa.p_sim < 0.05).sum()"
   ]
  },
  {
   "cell_type": "markdown",
   "metadata": {},
   "source": [
    "Find all of the statistically significant LISAs. Since the $p$-values are in the same order as the $I_i$ statistics"
   ]
  },
  {
   "cell_type": "code",
   "execution_count": 42,
   "metadata": {},
   "outputs": [],
   "source": [
    "sigs = shop_lsoa['ShopDens'][lisa.p_sim <= .05]\n",
    "W_sigs = shop_lsoa['DensLag'][lisa.p_sim <= .05]\n",
    "insigs = shop_lsoa['ShopDens'][lisa.p_sim > .05]\n",
    "W_insigs = shop_lsoa['DensLag'][lisa.p_sim > .05]"
   ]
  },
  {
   "cell_type": "code",
   "execution_count": 68,
   "metadata": {},
   "outputs": [],
   "source": [
    "fig, ax=plt.subplots(1, figsize=(14,10))\n",
    "plt.plot(sigs, W_sigs, '^', color='#E6BF00')\n",
    "plt.plot(insigs, W_insigs, '.k', alpha=.2)\n",
    " # dashed vert at mean of density\n",
    "plt.vlines(density.mean(), density_lag.min(), density_lag.max(), linestyle='--')\n",
    " # dashed horizontal at mean of lagged density\n",
    "plt.hlines(density_lag.mean(), density.min(), density.max(), linestyle='--')\n",
    "\n",
    "# red line of best fit using global I as slope\n",
    "plt.plot(density, a + b*density, 'firebrick')\n",
    "plt.text(s='$I = %.3f$' % mi.I, x=6, y=25, fontsize=14)\n",
    "plt.text(8, 20, \"HH\", fontsize=15, color='firebrick')\n",
    "plt.text(8, 0, \"HL\", fontsize=15, color='grey')\n",
    "plt.text(0, 20, \"LH\", fontsize=15, color='grey')\n",
    "plt.text(0, 0, \"LL\", fontsize=15, color='lightblue')\n",
    "plt.title('Moran Scatterplot')\n",
    "plt.ylabel('Spatial Lag of Density')\n",
    "plt.xlabel('Shop Density')\n",
    "plt.savefig('output/moran_plot(sig_vs_insig).png')\n",
    "plt.close()"
   ]
  },
  {
   "cell_type": "markdown",
   "metadata": {},
   "source": [
    "* Map Visualisation"
   ]
  },
  {
   "cell_type": "code",
   "execution_count": 48,
   "metadata": {},
   "outputs": [],
   "source": [
    "from pysal.viz.splot.esda import lisa_cluster\n",
    "fig, ax=plt.subplots(1, figsize=(14,10))\n",
    "fig = lisa_cluster(lisa, shop_lsoa, ax=ax)\n",
    "plt.title(\"LISA Cluster Map\")\n",
    "plt.savefig('output/LISA_cluster_map.png')\n",
    "plt.close()"
   ]
  },
  {
   "cell_type": "markdown",
   "metadata": {},
   "source": [
    "### Spatial Lag Model"
   ]
  },
  {
   "cell_type": "code",
   "execution_count": 78,
   "metadata": {},
   "outputs": [],
   "source": [
    "y = np.array(shop_lsoa['ShopDens'])\n",
    "y.shape = (len(y),1)\n",
    "# value for independent variables into a one dimmensional array X. \n",
    "# You can feel free to change the independant variables\n",
    "X= []\n",
    "X.append(shop_lsoa['OutScore']) # Outdoor Living Environment Score in 2019\n",
    "X.append(shop_lsoa['CriScore']) # Crime score in 2019\n",
    "X.append(shop_lsoa['IMDScore']) # Deprivation index in 2019\n",
    "X.append(shop_lsoa['Pop16_59']) # Population between age 16 and 59 in 2019\n",
    "X.append(shop_lsoa['Pop60_']) # Population over age 60 in 2019\n",
    "X = np.array(X).T"
   ]
  },
  {
   "cell_type": "code",
   "execution_count": 81,
   "metadata": {},
   "outputs": [
    {
     "name": "stderr",
     "output_type": "stream",
     "text": [
      "/opt/anaconda3/envs/cusplondon/lib/python3.7/site-packages/scipy/optimize/_minimize.py:770: RuntimeWarning: Method 'bounded' does not support relative tolerance in x; defaulting to absolute tolerance.\n",
      "  \"defaulting to absolute tolerance.\", RuntimeWarning)\n"
     ]
    },
    {
     "name": "stdout",
     "output_type": "stream",
     "text": [
      "REGRESSION\n",
      "----------\n",
      "SUMMARY OF OUTPUT: MAXIMUM LIKELIHOOD SPATIAL LAG (METHOD = FULL)\n",
      "-----------------------------------------------------------------\n",
      "Data set            :   shop_lsoa\n",
      "Weights matrix      :     w_queen\n",
      "Dependent Variable  :shop_density                Number of Observations:        4946\n",
      "Mean dependent var  :      0.7243                Number of Variables   :           7\n",
      "S.D. dependent var  :      0.7696                Degrees of Freedom    :        4939\n",
      "Pseudo R-squared    :      0.2884\n",
      "Spatial Pseudo R-squared:  0.2346\n",
      "Sigma-square ML     :       0.422                Log likelihood        :   -4939.672\n",
      "S.E of regression   :       0.650                Akaike info criterion :    9893.345\n",
      "                                                 Schwarz criterion     :    9938.889\n",
      "\n",
      "------------------------------------------------------------------------------------\n",
      "            Variable     Coefficient       Std.Error     z-Statistic     Probability\n",
      "------------------------------------------------------------------------------------\n",
      "            CONSTANT      -0.2010070       0.0412138      -4.8771818       0.0000011\n",
      "            OutScore       0.3808239       0.0216901      17.5574757       0.0000000\n",
      "            CriScore      -0.1772503       0.0221345      -8.0078790       0.0000000\n",
      "            IMDScore       0.0079222       0.0011015       7.1920417       0.0000000\n",
      "            Pop16_59       0.0001232       0.0000313       3.9323705       0.0000841\n",
      "              Pop60_      -0.0000000       0.0000000      -5.2159725       0.0000002\n",
      "      W_shop_density       0.3448480       0.0193647      17.8080859       0.0000000\n",
      "------------------------------------------------------------------------------------\n",
      "================================ END OF REPORT =====================================\n"
     ]
    }
   ],
   "source": [
    "import pysal.model.spreg as psms\n",
    "\n",
    "spat_lag = psms.ML_Lag(y,X,w_queen, name_y='shop_density', \n",
    "                       name_x=['OutScore', 'CriScore', 'IMDScore', 'Pop16_59', 'Pop60_'], \n",
    "                       name_w='w_queen', name_ds='shop_lsoa')\n",
    "print(spat_lag.summary)"
   ]
  },
  {
   "cell_type": "code",
   "execution_count": 83,
   "metadata": {},
   "outputs": [
    {
     "name": "stdout",
     "output_type": "stream",
     "text": [
      "0.344848\n",
      "[[-2.010e-01]\n",
      " [ 3.808e-01]\n",
      " [-1.773e-01]\n",
      " [ 7.900e-03]\n",
      " [ 1.000e-04]\n",
      " [-0.000e+00]\n",
      " [ 3.448e-01]]\n",
      "0.724348\n",
      "0.769598\n",
      "[0.0017 0.0005 0.0005 0.     0.     0.     0.0004 0.0001]\n",
      "[0.0017 0.0005 0.0005 0.     0.     0.     0.0004]\n",
      "0.422065\n",
      "-4939.672414\n"
     ]
    }
   ],
   "source": [
    "print(\"{0:.6f}\".format(spat_lag.rho)) #estimate of spatial autoregressive coefficient\n",
    "print(np.around(spat_lag.betas, decimals=4)) #array of estimated coefficients\n",
    "print(\"{0:.6f}\".format(spat_lag.mean_y)) #Mean of dependent variable\n",
    "print(\"{0:.6f}\".format(spat_lag.std_y))#Standard deviation of dependent variable\n",
    "print(np.around(np.diag(spat_lag.vm1), decimals=4))#Variance covariance matrix (k+2 x k+2) includes sigma2\n",
    "print(np.around(np.diag(spat_lag.vm), decimals=4)) #Variance covariance matrix (k+1 x k+1) - includes lambda\n",
    "print(\"{0:.6f}\".format(spat_lag.sig2))#Sigma squared used in computations\n",
    "print(\"{0:.6f}\".format(spat_lag.logll)) #maximized log-likelihood (including constant terms)"
   ]
  },
  {
   "cell_type": "markdown",
   "metadata": {},
   "source": [
    "### Spatial Error Model"
   ]
  },
  {
   "cell_type": "code",
   "execution_count": 85,
   "metadata": {},
   "outputs": [
    {
     "name": "stdout",
     "output_type": "stream",
     "text": [
      "REGRESSION\n",
      "----------\n",
      "SUMMARY OF OUTPUT: MAXIMUM LIKELIHOOD SPATIAL ERROR (METHOD = FULL)\n",
      "-------------------------------------------------------------------\n",
      "Data set            :   shop_lsoa\n",
      "Weights matrix      :     w_queen\n",
      "Dependent Variable  :shop_density                Number of Observations:        4946\n",
      "Mean dependent var  :      0.7243                Number of Variables   :           6\n",
      "S.D. dependent var  :      0.7696                Degrees of Freedom    :        4940\n",
      "Pseudo R-squared    :      0.2248\n",
      "Sigma-square ML     :       0.428                Log likelihood        :   -4969.685\n",
      "S.E of regression   :       0.655                Akaike info criterion :    9951.371\n",
      "                                                 Schwarz criterion     :    9990.409\n",
      "\n",
      "------------------------------------------------------------------------------------\n",
      "            Variable     Coefficient       Std.Error     z-Statistic     Probability\n",
      "------------------------------------------------------------------------------------\n",
      "            CONSTANT      -0.1614297       0.0492059      -3.2806966       0.0010355\n",
      "            OutScore       0.5299679       0.0252751      20.9679799       0.0000000\n",
      "            CriScore      -0.2178189       0.0239682      -9.0878374       0.0000000\n",
      "            IMDScore       0.0093918       0.0012389       7.5807136       0.0000000\n",
      "            Pop16_59       0.0001449       0.0000332       4.3717923       0.0000123\n",
      "              Pop60_      -0.0000000       0.0000000      -5.6560423       0.0000000\n",
      "              lambda       0.3238977       0.0203232      15.9373397       0.0000000\n",
      "------------------------------------------------------------------------------------\n",
      "================================ END OF REPORT =====================================\n"
     ]
    }
   ],
   "source": [
    "spat_err = psms.ML_Error(y,X,w_queen, name_y='shop_density', \n",
    "                       name_x=['OutScore', 'CriScore', 'IMDScore', 'Pop16_59', 'Pop60_'], \n",
    "                       name_w='w_queen', name_ds='shop_lsoa')\n",
    "print(spat_err.summary)"
   ]
  },
  {
   "cell_type": "code",
   "execution_count": 86,
   "metadata": {},
   "outputs": [
    {
     "name": "stdout",
     "output_type": "stream",
     "text": [
      "0.323898\n",
      "[[-1.614e-01]\n",
      " [ 5.300e-01]\n",
      " [-2.178e-01]\n",
      " [ 9.400e-03]\n",
      " [ 1.000e-04]\n",
      " [-0.000e+00]\n",
      " [ 3.239e-01]]\n",
      "0.724348\n",
      "0.769598\n",
      "[2.42122162e-03 6.38830841e-04 5.74473413e-04 1.53488195e-06\n",
      " 1.09898683e-09 9.83555016e-18 4.13032409e-04]\n",
      "0.428401\n",
      "-4969.685475\n"
     ]
    }
   ],
   "source": [
    "print(\"{0:.6f}\".format(spat_err.lam)) #estimate of spatial autoregressive coefficient\n",
    "print(np.around(spat_err.betas, decimals=4)) #array of estimated coefficients\n",
    "print(\"{0:.6f}\".format(spat_err.mean_y)) #Mean of dependent variable\n",
    "print(\"{0:.6f}\".format(spat_err.std_y))#Standard deviation of dependent variable\n",
    "print(np.diag(spat_err.vm)) #Variance covariance matrix (k+1 x k+1) - includes lambda\n",
    "print(\"{0:.6f}\".format(spat_err.sig2[0][0]))#Sigma squared used in computations\n",
    "print(\"{0:.6f}\".format(spat_err.logll)) #maximized log-likelihood (including constant terms)"
   ]
  },
  {
   "cell_type": "markdown",
   "metadata": {},
   "source": [
    "### Prediction performance of spatial models"
   ]
  },
  {
   "cell_type": "code",
   "execution_count": 87,
   "metadata": {},
   "outputs": [
    {
     "name": "stdout",
     "output_type": "stream",
     "text": [
      "REGRESSION\n",
      "----------\n",
      "SUMMARY OF OUTPUT: MAXIMUM LIKELIHOOD SPATIAL ERROR (METHOD = FULL)\n",
      "-------------------------------------------------------------------\n",
      "Data set            :   shop_lsoa\n",
      "Weights matrix      :     w_queen\n",
      "Dependent Variable  :shop_density                Number of Observations:        4946\n",
      "Mean dependent var  :      0.7243                Number of Variables   :           6\n",
      "S.D. dependent var  :      0.7696                Degrees of Freedom    :        4940\n",
      "Pseudo R-squared    :      0.2248\n",
      "Sigma-square ML     :       0.428                Log likelihood        :   -4969.685\n",
      "S.E of regression   :       0.655                Akaike info criterion :    9951.371\n",
      "                                                 Schwarz criterion     :    9990.409\n",
      "\n",
      "------------------------------------------------------------------------------------\n",
      "            Variable     Coefficient       Std.Error     z-Statistic     Probability\n",
      "------------------------------------------------------------------------------------\n",
      "            CONSTANT      -0.1614297       0.0492059      -3.2806966       0.0010355\n",
      "            OutScore       0.5299679       0.0252751      20.9679799       0.0000000\n",
      "            CriScore      -0.2178189       0.0239682      -9.0878374       0.0000000\n",
      "            IMDScore       0.0093918       0.0012389       7.5807136       0.0000000\n",
      "            Pop16_59       0.0001449       0.0000332       4.3717923       0.0000123\n",
      "              Pop60_      -0.0000000       0.0000000      -5.6560423       0.0000000\n",
      "              lambda       0.3238977       0.0203232      15.9373397       0.0000000\n",
      "------------------------------------------------------------------------------------\n",
      "================================ END OF REPORT =====================================\n"
     ]
    }
   ],
   "source": [
    "ols = psms.OLS(y,X,w_queen, name_y='shop_density', \n",
    "                       name_x=['OutScore', 'CriScore', 'IMDScore', 'Pop16_59', 'Pop60_'], \n",
    "                       name_w='w_queen', name_ds='shop_lsoa')\n",
    "print(spat_err.summary)"
   ]
  },
  {
   "cell_type": "code",
   "execution_count": 88,
   "metadata": {},
   "outputs": [
    {
     "data": {
      "text/plain": [
       "SL     0.422065\n",
       "OLS    0.458899\n",
       "SE     0.459822\n",
       "dtype: float64"
      ]
     },
     "execution_count": 88,
     "metadata": {},
     "output_type": "execute_result"
    }
   ],
   "source": [
    "from sklearn.metrics import mean_squared_error as mse\n",
    "\n",
    "mses = pd.Series({'OLS': mse(y, ols.predy.flatten()), \n",
    "                  'SL': mse(y, spat_lag.predy.flatten()), \n",
    "                  'SE': mse(y, spat_err.predy.flatten())\n",
    "                    })\n",
    "mses.sort_values()"
   ]
  },
  {
   "cell_type": "markdown",
   "metadata": {},
   "source": [
    "The inclusion of the spatial lag of density marginally reduces the MSE, therefore, does a better job at improving the accuracy of the model."
   ]
  },
  {
   "cell_type": "markdown",
   "metadata": {},
   "source": [
    "### GWR Prediction"
   ]
  },
  {
   "cell_type": "code",
   "execution_count": 97,
   "metadata": {},
   "outputs": [
    {
     "data": {
      "image/png": "[encoded data removed]",
      "text/plain": [
       "<Figure size 720x576 with 2 Axes>"
      ]
     },
     "metadata": {},
     "output_type": "display_data"
    }
   ],
   "source": [
    "vmin, vmax = np.min(density), np.max(density) \n",
    "ax = shop_lsoa.plot('ShopDens', vmin=vmin, vmax=vmax, figsize=(10,8), cmap='Reds', linewidth=0.005)\n",
    "ax.set_title('Shop Density t-vals', size=25)\n",
    "fig = ax.get_figure()\n",
    "ax.set_axis_off()\n",
    "cax = fig.add_axes([1.0, 0.3, 0.02, 0.4]) # the position and size of colormap legend bar\n",
    "sm_dens = plt.cm.ScalarMappable(norm=plt.Normalize(vmin=vmin, vmax=vmax), cmap='Reds')\n",
    "sm_dens._A = []\n",
    "fig.colorbar(sm_dens, cax=cax)\n",
    "plt.savefig('output/density_tval.png')"
   ]
  },
  {
   "cell_type": "code",
   "execution_count": null,
   "metadata": {},
   "outputs": [],
   "source": []
  }
 ],
 "metadata": {
  "kernelspec": {
   "display_name": "Python 3.7.6 64-bit",
   "language": "python",
   "name": "python37664bit8f5d7887469441e1a994bf5b866609b0"
  },
  "language_info": {
   "codemirror_mode": {
    "name": "ipython",
    "version": 3
   },
   "file_extension": ".py",
   "mimetype": "text/x-python",
   "name": "python",
   "nbconvert_exporter": "python",
   "pygments_lexer": "ipython3",
   "version": "3.7.6"
  }
 },
 "nbformat": 4,
 "nbformat_minor": 4
}
