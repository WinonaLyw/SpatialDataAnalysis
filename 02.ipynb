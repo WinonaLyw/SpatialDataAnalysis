{
 "cells": [
  {
   "cell_type": "markdown",
   "metadata": {},
   "source": [
    "# This Week’s Overview\n",
    "\n",
    "\n",
    "You will further developing you skills of data handling and processing in this practical by finishing 10 small tasks about:\n",
    "\n",
    "- Working with streaming data. You will load weather data through API. It is harder conceptually because API data is harder to understand -- we've simplified it quite a bit but it's still got some parts that are going to be hard going.\n",
    "- Making an interactive map using skills learned last week.\n",
    "- Converting queried API data into a well-formatted DataFrame. Some DataFrame operation such as 'join','append',’merge’ you learned in last term will be used.\n",
    "- Create a ShapeFile using Shapely and GeoPandas - get a sense of projected and geographic coordinate system.\n",
    "- Calculating distance between points."
   ]
  },
  {
   "cell_type": "markdown",
   "metadata": {},
   "source": [
    "## Learning Outcomes\n",
    "\n",
    "By the end of this practical you should have:\n",
    "- Used API to request streaming data\n",
    "- Enhanced your skills of manipulating data frame \n",
    "- Known calculate geographical distance in various ways"
   ]
  },
  {
   "cell_type": "markdown",
   "metadata": {},
   "source": [
    "(always remember) The first thing we need to do is setup our working environment. Run the scripts below to import the relevant libraries."
   ]
  },
  {
   "cell_type": "code",
   "execution_count": 1,
   "metadata": {},
   "outputs": [
    {
     "output_type": "stream",
     "name": "stdout",
     "text": "0.10.1\n"
    }
   ],
   "source": [
    "import pandas as pd\n",
    "import numpy as np\n",
    "import matplotlib.pyplot as plt\n",
    "\n",
    "import folium  \n",
    "import os\n",
    "\n",
    "print (folium.__version__)\n",
    "\n",
    "%matplotlib inline\n",
    "\n",
    "pd.set_option('display.max_rows', 300) # specifies number of rows to show\n",
    "pd.options.display.float_format = '{:5,.4f}'.format # specifies default number format to 4 decimal places\n",
    "\n",
    "import warnings\n",
    "warnings.simplefilter('ignore')"
   ]
  },
  {
   "cell_type": "markdown",
   "metadata": {},
   "source": [
    "### Weather Data  - background knowledge you should know\n",
    "\n",
    "The UK's Met Office is a world-leading weather and climate research centre, and even if it doesn't always seem like their forecasts are very accurate that's because Britain's weather is inherently _unpredictable_. They've also done a lot of work to make their weather data widely available to people like us.\n",
    "\n",
    "I probably don't need to say a _lot_ about weather data because you've probably been making use of forecasts for much of your life! But it's _still_ worth understanding something about how weather data is gathered and reported: many organisations operate weather stations where data on wind speed, temperature, rain, and amount of sun are collected and then transmitted to a server to be integrated into a larger data set of weather _observations_ at a national or global scale. Of course, any _one_ station might be in the 'wrong' place (somewhere shady or protected from the rain) or it might even break down, but the idea is that if you have enough of them you can collect a pretty good range of data for the country and begin to look for patterns and, potentially, make predictions.\n",
    "\n",
    "We will be accessing data from the MetOffice from weather stations where observations, such as the ones below, are collected:\n",
    "* <Param name=\"F\" units=\"C\">Feels Like Temperature (units: degrees Celsius)\n",
    "* <Param name=\"G\" units=\"mph\">Wind Gust (units: mph)</Param>\n",
    "* <Param name=\"H\" units=\"%\">Screen Relative Humidity (units: percent)</Param> \n",
    "* <Param name=\"T\" units=\"C\">Temperature (units: degrees Celsius)</Param> \n",
    "* <Param name=\"V\" units=\"\">Visibility (units: km?)</Param> \n",
    "* <Param name=\"D\" units=\"compass\">Wind Direction (units: compass degrees)</Param>  \n",
    "* <Param name=\"S\" units=\"mph\">Wind Speed (units: mph)</Param> \n",
    "* <Param name=\"U\" units=\"\">Max UV Index (units: index value)</Param> \n",
    "* <Param name=\"W\" units=\"\">Weather Type (units: categorical)</Param> \n",
    "* <Param name=\"Pp\" units=\"%\">Precipitation Probability (units: percent)</Param>\n",
    "\n",
    "These observations are associated with a particular station (where did we see these values/where _will_ we see these values?), they will also be associated with _either_ a particular time in the past (when were they collected?) or, if they're forecasts, with a particular time in the future (when do we expect to see them?). \n",
    "\n",
    "So although weather data might seem more 'objective' than data on social class (though for obvious reasons it turns out that both are just attempts to capture data about reality, not reality itself), it may also turn out to be very complex to store and manage beccause of the temporal element _and_ the fact that it's not just a count of one thing, each of these observations uses a very different set of units.\n",
    "\n",
    "To really get to grips with the MetOffice API you will need to RTM (Read The Manual): http://www.metoffice.gov.uk/media/pdf/3/0/DataPoint_API_reference.pdf. The ruder version of that, which you will sometimes see on StackOverflow and elsewhere, is: RTFM."
   ]
  },
  {
   "cell_type": "markdown",
   "metadata": {},
   "source": [
    "### Getting Weather Data via an API\n",
    "\n",
    "Because the weather is changing all the time, so is the data! And, 'worse', it's becoming obsolete: the forecast from 2 years ago isn't particularly useful to us now. *And* asking for \"yesterday's weather\" depends on the day that we're asking! When you have data that is always changing from minute to minute or day to day then you use an API (Application Programming Interface) to access it: the API knows that \"yesterday's weather\" means \"work out what day it is right now and then get the weather from the day before\", and it also knows that \"give me the current weather from station X\" means \"look up station X and find the latest weather report that I've received\". In other words, an API is  designed with programmatic, dynamic interaction in mind right from the start.\n",
    "\n",
    "#### So What _is_ an API?\n",
    "\n",
    "There's a nice, friendly introduction to APIs over at [Free Code Camp](https://www.freecodecamp.org/news/apis-for-beginners-full-course/). \n",
    "\n",
    "Helpfully, the MetOffice provides a lot of documentation about their API (I'd suggest bookmarking it): http://www.metoffice.gov.uk/datapoint/support/api-reference\n",
    "\n",
    "This type of data requires a lot more research up front to work with, but it's very flexible once you know how to 'speak API' because you can _customise_ the API request so that the server responds with _only_ the data we're interested in instead of being 'stuck' with what the provider wants to give us.\n"
   ]
  },
  {
   "cell_type": "markdown",
   "metadata": {},
   "source": [
    "\n",
    "### Task 1: Obtaining an API Key\n",
    "\n",
    "The first step to working with the API from the MetOffice is to obtain an API key: [Click to register and obtain the API Key here](http://www.metoffice.gov.uk/datapoint/API). \n",
    "\n",
    "Make a note of this key in your notebook. Right here:"
   ]
  },
  {
   "cell_type": "code",
   "execution_count": 2,
   "metadata": {},
   "outputs": [],
   "source": [
    "api_key   = \"75038866-617b-4f32-b7a1-2af56d36fe63\" # your API key"
   ]
  },
  {
   "cell_type": "markdown",
   "metadata": {},
   "source": [
    "That way your API key is saved somewhere easy to access.\n",
    "\n",
    "We _always_ have to use the key as part of an API request: the process by which we _ask_ for data. Think of the key as being _your_ unique identifier: no two people share the same key and that way the MetOffice can cut off people who abuse the system or look at which APIs are popular with lots of users... **Twitter and Facebook do the same thing.**"
   ]
  },
  {
   "cell_type": "markdown",
   "metadata": {},
   "source": [
    "### Task 2: Obtaining a List of Sites from the API\n",
    "\n",
    "How to start? Well, the first thing that we need to know is: for what locations can I get weather data? For this to work, we need to know how to ask the API nicely for a list of available sites... "
   ]
  },
  {
   "cell_type": "markdown",
   "metadata": {},
   "source": [
    "First we import two new modules: one that makes requests to a web server, and one that will parse JSON* responses from the server in order to turn them into something that we can work with more easily."
   ]
  },
  {
   "cell_type": "code",
   "execution_count": 3,
   "metadata": {},
   "outputs": [],
   "source": [
    "import json, requests # Libraries we need"
   ]
  },
  {
   "cell_type": "markdown",
   "metadata": {},
   "source": [
    "Then we set up some default variables (api_url, site_url) that will help us to build our request to the MetOffice's server. The comments help us to remember what each of these variables holds."
   ]
  },
  {
   "cell_type": "code",
   "execution_count": 4,
   "metadata": {},
   "outputs": [],
   "source": [
    "api_url  = \"http://datapoint.metoffice.gov.uk/public/data/\" # base URL\n",
    "site_url = \"val/wxobs/all/json/sitelist\" # sites API URL\n",
    "payload = {'key': api_key} # Dictionary to hold request parameters"
   ]
  },
  {
   "cell_type": "markdown",
   "metadata": {},
   "source": [
    "You'll notice that the payload is just a dictionary and that this dictionary is then passed to the requests library (the get function). All it does it convert this dictionary to a key-value pair in the format expected by the API. Think of it as a kind of translation between languages: from the language of Python to the language of the web (HTTP, to be precise).\n",
    "We issue our request and it returns a response that we store in s (short for sites data)."
   ]
  },
  {
   "cell_type": "code",
   "execution_count": 5,
   "metadata": {},
   "outputs": [],
   "source": [
    "s = requests.get(api_url + site_url, params=payload) # Do the request"
   ]
  },
  {
   "cell_type": "markdown",
   "metadata": {},
   "source": [
    "Lastly, we ask the response object to convert the reply into a JSON data structure... more on JSON in a second, but first let's look at what we got from our request!"
   ]
  },
  {
   "cell_type": "code",
   "execution_count": 6,
   "metadata": {},
   "outputs": [
    {
     "output_type": "stream",
     "name": "stdout",
     "text": "Done!\n"
    }
   ],
   "source": [
    "sites = s.json() # Capture the output\n",
    "print(\"Done!\")"
   ]
  },
  {
   "cell_type": "code",
   "execution_count": 7,
   "metadata": {},
   "outputs": [
    {
     "name": "stdout",
     "output_type": "stream",
     "text": [
      "http://datapoint.metoffice.gov.uk/public/data/val/wxobs/all/json/sitelist?key=75038866-617b-4f32-b7a1-2af56d36fe63\n"
     ]
    }
   ],
   "source": [
    "# Show the requested URL\n",
    "print(s.url) # Click on the link below to see it nicely formatted automatically!"
   ]
  },
  {
   "cell_type": "code",
   "execution_count": 8,
   "metadata": {},
   "outputs": [
    {
     "data": {
      "text/plain": [
       "{'Locations': {'Location': [{'elevation': '7.0',\n",
       "    'id': '3066',\n",
       "    'latitude': '57.6494',\n",
       "    'longitude': '-3.5606',\n",
       "    'name': 'Kinloss',\n",
       "    'region': 'gr',\n",
       "    'unitaryAuthArea': 'Moray'},\n",
       "   {'elevation': '6.0',\n",
       "    'id': '3068',\n",
       "    'latitude': '57.712',\n",
       "    'longitude': '-3.322',\n",
       "    'obsSource': 'LNDSYN',\n",
       "    'name': 'Lossiemouth',\n",
       "    'region': 'gr',\n",
       "    'unitaryAuthArea': 'Moray'},\n",
       "   {'elevation': '36.0',\n",
       "    'id': '3075',\n",
       "    'latitude': '58.454',\n",
       "    'longitude': '-3.089',\n",
       "    'obsSource': 'LNDSYN',\n",
       "    'name': 'Wick John O Groats Airport',\n",
       "    'region': 'he',\n",
       "    'unitaryAuthArea': 'Highland'},\n",
       "   {'elevation': '15.0',\n",
       "    'id': '3002',\n",
       "    'latitude': '60.749',\n",
       "    'longitude': '-0.854',\n",
       "    'name': 'Baltasound',\n",
       "    'region': 'os',\n",
       "    'unitaryAuthArea': 'Shetland Islands'},\n",
       "   {'elevation': '82.0',\n",
       "    'id': '3005',\n",
       "    'latitude': '60.139',\n",
       "    'longitude': '-1.183',\n",
       "    'obsSource': 'LNDSYN',\n",
       "    'name': 'Lerwick (S. Screen)',\n",
       "    'region': 'os',\n",
       "    'unitaryAuthArea': 'Shetland Islands'},\n",
       "   {'elevation': '57.0',\n",
       "    'id': '3008',\n",
       "    'latitude': '59.527',\n",
       "    'longitude': '-1.628',\n",
       "    'name': 'Fair Isle',\n",
       "    'region': 'os',\n",
       "    'unitaryAuthArea': 'Shetland Islands'},\n",
       "   {'elevation': '22.0',\n",
       "    'id': '3014',\n",
       "    'latitude': '60.111',\n",
       "    'longitude': '-2.063',\n",
       "    'obsSource': 'LNDSYN',\n",
       "    'name': 'Foula',\n",
       "    'region': 'os',\n",
       "    'unitaryAuthArea': 'Shetland Islands'},\n",
       "   {'elevation': '11.0',\n",
       "    'id': '3034',\n",
       "    'latitude': '57.859',\n",
       "    'longitude': '-5.636',\n",
       "    'name': 'Aultbea',\n",
       "    'region': 'he',\n",
       "    'unitaryAuthArea': 'Highland'},\n",
       "   {'elevation': '18.0',\n",
       "    'id': '3037',\n",
       "    'latitude': '57.257',\n",
       "    'longitude': '-5.809',\n",
       "    'obsSource': 'LNDSYN',\n",
       "    'name': 'Skye/Lusa',\n",
       "    'region': 'he',\n",
       "    'unitaryAuthArea': 'Highland'},\n",
       "   {'elevation': '81.0',\n",
       "    'id': '3044',\n",
       "    'latitude': '58.288',\n",
       "    'longitude': '-4.442',\n",
       "    'name': 'Altnaharra Saws',\n",
       "    'region': 'he',\n",
       "    'unitaryAuthArea': 'Highland'},\n",
       "   {'elevation': '237.0',\n",
       "    'id': '3047',\n",
       "    'latitude': '56.867',\n",
       "    'longitude': '-4.708',\n",
       "    'name': 'Tulloch Bridge',\n",
       "    'region': 'he',\n",
       "    'unitaryAuthArea': 'Highland'},\n",
       "   {'elevation': '117.0',\n",
       "    'id': '3796',\n",
       "    'latitude': '51.133',\n",
       "    'longitude': '1.348',\n",
       "    'name': 'Langdon Bay',\n",
       "    'region': 'se',\n",
       "    'unitaryAuthArea': 'Kent'},\n",
       "   {'elevation': '31.0',\n",
       "    'id': '3803',\n",
       "    'latitude': '49.913',\n",
       "    'longitude': '-6.301',\n",
       "    'name': 'Scilly St Marys',\n",
       "    'region': 'sw',\n",
       "    'unitaryAuthArea': 'Isles of Scilly'},\n",
       "   {'elevation': '200.0',\n",
       "    'id': '3823',\n",
       "    'latitude': '50.502',\n",
       "    'longitude': '-4.667',\n",
       "    'name': 'Cardinham',\n",
       "    'region': 'sw',\n",
       "    'unitaryAuthArea': 'Cornwall'},\n",
       "   {'elevation': '52.0',\n",
       "    'id': '3857',\n",
       "    'latitude': '50.522',\n",
       "    'longitude': '-2.454',\n",
       "    'name': 'Isle Of Portland',\n",
       "    'region': 'sw',\n",
       "    'unitaryAuthArea': 'Dorset'},\n",
       "   {'elevation': '13.0',\n",
       "    'id': '3876',\n",
       "    'latitude': '50.836',\n",
       "    'longitude': '-0.292',\n",
       "    'name': 'Shoreham',\n",
       "    'region': 'se',\n",
       "    'unitaryAuthArea': 'West Sussex'},\n",
       "   {'elevation': '84.0',\n",
       "    'id': '3895',\n",
       "    'latitude': '49.2079',\n",
       "    'longitude': '-2.1955',\n",
       "    'obsSource': 'LNDSYN',\n",
       "    'name': 'Jersey',\n",
       "    'region': 'sw',\n",
       "    'unitaryAuthArea': 'Jersey'},\n",
       "   {'elevation': '225.0',\n",
       "    'id': '3911',\n",
       "    'latitude': '54.721',\n",
       "    'longitude': '-6.814',\n",
       "    'name': 'Lough Fea',\n",
       "    'region': 'ni',\n",
       "    'unitaryAuthArea': 'County Londonderry'},\n",
       "   {'elevation': '156.0',\n",
       "    'id': '3916',\n",
       "    'latitude': '55.181',\n",
       "    'longitude': '-6.153',\n",
       "    'name': 'Ballypatrick Forest',\n",
       "    'region': 'ni',\n",
       "    'unitaryAuthArea': 'County Antrim'},\n",
       "   {'elevation': '25.0',\n",
       "    'id': '3953',\n",
       "    'latitude': '51.933',\n",
       "    'longitude': '-10.25',\n",
       "    'obsSource': 'LNDSYN',\n",
       "    'name': 'Valentia Observatory'},\n",
       "   {'elevation': '177.0',\n",
       "    'id': '99081',\n",
       "    'latitude': '50.767',\n",
       "    'longitude': '-3.9',\n",
       "    'name': 'North Wyke',\n",
       "    'region': 'sw',\n",
       "    'unitaryAuthArea': 'Devon'},\n",
       "   {'elevation': '99.0',\n",
       "    'id': '3520',\n",
       "    'latitude': '52.242',\n",
       "    'longitude': '-2.885',\n",
       "    'name': 'Shobdon Saws',\n",
       "    'region': 'wm',\n",
       "    'unitaryAuthArea': 'Herefordshire'},\n",
       "   {'elevation': '75.0',\n",
       "    'id': '3522',\n",
       "    'latitude': '52.083',\n",
       "    'longitude': '-2.8',\n",
       "    'name': 'Hereford',\n",
       "    'region': 'wm',\n",
       "    'unitaryAuthArea': 'Herefordshire'},\n",
       "   {'elevation': '96.0',\n",
       "    'id': '3535',\n",
       "    'latitude': '52.48',\n",
       "    'longitude': '-1.689',\n",
       "    'name': 'Coleshill',\n",
       "    'region': 'wm',\n",
       "    'unitaryAuthArea': 'Warwickshire'},\n",
       "   {'elevation': '85.0',\n",
       "    'id': '3560',\n",
       "    'latitude': '52.225',\n",
       "    'longitude': '-0.464',\n",
       "    'name': 'Bedford',\n",
       "    'region': 'ee',\n",
       "    'unitaryAuthArea': 'Bedford'},\n",
       "   {'elevation': '3.0',\n",
       "    'id': '3605',\n",
       "    'latitude': '51.713',\n",
       "    'longitude': '-4.368',\n",
       "    'name': 'Pembrey Sands',\n",
       "    'region': 'wl',\n",
       "    'unitaryAuthArea': 'Carmarthenshire'},\n",
       "   {'elevation': '210.0',\n",
       "    'id': '3647',\n",
       "    'latitude': '51.86',\n",
       "    'longitude': '-1.692',\n",
       "    'name': 'Little Rissington (Esaws)',\n",
       "    'region': 'sw',\n",
       "    'unitaryAuthArea': 'Gloucestershire'},\n",
       "   {'elevation': '204.0',\n",
       "    'id': '3660',\n",
       "    'latitude': '51.68',\n",
       "    'longitude': '-0.802',\n",
       "    'name': 'High Wycombe',\n",
       "    'region': 'se',\n",
       "    'unitaryAuthArea': 'Buckinghamshire'},\n",
       "   {'elevation': '87.0',\n",
       "    'id': '3684',\n",
       "    'latitude': '51.896',\n",
       "    'longitude': '0.453',\n",
       "    'name': 'Andrewsfield',\n",
       "    'region': 'ee',\n",
       "    'unitaryAuthArea': 'Essex'},\n",
       "   {'elevation': '49.0',\n",
       "    'id': '3716',\n",
       "    'latitude': '51.405',\n",
       "    'longitude': '-3.44',\n",
       "    'name': 'St-Athan',\n",
       "    'region': 'wl',\n",
       "    'unitaryAuthArea': 'Vale of Glamorgan'},\n",
       "   {'elevation': '145.0',\n",
       "    'id': '3740',\n",
       "    'latitude': '51.5031',\n",
       "    'longitude': '-1.9924',\n",
       "    'name': 'Lyneham',\n",
       "    'region': 'sw',\n",
       "    'unitaryAuthArea': 'Wiltshire'},\n",
       "   {'elevation': '72.0',\n",
       "    'id': '3768',\n",
       "    'latitude': '51.279',\n",
       "    'longitude': '-0.772',\n",
       "    'name': 'Farnborough',\n",
       "    'region': 'se',\n",
       "    'unitaryAuthArea': 'Hampshire'},\n",
       "   {'elevation': '113.0',\n",
       "    'id': '3153',\n",
       "    'latitude': '54.803',\n",
       "    'longitude': '-4.008',\n",
       "    'name': 'Dundrennan',\n",
       "    'region': 'dg',\n",
       "    'unitaryAuthArea': 'Dumfries and Galloway'},\n",
       "   {'elevation': '245.0',\n",
       "    'id': '3155',\n",
       "    'latitude': '55.627',\n",
       "    'longitude': '-3.735',\n",
       "    'name': 'Drumalbin',\n",
       "    'region': 'st',\n",
       "    'unitaryAuthArea': 'South Lanarkshire'},\n",
       "   {'elevation': '242.0',\n",
       "    'id': '3162',\n",
       "    'latitude': '55.311',\n",
       "    'longitude': '-3.206',\n",
       "    'name': 'Eskdalemuir',\n",
       "    'region': 'dg',\n",
       "    'unitaryAuthArea': 'Dumfries and Galloway'},\n",
       "   {'elevation': '57.0',\n",
       "    'id': '3166',\n",
       "    'latitude': '55.928',\n",
       "    'longitude': '-3.343',\n",
       "    'name': 'Edinburgh/Gogarbank',\n",
       "    'region': 'dg',\n",
       "    'unitaryAuthArea': 'Edinburgh'},\n",
       "   {'elevation': '227.0',\n",
       "    'id': '3226',\n",
       "    'latitude': '54.572',\n",
       "    'longitude': '-2.413',\n",
       "    'name': 'Warcop',\n",
       "    'region': 'nw',\n",
       "    'unitaryAuthArea': 'Cumbria'},\n",
       "   {'elevation': '211.0',\n",
       "    'id': '3230',\n",
       "    'latitude': '55.285',\n",
       "    'longitude': '-2.279',\n",
       "    'name': 'Redesdale Camp',\n",
       "    'nationalPark': 'Northumberland National Park',\n",
       "    'region': 'ne',\n",
       "    'unitaryAuthArea': 'Northumberland'},\n",
       "   {'elevation': '146.0',\n",
       "    'id': '3238',\n",
       "    'latitude': '55.02',\n",
       "    'longitude': '-1.88',\n",
       "    'name': 'Albemarle',\n",
       "    'region': 'ne',\n",
       "    'unitaryAuthArea': 'Northumberland'},\n",
       "   {'elevation': '32.0',\n",
       "    'id': '3257',\n",
       "    'latitude': '54.296',\n",
       "    'longitude': '-1.53',\n",
       "    'name': 'Leeming',\n",
       "    'region': 'yh',\n",
       "    'unitaryAuthArea': 'North Yorkshire'},\n",
       "   {'elevation': '33.0',\n",
       "    'id': '3261',\n",
       "    'latitude': '54.134',\n",
       "    'longitude': '-1.414',\n",
       "    'name': 'Dishforth Airfield',\n",
       "    'region': 'yh',\n",
       "    'unitaryAuthArea': 'North Yorkshire'},\n",
       "   {'elevation': '14.0',\n",
       "    'id': '3266',\n",
       "    'latitude': '54.045',\n",
       "    'longitude': '-1.25',\n",
       "    'name': 'Linton On Ouse',\n",
       "    'region': 'yh',\n",
       "    'unitaryAuthArea': 'North Yorkshire'},\n",
       "   {'elevation': '73.0',\n",
       "    'id': '3462',\n",
       "    'latitude': '52.6111',\n",
       "    'longitude': '-0.459',\n",
       "    'name': 'Wittering',\n",
       "    'region': 'ee',\n",
       "    'unitaryAuthArea': 'Peterborough'},\n",
       "   {'elevation': '21.0',\n",
       "    'id': '3482',\n",
       "    'latitude': '52.651',\n",
       "    'longitude': '0.569',\n",
       "    'name': 'Marham',\n",
       "    'region': 'ee',\n",
       "    'unitaryAuthArea': 'Norfolk'},\n",
       "   {'elevation': '6.0',\n",
       "    'id': '3907',\n",
       "    'latitude': '55.1604',\n",
       "    'longitude': '-6.9492',\n",
       "    'name': 'Magilligan',\n",
       "    'region': 'ni',\n",
       "    'unitaryAuthArea': 'County Londonderry'},\n",
       "   {'elevation': '228.0',\n",
       "    'id': '3063',\n",
       "    'latitude': '57.206',\n",
       "    'longitude': '-3.827',\n",
       "    'name': 'Aviemore',\n",
       "    'nationalPark': 'Cairngorms National Park',\n",
       "    'region': 'he',\n",
       "    'unitaryAuthArea': 'Highland'},\n",
       "   {'elevation': '9.0',\n",
       "    'id': '3100',\n",
       "    'latitude': '56.497',\n",
       "    'longitude': '-6.887',\n",
       "    'obsSource': 'LNDSYN',\n",
       "    'name': 'Tiree',\n",
       "    'region': 'st',\n",
       "    'unitaryAuthArea': 'Argyll and Bute'},\n",
       "   {'elevation': '78.0',\n",
       "    'id': '3809',\n",
       "    'latitude': '50.085',\n",
       "    'longitude': '-5.257',\n",
       "    'obsSource': 'LNDSYN',\n",
       "    'name': 'Culdrose',\n",
       "    'region': 'sw',\n",
       "    'unitaryAuthArea': 'Cornwall'},\n",
       "   {'elevation': '252.0',\n",
       "    'id': '3840',\n",
       "    'latitude': '50.86',\n",
       "    'longitude': '-3.239',\n",
       "    'name': 'Dunkeswell Aerodrome',\n",
       "    'region': 'sw',\n",
       "    'unitaryAuthArea': 'Devon'},\n",
       "   {'elevation': '10.0',\n",
       "    'id': '3862',\n",
       "    'latitude': '50.779',\n",
       "    'longitude': '-1.835',\n",
       "    'obsSource': 'LNDSYN',\n",
       "    'name': 'Bournemouth Airport',\n",
       "    'region': 'sw',\n",
       "    'unitaryAuthArea': 'Dorset'},\n",
       "   {'elevation': '9.0',\n",
       "    'id': '3976',\n",
       "    'latitude': '54.233',\n",
       "    'longitude': '-10.001',\n",
       "    'obsSource': 'LNDSYN',\n",
       "    'name': 'Belmullet'},\n",
       "   {'elevation': '348.0',\n",
       "    'id': '3710',\n",
       "    'latitude': '51.087',\n",
       "    'longitude': '-3.608',\n",
       "    'name': 'Liscombe',\n",
       "    'nationalPark': 'Exmoor National Park',\n",
       "    'region': 'sw',\n",
       "    'unitaryAuthArea': 'Somerset'},\n",
       "   {'elevation': '132.0',\n",
       "    'id': '3743',\n",
       "    'latitude': '51.201',\n",
       "    'longitude': '-1.805',\n",
       "    'name': 'Larkhill',\n",
       "    'region': 'sw',\n",
       "    'unitaryAuthArea': 'Wiltshire'},\n",
       "   {'elevation': '126.0',\n",
       "    'id': '3746',\n",
       "    'latitude': '51.161',\n",
       "    'longitude': '-1.754',\n",
       "    'name': 'Boscombe Down',\n",
       "    'region': 'sw',\n",
       "    'unitaryAuthArea': 'Wiltshire'},\n",
       "   {'elevation': '67.0',\n",
       "    'id': '3769',\n",
       "    'latitude': '51.15',\n",
       "    'longitude': '-0.2333',\n",
       "    'name': 'Charlwood',\n",
       "    'region': 'se',\n",
       "    'unitaryAuthArea': 'Surrey'},\n",
       "   {'elevation': '10.0',\n",
       "    'id': '3171',\n",
       "    'latitude': '56.377',\n",
       "    'longitude': '-2.862',\n",
       "    'obsSource': 'LNDSYN',\n",
       "    'name': 'Leuchars',\n",
       "    'region': 'ta',\n",
       "    'unitaryAuthArea': 'Fife'},\n",
       "   {'elevation': '262.0',\n",
       "    'id': '3281',\n",
       "    'latitude': '54.362',\n",
       "    'longitude': '-0.673',\n",
       "    'name': 'Fylingdales',\n",
       "    'nationalPark': 'North York Moors National Park',\n",
       "    'region': 'yh',\n",
       "    'unitaryAuthArea': 'North Yorkshire'},\n",
       "   {'elevation': '10.0',\n",
       "    'id': '3302',\n",
       "    'latitude': '53.252',\n",
       "    'longitude': '-4.537',\n",
       "    'obsSource': 'LNDSYN',\n",
       "    'name': 'Valley',\n",
       "    'region': 'wl',\n",
       "    'unitaryAuthArea': 'Isle of Anglesey'},\n",
       "   {'elevation': '262.0',\n",
       "    'id': '3344',\n",
       "    'latitude': '53.811',\n",
       "    'longitude': '-1.865',\n",
       "    'name': 'Bingley Samos',\n",
       "    'region': 'yh',\n",
       "    'unitaryAuthArea': 'West Yorkshire'},\n",
       "   {'elevation': '62.0',\n",
       "    'id': '3379',\n",
       "    'latitude': '53.031',\n",
       "    'longitude': '-0.502',\n",
       "    'name': 'Cranwell',\n",
       "    'region': 'em',\n",
       "    'unitaryAuthArea': 'Lincolnshire'},\n",
       "   {'elevation': '3.0',\n",
       "    'id': '3392',\n",
       "    'latitude': '53.088',\n",
       "    'longitude': '0.274',\n",
       "    'name': 'Wainfleet',\n",
       "    'region': 'em',\n",
       "    'unitaryAuthArea': 'Lincolnshire'},\n",
       "   {'elevation': '72.0',\n",
       "    'id': '3414',\n",
       "    'latitude': '52.794',\n",
       "    'longitude': '-2.663',\n",
       "    'name': 'Shawbury',\n",
       "    'region': 'wm',\n",
       "    'unitaryAuthArea': 'Shropshire'},\n",
       "   {'elevation': '1245.0',\n",
       "    'id': '3065',\n",
       "    'latitude': '57.116',\n",
       "    'longitude': '-3.642',\n",
       "    'name': 'Cairn Gorm Summit',\n",
       "    'nationalPark': 'Cairngorms National Park',\n",
       "    'region': 'he',\n",
       "    'unitaryAuthArea': 'Moray'},\n",
       "   {'elevation': '933.0',\n",
       "    'id': '3072',\n",
       "    'latitude': '56.879',\n",
       "    'longitude': '-3.42',\n",
       "    'name': 'Cairnwell',\n",
       "    'nationalPark': 'Cairngorms National Park',\n",
       "    'region': 'ta',\n",
       "    'unitaryAuthArea': 'Perth and Kinross'},\n",
       "   {'elevation': '65.0',\n",
       "    'id': '3091',\n",
       "    'latitude': '57.206',\n",
       "    'longitude': '-2.202',\n",
       "    'obsSource': 'LNDSYN',\n",
       "    'name': 'Aberdeen Airport',\n",
       "    'region': 'gr',\n",
       "    'unitaryAuthArea': 'Aberdeen'},\n",
       "   {'elevation': '17.0',\n",
       "    'id': '3105',\n",
       "    'latitude': '55.681',\n",
       "    'longitude': '-6.256',\n",
       "    'obsSource': 'LNDSYN',\n",
       "    'name': 'Islay Airport',\n",
       "    'region': 'st',\n",
       "    'unitaryAuthArea': 'Argyll and Bute'},\n",
       "   {'elevation': '12.0',\n",
       "    'id': '3010',\n",
       "    'latitude': '59.083',\n",
       "    'longitude': '-4.404',\n",
       "    'obsSource': 'LNDSYN',\n",
       "    'name': 'Sule Skerry',\n",
       "    'region': 'os',\n",
       "    'unitaryAuthArea': 'Highland'},\n",
       "   {'elevation': '20.0',\n",
       "    'id': '3853',\n",
       "    'latitude': '51.006',\n",
       "    'longitude': '-2.64',\n",
       "    'name': 'Yeovilton',\n",
       "    'region': 'sw',\n",
       "    'unitaryAuthArea': 'Somerset'},\n",
       "   {'elevation': '20.0',\n",
       "    'id': '3980',\n",
       "    'latitude': '55.366',\n",
       "    'longitude': '-7.333',\n",
       "    'obsSource': 'LNDSYN',\n",
       "    'name': 'Malin Head'},\n",
       "   {'elevation': '89.0',\n",
       "    'id': '99057',\n",
       "    'latitude': '52.017',\n",
       "    'longitude': '-0.6',\n",
       "    'name': 'Woburn',\n",
       "    'region': 'ee',\n",
       "    'unitaryAuthArea': 'Central Bedfordshire'},\n",
       "   {'elevation': '35.0',\n",
       "    'id': '3529',\n",
       "    'latitude': '52.148',\n",
       "    'longitude': '-2.04',\n",
       "    'name': 'Pershore',\n",
       "    'region': 'wm',\n",
       "    'unitaryAuthArea': 'Worcestershire'},\n",
       "   {'elevation': '44.0',\n",
       "    'id': '3604',\n",
       "    'latitude': '51.708',\n",
       "    'longitude': '-5.055',\n",
       "    'name': 'Milford Haven C.B.',\n",
       "    'region': 'wl',\n",
       "    'unitaryAuthArea': 'Pembrokeshire'},\n",
       "   {'elevation': '59.0',\n",
       "    'id': '3628',\n",
       "    'latitude': '51.521',\n",
       "    'longitude': '-2.576',\n",
       "    'name': 'Filton',\n",
       "    'region': 'sw',\n",
       "    'unitaryAuthArea': 'South Gloucestershire'},\n",
       "   {'elevation': '2.0',\n",
       "    'id': '3693',\n",
       "    'latitude': '51.554',\n",
       "    'longitude': '0.83',\n",
       "    'obsSource': 'LNDSYN',\n",
       "    'name': 'Shoeburyness',\n",
       "    'region': 'ee',\n",
       "    'unitaryAuthArea': 'Essex'},\n",
       "   {'elevation': '91.0',\n",
       "    'id': '3749',\n",
       "    'latitude': '51.149',\n",
       "    'longitude': '-1.57',\n",
       "    'name': 'Middle Wallop',\n",
       "    'region': 'se',\n",
       "    'unitaryAuthArea': 'Hampshire'},\n",
       "   {'elevation': '118.0',\n",
       "    'id': '3761',\n",
       "    'latitude': '51.238',\n",
       "    'longitude': '-0.944',\n",
       "    'name': 'Odiham',\n",
       "    'region': 'se',\n",
       "    'unitaryAuthArea': 'Hampshire'},\n",
       "   {'elevation': '11.0',\n",
       "    'id': '3132',\n",
       "    'latitude': '54.859',\n",
       "    'longitude': '-4.936',\n",
       "    'name': 'West Freugh',\n",
       "    'region': 'dg',\n",
       "    'unitaryAuthArea': 'Dumfries and Galloway'},\n",
       "   {'elevation': '27.0',\n",
       "    'id': '3136',\n",
       "    'latitude': '55.515',\n",
       "    'longitude': '-4.585',\n",
       "    'name': 'Prestwick Rnas',\n",
       "    'region': 'st',\n",
       "    'unitaryAuthArea': 'South Ayrshire'},\n",
       "   {'elevation': '112.0',\n",
       "    'id': '3158',\n",
       "    'latitude': '55.709',\n",
       "    'longitude': '-2.383',\n",
       "    'name': 'Charterhall',\n",
       "    'region': 'dg',\n",
       "    'unitaryAuthArea': 'Scottish Borders'},\n",
       "   {'elevation': '124.0',\n",
       "    'id': '3210',\n",
       "    'latitude': '54.5181',\n",
       "    'longitude': '-3.615',\n",
       "    'obsSource': 'LNDSYN',\n",
       "    'name': 'St. Bees Head',\n",
       "    'region': 'nw',\n",
       "    'unitaryAuthArea': 'Cumbria'},\n",
       "   {'elevation': '81.0',\n",
       "    'id': '3212',\n",
       "    'latitude': '54.614',\n",
       "    'longitude': '-3.157',\n",
       "    'name': 'Keswick',\n",
       "    'nationalPark': 'Lake District National Park',\n",
       "    'region': 'nw',\n",
       "    'unitaryAuthArea': 'Cumbria'},\n",
       "   {'elevation': '28.0',\n",
       "    'id': '3220',\n",
       "    'latitude': '54.933',\n",
       "    'longitude': '-2.963',\n",
       "    'name': 'Carlisle',\n",
       "    'region': 'nw',\n",
       "    'unitaryAuthArea': 'Cumbria'},\n",
       "   {'elevation': '285.0',\n",
       "    'id': '3224',\n",
       "    'latitude': '55.05',\n",
       "    'longitude': '-2.553',\n",
       "    'name': 'Spadeadam',\n",
       "    'region': 'nw',\n",
       "    'unitaryAuthArea': 'Cumbria'},\n",
       "   {'elevation': '9.0',\n",
       "    'id': '3316',\n",
       "    'latitude': '53.497',\n",
       "    'longitude': '-3.056',\n",
       "    'obsSource': 'LNDSYN',\n",
       "    'name': 'Crosby',\n",
       "    'region': 'nw',\n",
       "    'unitaryAuthArea': 'Merseyside'},\n",
       "   {'elevation': '68.0',\n",
       "    'id': '3377',\n",
       "    'latitude': '53.175',\n",
       "    'longitude': '-0.521',\n",
       "    'name': 'Waddington',\n",
       "    'region': 'em',\n",
       "    'unitaryAuthArea': 'Lincolnshire'},\n",
       "   {'elevation': '360.0',\n",
       "    'id': '3410',\n",
       "    'latitude': '52.757',\n",
       "    'longitude': '-3.464',\n",
       "    'name': 'Lake Vyrnwy Saws',\n",
       "    'region': 'wl',\n",
       "    'unitaryAuthArea': 'Powys'},\n",
       "   {'elevation': '21.0',\n",
       "    'id': '3488',\n",
       "    'latitude': '52.949',\n",
       "    'longitude': '1.127',\n",
       "    'obsSource': 'LNDSYN',\n",
       "    'name': 'Weybourne',\n",
       "    'region': 'ee',\n",
       "    'unitaryAuthArea': 'Norfolk'},\n",
       "   {'elevation': '35.0',\n",
       "    'id': '3351',\n",
       "    'latitude': '53.3598',\n",
       "    'longitude': '-2.3805',\n",
       "    'name': 'Rostherne No 2',\n",
       "    'region': 'nw',\n",
       "    'unitaryAuthArea': 'Cheshire East'},\n",
       "   {'elevation': '128.0',\n",
       "    'id': '3680',\n",
       "    'latitude': '51.8067',\n",
       "    'longitude': '-0.3602',\n",
       "    'name': 'Rothamsted',\n",
       "    'region': 'ee',\n",
       "    'unitaryAuthArea': 'Hertfordshire'},\n",
       "   {'elevation': '140.0',\n",
       "    'id': '3080',\n",
       "    'latitude': '57.077',\n",
       "    'longitude': '-2.836',\n",
       "    'name': 'Aboyne',\n",
       "    'region': 'gr',\n",
       "    'unitaryAuthArea': 'Aberdeenshire'},\n",
       "   {'elevation': '134.0',\n",
       "    'id': '3088',\n",
       "    'latitude': '56.852',\n",
       "    'longitude': '-2.264',\n",
       "    'name': 'Inverbervie',\n",
       "    'region': 'gr',\n",
       "    'unitaryAuthArea': 'Aberdeenshire'},\n",
       "   {'elevation': '10.0',\n",
       "    'id': '3111',\n",
       "    'latitude': '55.441',\n",
       "    'longitude': '-5.699',\n",
       "    'obsSource': 'LNDSYN',\n",
       "    'name': 'Campbeltown Airport',\n",
       "    'region': 'st',\n",
       "    'unitaryAuthArea': 'Argyll and Bute'},\n",
       "   {'elevation': '15.0',\n",
       "    'id': '3026',\n",
       "    'latitude': '58.214',\n",
       "    'longitude': '-6.325',\n",
       "    'obsSource': 'LNDSYN',\n",
       "    'name': 'Stornoway',\n",
       "    'region': 'he',\n",
       "    'unitaryAuthArea': 'Na h-Eileanan Siar'},\n",
       "   {'elevation': '265.0',\n",
       "    'id': '3031',\n",
       "    'latitude': '57.725',\n",
       "    'longitude': '-4.896',\n",
       "    'name': 'Loch Glascarnoch',\n",
       "    'region': 'he',\n",
       "    'unitaryAuthArea': 'Highland'},\n",
       "   {'elevation': '773.0',\n",
       "    'id': '3039',\n",
       "    'latitude': '57.4175',\n",
       "    'longitude': '-5.689',\n",
       "    'name': 'Bealach Na Ba',\n",
       "    'region': 'he',\n",
       "    'unitaryAuthArea': 'Highland'},\n",
       "   {'elevation': '87.0',\n",
       "    'id': '3808',\n",
       "    'latitude': '50.218',\n",
       "    'longitude': '-5.33',\n",
       "    'name': 'Camborne',\n",
       "    'region': 'sw',\n",
       "    'unitaryAuthArea': 'Cornwall'},\n",
       "   {'elevation': '16.0',\n",
       "    'id': '3866',\n",
       "    'latitude': '50.577',\n",
       "    'longitude': '-1.297',\n",
       "    'name': 'St Catherines Pt.',\n",
       "    'region': 'se',\n",
       "    'unitaryAuthArea': 'Isle of Wight'},\n",
       "   {'elevation': '4.0',\n",
       "    'id': '3872',\n",
       "    'latitude': '50.815',\n",
       "    'longitude': '-0.923',\n",
       "    'name': 'Thorney Island',\n",
       "    'region': 'se',\n",
       "    'unitaryAuthArea': 'West Sussex'},\n",
       "   {'elevation': '52.0',\n",
       "    'id': '3882',\n",
       "    'latitude': '50.89',\n",
       "    'longitude': '0.319',\n",
       "    'name': 'Herstmonceux West End',\n",
       "    'region': 'se',\n",
       "    'unitaryAuthArea': 'East Sussex'},\n",
       "   {'elevation': '49.0',\n",
       "    'id': '3904',\n",
       "    'latitude': '54.707',\n",
       "    'longitude': '-7.577',\n",
       "    'name': 'Castlederg',\n",
       "    'region': 'ni',\n",
       "    'unitaryAuthArea': 'County Tyrone'},\n",
       "   {'elevation': '40.0',\n",
       "    'id': '3952',\n",
       "    'latitude': '51.799',\n",
       "    'longitude': '-8.25',\n",
       "    'obsSource': 'LNDSYN',\n",
       "    'name': 'Roches Point'},\n",
       "   {'elevation': '115.0',\n",
       "    'id': '99060',\n",
       "    'latitude': '53.85',\n",
       "    'longitude': '-2.467',\n",
       "    'name': 'Stonyhurst',\n",
       "    'region': 'nw',\n",
       "    'unitaryAuthArea': 'Lancashire'},\n",
       "   {'elevation': '63.0',\n",
       "    'id': '3503',\n",
       "    'latitude': '52.344',\n",
       "    'longitude': '-3.947',\n",
       "    'name': 'Trawsgoed',\n",
       "    'region': 'wl',\n",
       "    'unitaryAuthArea': 'Ceredigion'},\n",
       "   {'elevation': '307.0',\n",
       "    'id': '3507',\n",
       "    'latitude': '52.063',\n",
       "    'longitude': '-3.614',\n",
       "    'name': 'Sennybridge',\n",
       "    'region': 'wl',\n",
       "    'unitaryAuthArea': 'Powys'},\n",
       "   {'elevation': '81.0',\n",
       "    'id': '3649',\n",
       "    'latitude': '51.758',\n",
       "    'longitude': '-1.576',\n",
       "    'name': 'Brize Norton',\n",
       "    'region': 'se',\n",
       "    'unitaryAuthArea': 'Oxfordshire'},\n",
       "   {'elevation': '40.0',\n",
       "    'id': '3672',\n",
       "    'latitude': '51.548',\n",
       "    'longitude': '-0.415',\n",
       "    'name': 'Northolt',\n",
       "    'region': 'se',\n",
       "    'unitaryAuthArea': 'Greater London'},\n",
       "   {'elevation': '6.0',\n",
       "    'id': '3707',\n",
       "    'latitude': '51.089',\n",
       "    'longitude': '-4.149',\n",
       "    'name': 'Chivenor',\n",
       "    'region': 'sw',\n",
       "    'unitaryAuthArea': 'Devon'},\n",
       "   {'elevation': '25.0',\n",
       "    'id': '3772',\n",
       "    'latitude': '51.479',\n",
       "    'longitude': '-0.449',\n",
       "    'name': 'Heathrow',\n",
       "    'region': 'se',\n",
       "    'unitaryAuthArea': 'Greater London'},\n",
       "   {'elevation': '59.0',\n",
       "    'id': '3134',\n",
       "    'latitude': '55.907',\n",
       "    'longitude': '-4.533',\n",
       "    'name': 'Glasgow/Bishopton',\n",
       "    'region': 'st',\n",
       "    'unitaryAuthArea': 'Renfrewshire'},\n",
       "   {'elevation': '15.0',\n",
       "    'id': '3214',\n",
       "    'latitude': '54.125',\n",
       "    'longitude': '-3.257',\n",
       "    'name': 'Walney Island',\n",
       "    'region': 'nw',\n",
       "    'unitaryAuthArea': 'Cumbria'},\n",
       "   {'elevation': '255.0',\n",
       "    'id': '3225',\n",
       "    'latitude': '54.501',\n",
       "    'longitude': '-2.684',\n",
       "    'name': 'Shap',\n",
       "    'region': 'nw',\n",
       "    'unitaryAuthArea': 'Cumbria'},\n",
       "   {'elevation': '847.0',\n",
       "    'id': '3227',\n",
       "    'latitude': '54.684',\n",
       "    'longitude': '-2.45',\n",
       "    'name': 'Great Dun Fell 2',\n",
       "    'region': 'nw',\n",
       "    'unitaryAuthArea': 'Cumbria'},\n",
       "   {'elevation': '298.0',\n",
       "    'id': '3330',\n",
       "    'latitude': '53.12755',\n",
       "    'longitude': '-1.97993',\n",
       "    'name': 'Leek',\n",
       "    'region': 'wm',\n",
       "    'unitaryAuthArea': 'Staffordshire'},\n",
       "   {'elevation': '57.0',\n",
       "    'id': '3373',\n",
       "    'latitude': '53.307',\n",
       "    'longitude': '-0.546',\n",
       "    'name': 'Scampton',\n",
       "    'region': 'em',\n",
       "    'unitaryAuthArea': 'Lincolnshire'},\n",
       "   {'elevation': '95.0',\n",
       "    'id': '3405',\n",
       "    'latitude': '52.789',\n",
       "    'longitude': '-4.742',\n",
       "    'name': 'Aberdaron',\n",
       "    'region': 'wl',\n",
       "    'unitaryAuthArea': 'Gwynedd'},\n",
       "   {'elevation': '27.0',\n",
       "    'id': '3839',\n",
       "    'latitude': '50.737',\n",
       "    'longitude': '-3.405',\n",
       "    'name': 'Exeter Airport',\n",
       "    'region': 'sw',\n",
       "    'unitaryAuthArea': 'Devon'},\n",
       "   {'elevation': '4.0',\n",
       "    'id': '3023',\n",
       "    'latitude': '57.358',\n",
       "    'longitude': '-7.397',\n",
       "    'obsSource': 'LNDSYN',\n",
       "    'name': 'South Uist Range',\n",
       "    'region': 'he',\n",
       "    'unitaryAuthArea': 'Na h-Eileanan Siar'},\n",
       "   {'elevation': '1130.0',\n",
       "    'id': '3041',\n",
       "    'latitude': '56.822',\n",
       "    'longitude': '-4.97',\n",
       "    'name': 'Aonach Mor Summit',\n",
       "    'region': 'he',\n",
       "    'unitaryAuthArea': 'Highland'},\n",
       "   {'elevation': '3.0',\n",
       "    'id': '3784',\n",
       "    'latitude': '51.464',\n",
       "    'longitude': '0.314',\n",
       "    'name': 'Gravesend-Broadness',\n",
       "    'region': 'se',\n",
       "    'unitaryAuthArea': 'Kent'},\n",
       "   {'elevation': '54.0',\n",
       "    'id': '3797',\n",
       "    'latitude': '51.3422',\n",
       "    'longitude': '1.3461',\n",
       "    'obsSource': 'LNDSYN',\n",
       "    'name': 'Manston',\n",
       "    'region': 'se',\n",
       "    'unitaryAuthArea': 'Kent'},\n",
       "   {'elevation': '50.0',\n",
       "    'id': '3827',\n",
       "    'latitude': '50.354',\n",
       "    'longitude': '-4.121',\n",
       "    'obsSource': 'LNDSYN',\n",
       "    'name': 'Mount Batten',\n",
       "    'region': 'sw',\n",
       "    'unitaryAuthArea': 'Plymouth'},\n",
       "   {'elevation': '161.0',\n",
       "    'id': '3923',\n",
       "    'latitude': '54.237',\n",
       "    'longitude': '-6.502',\n",
       "    'name': 'Glenanne',\n",
       "    'region': 'ni',\n",
       "    'unitaryAuthArea': 'County Armagh'},\n",
       "   {'elevation': '133.0',\n",
       "    'id': '3502',\n",
       "    'latitude': '52.139',\n",
       "    'longitude': '-4.571',\n",
       "    'name': 'Aberporth',\n",
       "    'region': 'wl',\n",
       "    'unitaryAuthArea': 'Ceredigion'},\n",
       "   {'elevation': '107.0',\n",
       "    'id': '3544',\n",
       "    'latitude': '52.358',\n",
       "    'longitude': '-1.33',\n",
       "    'name': 'Church Lawford',\n",
       "    'region': 'wm',\n",
       "    'unitaryAuthArea': 'Warwickshire'},\n",
       "   {'elevation': '158.0',\n",
       "    'id': '3275',\n",
       "    'latitude': '54.563',\n",
       "    'longitude': '-0.863',\n",
       "    'name': 'Loftus (Samos)',\n",
       "    'region': 'ne',\n",
       "    'unitaryAuthArea': 'Redcar and Cleveland'},\n",
       "   {'elevation': '216.0',\n",
       "    'id': '3305',\n",
       "    'latitude': '53.093',\n",
       "    'longitude': '-3.941',\n",
       "    'name': 'Capel Curig',\n",
       "    'nationalPark': 'Snowdonia National Park',\n",
       "    'region': 'wl',\n",
       "    'unitaryAuthArea': 'Conwy'},\n",
       "   {'elevation': '3.0',\n",
       "    'id': '3469',\n",
       "    'latitude': '52.873',\n",
       "    'longitude': '0.141',\n",
       "    'name': 'Holbeach',\n",
       "    'region': 'em',\n",
       "    'unitaryAuthArea': 'Lincolnshire'},\n",
       "   {'elevation': '26.0',\n",
       "    'id': '3017',\n",
       "    'latitude': '58.954',\n",
       "    'longitude': '-2.9',\n",
       "    'obsSource': 'LNDSYN',\n",
       "    'name': 'Kirkwall',\n",
       "    'region': 'os',\n",
       "    'unitaryAuthArea': 'Orkney Islands'},\n",
       "   {'elevation': '170.0',\n",
       "    'id': '3781',\n",
       "    'latitude': '51.303',\n",
       "    'longitude': '-0.09',\n",
       "    'name': 'Kenley',\n",
       "    'region': 'se',\n",
       "    'unitaryAuthArea': 'Surrey'},\n",
       "   {'elevation': '101.0',\n",
       "    'id': '3894',\n",
       "    'latitude': '49.44',\n",
       "    'longitude': '-2.6',\n",
       "    'obsSource': 'LNDSYN',\n",
       "    'name': 'Guernsey',\n",
       "    'region': 'sw',\n",
       "    'unitaryAuthArea': 'Guernsey'},\n",
       "   {'elevation': '63.0',\n",
       "    'id': '3917',\n",
       "    'latitude': '54.664',\n",
       "    'longitude': '-6.224',\n",
       "    'obsSource': 'LNDSYN',\n",
       "    'name': 'Belfast International Airport',\n",
       "    'region': 'ni',\n",
       "    'unitaryAuthArea': 'County Antrim'},\n",
       "   {'elevation': '89.0',\n",
       "    'id': '3590',\n",
       "    'latitude': '52.123',\n",
       "    'longitude': '0.961',\n",
       "    'name': 'Wattisham',\n",
       "    'region': 'ee',\n",
       "    'unitaryAuthArea': 'Suffolk'},\n",
       "   {'elevation': '32.0',\n",
       "    'id': '3609',\n",
       "    'latitude': '51.565',\n",
       "    'longitude': '-3.981',\n",
       "    'name': 'Mumbles Head',\n",
       "    'region': 'wl',\n",
       "    'unitaryAuthArea': 'Swansea'},\n",
       "   {'elevation': '57.0',\n",
       "    'id': '3658',\n",
       "    'latitude': '51.62',\n",
       "    'longitude': '-1.097',\n",
       "    'name': 'Benson',\n",
       "    'region': 'se',\n",
       "    'unitaryAuthArea': 'Oxfordshire'},\n",
       "   {'elevation': '35.0',\n",
       "    'id': '3144',\n",
       "    'latitude': '56.326',\n",
       "    'longitude': '-3.729',\n",
       "    'name': 'Strathallan',\n",
       "    'region': 'ta',\n",
       "    'unitaryAuthArea': 'Perth and Kinross'},\n",
       "   {'elevation': '564.0',\n",
       "    'id': '3148',\n",
       "    'latitude': '56.423',\n",
       "    'longitude': '-4.32',\n",
       "    'name': 'Glen Ogle',\n",
       "    'nationalPark': 'Loch Lomond and the Trossachs National Park',\n",
       "    'region': 'ta',\n",
       "    'unitaryAuthArea': 'Stirling'},\n",
       "   {'elevation': '16.0',\n",
       "    'id': '3204',\n",
       "    'latitude': '54.0849',\n",
       "    'longitude': '-4.6321',\n",
       "    'obsSource': 'LNDSYN',\n",
       "    'name': 'Ronaldsway',\n",
       "    'region': 'nw'},\n",
       "   {'elevation': '23.0',\n",
       "    'id': '3240',\n",
       "    'latitude': '55.421',\n",
       "    'longitude': '-1.6',\n",
       "    'obsSource': 'LNDSYN',\n",
       "    'name': 'Boulmer',\n",
       "    'region': 'ne',\n",
       "    'unitaryAuthArea': 'Northumberland'},\n",
       "   {'elevation': '25.0',\n",
       "    'id': '3265',\n",
       "    'latitude': '54.204',\n",
       "    'longitude': '-1.39',\n",
       "    'name': 'Topcliffe',\n",
       "    'region': 'yh',\n",
       "    'unitaryAuthArea': 'North Yorkshire'},\n",
       "   {'elevation': '15.0',\n",
       "    'id': '3292',\n",
       "    'latitude': '54.094',\n",
       "    'longitude': '-0.174',\n",
       "    'name': 'Bridlington Mrsc',\n",
       "    'region': 'yh',\n",
       "    'unitaryAuthArea': 'East Riding of Yorkshire'},\n",
       "   {'elevation': '77.0',\n",
       "    'id': '3313',\n",
       "    'latitude': '53.259',\n",
       "    'longitude': '-3.509',\n",
       "    'name': 'Rhyl',\n",
       "    'region': 'wl',\n",
       "    'unitaryAuthArea': 'Denbighshire'},\n",
       "   {'elevation': '10.0',\n",
       "    'id': '3321',\n",
       "    'latitude': '53.174',\n",
       "    'longitude': '-2.986',\n",
       "    'name': 'Hawarden',\n",
       "    'region': 'wl',\n",
       "    'unitaryAuthArea': 'Flintshire'},\n",
       "   {'elevation': '117.0',\n",
       "    'id': '3354',\n",
       "    'latitude': '53.005',\n",
       "    'longitude': '-1.25',\n",
       "    'name': 'Watnall',\n",
       "    'region': 'em',\n",
       "    'unitaryAuthArea': 'Nottinghamshire'},\n",
       "   {'elevation': '7.0',\n",
       "    'id': '3382',\n",
       "    'latitude': '53.867',\n",
       "    'longitude': '-0.433',\n",
       "    'name': 'Leconfield Sar',\n",
       "    'region': 'yh',\n",
       "    'unitaryAuthArea': 'East Riding of Yorkshire'},\n",
       "   {'elevation': '8.0',\n",
       "    'id': '3385',\n",
       "    'latitude': '53.473',\n",
       "    'longitude': '0.154',\n",
       "    'obsSource': 'LNDSYN',\n",
       "    'name': 'Donna Nook',\n",
       "    'region': 'em',\n",
       "    'unitaryAuthArea': 'Lincolnshire'},\n",
       "   {'elevation': '6.0',\n",
       "    'id': '3391',\n",
       "    'latitude': '53.094',\n",
       "    'longitude': '-0.171',\n",
       "    'name': 'Coningsby',\n",
       "    'region': 'em',\n",
       "    'unitaryAuthArea': 'Lincolnshire'},\n",
       "   {'elevation': '110.0',\n",
       "    'id': '99142',\n",
       "    'latitude': '54.273',\n",
       "    'longitude': '-0.421',\n",
       "    'name': 'Scarborough',\n",
       "    'region': 'yh',\n",
       "    'unitaryAuthArea': 'North Yorkshire'},\n",
       "   {'elevation': '206.0',\n",
       "    'id': '996',\n",
       "    'latitude': '56.69936',\n",
       "    'longitude': '-4.19345',\n",
       "    'name': 'Loch Rannoch',\n",
       "    'unitaryAuthArea': 'Perth and Kinross'},\n",
       "   {'elevation': '27.0',\n",
       "    'id': '3844',\n",
       "    'latitude': '50.7366',\n",
       "    'longitude': '-3.40458',\n",
       "    'name': 'Exeter Airport',\n",
       "    'region': 'sw',\n",
       "    'unitaryAuthArea': 'Devon'}]}}"
      ]
     },
     "execution_count": 8,
     "metadata": {},
     "output_type": "execute_result"
    }
   ],
   "source": [
    "# Capture the returned data\n",
    "sites"
   ]
  },
  {
   "cell_type": "markdown",
   "metadata": {},
   "source": [
    "### Task 3: Parse JSON files\n",
    "\n"
   ]
  },
  {
   "cell_type": "markdown",
   "metadata": {},
   "source": [
    "We have played around GeoJSON file last week. JSON is just like GeoJSON, but without embedded geographic data structures. Now that you have a better idea of what data the reply contains, let's see if we can convert the JSON reply into something useful for Python; if you scroll back up to where we printed out the reply you'll notice that it all starts with a '{', meaning that it's a dictionary. \n",
    "\n",
    "Yes, look just like the GeoJSON file. (So you should known how to parse it)\n",
    "\n",
    "Let's start by printing out the keys in the dictionary and the _type_ of data associated as a value to that key:\n"
   ]
  },
  {
   "cell_type": "code",
   "execution_count": 7,
   "metadata": {},
   "outputs": [
    {
     "output_type": "stream",
     "name": "stdout",
     "text": "Key: Locations\nValue: <class 'dict'>\n"
    }
   ],
   "source": [
    "for k in sites.keys():\n",
    "    print(\"Key: \" + str(k))\n",
    "    print(\"Value: \" + str(type(sites[k])))"
   ]
  },
  {
   "cell_type": "markdown",
   "metadata": {},
   "source": [
    "Not the most exciting answer, but at least we know that the value is a dictionary. Let's try moving down a level:"
   ]
  },
  {
   "cell_type": "code",
   "execution_count": 8,
   "metadata": {},
   "outputs": [
    {
     "output_type": "stream",
     "name": "stdout",
     "text": "Key: Locations\nValue: <class 'dict'>\n\tKey: Location\n\tValue: <class 'list'>\n"
    }
   ],
   "source": [
    "for k in sites.keys():\n",
    "    print(\"Key: \" + str(k))\n",
    "    print(\"Value: \" + str(type(sites[k])))\n",
    "    for k2 in sites[k].keys():\n",
    "        print(\"\\tKey: \" + str(k2))\n",
    "        print(\"\\tValue: \" + str(type(sites[k][k2])))"
   ]
  },
  {
   "cell_type": "markdown",
   "metadata": {},
   "source": [
    "**This isn't great design in the reply: we have a dictionary that contains only one key/value pair, and _that_ dictionary in turn contains only one key/value pair. But after that we get to a long, long list containing the data...**\n",
    "\n",
    "The MetOffice is not making life easy for us here: there's a _lot_ of extra 'baggage' in this API response. But we at least know that the next level down is a list and _that_ suggests that things are about to get a bit more interesting... Let's simplify our code at the same time:"
   ]
  },
  {
   "cell_type": "code",
   "execution_count": 9,
   "metadata": {},
   "outputs": [
    {
     "output_type": "stream",
     "name": "stdout",
     "text": "List in API response is 149 long\n"
    }
   ],
   "source": [
    "apiList = sites['Locations']['Location']\n",
    "print(\"List in API response is \" + str(len(apiList)) + \" long\")"
   ]
  },
  {
   "cell_type": "markdown",
   "metadata": {},
   "source": [
    "Now _that_ is a rather more interesting response. What it means is that our JSON reply has this structure:\n",
    "```\n",
    "{\n",
    "    'Locations': {\n",
    "        'Location': [\n",
    "            ... lots of data here ...\n",
    "        ]\n",
    "    }\n",
    "}\n",
    "```\n",
    "\n",
    "If you scroll back up to the JSON reply you should now be able to read a little bit more of the response... and this should give you a clue as to how to print out the `name`, `id`, and `longitude` of the first five sites. I'll get you started:"
   ]
  },
  {
   "cell_type": "code",
   "execution_count": 10,
   "metadata": {},
   "outputs": [
    {
     "output_type": "stream",
     "name": "stdout",
     "text": "Location: Kinloss (id: 3066) is at longitude: -3.5606\nLocation: Lossiemouth (id: 3068) is at longitude: -3.322\nLocation: Wick John O Groats Airport (id: 3075) is at longitude: -3.089\nLocation: Baltasound (id: 3002) is at longitude: -0.854\nLocation: Lerwick (S. Screen) (id: 3005) is at longitude: -1.183\n"
    }
   ],
   "source": [
    "for i in range(5):\n",
    "    location = apiList[i]\n",
    "    print(\"Location: \" + location['name'] + \" (id: \" + location['id'] + \") is at longitude: \" + location['longitude'])"
   ]
  },
  {
   "cell_type": "markdown",
   "metadata": {},
   "source": [
    "Your answer should look like this:\n",
    "\n",
    "`\n",
    "Location: Kinloss (id: 3066) is at longitude: -3.5606\n",
    "Location: Lossiemouth (id: 3068) is at longitude: -3.322\n",
    "Location: Wick John O Groats Airport (id: 3075) is at longitude: -3.089\n",
    "Location: Baltasound (id: 3002) is at longitude: -0.854\n",
    "Location: Lerwick (S. Screen) (id: 3005) is at longitude: -1.183\n",
    "`\n",
    "\n",
    "And _now_ that we know where all the data was 'hidden', we can convert this to a proper data structure in which it is possible to _interact_ with it. To do that, we'll put the site data into a pandas data frame..."
   ]
  },
  {
   "cell_type": "markdown",
   "metadata": {},
   "source": [
    "### Task 4: Turning API data into a Pandas DataFrame\n",
    "\n",
    "Pandas is remarkably intelligent and will _often_ -- though not always -- work out the sensible thing to do from many kinds of data structures (list-of-lists, dictionary-of-lists, list-of-dictionaries...). So let's see what happens when we simply pass `apiList` (a LoD) directly to the `DataFrame` 'constructor' instead of passing the data through, for instance, the `read_csv` function as we did above with a CSV file."
   ]
  },
  {
   "cell_type": "code",
   "execution_count": 11,
   "metadata": {},
   "outputs": [
    {
     "output_type": "stream",
     "name": "stdout",
     "text": "elevation    id latitude longitude                        name region  \\\n0       7.0  3066  57.6494   -3.5606                     Kinloss     gr   \n1       6.0  3068   57.712    -3.322                 Lossiemouth     gr   \n2      36.0  3075   58.454    -3.089  Wick John O Groats Airport     he   \n3      15.0  3002   60.749    -0.854                  Baltasound     os   \n4      82.0  3005   60.139    -1.183         Lerwick (S. Screen)     os   \n\n    unitaryAuthArea obsSource nationalPark  \n0             Moray       NaN          NaN  \n1             Moray    LNDSYN          NaN  \n2          Highland    LNDSYN          NaN  \n3  Shetland Islands       NaN          NaN  \n4  Shetland Islands    LNDSYN          NaN  \n"
    }
   ],
   "source": [
    "site_df = pd.DataFrame(apiList)\n",
    "print(site_df.head())"
   ]
  },
  {
   "cell_type": "markdown",
   "metadata": {},
   "source": [
    "Wow, that's... almost scarily easy. You can see that pandas worked out the structure of our LoD and then automatically converted that to columns in a data frame. So it got the hardest part of the process exactly right and has saved us a lot of work. _That_ is the point of functions and of code: to be constructively lazy.\n",
    "\n",
    "Of course, we could have predicted that pandas would cope since there is a whole section in the documentaiton [devoted to creating data frames from different structures](http://pandas.pydata.org/pandas-docs/stable/dsintro.html#dataframe).\n",
    "\n"
   ]
  },
  {
   "cell_type": "markdown",
   "metadata": {},
   "source": [
    "The problem is that pandas didn't know what we expected the columns to be, so it's treated them all as 'objects' (basically: strings) and not as numeric data types. To fix that you need to know that there's a function called `'astype'` that allows pandas to convert between different data types where it's fairly easy for pandas to figure out what we want to do:"
   ]
  },
  {
   "cell_type": "code",
   "execution_count": 12,
   "metadata": {},
   "outputs": [],
   "source": [
    "for c in ['region','unitaryAuthArea']:\n",
    "    site_df[c] = site_df[c].astype('str')\n",
    "for c in ['elevation','latitude','longitude']:\n",
    "    site_df[c] = site_df[c].astype('float')\n",
    "for c in ['id']:\n",
    "    site_df[c] = site_df[c].astype('int')"
   ]
  },
  {
   "cell_type": "code",
   "execution_count": 13,
   "metadata": {},
   "outputs": [
    {
     "output_type": "execute_result",
     "data": {
      "text/plain": "       elevation          id  latitude  longitude\ncount   149.0000    149.0000  149.0000   149.0000\nmean    119.8255  5,999.3154   53.7582    -2.8668\nstd     188.7077 15,517.0565    2.5351     2.2548\nmin       2.0000    996.0000   49.2079   -10.2500\n25%      21.0000  3,166.0000   51.6200    -4.1935\n50%      63.0000  3,405.0000   53.2590    -2.6840\n75%     133.0000  3,768.0000   55.3660    -1.2500\nmax   1,245.0000 99,142.0000   60.7490     1.3480",
      "text/html": "<div>\n<style scoped>\n    .dataframe tbody tr th:only-of-type {\n        vertical-align: middle;\n    }\n\n    .dataframe tbody tr th {\n        vertical-align: top;\n    }\n\n    .dataframe thead th {\n        text-align: right;\n    }\n</style>\n<table border=\"1\" class=\"dataframe\">\n  <thead>\n    <tr style=\"text-align: right;\">\n      <th></th>\n      <th>elevation</th>\n      <th>id</th>\n      <th>latitude</th>\n      <th>longitude</th>\n    </tr>\n  </thead>\n  <tbody>\n    <tr>\n      <th>count</th>\n      <td>149.0000</td>\n      <td>149.0000</td>\n      <td>149.0000</td>\n      <td>149.0000</td>\n    </tr>\n    <tr>\n      <th>mean</th>\n      <td>119.8255</td>\n      <td>5,999.3154</td>\n      <td>53.7582</td>\n      <td>-2.8668</td>\n    </tr>\n    <tr>\n      <th>std</th>\n      <td>188.7077</td>\n      <td>15,517.0565</td>\n      <td>2.5351</td>\n      <td>2.2548</td>\n    </tr>\n    <tr>\n      <th>min</th>\n      <td>2.0000</td>\n      <td>996.0000</td>\n      <td>49.2079</td>\n      <td>-10.2500</td>\n    </tr>\n    <tr>\n      <th>25%</th>\n      <td>21.0000</td>\n      <td>3,166.0000</td>\n      <td>51.6200</td>\n      <td>-4.1935</td>\n    </tr>\n    <tr>\n      <th>50%</th>\n      <td>63.0000</td>\n      <td>3,405.0000</td>\n      <td>53.2590</td>\n      <td>-2.6840</td>\n    </tr>\n    <tr>\n      <th>75%</th>\n      <td>133.0000</td>\n      <td>3,768.0000</td>\n      <td>55.3660</td>\n      <td>-1.2500</td>\n    </tr>\n    <tr>\n      <th>max</th>\n      <td>1,245.0000</td>\n      <td>99,142.0000</td>\n      <td>60.7490</td>\n      <td>1.3480</td>\n    </tr>\n  </tbody>\n</table>\n</div>"
     },
     "metadata": {},
     "execution_count": 13
    }
   ],
   "source": [
    "site_df.describe() # only the numeric paratmers shows here"
   ]
  },
  {
   "cell_type": "markdown",
   "metadata": {},
   "source": [
    "### Task 5: Making an interactive map using Folium"
   ]
  },
  {
   "cell_type": "markdown",
   "metadata": {},
   "source": [
    "Before we go further, lets make use of your mapping skills learned last week to visually identify where are the locations collects weather data."
   ]
  },
  {
   "cell_type": "markdown",
   "metadata": {},
   "source": [
    "With the map to be created, we are able to answer the first question: for what locations can I get weather data? - Let's add all sites (points) to the map."
   ]
  },
  {
   "cell_type": "code",
   "execution_count": 19,
   "metadata": {
    "scrolled": true
   },
   "outputs": [
    {
     "data": {
      "text/html": [
       "<div style=\"width:100%;\"><div style=\"position:relative;width:100%;height:0;padding-bottom:60%;\"><iframe src=\"data:text/html;charset=utf-8;base64,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\" style=\"position:absolute;width:100%;height:100%;left:0;top:0;border:none !important;\" allowfullscreen webkitallowfullscreen mozallowfullscreen></iframe></div></div>"
      ],
      "text/plain": [
       "<folium.folium.Map at 0x7f683c8f2090>"
      ]
     },
     "execution_count": 19,
     "metadata": {},
     "output_type": "execute_result"
    }
   ],
   "source": [
    "MAP_COORDINATES = (51.5113, -0.1160) \n",
    "\n",
    "m = folium.Map(location=MAP_COORDINATES, zoom_start=8, tiles=\"Stamen Toner\")\n",
    "\n",
    "for index, loc in site_df.iterrows():\n",
    "    # And now add a marker\n",
    "    folium.Marker((loc['latitude'], loc['longitude']), icon=folium.Icon(color='green',icon='cloud'), \n",
    "              popup = loc['name']\n",
    "             ).add_to(m)\n",
    "m # Print the map"
   ]
  },
  {
   "cell_type": "markdown",
   "metadata": {},
   "source": [
    "**Zoom out, and what did you see there?**\n",
    "\n",
    "The weather station are located across the whole UK, not just in London."
   ]
  },
  {
   "cell_type": "markdown",
   "metadata": {},
   "source": [
    "We can use spatial join to find out all stations in GLA, but not there yet. Lets use the key word 'unitaryAuthArea' to query out stations in 'Greater London'."
   ]
  },
  {
   "cell_type": "code",
   "execution_count": 14,
   "metadata": {},
   "outputs": [],
   "source": [
    "#Lets find out the weather station in the Greater London area by querying a key word\n",
    "site_df_london = site_df.loc[(site_df.unitaryAuthArea =='Greater London')]"
   ]
  },
  {
   "cell_type": "code",
   "execution_count": 22,
   "metadata": {},
   "outputs": [
    {
     "data": {
      "text/html": [
       "<div style=\"width:100%;\"><div style=\"position:relative;width:100%;height:0;padding-bottom:60%;\"><iframe src=\"data:text/html;charset=utf-8;base64,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\" style=\"position:absolute;width:100%;height:100%;left:0;top:0;border:none !important;\" allowfullscreen webkitallowfullscreen mozallowfullscreen></iframe></div></div>"
      ],
      "text/plain": [
       "<folium.folium.Map at 0x7f683cd5a990>"
      ]
     },
     "execution_count": 22,
     "metadata": {},
     "output_type": "execute_result"
    }
   ],
   "source": [
    "MAP_COORDINATES = (51.5113, -0.1160) \n",
    "\n",
    "m = folium.Map(location=MAP_COORDINATES, zoom_start=10, tiles=\"Stamen Toner\")\n",
    "\n",
    "for index, loc in site_df_london.iterrows():\n",
    "    # And now add a marker\n",
    "    folium.Marker((loc['latitude'], loc['longitude']), icon=folium.Icon(color='green',icon='cloud'), \n",
    "              popup= loc['name']\n",
    "             ).add_to(m)\n",
    "m # Print the map"
   ]
  },
  {
   "cell_type": "markdown",
   "metadata": {},
   "source": [
    "### Task 6: Obtaining Weather Data in London\n",
    "\n",
    "The next step in this process is a bit more complicated because weather data is a bit more complicated than a list of locations...\n"
   ]
  },
  {
   "cell_type": "markdown",
   "metadata": {},
   "source": [
    "\n",
    "Here, the MetOffice has _not_ made our lives very easy because the data is packaged in a way that doesn't allow us to easily load it into pandas. If you search online, you'll find plenty of people complaining about how the MetOffice API works. Or doesn't work, if you prefer.\n",
    "\n",
    "So we're not going to ask you to sort this out for yourselves. Instead, we're going to provide you with a function (!) to take the observation data and convert it into a data frame.\n",
    "\n",
    "Well, you should at least know how to use a function."
   ]
  },
  {
   "cell_type": "code",
   "execution_count": 15,
   "metadata": {},
   "outputs": [],
   "source": [
    "from datetime import datetime, timedelta\n",
    "def processMetOfficeObservations(loc): \n",
    "    \"\"\"\n",
    "    Process a series of 'reports' for a single\n",
    "    location using the datetime object as the \n",
    "    reference time against which to build the \n",
    "    timedelta (i.e. we start from midnight and \n",
    "    the timedelta is the number of minutes past \n",
    "    midnight)\n",
    "    \"\"\"\n",
    "    observations = {} # Stores results\n",
    "    \n",
    "    for d in loc['Period']: # d for day\n",
    "        if 'value' not in d or 'Rep' not in d:\n",
    "            # print 'no \"value\" or \"Rep\" key, skip'\n",
    "            continue\n",
    "            \n",
    "        dt = datetime.strptime(d['value'],'%Y-%m-%dZ')# Convert date to datetime object \n",
    "        \n",
    "        # Now deal with the actual observations (i.e. 'Reports')\n",
    "        the_type = type(d['Rep'])\n",
    "        if the_type is dict:\n",
    "            reports = [d['Rep']]\n",
    "        elif the_type is list:\n",
    "            reports = d['Rep']\n",
    "        else:\n",
    "            print (\"***warning: d['Rep'] type: \", the_type, \" not support\")\n",
    "            continue\n",
    "        \n",
    "        for report in d['Rep']:\n",
    "                \n",
    "            # Find the timestampe and add it to the date\n",
    "            minutes_after_midnight = int(report['$'])\n",
    "            ts = dt + timedelta(minutes=minutes_after_midnight)\n",
    "            \n",
    "            # For each of the possible values, set a default value\n",
    "            # if the weather station doesn't actually collect that\n",
    "            # parameter... can you see a problem with our defaults?\n",
    "            if 'ts' not in observations:\n",
    "                observations['ts'] = []\n",
    "            observations['ts'].append(str(ts))\n",
    "            for key in ['D','Pt']:\n",
    "                if key not in report:\n",
    "                    report[key] = u\"\"\n",
    "                if key not in observations:\n",
    "                    observations[key] = []\n",
    "                observations[key].append(report[key])\n",
    "            for key in ['W','V','S','G']:\n",
    "                if key not in report or report[key] == \"\":\n",
    "                    report[key] = 0\n",
    "                if key not in observations:\n",
    "                    observations[key] = []\n",
    "                observations[key].append(report[key])\n",
    "            for key in ['T','Dp','H']:\n",
    "                if key not in report or report[key] == \"\":\n",
    "                    report[key] = 0.0\n",
    "                if key not in observations:\n",
    "                    observations[key] = []\n",
    "                observations[key].append(report[key])\n",
    "    \n",
    "    return observations"
   ]
  },
  {
   "cell_type": "markdown",
   "metadata": {},
   "source": [
    "\n",
    "First, just in case you want to only run this section again (and not revisit the content above), I'd suggest saving a copy of your API key here as well:"
   ]
  },
  {
   "cell_type": "code",
   "execution_count": 16,
   "metadata": {},
   "outputs": [],
   "source": [
    "api_key = \"75038866-617b-4f32-b7a1-2af56d36fe63\" # Here you need to replace this with your unique API key"
   ]
  },
  {
   "cell_type": "markdown",
   "metadata": {},
   "source": [
    "Let's start from a simple task. - querying weather data at one weather station. And we choose one located in London."
   ]
  },
  {
   "cell_type": "code",
   "execution_count": 17,
   "metadata": {},
   "outputs": [
    {
     "output_type": "execute_result",
     "data": {
      "text/plain": "array([3672, 3772])"
     },
     "metadata": {},
     "execution_count": 17
    }
   ],
   "source": [
    "london_ids = (site_df_london.id).unique()\n",
    "london_ids  \n",
    "\n",
    "# how many stations with hourly updated data in London? You have got the answer from your map."
   ]
  },
  {
   "cell_type": "markdown",
   "metadata": {},
   "source": [
    "Just like what we did before for querying site locations. Here, we just added one small parameter - location id.\n",
    "\n",
    "**if you are unsure where to add it, go to check data point [API](https://www.metoffice.gov.uk/datapoint/support/api-reference)**"
   ]
  },
  {
   "cell_type": "code",
   "execution_count": 18,
   "metadata": {},
   "outputs": [
    {
     "output_type": "stream",
     "name": "stdout",
     "text": "Done!\n"
    }
   ],
   "source": [
    "import json, requests # Libraries we need\n",
    "\n",
    "api_url  = \"http://datapoint.metoffice.gov.uk/public/data/\" # Base URL\n",
    "obs_json= \"val/wxobs/all/json/\" # Observations URL\n",
    "\n",
    "station = str(3772)  #3772 # This is heathrow airport weather station\n",
    "\n",
    "payload = {'res': 'hourly', 'key': api_key} # Dictionary to hold request parameters\n",
    "\n",
    "# pay attention here, station id added\n",
    "r = requests.get(api_url + obs_json + station, params=payload)\n",
    "\n",
    "#print(r.url)\n",
    "\n",
    "weather = r.json() # Capture the reply\n",
    "\n",
    "print(\"Done!\")"
   ]
  },
  {
   "cell_type": "code",
   "execution_count": 35,
   "metadata": {
    "scrolled": true
   },
   "outputs": [
    {
     "data": {
      "text/plain": [
       "{'SiteRep': {'Wx': {'Param': [{'name': 'G', 'units': 'mph', '$': 'Wind Gust'},\n",
       "    {'name': 'T', 'units': 'C', '$': 'Temperature'},\n",
       "    {'name': 'V', 'units': 'm', '$': 'Visibility'},\n",
       "    {'name': 'D', 'units': 'compass', '$': 'Wind Direction'},\n",
       "    {'name': 'S', 'units': 'mph', '$': 'Wind Speed'},\n",
       "    {'name': 'W', 'units': '', '$': 'Weather Type'},\n",
       "    {'name': 'P', 'units': 'hpa', '$': 'Pressure'},\n",
       "    {'name': 'Pt', 'units': 'Pa/s', '$': 'Pressure Tendency'},\n",
       "    {'name': 'Dp', 'units': 'C', '$': 'Dew Point'},\n",
       "    {'name': 'H', 'units': '%', '$': 'Screen Relative Humidity'}]},\n",
       "  'DV': {'dataDate': '2020-01-24T15:00:00Z',\n",
       "   'type': 'Obs',\n",
       "   'Location': {'i': '3772',\n",
       "    'lat': '51.479',\n",
       "    'lon': '-0.449',\n",
       "    'name': 'HEATHROW',\n",
       "    'country': 'ENGLAND',\n",
       "    'continent': 'EUROPE',\n",
       "    'elevation': '25.0',\n",
       "    'Period': [{'type': 'Day',\n",
       "      'value': '2020-01-23Z',\n",
       "      'Rep': [{'D': 'NE',\n",
       "        'H': '81.6',\n",
       "        'P': '1030',\n",
       "        'S': '5',\n",
       "        'T': '8.0',\n",
       "        'V': '30000',\n",
       "        'W': '8',\n",
       "        'Pt': 'F',\n",
       "        'Dp': '5.1',\n",
       "        '$': '840'},\n",
       "       {'D': 'SE',\n",
       "        'H': '83.4',\n",
       "        'P': '1029',\n",
       "        'S': '3',\n",
       "        'T': '7.8',\n",
       "        'V': '19000',\n",
       "        'W': '8',\n",
       "        'Pt': 'F',\n",
       "        'Dp': '5.2',\n",
       "        '$': '900'},\n",
       "       {'D': 'ENE',\n",
       "        'H': '83.9',\n",
       "        'P': '1028',\n",
       "        'S': '1',\n",
       "        'T': '7.6',\n",
       "        'V': '16000',\n",
       "        'W': '8',\n",
       "        'Pt': 'F',\n",
       "        'Dp': '5.1',\n",
       "        '$': '960'},\n",
       "       {'D': 'N',\n",
       "        'H': '83.9',\n",
       "        'P': '1028',\n",
       "        'S': '0',\n",
       "        'T': '7.6',\n",
       "        'V': '13000',\n",
       "        'W': '8',\n",
       "        'Pt': 'F',\n",
       "        'Dp': '5.1',\n",
       "        '$': '1020'},\n",
       "       {'D': 'NNW',\n",
       "        'H': '85.1',\n",
       "        'P': '1028',\n",
       "        'S': '3',\n",
       "        'T': '7.5',\n",
       "        'V': '12000',\n",
       "        'W': '8',\n",
       "        'Pt': 'F',\n",
       "        'Dp': '5.2',\n",
       "        '$': '1080'},\n",
       "       {'D': 'NNW',\n",
       "        'H': '86.9',\n",
       "        'P': '1027',\n",
       "        'S': '3',\n",
       "        'T': '7.2',\n",
       "        'V': '10000',\n",
       "        'W': '8',\n",
       "        'Pt': 'F',\n",
       "        'Dp': '5.2',\n",
       "        '$': '1140'},\n",
       "       {'D': 'NW',\n",
       "        'H': '87.5',\n",
       "        'P': '1027',\n",
       "        'S': '3',\n",
       "        'T': '7.0',\n",
       "        'V': '8000',\n",
       "        'W': '8',\n",
       "        'Pt': 'F',\n",
       "        'Dp': '5.1',\n",
       "        '$': '1200'},\n",
       "       {'D': 'NW',\n",
       "        'H': '91.2',\n",
       "        'P': '1027',\n",
       "        'S': '3',\n",
       "        'T': '6.7',\n",
       "        'V': '5000',\n",
       "        'W': '8',\n",
       "        'Pt': 'F',\n",
       "        'Dp': '5.4',\n",
       "        '$': '1260'},\n",
       "       {'D': 'N',\n",
       "        'H': '90.0',\n",
       "        'P': '1027',\n",
       "        'S': '2',\n",
       "        'T': '6.8',\n",
       "        'V': '7000',\n",
       "        'W': '8',\n",
       "        'Pt': 'F',\n",
       "        'Dp': '5.3',\n",
       "        '$': '1320'},\n",
       "       {'D': 'NNW',\n",
       "        'H': '90.6',\n",
       "        'P': '1026',\n",
       "        'S': '3',\n",
       "        'T': '6.7',\n",
       "        'V': '6000',\n",
       "        'W': '8',\n",
       "        'Pt': 'F',\n",
       "        'Dp': '5.3',\n",
       "        '$': '1380'}]},\n",
       "     {'type': 'Day',\n",
       "      'value': '2020-01-24Z',\n",
       "      'Rep': [{'D': 'NNW',\n",
       "        'H': '92.6',\n",
       "        'P': '1026',\n",
       "        'S': '3',\n",
       "        'T': '6.5',\n",
       "        'V': '5000',\n",
       "        'W': '8',\n",
       "        'Pt': 'F',\n",
       "        'Dp': '5.4',\n",
       "        '$': '0'},\n",
       "       {'D': 'NW',\n",
       "        'H': '94.0',\n",
       "        'P': '1026',\n",
       "        'S': '2',\n",
       "        'T': '6.2',\n",
       "        'V': '4800',\n",
       "        'W': '8',\n",
       "        'Pt': 'F',\n",
       "        'Dp': '5.3',\n",
       "        '$': '60'},\n",
       "       {'D': 'NNW',\n",
       "        'H': '93.2',\n",
       "        'P': '1025',\n",
       "        'S': '2',\n",
       "        'T': '6.2',\n",
       "        'V': '6000',\n",
       "        'W': '7',\n",
       "        'Pt': 'F',\n",
       "        'Dp': '5.2',\n",
       "        '$': '120'},\n",
       "       {'D': 'N',\n",
       "        'H': '93.9',\n",
       "        'P': '1024',\n",
       "        'S': '3',\n",
       "        'T': '6.0',\n",
       "        'V': '6000',\n",
       "        'W': '5',\n",
       "        'Pt': 'F',\n",
       "        'Dp': '5.1',\n",
       "        '$': '180'},\n",
       "       {'D': 'N',\n",
       "        'H': '93.9',\n",
       "        'P': '1024',\n",
       "        'S': '3',\n",
       "        'T': '5.9',\n",
       "        'V': '10000',\n",
       "        'W': '8',\n",
       "        'Pt': 'F',\n",
       "        'Dp': '5.0',\n",
       "        '$': '240'},\n",
       "       {'D': 'N',\n",
       "        'H': '93.9',\n",
       "        'P': '1023',\n",
       "        'S': '2',\n",
       "        'T': '6.0',\n",
       "        'V': '12000',\n",
       "        'W': '8',\n",
       "        'Pt': 'F',\n",
       "        'Dp': '5.1',\n",
       "        '$': '300'},\n",
       "       {'D': 'NW',\n",
       "        'H': '93.2',\n",
       "        'P': '1023',\n",
       "        'S': '2',\n",
       "        'T': '6.0',\n",
       "        'V': '6000',\n",
       "        'W': '8',\n",
       "        'Pt': 'F',\n",
       "        'Dp': '5.0',\n",
       "        '$': '360'},\n",
       "       {'D': 'NNW',\n",
       "        'H': '91.4',\n",
       "        'P': '1023',\n",
       "        'S': '3',\n",
       "        'T': '6.2',\n",
       "        'V': '10000',\n",
       "        'W': '8',\n",
       "        'Pt': 'F',\n",
       "        'Dp': '4.9',\n",
       "        '$': '420'},\n",
       "       {'D': 'NW',\n",
       "        'H': '93.1',\n",
       "        'P': '1023',\n",
       "        'S': '2',\n",
       "        'T': '5.9',\n",
       "        'V': '9000',\n",
       "        'W': '8',\n",
       "        'Pt': 'R',\n",
       "        'Dp': '4.9',\n",
       "        '$': '480'},\n",
       "       {'D': 'NW',\n",
       "        'H': '91.3',\n",
       "        'P': '1023',\n",
       "        'S': '2',\n",
       "        'T': '6.0',\n",
       "        'V': '10000',\n",
       "        'W': '8',\n",
       "        'Pt': 'R',\n",
       "        'Dp': '4.7',\n",
       "        '$': '540'},\n",
       "       {'D': 'N',\n",
       "        'H': '90.1',\n",
       "        'P': '1024',\n",
       "        'S': '0',\n",
       "        'T': '6.2',\n",
       "        'V': '20000',\n",
       "        'W': '8',\n",
       "        'Pt': 'R',\n",
       "        'Dp': '4.7',\n",
       "        '$': '600'},\n",
       "       {'D': 'WNW',\n",
       "        'H': '90.6',\n",
       "        'P': '1024',\n",
       "        'S': '3',\n",
       "        'T': '6.4',\n",
       "        'V': '13000',\n",
       "        'W': '8',\n",
       "        'Pt': 'R',\n",
       "        'Dp': '5.0',\n",
       "        '$': '660'},\n",
       "       {'D': 'W',\n",
       "        'H': '90.6',\n",
       "        'P': '1023',\n",
       "        'S': '2',\n",
       "        'T': '6.6',\n",
       "        'V': '11000',\n",
       "        'W': '8',\n",
       "        'Pt': 'F',\n",
       "        'Dp': '5.2',\n",
       "        '$': '720'},\n",
       "       {'D': 'S',\n",
       "        'H': '89.4',\n",
       "        'P': '1022',\n",
       "        'S': '5',\n",
       "        'T': '6.9',\n",
       "        'V': '11000',\n",
       "        'W': '8',\n",
       "        'Pt': 'F',\n",
       "        'Dp': '5.3',\n",
       "        '$': '780'},\n",
       "       {'D': 'SW',\n",
       "        'H': '90.0',\n",
       "        'P': '1022',\n",
       "        'S': '6',\n",
       "        'T': '6.7',\n",
       "        'V': '14000',\n",
       "        'W': '7',\n",
       "        'Pt': 'F',\n",
       "        'Dp': '5.2',\n",
       "        '$': '840'}]}]}}}}"
      ]
     },
     "execution_count": 35,
     "metadata": {},
     "output_type": "execute_result"
    }
   ],
   "source": [
    "weather"
   ]
  },
  {
   "cell_type": "code",
   "execution_count": 19,
   "metadata": {},
   "outputs": [],
   "source": [
    "#using the function\n",
    "data = processMetOfficeObservations(weather['SiteRep']['DV']['Location'])"
   ]
  },
  {
   "cell_type": "code",
   "execution_count": 20,
   "metadata": {},
   "outputs": [
    {
     "output_type": "execute_result",
     "data": {
      "text/plain": "                    ts    D Pt  W      V   S  G     T   Dp     H    id\n0  2020-04-19 18:00:00  ENE  R  1  30000  13  0  15.4  0.9  36.7  3772\n1  2020-04-19 19:00:00  ENE  R  1  35000  14  0  13.7  1.9  44.2  3772\n2  2020-04-19 20:00:00  ENE  R  0  30000  10  0  12.1  2.2  50.2  3772\n3  2020-04-19 21:00:00  ENE  R  0  30000   9  0  10.8  2.4  55.6  3772",
      "text/html": "<div>\n<style scoped>\n    .dataframe tbody tr th:only-of-type {\n        vertical-align: middle;\n    }\n\n    .dataframe tbody tr th {\n        vertical-align: top;\n    }\n\n    .dataframe thead th {\n        text-align: right;\n    }\n</style>\n<table border=\"1\" class=\"dataframe\">\n  <thead>\n    <tr style=\"text-align: right;\">\n      <th></th>\n      <th>ts</th>\n      <th>D</th>\n      <th>Pt</th>\n      <th>W</th>\n      <th>V</th>\n      <th>S</th>\n      <th>G</th>\n      <th>T</th>\n      <th>Dp</th>\n      <th>H</th>\n      <th>id</th>\n    </tr>\n  </thead>\n  <tbody>\n    <tr>\n      <th>0</th>\n      <td>2020-04-19 18:00:00</td>\n      <td>ENE</td>\n      <td>R</td>\n      <td>1</td>\n      <td>30000</td>\n      <td>13</td>\n      <td>0</td>\n      <td>15.4</td>\n      <td>0.9</td>\n      <td>36.7</td>\n      <td>3772</td>\n    </tr>\n    <tr>\n      <th>1</th>\n      <td>2020-04-19 19:00:00</td>\n      <td>ENE</td>\n      <td>R</td>\n      <td>1</td>\n      <td>35000</td>\n      <td>14</td>\n      <td>0</td>\n      <td>13.7</td>\n      <td>1.9</td>\n      <td>44.2</td>\n      <td>3772</td>\n    </tr>\n    <tr>\n      <th>2</th>\n      <td>2020-04-19 20:00:00</td>\n      <td>ENE</td>\n      <td>R</td>\n      <td>0</td>\n      <td>30000</td>\n      <td>10</td>\n      <td>0</td>\n      <td>12.1</td>\n      <td>2.2</td>\n      <td>50.2</td>\n      <td>3772</td>\n    </tr>\n    <tr>\n      <th>3</th>\n      <td>2020-04-19 21:00:00</td>\n      <td>ENE</td>\n      <td>R</td>\n      <td>0</td>\n      <td>30000</td>\n      <td>9</td>\n      <td>0</td>\n      <td>10.8</td>\n      <td>2.4</td>\n      <td>55.6</td>\n      <td>3772</td>\n    </tr>\n  </tbody>\n</table>\n</div>"
     },
     "metadata": {},
     "execution_count": 20
    }
   ],
   "source": [
    "df3 = pd.DataFrame.from_dict( data )\n",
    "# add one more parameter to indicate the station id - say, where the data from\n",
    "df3['id'] = station\n",
    "df3.head(4)"
   ]
  },
  {
   "cell_type": "markdown",
   "metadata": {},
   "source": [
    "### Task 7: Obtaining Weather Data in the UK ( its your turn)"
   ]
  },
  {
   "cell_type": "markdown",
   "metadata": {},
   "source": [
    "Here you are going to repeat what has been done in Task 6. But instead of querying only 1 station, you need to write a loop to query all weather station in the UK and put the data into a DataFrame called weather_df.\n",
    "\n",
    "Hints: first you get all unique ids of weather stations; then you write a loop to iterate all station ids; Each time you request data of one station, you convert the JSON into a new DataFrame; then you join the new dataframe to the weather_df (not sure what operation to use, then check [FROM HERE](https://pandas.pydata.org/pandas-docs/stable/merging.html)); After you gather all data from all station, rename the columns to make it easy understood and reset index to make it ready for query. That's it!"
   ]
  },
  {
   "cell_type": "code",
   "execution_count": 21,
   "metadata": {},
   "outputs": [
    {
     "output_type": "execute_result",
     "data": {
      "text/plain": "Empty DataFrame\nColumns: [ts, D, Pt, W, V, S, G, T, Dp, H, id]\nIndex: []",
      "text/html": "<div>\n<style scoped>\n    .dataframe tbody tr th:only-of-type {\n        vertical-align: middle;\n    }\n\n    .dataframe tbody tr th {\n        vertical-align: top;\n    }\n\n    .dataframe thead th {\n        text-align: right;\n    }\n</style>\n<table border=\"1\" class=\"dataframe\">\n  <thead>\n    <tr style=\"text-align: right;\">\n      <th></th>\n      <th>ts</th>\n      <th>D</th>\n      <th>Pt</th>\n      <th>W</th>\n      <th>V</th>\n      <th>S</th>\n      <th>G</th>\n      <th>T</th>\n      <th>Dp</th>\n      <th>H</th>\n      <th>id</th>\n    </tr>\n  </thead>\n  <tbody>\n  </tbody>\n</table>\n</div>"
     },
     "metadata": {},
     "execution_count": 21
    }
   ],
   "source": [
    "weather_df = df3.iloc[0:0] # so the big container is prepared for you, you just have to fill it with data.\n",
    "weather_df"
   ]
  },
  {
   "cell_type": "code",
   "execution_count": 22,
   "metadata": {},
   "outputs": [
    {
     "output_type": "execute_result",
     "data": {
      "text/plain": "149"
     },
     "metadata": {},
     "execution_count": 22
    }
   ],
   "source": [
    "# get station ids here\n",
    "uk_ids = site_df.id.unique()\n",
    "len(uk_ids)"
   ]
  },
  {
   "cell_type": "markdown",
   "metadata": {},
   "source": [
    "the answer should be something like 148 (data updates all the time as we are using streaming data)"
   ]
  },
  {
   "cell_type": "code",
   "execution_count": 23,
   "metadata": {},
   "outputs": [
    {
     "output_type": "stream",
     "name": "stdout",
     "text": "weather station id is 3066\nweather station id is 3068\nweather station id is 3075\nweather station id is 3002\nweather station id is 3005\nweather station id is 3008\nweather station id is 3034\nweather station id is 3044\nweather station id is 3047\nweather station id is 3796\nweather station id is 3803\nweather station id is 3823\nweather station id is 3857\nweather station id is 3876\nweather station id is 3895\nweather station id is 3911\nweather station id is 3916\nweather station id is 3953\nweather station id is 99081\nweather station id is 3520\nweather station id is 3522\nweather station id is 3535\nweather station id is 3560\nweather station id is 3605\nweather station id is 3647\nweather station id is 3660\nweather station id is 3684\nweather station id is 3716\nweather station id is 3740\nweather station id is 3768\nweather station id is 3153\nweather station id is 3155\nweather station id is 3162\nweather station id is 3166\nweather station id is 3226\nweather station id is 3230\nweather station id is 3238\nweather station id is 3257\nweather station id is 3266\nweather station id is 3462\nweather station id is 3482\nweather station id is 3907\nweather station id is 3063\nweather station id is 3100\nweather station id is 3809\nweather station id is 3840\nweather station id is 3862\nweather station id is 3976\nweather station id is 3710\nweather station id is 3743\nweather station id is 3746\nweather station id is 3769\nweather station id is 3171\nweather station id is 3281\nweather station id is 3302\nweather station id is 3344\nweather station id is 3379\nweather station id is 3392\nweather station id is 3414\nweather station id is 3065\nweather station id is 3072\nweather station id is 3091\nweather station id is 3105\nweather station id is 3853\nweather station id is 3980\nweather station id is 99057\nweather station id is 3529\nweather station id is 3604\nweather station id is 3693\nweather station id is 3749\nweather station id is 3761\nweather station id is 3132\nweather station id is 3136\nweather station id is 3158\nweather station id is 3210\nweather station id is 3212\nweather station id is 3220\nweather station id is 3224\nweather station id is 3316\nweather station id is 3377\nweather station id is 3410\nweather station id is 3488\nweather station id is 3351\nweather station id is 3680\nweather station id is 3080\nweather station id is 3088\nweather station id is 3111\nweather station id is 3026\nweather station id is 3031\nweather station id is 3039\nweather station id is 3808\nweather station id is 3866\nweather station id is 3872\nweather station id is 3882\nweather station id is 3904\nweather station id is 3952\nweather station id is 99060\nweather station id is 3503\nweather station id is 3507\nweather station id is 3649\nweather station id is 3672\nweather station id is 3707\nweather station id is 3772\nweather station id is 3134\nweather station id is 3225\nweather station id is 3227\nweather station id is 3330\nweather station id is 3373\nweather station id is 3405\nweather station id is 3023\nweather station id is 3797\nweather station id is 3827\nweather station id is 3923\nweather station id is 3502\nweather station id is 3544\nweather station id is 3275\nweather station id is 3305\nweather station id is 3469\nweather station id is 3017\nweather station id is 3781\nweather station id is 3894\nweather station id is 3917\nweather station id is 3590\nweather station id is 3609\nweather station id is 3658\nweather station id is 3144\nweather station id is 3148\nweather station id is 3204\nweather station id is 3240\nweather station id is 3265\nweather station id is 3292\nweather station id is 3313\nweather station id is 3321\nweather station id is 3354\nweather station id is 3382\nweather station id is 3385\nweather station id is 3391\nweather station id is 99142\nweather station id is 3844\n"
    }
   ],
   "source": [
    "# loop here\n",
    "for stn in uk_ids:\n",
    "    station = str(stn)\n",
    "    r = requests.get(api_url + obs_json + station, params=payload)\n",
    "    weather = r.json() # Capture the reply    \n",
    "    if 'Location' not in weather['SiteRep']['DV']: # if there is no keyword - location, means no data coming in\n",
    "        continue\n",
    "    else:\n",
    "        print('weather station id is %s' %(station) )\n",
    "        test = processMetOfficeObservations(weather['SiteRep']['DV']['Location'])\n",
    "        df3_new = pd.DataFrame.from_dict(test)\n",
    "        df3_new['id'] = station \n",
    "        weather_df = weather_df.append(df3_new)  "
   ]
  },
  {
   "cell_type": "code",
   "execution_count": 24,
   "metadata": {},
   "outputs": [],
   "source": [
    "#change column names here. \n",
    "cnames = {'D' : 'WindDirection', \n",
    "          'G' : 'WindGust', \n",
    "          'Dp': 'DewPoint', \n",
    "          'H' : 'Humidity', \n",
    "          'P' : 'PressureTendency', \n",
    "          'S' : 'WindSpeed', \n",
    "          'T' : 'Temperature', \n",
    "          'W' : 'WeatherType', \n",
    "          'V' : 'Visibility', \n",
    "          'Pt': 'PressureTendency',\n",
    "          'id': 'id',\n",
    "          'ts': 'DateTime'\n",
    "         }\n",
    "\n",
    "weather_df.rename(columns=cnames, inplace=True)"
   ]
  },
  {
   "cell_type": "code",
   "execution_count": 25,
   "metadata": {
    "scrolled": true
   },
   "outputs": [
    {
     "output_type": "execute_result",
     "data": {
      "text/plain": "               DateTime WindDirection PressureTendency WeatherType Visibility  \\\n0   2020-04-19 19:00:00            SE                R           1      40000   \n1   2020-04-19 20:00:00           SSE                R           0      40000   \n2   2020-04-19 21:00:00           ESE                R           0      45000   \n3   2020-04-19 22:00:00           ESE                R           0      50000   \n4   2020-04-19 23:00:00           SSE                R           0      45000   \n..                  ...           ...              ...         ...        ...   \n20  2020-04-20 15:00:00                              F           1      30000   \n21  2020-04-20 16:00:00                              F           1      30000   \n22  2020-04-20 17:00:00                              F           1      30000   \n23  2020-04-20 18:00:00                              F           1      29000   \n24  2020-04-20 19:00:00                              R           1      28000   \n\n   WindSpeed WindGust Temperature DewPoint Humidity    id  \n0         11        0        12.1     -1.3     38.6  3066  \n1         10        0        10.3     -1.1     44.3  3066  \n2          9        0         8.9     -1.5     47.3  3066  \n3          3        0         8.4     -2.9     44.0  3066  \n4          2        0         5.0     -3.8     52.1  3066  \n..       ...      ...         ...      ...      ...   ...  \n20         0        0        17.4      4.2     41.2  3844  \n21         0        0        17.8      3.3     37.7  3844  \n22         0        0        17.7      3.8     39.3  3844  \n23         0        0        16.5      3.4     41.3  3844  \n24         0        0        15.3      2.1     40.5  3844  \n\n[3435 rows x 11 columns]",
      "text/html": "<div>\n<style scoped>\n    .dataframe tbody tr th:only-of-type {\n        vertical-align: middle;\n    }\n\n    .dataframe tbody tr th {\n        vertical-align: top;\n    }\n\n    .dataframe thead th {\n        text-align: right;\n    }\n</style>\n<table border=\"1\" class=\"dataframe\">\n  <thead>\n    <tr style=\"text-align: right;\">\n      <th></th>\n      <th>DateTime</th>\n      <th>WindDirection</th>\n      <th>PressureTendency</th>\n      <th>WeatherType</th>\n      <th>Visibility</th>\n      <th>WindSpeed</th>\n      <th>WindGust</th>\n      <th>Temperature</th>\n      <th>DewPoint</th>\n      <th>Humidity</th>\n      <th>id</th>\n    </tr>\n  </thead>\n  <tbody>\n    <tr>\n      <th>0</th>\n      <td>2020-04-19 19:00:00</td>\n      <td>SE</td>\n      <td>R</td>\n      <td>1</td>\n      <td>40000</td>\n      <td>11</td>\n      <td>0</td>\n      <td>12.1</td>\n      <td>-1.3</td>\n      <td>38.6</td>\n      <td>3066</td>\n    </tr>\n    <tr>\n      <th>1</th>\n      <td>2020-04-19 20:00:00</td>\n      <td>SSE</td>\n      <td>R</td>\n      <td>0</td>\n      <td>40000</td>\n      <td>10</td>\n      <td>0</td>\n      <td>10.3</td>\n      <td>-1.1</td>\n      <td>44.3</td>\n      <td>3066</td>\n    </tr>\n    <tr>\n      <th>2</th>\n      <td>2020-04-19 21:00:00</td>\n      <td>ESE</td>\n      <td>R</td>\n      <td>0</td>\n      <td>45000</td>\n      <td>9</td>\n      <td>0</td>\n      <td>8.9</td>\n      <td>-1.5</td>\n      <td>47.3</td>\n      <td>3066</td>\n    </tr>\n    <tr>\n      <th>3</th>\n      <td>2020-04-19 22:00:00</td>\n      <td>ESE</td>\n      <td>R</td>\n      <td>0</td>\n      <td>50000</td>\n      <td>3</td>\n      <td>0</td>\n      <td>8.4</td>\n      <td>-2.9</td>\n      <td>44.0</td>\n      <td>3066</td>\n    </tr>\n    <tr>\n      <th>4</th>\n      <td>2020-04-19 23:00:00</td>\n      <td>SSE</td>\n      <td>R</td>\n      <td>0</td>\n      <td>45000</td>\n      <td>2</td>\n      <td>0</td>\n      <td>5.0</td>\n      <td>-3.8</td>\n      <td>52.1</td>\n      <td>3066</td>\n    </tr>\n    <tr>\n      <th>...</th>\n      <td>...</td>\n      <td>...</td>\n      <td>...</td>\n      <td>...</td>\n      <td>...</td>\n      <td>...</td>\n      <td>...</td>\n      <td>...</td>\n      <td>...</td>\n      <td>...</td>\n      <td>...</td>\n    </tr>\n    <tr>\n      <th>20</th>\n      <td>2020-04-20 15:00:00</td>\n      <td></td>\n      <td>F</td>\n      <td>1</td>\n      <td>30000</td>\n      <td>0</td>\n      <td>0</td>\n      <td>17.4</td>\n      <td>4.2</td>\n      <td>41.2</td>\n      <td>3844</td>\n    </tr>\n    <tr>\n      <th>21</th>\n      <td>2020-04-20 16:00:00</td>\n      <td></td>\n      <td>F</td>\n      <td>1</td>\n      <td>30000</td>\n      <td>0</td>\n      <td>0</td>\n      <td>17.8</td>\n      <td>3.3</td>\n      <td>37.7</td>\n      <td>3844</td>\n    </tr>\n    <tr>\n      <th>22</th>\n      <td>2020-04-20 17:00:00</td>\n      <td></td>\n      <td>F</td>\n      <td>1</td>\n      <td>30000</td>\n      <td>0</td>\n      <td>0</td>\n      <td>17.7</td>\n      <td>3.8</td>\n      <td>39.3</td>\n      <td>3844</td>\n    </tr>\n    <tr>\n      <th>23</th>\n      <td>2020-04-20 18:00:00</td>\n      <td></td>\n      <td>F</td>\n      <td>1</td>\n      <td>29000</td>\n      <td>0</td>\n      <td>0</td>\n      <td>16.5</td>\n      <td>3.4</td>\n      <td>41.3</td>\n      <td>3844</td>\n    </tr>\n    <tr>\n      <th>24</th>\n      <td>2020-04-20 19:00:00</td>\n      <td></td>\n      <td>R</td>\n      <td>1</td>\n      <td>28000</td>\n      <td>0</td>\n      <td>0</td>\n      <td>15.3</td>\n      <td>2.1</td>\n      <td>40.5</td>\n      <td>3844</td>\n    </tr>\n  </tbody>\n</table>\n<p>3435 rows × 11 columns</p>\n</div>"
     },
     "metadata": {},
     "execution_count": 25
    }
   ],
   "source": [
    "#check you data, see if it makes sense\n",
    "weather_df"
   ]
  },
  {
   "cell_type": "markdown",
   "metadata": {},
   "source": [
    "Did you notice that the row index is not with unique numbers? Why? This is a common issue when combining DataFrame together and may cause problems when we index data. We just need to reset the index."
   ]
  },
  {
   "cell_type": "code",
   "execution_count": 26,
   "metadata": {},
   "outputs": [
    {
     "output_type": "execute_result",
     "data": {
      "text/plain": "                 DateTime WindDirection PressureTendency WeatherType  \\\n0     2020-04-19 19:00:00            SE                R           1   \n1     2020-04-19 20:00:00           SSE                R           0   \n2     2020-04-19 21:00:00           ESE                R           0   \n3     2020-04-19 22:00:00           ESE                R           0   \n4     2020-04-19 23:00:00           SSE                R           0   \n...                   ...           ...              ...         ...   \n3430  2020-04-20 15:00:00                              F           1   \n3431  2020-04-20 16:00:00                              F           1   \n3432  2020-04-20 17:00:00                              F           1   \n3433  2020-04-20 18:00:00                              F           1   \n3434  2020-04-20 19:00:00                              R           1   \n\n     Visibility WindSpeed WindGust Temperature DewPoint Humidity    id  \n0         40000        11        0        12.1     -1.3     38.6  3066  \n1         40000        10        0        10.3     -1.1     44.3  3066  \n2         45000         9        0         8.9     -1.5     47.3  3066  \n3         50000         3        0         8.4     -2.9     44.0  3066  \n4         45000         2        0         5.0     -3.8     52.1  3066  \n...         ...       ...      ...         ...      ...      ...   ...  \n3430      30000         0        0        17.4      4.2     41.2  3844  \n3431      30000         0        0        17.8      3.3     37.7  3844  \n3432      30000         0        0        17.7      3.8     39.3  3844  \n3433      29000         0        0        16.5      3.4     41.3  3844  \n3434      28000         0        0        15.3      2.1     40.5  3844  \n\n[3435 rows x 11 columns]",
      "text/html": "<div>\n<style scoped>\n    .dataframe tbody tr th:only-of-type {\n        vertical-align: middle;\n    }\n\n    .dataframe tbody tr th {\n        vertical-align: top;\n    }\n\n    .dataframe thead th {\n        text-align: right;\n    }\n</style>\n<table border=\"1\" class=\"dataframe\">\n  <thead>\n    <tr style=\"text-align: right;\">\n      <th></th>\n      <th>DateTime</th>\n      <th>WindDirection</th>\n      <th>PressureTendency</th>\n      <th>WeatherType</th>\n      <th>Visibility</th>\n      <th>WindSpeed</th>\n      <th>WindGust</th>\n      <th>Temperature</th>\n      <th>DewPoint</th>\n      <th>Humidity</th>\n      <th>id</th>\n    </tr>\n  </thead>\n  <tbody>\n    <tr>\n      <th>0</th>\n      <td>2020-04-19 19:00:00</td>\n      <td>SE</td>\n      <td>R</td>\n      <td>1</td>\n      <td>40000</td>\n      <td>11</td>\n      <td>0</td>\n      <td>12.1</td>\n      <td>-1.3</td>\n      <td>38.6</td>\n      <td>3066</td>\n    </tr>\n    <tr>\n      <th>1</th>\n      <td>2020-04-19 20:00:00</td>\n      <td>SSE</td>\n      <td>R</td>\n      <td>0</td>\n      <td>40000</td>\n      <td>10</td>\n      <td>0</td>\n      <td>10.3</td>\n      <td>-1.1</td>\n      <td>44.3</td>\n      <td>3066</td>\n    </tr>\n    <tr>\n      <th>2</th>\n      <td>2020-04-19 21:00:00</td>\n      <td>ESE</td>\n      <td>R</td>\n      <td>0</td>\n      <td>45000</td>\n      <td>9</td>\n      <td>0</td>\n      <td>8.9</td>\n      <td>-1.5</td>\n      <td>47.3</td>\n      <td>3066</td>\n    </tr>\n    <tr>\n      <th>3</th>\n      <td>2020-04-19 22:00:00</td>\n      <td>ESE</td>\n      <td>R</td>\n      <td>0</td>\n      <td>50000</td>\n      <td>3</td>\n      <td>0</td>\n      <td>8.4</td>\n      <td>-2.9</td>\n      <td>44.0</td>\n      <td>3066</td>\n    </tr>\n    <tr>\n      <th>4</th>\n      <td>2020-04-19 23:00:00</td>\n      <td>SSE</td>\n      <td>R</td>\n      <td>0</td>\n      <td>45000</td>\n      <td>2</td>\n      <td>0</td>\n      <td>5.0</td>\n      <td>-3.8</td>\n      <td>52.1</td>\n      <td>3066</td>\n    </tr>\n    <tr>\n      <th>...</th>\n      <td>...</td>\n      <td>...</td>\n      <td>...</td>\n      <td>...</td>\n      <td>...</td>\n      <td>...</td>\n      <td>...</td>\n      <td>...</td>\n      <td>...</td>\n      <td>...</td>\n      <td>...</td>\n    </tr>\n    <tr>\n      <th>3430</th>\n      <td>2020-04-20 15:00:00</td>\n      <td></td>\n      <td>F</td>\n      <td>1</td>\n      <td>30000</td>\n      <td>0</td>\n      <td>0</td>\n      <td>17.4</td>\n      <td>4.2</td>\n      <td>41.2</td>\n      <td>3844</td>\n    </tr>\n    <tr>\n      <th>3431</th>\n      <td>2020-04-20 16:00:00</td>\n      <td></td>\n      <td>F</td>\n      <td>1</td>\n      <td>30000</td>\n      <td>0</td>\n      <td>0</td>\n      <td>17.8</td>\n      <td>3.3</td>\n      <td>37.7</td>\n      <td>3844</td>\n    </tr>\n    <tr>\n      <th>3432</th>\n      <td>2020-04-20 17:00:00</td>\n      <td></td>\n      <td>F</td>\n      <td>1</td>\n      <td>30000</td>\n      <td>0</td>\n      <td>0</td>\n      <td>17.7</td>\n      <td>3.8</td>\n      <td>39.3</td>\n      <td>3844</td>\n    </tr>\n    <tr>\n      <th>3433</th>\n      <td>2020-04-20 18:00:00</td>\n      <td></td>\n      <td>F</td>\n      <td>1</td>\n      <td>29000</td>\n      <td>0</td>\n      <td>0</td>\n      <td>16.5</td>\n      <td>3.4</td>\n      <td>41.3</td>\n      <td>3844</td>\n    </tr>\n    <tr>\n      <th>3434</th>\n      <td>2020-04-20 19:00:00</td>\n      <td></td>\n      <td>R</td>\n      <td>1</td>\n      <td>28000</td>\n      <td>0</td>\n      <td>0</td>\n      <td>15.3</td>\n      <td>2.1</td>\n      <td>40.5</td>\n      <td>3844</td>\n    </tr>\n  </tbody>\n</table>\n<p>3435 rows × 11 columns</p>\n</div>"
     },
     "metadata": {},
     "execution_count": 26
    }
   ],
   "source": [
    "weather_df = weather_df.reset_index(drop=True)\n",
    "weather_df"
   ]
  },
  {
   "cell_type": "code",
   "execution_count": 27,
   "metadata": {},
   "outputs": [
    {
     "output_type": "execute_result",
     "data": {
      "text/plain": "3435"
     },
     "metadata": {},
     "execution_count": 27
    }
   ],
   "source": [
    "#how many records you got? \n",
    "len(weather_df)"
   ]
  },
  {
   "cell_type": "markdown",
   "metadata": {},
   "source": [
    "you should get an answer around 3499. Again number changes slightly as we are using streaming data."
   ]
  },
  {
   "cell_type": "markdown",
   "metadata": {},
   "source": [
    "### Task 8: Join Weather Data (weather_df) with Site Data (df2)"
   ]
  },
  {
   "cell_type": "markdown",
   "metadata": {},
   "source": [
    "The weather data we get does not have location tag. You can just use the weather station id and always go back the site location table to find the coordinates. It is a good strategy for data storage, especially for large data sets. And it is probably a bad idea to combine them into one, as in such case both station id and timetag cannot be used as index any more.  \n",
    "\n",
    "But (just) for practice, let's combine them into one to create a spatial file for later use."
   ]
  },
  {
   "cell_type": "code",
   "execution_count": 28,
   "metadata": {},
   "outputs": [
    {
     "output_type": "execute_result",
     "data": {
      "text/plain": "              DateTime WindDirection PressureTendency WeatherType Visibility  \\\n0  2020-04-19 19:00:00            SE                R           1      40000   \n1  2020-04-19 20:00:00           SSE                R           0      40000   \n2  2020-04-19 21:00:00           ESE                R           0      45000   \n\n  WindSpeed WindGust Temperature DewPoint Humidity    id  \n0        11        0        12.1     -1.3     38.6  3066  \n1        10        0        10.3     -1.1     44.3  3066  \n2         9        0         8.9     -1.5     47.3  3066  ",
      "text/html": "<div>\n<style scoped>\n    .dataframe tbody tr th:only-of-type {\n        vertical-align: middle;\n    }\n\n    .dataframe tbody tr th {\n        vertical-align: top;\n    }\n\n    .dataframe thead th {\n        text-align: right;\n    }\n</style>\n<table border=\"1\" class=\"dataframe\">\n  <thead>\n    <tr style=\"text-align: right;\">\n      <th></th>\n      <th>DateTime</th>\n      <th>WindDirection</th>\n      <th>PressureTendency</th>\n      <th>WeatherType</th>\n      <th>Visibility</th>\n      <th>WindSpeed</th>\n      <th>WindGust</th>\n      <th>Temperature</th>\n      <th>DewPoint</th>\n      <th>Humidity</th>\n      <th>id</th>\n    </tr>\n  </thead>\n  <tbody>\n    <tr>\n      <th>0</th>\n      <td>2020-04-19 19:00:00</td>\n      <td>SE</td>\n      <td>R</td>\n      <td>1</td>\n      <td>40000</td>\n      <td>11</td>\n      <td>0</td>\n      <td>12.1</td>\n      <td>-1.3</td>\n      <td>38.6</td>\n      <td>3066</td>\n    </tr>\n    <tr>\n      <th>1</th>\n      <td>2020-04-19 20:00:00</td>\n      <td>SSE</td>\n      <td>R</td>\n      <td>0</td>\n      <td>40000</td>\n      <td>10</td>\n      <td>0</td>\n      <td>10.3</td>\n      <td>-1.1</td>\n      <td>44.3</td>\n      <td>3066</td>\n    </tr>\n    <tr>\n      <th>2</th>\n      <td>2020-04-19 21:00:00</td>\n      <td>ESE</td>\n      <td>R</td>\n      <td>0</td>\n      <td>45000</td>\n      <td>9</td>\n      <td>0</td>\n      <td>8.9</td>\n      <td>-1.5</td>\n      <td>47.3</td>\n      <td>3066</td>\n    </tr>\n  </tbody>\n</table>\n</div>"
     },
     "metadata": {},
     "execution_count": 28
    }
   ],
   "source": [
    "weather_df.head(3)"
   ]
  },
  {
   "cell_type": "code",
   "execution_count": 29,
   "metadata": {},
   "outputs": [
    {
     "output_type": "execute_result",
     "data": {
      "text/plain": "   elevation    id  latitude  longitude                        name region  \\\n0     7.0000  3066   57.6494    -3.5606                     Kinloss     gr   \n1     6.0000  3068   57.7120    -3.3220                 Lossiemouth     gr   \n2    36.0000  3075   58.4540    -3.0890  Wick John O Groats Airport     he   \n\n  unitaryAuthArea obsSource nationalPark  \n0           Moray       NaN          NaN  \n1           Moray    LNDSYN          NaN  \n2        Highland    LNDSYN          NaN  ",
      "text/html": "<div>\n<style scoped>\n    .dataframe tbody tr th:only-of-type {\n        vertical-align: middle;\n    }\n\n    .dataframe tbody tr th {\n        vertical-align: top;\n    }\n\n    .dataframe thead th {\n        text-align: right;\n    }\n</style>\n<table border=\"1\" class=\"dataframe\">\n  <thead>\n    <tr style=\"text-align: right;\">\n      <th></th>\n      <th>elevation</th>\n      <th>id</th>\n      <th>latitude</th>\n      <th>longitude</th>\n      <th>name</th>\n      <th>region</th>\n      <th>unitaryAuthArea</th>\n      <th>obsSource</th>\n      <th>nationalPark</th>\n    </tr>\n  </thead>\n  <tbody>\n    <tr>\n      <th>0</th>\n      <td>7.0000</td>\n      <td>3066</td>\n      <td>57.6494</td>\n      <td>-3.5606</td>\n      <td>Kinloss</td>\n      <td>gr</td>\n      <td>Moray</td>\n      <td>NaN</td>\n      <td>NaN</td>\n    </tr>\n    <tr>\n      <th>1</th>\n      <td>6.0000</td>\n      <td>3068</td>\n      <td>57.7120</td>\n      <td>-3.3220</td>\n      <td>Lossiemouth</td>\n      <td>gr</td>\n      <td>Moray</td>\n      <td>LNDSYN</td>\n      <td>NaN</td>\n    </tr>\n    <tr>\n      <th>2</th>\n      <td>36.0000</td>\n      <td>3075</td>\n      <td>58.4540</td>\n      <td>-3.0890</td>\n      <td>Wick John O Groats Airport</td>\n      <td>he</td>\n      <td>Highland</td>\n      <td>LNDSYN</td>\n      <td>NaN</td>\n    </tr>\n  </tbody>\n</table>\n</div>"
     },
     "metadata": {},
     "execution_count": 29
    }
   ],
   "source": [
    "site_df.head(3)"
   ]
  },
  {
   "cell_type": "markdown",
   "metadata": {},
   "source": [
    "**What is the common key word for joining two tables?**\n",
    "\n",
    "**What sort of join should we perform? inner? outter? left? or right?**"
   ]
  },
  {
   "cell_type": "markdown",
   "metadata": {},
   "source": [
    "For your convinience, read more about merge [here](http://pandas.pydata.org/pandas-docs/stable/merging.html). \n",
    "\n",
    "![Illustration of the Pandas merge function](http://pandas.pydata.org/pandas-docs/stable/_images/merging_merge_on_key.png)\n"
   ]
  },
  {
   "cell_type": "code",
   "execution_count": 47,
   "metadata": {},
   "outputs": [
    {
     "output_type": "stream",
     "name": "stdout",
     "text": "Help on function concat in module pandas.core.reshape.concat:\n\nconcat(objs, axis=0, join='outer', join_axes=None, ignore_index=False, keys=None, levels=None, names=None, verify_integrity=False, sort=None, copy=True)\n    Concatenate pandas objects along a particular axis with optional set logic\n    along the other axes.\n    \n    Can also add a layer of hierarchical indexing on the concatenation axis,\n    which may be useful if the labels are the same (or overlapping) on\n    the passed axis number.\n    \n    Parameters\n    ----------\n    objs : a sequence or mapping of Series or DataFrame objects\n        If a dict is passed, the sorted keys will be used as the `keys`\n        argument, unless it is passed, in which case the values will be\n        selected (see below). Any None objects will be dropped silently unless\n        they are all None in which case a ValueError will be raised.\n    axis : {0/'index', 1/'columns'}, default 0\n        The axis to concatenate along.\n    join : {'inner', 'outer'}, default 'outer'\n        How to handle indexes on other axis (or axes).\n    join_axes : list of Index objects\n        .. deprecated:: 0.25.0\n    \n        Specific indexes to use for the other n - 1 axes instead of performing\n        inner/outer set logic. Use .reindex() before or after concatenation\n        as a replacement.\n    ignore_index : bool, default False\n        If True, do not use the index values along the concatenation axis. The\n        resulting axis will be labeled 0, ..., n - 1. This is useful if you are\n        concatenating objects where the concatenation axis does not have\n        meaningful indexing information. Note the index values on the other\n        axes are still respected in the join.\n    keys : sequence, default None\n        If multiple levels passed, should contain tuples. Construct\n        hierarchical index using the passed keys as the outermost level.\n    levels : list of sequences, default None\n        Specific levels (unique values) to use for constructing a\n        MultiIndex. Otherwise they will be inferred from the keys.\n    names : list, default None\n        Names for the levels in the resulting hierarchical index.\n    verify_integrity : bool, default False\n        Check whether the new concatenated axis contains duplicates. This can\n        be very expensive relative to the actual data concatenation.\n    sort : bool, default None\n        Sort non-concatenation axis if it is not already aligned when `join`\n        is 'outer'. The current default of sorting is deprecated and will\n        change to not-sorting in a future version of pandas.\n    \n        Explicitly pass ``sort=True`` to silence the warning and sort.\n        Explicitly pass ``sort=False`` to silence the warning and not sort.\n    \n        This has no effect when ``join='inner'``, which already preserves\n        the order of the non-concatenation axis.\n    \n        .. versionadded:: 0.23.0\n    \n    copy : bool, default True\n        If False, do not copy data unnecessarily.\n    \n    Returns\n    -------\n    object, type of objs\n        When concatenating all ``Series`` along the index (axis=0), a\n        ``Series`` is returned. When ``objs`` contains at least one\n        ``DataFrame``, a ``DataFrame`` is returned. When concatenating along\n        the columns (axis=1), a ``DataFrame`` is returned.\n    \n    See Also\n    --------\n    Series.append : Concatenate Series.\n    DataFrame.append : Concatenate DataFrames.\n    DataFrame.join : Join DataFrames using indexes.\n    DataFrame.merge : Merge DataFrames by indexes or columns.\n    \n    Notes\n    -----\n    The keys, levels, and names arguments are all optional.\n    \n    A walkthrough of how this method fits in with other tools for combining\n    pandas objects can be found `here\n    <http://pandas.pydata.org/pandas-docs/stable/user_guide/merging.html>`__.\n    \n    Examples\n    --------\n    Combine two ``Series``.\n    \n    >>> s1 = pd.Series(['a', 'b'])\n    >>> s2 = pd.Series(['c', 'd'])\n    >>> pd.concat([s1, s2])\n    0    a\n    1    b\n    0    c\n    1    d\n    dtype: object\n    \n    Clear the existing index and reset it in the result\n    by setting the ``ignore_index`` option to ``True``.\n    \n    >>> pd.concat([s1, s2], ignore_index=True)\n    0    a\n    1    b\n    2    c\n    3    d\n    dtype: object\n    \n    Add a hierarchical index at the outermost level of\n    the data with the ``keys`` option.\n    \n    >>> pd.concat([s1, s2], keys=['s1', 's2'])\n    s1  0    a\n        1    b\n    s2  0    c\n        1    d\n    dtype: object\n    \n    Label the index keys you create with the ``names`` option.\n    \n    >>> pd.concat([s1, s2], keys=['s1', 's2'],\n    ...           names=['Series name', 'Row ID'])\n    Series name  Row ID\n    s1           0         a\n                 1         b\n    s2           0         c\n                 1         d\n    dtype: object\n    \n    Combine two ``DataFrame`` objects with identical columns.\n    \n    >>> df1 = pd.DataFrame([['a', 1], ['b', 2]],\n    ...                    columns=['letter', 'number'])\n    >>> df1\n      letter  number\n    0      a       1\n    1      b       2\n    >>> df2 = pd.DataFrame([['c', 3], ['d', 4]],\n    ...                    columns=['letter', 'number'])\n    >>> df2\n      letter  number\n    0      c       3\n    1      d       4\n    >>> pd.concat([df1, df2])\n      letter  number\n    0      a       1\n    1      b       2\n    0      c       3\n    1      d       4\n    \n    Combine ``DataFrame`` objects with overlapping columns\n    and return everything. Columns outside the intersection will\n    be filled with ``NaN`` values.\n    \n    >>> df3 = pd.DataFrame([['c', 3, 'cat'], ['d', 4, 'dog']],\n    ...                    columns=['letter', 'number', 'animal'])\n    >>> df3\n      letter  number animal\n    0      c       3    cat\n    1      d       4    dog\n    >>> pd.concat([df1, df3], sort=False)\n      letter  number animal\n    0      a       1    NaN\n    1      b       2    NaN\n    0      c       3    cat\n    1      d       4    dog\n    \n    Combine ``DataFrame`` objects with overlapping columns\n    and return only those that are shared by passing ``inner`` to\n    the ``join`` keyword argument.\n    \n    >>> pd.concat([df1, df3], join=\"inner\")\n      letter  number\n    0      a       1\n    1      b       2\n    0      c       3\n    1      d       4\n    \n    Combine ``DataFrame`` objects horizontally along the x axis by\n    passing in ``axis=1``.\n    \n    >>> df4 = pd.DataFrame([['bird', 'polly'], ['monkey', 'george']],\n    ...                    columns=['animal', 'name'])\n    >>> pd.concat([df1, df4], axis=1)\n      letter  number  animal    name\n    0      a       1    bird   polly\n    1      b       2  monkey  george\n    \n    Prevent the result from including duplicate index values with the\n    ``verify_integrity`` option.\n    \n    >>> df5 = pd.DataFrame([1], index=['a'])\n    >>> df5\n       0\n    a  1\n    >>> df6 = pd.DataFrame([2], index=['a'])\n    >>> df6\n       0\n    a  2\n    >>> pd.concat([df5, df6], verify_integrity=True)\n    Traceback (most recent call last):\n        ...\n    ValueError: Indexes have overlapping values: ['a']\n\n"
    }
   ],
   "source": [
    "help(pd.concat)"
   ]
  },
  {
   "cell_type": "code",
   "execution_count": 53,
   "metadata": {},
   "outputs": [
    {
     "output_type": "execute_result",
     "data": {
      "text/plain": "                 DateTime WindDirection PressureTendency WeatherType  \\\n0     2020-04-19 19:00:00            SE                R           1   \n1     2020-04-19 20:00:00           SSE                R           0   \n2     2020-04-19 21:00:00           ESE                R           0   \n3     2020-04-19 22:00:00           ESE                R           0   \n4     2020-04-19 23:00:00           SSE                R           0   \n...                   ...           ...              ...         ...   \n3430  2020-04-20 15:00:00                              F           1   \n3431  2020-04-20 16:00:00                              F           1   \n3432  2020-04-20 17:00:00                              F           1   \n3433  2020-04-20 18:00:00                              F           1   \n3434  2020-04-20 19:00:00                              R           1   \n\n     Visibility WindSpeed WindGust Temperature DewPoint Humidity    id  \\\n0         40000        11        0        12.1     -1.3     38.6  3066   \n1         40000        10        0        10.3     -1.1     44.3  3066   \n2         45000         9        0         8.9     -1.5     47.3  3066   \n3         50000         3        0         8.4     -2.9     44.0  3066   \n4         45000         2        0         5.0     -3.8     52.1  3066   \n...         ...       ...      ...         ...      ...      ...   ...   \n3430      30000         0        0        17.4      4.2     41.2  3844   \n3431      30000         0        0        17.8      3.3     37.7  3844   \n3432      30000         0        0        17.7      3.8     39.3  3844   \n3433      29000         0        0        16.5      3.4     41.3  3844   \n3434      28000         0        0        15.3      2.1     40.5  3844   \n\n      elevation  latitude  longitude            name region unitaryAuthArea  \\\n0        7.0000   57.6494    -3.5606         Kinloss     gr           Moray   \n1        7.0000   57.6494    -3.5606         Kinloss     gr           Moray   \n2        7.0000   57.6494    -3.5606         Kinloss     gr           Moray   \n3        7.0000   57.6494    -3.5606         Kinloss     gr           Moray   \n4        7.0000   57.6494    -3.5606         Kinloss     gr           Moray   \n...         ...       ...        ...             ...    ...             ...   \n3430    27.0000   50.7366    -3.4046  Exeter Airport     sw           Devon   \n3431    27.0000   50.7366    -3.4046  Exeter Airport     sw           Devon   \n3432    27.0000   50.7366    -3.4046  Exeter Airport     sw           Devon   \n3433    27.0000   50.7366    -3.4046  Exeter Airport     sw           Devon   \n3434    27.0000   50.7366    -3.4046  Exeter Airport     sw           Devon   \n\n     obsSource nationalPark  \n0          NaN          NaN  \n1          NaN          NaN  \n2          NaN          NaN  \n3          NaN          NaN  \n4          NaN          NaN  \n...        ...          ...  \n3430       NaN          NaN  \n3431       NaN          NaN  \n3432       NaN          NaN  \n3433       NaN          NaN  \n3434       NaN          NaN  \n\n[3435 rows x 19 columns]",
      "text/html": "<div>\n<style scoped>\n    .dataframe tbody tr th:only-of-type {\n        vertical-align: middle;\n    }\n\n    .dataframe tbody tr th {\n        vertical-align: top;\n    }\n\n    .dataframe thead th {\n        text-align: right;\n    }\n</style>\n<table border=\"1\" class=\"dataframe\">\n  <thead>\n    <tr style=\"text-align: right;\">\n      <th></th>\n      <th>DateTime</th>\n      <th>WindDirection</th>\n      <th>PressureTendency</th>\n      <th>WeatherType</th>\n      <th>Visibility</th>\n      <th>WindSpeed</th>\n      <th>WindGust</th>\n      <th>Temperature</th>\n      <th>DewPoint</th>\n      <th>Humidity</th>\n      <th>id</th>\n      <th>elevation</th>\n      <th>latitude</th>\n      <th>longitude</th>\n      <th>name</th>\n      <th>region</th>\n      <th>unitaryAuthArea</th>\n      <th>obsSource</th>\n      <th>nationalPark</th>\n    </tr>\n  </thead>\n  <tbody>\n    <tr>\n      <th>0</th>\n      <td>2020-04-19 19:00:00</td>\n      <td>SE</td>\n      <td>R</td>\n      <td>1</td>\n      <td>40000</td>\n      <td>11</td>\n      <td>0</td>\n      <td>12.1</td>\n      <td>-1.3</td>\n      <td>38.6</td>\n      <td>3066</td>\n      <td>7.0000</td>\n      <td>57.6494</td>\n      <td>-3.5606</td>\n      <td>Kinloss</td>\n      <td>gr</td>\n      <td>Moray</td>\n      <td>NaN</td>\n      <td>NaN</td>\n    </tr>\n    <tr>\n      <th>1</th>\n      <td>2020-04-19 20:00:00</td>\n      <td>SSE</td>\n      <td>R</td>\n      <td>0</td>\n      <td>40000</td>\n      <td>10</td>\n      <td>0</td>\n      <td>10.3</td>\n      <td>-1.1</td>\n      <td>44.3</td>\n      <td>3066</td>\n      <td>7.0000</td>\n      <td>57.6494</td>\n      <td>-3.5606</td>\n      <td>Kinloss</td>\n      <td>gr</td>\n      <td>Moray</td>\n      <td>NaN</td>\n      <td>NaN</td>\n    </tr>\n    <tr>\n      <th>2</th>\n      <td>2020-04-19 21:00:00</td>\n      <td>ESE</td>\n      <td>R</td>\n      <td>0</td>\n      <td>45000</td>\n      <td>9</td>\n      <td>0</td>\n      <td>8.9</td>\n      <td>-1.5</td>\n      <td>47.3</td>\n      <td>3066</td>\n      <td>7.0000</td>\n      <td>57.6494</td>\n      <td>-3.5606</td>\n      <td>Kinloss</td>\n      <td>gr</td>\n      <td>Moray</td>\n      <td>NaN</td>\n      <td>NaN</td>\n    </tr>\n    <tr>\n      <th>3</th>\n      <td>2020-04-19 22:00:00</td>\n      <td>ESE</td>\n      <td>R</td>\n      <td>0</td>\n      <td>50000</td>\n      <td>3</td>\n      <td>0</td>\n      <td>8.4</td>\n      <td>-2.9</td>\n      <td>44.0</td>\n      <td>3066</td>\n      <td>7.0000</td>\n      <td>57.6494</td>\n      <td>-3.5606</td>\n      <td>Kinloss</td>\n      <td>gr</td>\n      <td>Moray</td>\n      <td>NaN</td>\n      <td>NaN</td>\n    </tr>\n    <tr>\n      <th>4</th>\n      <td>2020-04-19 23:00:00</td>\n      <td>SSE</td>\n      <td>R</td>\n      <td>0</td>\n      <td>45000</td>\n      <td>2</td>\n      <td>0</td>\n      <td>5.0</td>\n      <td>-3.8</td>\n      <td>52.1</td>\n      <td>3066</td>\n      <td>7.0000</td>\n      <td>57.6494</td>\n      <td>-3.5606</td>\n      <td>Kinloss</td>\n      <td>gr</td>\n      <td>Moray</td>\n      <td>NaN</td>\n      <td>NaN</td>\n    </tr>\n    <tr>\n      <th>...</th>\n      <td>...</td>\n      <td>...</td>\n      <td>...</td>\n      <td>...</td>\n      <td>...</td>\n      <td>...</td>\n      <td>...</td>\n      <td>...</td>\n      <td>...</td>\n      <td>...</td>\n      <td>...</td>\n      <td>...</td>\n      <td>...</td>\n      <td>...</td>\n      <td>...</td>\n      <td>...</td>\n      <td>...</td>\n      <td>...</td>\n      <td>...</td>\n    </tr>\n    <tr>\n      <th>3430</th>\n      <td>2020-04-20 15:00:00</td>\n      <td></td>\n      <td>F</td>\n      <td>1</td>\n      <td>30000</td>\n      <td>0</td>\n      <td>0</td>\n      <td>17.4</td>\n      <td>4.2</td>\n      <td>41.2</td>\n      <td>3844</td>\n      <td>27.0000</td>\n      <td>50.7366</td>\n      <td>-3.4046</td>\n      <td>Exeter Airport</td>\n      <td>sw</td>\n      <td>Devon</td>\n      <td>NaN</td>\n      <td>NaN</td>\n    </tr>\n    <tr>\n      <th>3431</th>\n      <td>2020-04-20 16:00:00</td>\n      <td></td>\n      <td>F</td>\n      <td>1</td>\n      <td>30000</td>\n      <td>0</td>\n      <td>0</td>\n      <td>17.8</td>\n      <td>3.3</td>\n      <td>37.7</td>\n      <td>3844</td>\n      <td>27.0000</td>\n      <td>50.7366</td>\n      <td>-3.4046</td>\n      <td>Exeter Airport</td>\n      <td>sw</td>\n      <td>Devon</td>\n      <td>NaN</td>\n      <td>NaN</td>\n    </tr>\n    <tr>\n      <th>3432</th>\n      <td>2020-04-20 17:00:00</td>\n      <td></td>\n      <td>F</td>\n      <td>1</td>\n      <td>30000</td>\n      <td>0</td>\n      <td>0</td>\n      <td>17.7</td>\n      <td>3.8</td>\n      <td>39.3</td>\n      <td>3844</td>\n      <td>27.0000</td>\n      <td>50.7366</td>\n      <td>-3.4046</td>\n      <td>Exeter Airport</td>\n      <td>sw</td>\n      <td>Devon</td>\n      <td>NaN</td>\n      <td>NaN</td>\n    </tr>\n    <tr>\n      <th>3433</th>\n      <td>2020-04-20 18:00:00</td>\n      <td></td>\n      <td>F</td>\n      <td>1</td>\n      <td>29000</td>\n      <td>0</td>\n      <td>0</td>\n      <td>16.5</td>\n      <td>3.4</td>\n      <td>41.3</td>\n      <td>3844</td>\n      <td>27.0000</td>\n      <td>50.7366</td>\n      <td>-3.4046</td>\n      <td>Exeter Airport</td>\n      <td>sw</td>\n      <td>Devon</td>\n      <td>NaN</td>\n      <td>NaN</td>\n    </tr>\n    <tr>\n      <th>3434</th>\n      <td>2020-04-20 19:00:00</td>\n      <td></td>\n      <td>R</td>\n      <td>1</td>\n      <td>28000</td>\n      <td>0</td>\n      <td>0</td>\n      <td>15.3</td>\n      <td>2.1</td>\n      <td>40.5</td>\n      <td>3844</td>\n      <td>27.0000</td>\n      <td>50.7366</td>\n      <td>-3.4046</td>\n      <td>Exeter Airport</td>\n      <td>sw</td>\n      <td>Devon</td>\n      <td>NaN</td>\n      <td>NaN</td>\n    </tr>\n  </tbody>\n</table>\n<p>3435 rows × 19 columns</p>\n</div>"
     },
     "metadata": {},
     "execution_count": 53
    }
   ],
   "source": [
    "weather_df['id'] = weather_df['id'].astype('str')\n",
    "site_df['id']= site_df['id'].astype('str')\n",
    "df_in_one = pd.merge(weather_df, site_df, how = 'left', on = 'id')\n",
    "df_in_one"
   ]
  },
  {
   "cell_type": "markdown",
   "metadata": {},
   "source": [
    "You may get a ValueError:You are trying to merge on object and int64 columns. If you wish to proceed you should use pd.concat.\n",
    "\n",
    "Why??? Think really hard about that before you raise your hand to get an answer from us."
   ]
  },
  {
   "cell_type": "code",
   "execution_count": 54,
   "metadata": {},
   "outputs": [
    {
     "output_type": "execute_result",
     "data": {
      "text/plain": "elevation          float64\nid                  object\nlatitude           float64\nlongitude          float64\nname                object\nregion              object\nunitaryAuthArea     object\nobsSource           object\nnationalPark        object\ndtype: object"
     },
     "metadata": {},
     "execution_count": 54
    }
   ],
   "source": [
    "site_df.dtypes"
   ]
  },
  {
   "cell_type": "code",
   "execution_count": 55,
   "metadata": {},
   "outputs": [
    {
     "output_type": "execute_result",
     "data": {
      "text/plain": "DateTime            object\nWindDirection       object\nPressureTendency    object\nWeatherType         object\nVisibility          object\nWindSpeed           object\nWindGust            object\nTemperature         object\nDewPoint            object\nHumidity            object\nid                  object\ndtype: object"
     },
     "metadata": {},
     "execution_count": 55
    }
   ],
   "source": [
    "weather_df.dtypes # check the data types for weather_df"
   ]
  },
  {
   "cell_type": "code",
   "execution_count": 56,
   "metadata": {},
   "outputs": [],
   "source": [
    "for c in ['WindDirection','PressureTendency']:\n",
    "    weather_df[c] = weather_df[c].astype('str')\n",
    "for c in ['DewPoint','WindGust','Humidity','WindSpeed','Temperature','Visibility','WeatherType']:\n",
    "    weather_df[c] = pd.to_numeric(weather_df[c], errors='coerce') # change numeric data into integar and float types."
   ]
  },
  {
   "cell_type": "code",
   "execution_count": 57,
   "metadata": {},
   "outputs": [
    {
     "output_type": "execute_result",
     "data": {
      "text/plain": "DateTime             object\nWindDirection        object\nPressureTendency     object\nWeatherType           int64\nVisibility            int64\nWindSpeed             int64\nWindGust              int64\nTemperature         float64\nDewPoint            float64\nHumidity            float64\nid                   object\ndtype: object"
     },
     "metadata": {},
     "execution_count": 57
    }
   ],
   "source": [
    "weather_df.dtypes # check the changes of data types for weather_df"
   ]
  },
  {
   "cell_type": "code",
   "execution_count": 59,
   "metadata": {},
   "outputs": [],
   "source": [
    "df_in_one['id'] = df_in_one['id'].astype('int')"
   ]
  },
  {
   "cell_type": "markdown",
   "metadata": {},
   "source": [
    "### Task 9: Generate Shapefile/Geojson File from DataFrame"
   ]
  },
  {
   "cell_type": "markdown",
   "metadata": {},
   "source": [
    "The examples we gave here probably not a great one. But it is true that quite often we are in the situation that no spatial file is available and we have to generate one by yourself. \n",
    "\n",
    "You have learned how to use QGIS to import CSV and generate a vector map from there. Python can do that as well, with simple steps. One more spatial data package you will learn here is Shapely. We will first show you an example and you will create a shapefile of site station following the example.\n",
    "\n",
    "It should be installed already, if not, do it by yourself."
   ]
  },
  {
   "cell_type": "markdown",
   "metadata": {},
   "source": [
    "step 1: you use the package shapely to generate points from latitute and longitude. "
   ]
  },
  {
   "cell_type": "code",
   "execution_count": 60,
   "metadata": {},
   "outputs": [],
   "source": [
    "from shapely.geometry import Point\n",
    "\n",
    "\n",
    "# combine lat and lon column to a shapely Point() object\n",
    "df_in_one['geometry'] = df_in_one.apply(lambda x: Point((float(x.longitude), float(x.latitude))), axis=1)"
   ]
  },
  {
   "cell_type": "code",
   "execution_count": 61,
   "metadata": {},
   "outputs": [
    {
     "output_type": "execute_result",
     "data": {
      "text/plain": "              DateTime WindDirection PressureTendency WeatherType Visibility  \\\n0  2020-04-19 19:00:00            SE                R           1      40000   \n1  2020-04-19 20:00:00           SSE                R           0      40000   \n2  2020-04-19 21:00:00           ESE                R           0      45000   \n3  2020-04-19 22:00:00           ESE                R           0      50000   \n4  2020-04-19 23:00:00           SSE                R           0      45000   \n\n  WindSpeed WindGust Temperature DewPoint Humidity    id  elevation  latitude  \\\n0        11        0        12.1     -1.3     38.6  3066     7.0000   57.6494   \n1        10        0        10.3     -1.1     44.3  3066     7.0000   57.6494   \n2         9        0         8.9     -1.5     47.3  3066     7.0000   57.6494   \n3         3        0         8.4     -2.9     44.0  3066     7.0000   57.6494   \n4         2        0         5.0     -3.8     52.1  3066     7.0000   57.6494   \n\n   longitude     name region unitaryAuthArea obsSource nationalPark  \\\n0    -3.5606  Kinloss     gr           Moray       NaN          NaN   \n1    -3.5606  Kinloss     gr           Moray       NaN          NaN   \n2    -3.5606  Kinloss     gr           Moray       NaN          NaN   \n3    -3.5606  Kinloss     gr           Moray       NaN          NaN   \n4    -3.5606  Kinloss     gr           Moray       NaN          NaN   \n\n                  geometry  \n0  POINT (-3.5606 57.6494)  \n1  POINT (-3.5606 57.6494)  \n2  POINT (-3.5606 57.6494)  \n3  POINT (-3.5606 57.6494)  \n4  POINT (-3.5606 57.6494)  ",
      "text/html": "<div>\n<style scoped>\n    .dataframe tbody tr th:only-of-type {\n        vertical-align: middle;\n    }\n\n    .dataframe tbody tr th {\n        vertical-align: top;\n    }\n\n    .dataframe thead th {\n        text-align: right;\n    }\n</style>\n<table border=\"1\" class=\"dataframe\">\n  <thead>\n    <tr style=\"text-align: right;\">\n      <th></th>\n      <th>DateTime</th>\n      <th>WindDirection</th>\n      <th>PressureTendency</th>\n      <th>WeatherType</th>\n      <th>Visibility</th>\n      <th>WindSpeed</th>\n      <th>WindGust</th>\n      <th>Temperature</th>\n      <th>DewPoint</th>\n      <th>Humidity</th>\n      <th>id</th>\n      <th>elevation</th>\n      <th>latitude</th>\n      <th>longitude</th>\n      <th>name</th>\n      <th>region</th>\n      <th>unitaryAuthArea</th>\n      <th>obsSource</th>\n      <th>nationalPark</th>\n      <th>geometry</th>\n    </tr>\n  </thead>\n  <tbody>\n    <tr>\n      <th>0</th>\n      <td>2020-04-19 19:00:00</td>\n      <td>SE</td>\n      <td>R</td>\n      <td>1</td>\n      <td>40000</td>\n      <td>11</td>\n      <td>0</td>\n      <td>12.1</td>\n      <td>-1.3</td>\n      <td>38.6</td>\n      <td>3066</td>\n      <td>7.0000</td>\n      <td>57.6494</td>\n      <td>-3.5606</td>\n      <td>Kinloss</td>\n      <td>gr</td>\n      <td>Moray</td>\n      <td>NaN</td>\n      <td>NaN</td>\n      <td>POINT (-3.5606 57.6494)</td>\n    </tr>\n    <tr>\n      <th>1</th>\n      <td>2020-04-19 20:00:00</td>\n      <td>SSE</td>\n      <td>R</td>\n      <td>0</td>\n      <td>40000</td>\n      <td>10</td>\n      <td>0</td>\n      <td>10.3</td>\n      <td>-1.1</td>\n      <td>44.3</td>\n      <td>3066</td>\n      <td>7.0000</td>\n      <td>57.6494</td>\n      <td>-3.5606</td>\n      <td>Kinloss</td>\n      <td>gr</td>\n      <td>Moray</td>\n      <td>NaN</td>\n      <td>NaN</td>\n      <td>POINT (-3.5606 57.6494)</td>\n    </tr>\n    <tr>\n      <th>2</th>\n      <td>2020-04-19 21:00:00</td>\n      <td>ESE</td>\n      <td>R</td>\n      <td>0</td>\n      <td>45000</td>\n      <td>9</td>\n      <td>0</td>\n      <td>8.9</td>\n      <td>-1.5</td>\n      <td>47.3</td>\n      <td>3066</td>\n      <td>7.0000</td>\n      <td>57.6494</td>\n      <td>-3.5606</td>\n      <td>Kinloss</td>\n      <td>gr</td>\n      <td>Moray</td>\n      <td>NaN</td>\n      <td>NaN</td>\n      <td>POINT (-3.5606 57.6494)</td>\n    </tr>\n    <tr>\n      <th>3</th>\n      <td>2020-04-19 22:00:00</td>\n      <td>ESE</td>\n      <td>R</td>\n      <td>0</td>\n      <td>50000</td>\n      <td>3</td>\n      <td>0</td>\n      <td>8.4</td>\n      <td>-2.9</td>\n      <td>44.0</td>\n      <td>3066</td>\n      <td>7.0000</td>\n      <td>57.6494</td>\n      <td>-3.5606</td>\n      <td>Kinloss</td>\n      <td>gr</td>\n      <td>Moray</td>\n      <td>NaN</td>\n      <td>NaN</td>\n      <td>POINT (-3.5606 57.6494)</td>\n    </tr>\n    <tr>\n      <th>4</th>\n      <td>2020-04-19 23:00:00</td>\n      <td>SSE</td>\n      <td>R</td>\n      <td>0</td>\n      <td>45000</td>\n      <td>2</td>\n      <td>0</td>\n      <td>5.0</td>\n      <td>-3.8</td>\n      <td>52.1</td>\n      <td>3066</td>\n      <td>7.0000</td>\n      <td>57.6494</td>\n      <td>-3.5606</td>\n      <td>Kinloss</td>\n      <td>gr</td>\n      <td>Moray</td>\n      <td>NaN</td>\n      <td>NaN</td>\n      <td>POINT (-3.5606 57.6494)</td>\n    </tr>\n  </tbody>\n</table>\n</div>"
     },
     "metadata": {},
     "execution_count": 61
    }
   ],
   "source": [
    "# there is a column added as geometry\n",
    "df_in_one.head(5)"
   ]
  },
  {
   "cell_type": "markdown",
   "metadata": {},
   "source": [
    "step 2: Then you use Geopandas to generate 'Geopandas dataframe' from 'Pandas dataframe'"
   ]
  },
  {
   "cell_type": "code",
   "execution_count": 62,
   "metadata": {},
   "outputs": [],
   "source": [
    "import geopandas\n",
    "df_in_one = geopandas.GeoDataFrame(df_in_one, geometry='geometry')"
   ]
  },
  {
   "cell_type": "markdown",
   "metadata": {},
   "source": [
    "step 3: Then you set a projected and geographic coordination system here to convert the file into a shapefile"
   ]
  },
  {
   "cell_type": "code",
   "execution_count": 63,
   "metadata": {},
   "outputs": [],
   "source": [
    "df_in_one.crs= \"+proj=longlat +ellps= EPSG:27700 +datum=WGS84 +no_defs\"\n",
    "df_in_one.to_file('weather.shp', driver='ESRI Shapefile')"
   ]
  },
  {
   "cell_type": "markdown",
   "metadata": {},
   "source": [
    "step 4: The generated shapefile should be in the same folder as your ipython notebook. and the shapefile can be openned by other GIS tools, such as QGIS. Try it. "
   ]
  },
  {
   "cell_type": "code",
   "execution_count": 64,
   "metadata": {},
   "outputs": [
    {
     "output_type": "execute_result",
     "data": {
      "text/plain": "3435"
     },
     "metadata": {},
     "execution_count": 64
    }
   ],
   "source": [
    "len(df_in_one)"
   ]
  },
  {
   "cell_type": "markdown",
   "metadata": {},
   "source": [
    "You have learned how to use QGIS to import CSV and generate a vector map from there. Python can do that as well, with simple steps. One more spatial data package you will learn here is Shapely. \n",
    "\n",
    "It should be installed already, if not, do it by yourself.\n",
    "\n",
    "\n",
    "Though there are c.3531 records, there are only a few points shown in the map. why? because may records have the exact same coordinates. They are weather records from one weather station collected at different time. So there should be only 148 points (== number of weather stations) shown in the map.\n",
    "\n",
    "There are two directions for your to further explore **after the practical**. \n",
    "\n",
    "1 - go for time series analysis, take one weather station as example - time series analysis and modeling is a challenge task to do.\n",
    "2 - generate a series of maps by time series - which sounds more spatial data related."
   ]
  },
  {
   "cell_type": "markdown",
   "metadata": {},
   "source": [
    "**Could you prepare a shapefile of weather station locations using just 'site_df' for task 10, following what we did to generete weather shapefile?**"
   ]
  },
  {
   "cell_type": "code",
   "execution_count": 70,
   "metadata": {},
   "outputs": [
    {
     "output_type": "execute_result",
     "data": {
      "text/plain": "149"
     },
     "metadata": {},
     "execution_count": 70
    }
   ],
   "source": [
    "site_df['geometry'] = site_df.apply(lambda x: Point((float(x.longitude), float(x.latitude))), axis=1)\n",
    "site_df = geopandas.GeoDataFrame(site_df, geometry='geometry')\n",
    "site_df.crs= \"+proj=longlat +ellps=EPSG:27700 +datum=WGS84 +no_defs\"\n",
    "site_df.to_file('output/weather_station.shp', driver='ESRI Shapefile')\n",
    "len(site_df)"
   ]
  },
  {
   "cell_type": "markdown",
   "metadata": {},
   "source": [
    "### Task 10: Generating a Distance Matrix "
   ]
  },
  {
   "cell_type": "markdown",
   "metadata": {},
   "source": [
    "A distance matrix is a square matrix (two-dimensional array) containing the distances, taken pairwise, between the elements of a set. "
   ]
  },
  {
   "cell_type": "markdown",
   "metadata": {},
   "source": [
    "We will calculate a distance matrix for all weather stations using methods we mentioned in lecture this week."
   ]
  },
  {
   "cell_type": "code",
   "execution_count": 67,
   "metadata": {},
   "outputs": [
    {
     "output_type": "execute_result",
     "data": {
      "text/plain": "   elevation    id  latitude  longitude                        name region  \\\n0     7.0000  3066   57.6494    -3.5606                     Kinloss     gr   \n1     6.0000  3068   57.7120    -3.3220                 Lossiemouth     gr   \n2    36.0000  3075   58.4540    -3.0890  Wick John O Groats Airport     he   \n3    15.0000  3002   60.7490    -0.8540                  Baltasound     os   \n4    82.0000  3005   60.1390    -1.1830         Lerwick (S. Screen)     os   \n\n    unitaryAuthArea obsSource nationalPark                   geometry  \n0             Moray       NaN          NaN  POINT (-3.56060 57.64940)  \n1             Moray    LNDSYN          NaN  POINT (-3.32200 57.71200)  \n2          Highland    LNDSYN          NaN  POINT (-3.08900 58.45400)  \n3  Shetland Islands       NaN          NaN  POINT (-0.85400 60.74900)  \n4  Shetland Islands    LNDSYN          NaN  POINT (-1.18300 60.13900)  ",
      "text/html": "<div>\n<style scoped>\n    .dataframe tbody tr th:only-of-type {\n        vertical-align: middle;\n    }\n\n    .dataframe tbody tr th {\n        vertical-align: top;\n    }\n\n    .dataframe thead th {\n        text-align: right;\n    }\n</style>\n<table border=\"1\" class=\"dataframe\">\n  <thead>\n    <tr style=\"text-align: right;\">\n      <th></th>\n      <th>elevation</th>\n      <th>id</th>\n      <th>latitude</th>\n      <th>longitude</th>\n      <th>name</th>\n      <th>region</th>\n      <th>unitaryAuthArea</th>\n      <th>obsSource</th>\n      <th>nationalPark</th>\n      <th>geometry</th>\n    </tr>\n  </thead>\n  <tbody>\n    <tr>\n      <th>0</th>\n      <td>7.0000</td>\n      <td>3066</td>\n      <td>57.6494</td>\n      <td>-3.5606</td>\n      <td>Kinloss</td>\n      <td>gr</td>\n      <td>Moray</td>\n      <td>NaN</td>\n      <td>NaN</td>\n      <td>POINT (-3.56060 57.64940)</td>\n    </tr>\n    <tr>\n      <th>1</th>\n      <td>6.0000</td>\n      <td>3068</td>\n      <td>57.7120</td>\n      <td>-3.3220</td>\n      <td>Lossiemouth</td>\n      <td>gr</td>\n      <td>Moray</td>\n      <td>LNDSYN</td>\n      <td>NaN</td>\n      <td>POINT (-3.32200 57.71200)</td>\n    </tr>\n    <tr>\n      <th>2</th>\n      <td>36.0000</td>\n      <td>3075</td>\n      <td>58.4540</td>\n      <td>-3.0890</td>\n      <td>Wick John O Groats Airport</td>\n      <td>he</td>\n      <td>Highland</td>\n      <td>LNDSYN</td>\n      <td>NaN</td>\n      <td>POINT (-3.08900 58.45400)</td>\n    </tr>\n    <tr>\n      <th>3</th>\n      <td>15.0000</td>\n      <td>3002</td>\n      <td>60.7490</td>\n      <td>-0.8540</td>\n      <td>Baltasound</td>\n      <td>os</td>\n      <td>Shetland Islands</td>\n      <td>NaN</td>\n      <td>NaN</td>\n      <td>POINT (-0.85400 60.74900)</td>\n    </tr>\n    <tr>\n      <th>4</th>\n      <td>82.0000</td>\n      <td>3005</td>\n      <td>60.1390</td>\n      <td>-1.1830</td>\n      <td>Lerwick (S. Screen)</td>\n      <td>os</td>\n      <td>Shetland Islands</td>\n      <td>LNDSYN</td>\n      <td>NaN</td>\n      <td>POINT (-1.18300 60.13900)</td>\n    </tr>\n  </tbody>\n</table>\n</div>"
     },
     "metadata": {},
     "execution_count": 67
    }
   ],
   "source": [
    "site_df.head(5)"
   ]
  },
  {
   "cell_type": "markdown",
   "metadata": {},
   "source": [
    "**Could you calculate the distance between station id - 3066 to station id 3068?**"
   ]
  },
  {
   "cell_type": "code",
   "execution_count": 68,
   "metadata": {},
   "outputs": [],
   "source": [
    "#x - longitude y - latitude\n",
    "\n",
    "ori = [{'y': site_df.iloc[0]['latitude'], 'x':site_df.iloc[0]['longitude']}]\n",
    "des = [{'y': site_df.iloc[1]['latitude'], 'x':site_df.iloc[1]['longitude']}]\n",
    "\n",
    "ori = pd.DataFrame(ori)\n",
    "des = pd.DataFrame(des)\n",
    "\n",
    "# to make your life easier - ori is the station 3066, des is the station 3068"
   ]
  },
  {
   "cell_type": "markdown",
   "metadata": {},
   "source": [
    "To verify what we taught in the class, could you complete the function below? Calculate the distance based on a Euclidean method. the squre_root method.\n",
    "\n",
    "**implement Euclidean method**"
   ]
  },
  {
   "cell_type": "code",
   "execution_count": 71,
   "metadata": {},
   "outputs": [],
   "source": [
    "import math\n",
    "def distance_euclidean(ori,des):\n",
    "    \"\"\"\n",
    "    calculate the euclidean distant between two points. -  \n",
    "    \"\"\"\n",
    "    distance = np.sqrt((ori['latitude']-des['latitude'])**2+(ori['longitude']-des['longitude'])**2)\n",
    "    return distance"
   ]
  },
  {
   "cell_type": "markdown",
   "metadata": {},
   "source": [
    "haversine method, using package pyproj, and cosines method are provided, for you the compare the results. "
   ]
  },
  {
   "cell_type": "code",
   "execution_count": 72,
   "metadata": {},
   "outputs": [],
   "source": [
    "import math\n",
    "from math import radians, cos, sin, asin, sqrt\n",
    "\n",
    "def distance_haversine(ori,des):\n",
    "    \"\"\"\n",
    "    Calculate the great circle distance between two points \n",
    "    on the earth (specified in decimal degrees)\n",
    "    \"\"\"\n",
    "    # convert decimal degrees to radians \n",
    "    lon1, lat1, lon2, lat2 = map(radians, [ori.x, ori.y, des.x, des.y])\n",
    "\n",
    "    # haversine formula \n",
    "    dlon = lon2 - lon1 \n",
    "    dlat = lat2 - lat1 \n",
    "    a = sin(dlat/2)**2 + cos(lat1) * cos(lat2) * sin(dlon/2)**2\n",
    "    c = 2 * asin(sqrt(a)) \n",
    "    r = 6371 # Radius of earth in kilometers. Use 3956 for miles\n",
    "    return c * r"
   ]
  },
  {
   "cell_type": "code",
   "execution_count": 65,
   "metadata": {},
   "outputs": [],
   "source": [
    "import pyproj\n",
    "\n",
    "def distance_pyproj(ori, des):\n",
    "    geod = pyproj.Geod(ellps='WGS84')\n",
    "    angle1,angle2,distance = geod.inv(ori.x[0], ori.y[0], des.x[0], des.y[0])\n",
    "    print (\"{0:8.4f}\".format(distance/1000))\n"
   ]
  },
  {
   "cell_type": "code",
   "execution_count": 73,
   "metadata": {},
   "outputs": [],
   "source": [
    "def distance_cosines(ori, des):\n",
    "    # law of cosines\n",
    "    distance = math.acos(math.sin(math.radians(ori.y))*math.sin(math.radians(des.y))+math.cos(math.radians(ori.y))*math.cos(math.radians(des.y))*math.cos(math.radians(des.x)-math.radians(ori.x)))*6371\n",
    "    print (\"{0:8.4f}\".format(distance))\n",
    "\n",
    ""
   ]
  },
  {
   "cell_type": "code",
   "execution_count": 67,
   "metadata": {},
   "outputs": [
    {
     "data": {
      "text/plain": [
       "15.800405971038828"
      ]
     },
     "execution_count": 67,
     "metadata": {},
     "output_type": "execute_result"
    }
   ],
   "source": [
    "distance_haversine(ori,des)"
   ]
  },
  {
   "cell_type": "code",
   "execution_count": 68,
   "metadata": {},
   "outputs": [
    {
     "name": "stdout",
     "output_type": "stream",
     "text": [
      " 15.8004\n"
     ]
    }
   ],
   "source": [
    "distance_cosines(ori, des)"
   ]
  },
  {
   "cell_type": "code",
   "execution_count": 69,
   "metadata": {},
   "outputs": [
    {
     "name": "stdout",
     "output_type": "stream",
     "text": [
      " 15.8501\n"
     ]
    }
   ],
   "source": [
    "distance_pyproj(ori, des)"
   ]
  },
  {
   "cell_type": "markdown",
   "metadata": {},
   "source": [
    "**they are slightly different! but very close**"
   ]
  },
  {
   "cell_type": "markdown",
   "metadata": {},
   "source": [
    "Now, we calculate distance matrix using Scipy package. 'euclidean' method is used among [many other methods](https://docs.scipy.org/doc/scipy/reference/generated/scipy.spatial.distance.cdist.html) provided. You already tested the Euclidean method using lat and long, the answer seems quite wrong. (because it is in degree, not in meters). \n",
    "\n",
    "To get the distance in meters, we will first project the data into two-dimensional space (from long, lat to x, y). Then calculate the distance matrix."
   ]
  },
  {
   "cell_type": "code",
   "execution_count": 74,
   "metadata": {},
   "outputs": [],
   "source": [
    "import pyproj\n",
    "from scipy.spatial import distance"
   ]
  },
  {
   "cell_type": "code",
   "execution_count": 75,
   "metadata": {},
   "outputs": [
    {
     "output_type": "stream",
     "name": "stdout",
     "text": "+proj=longlat +ellps=EPSG:27700 +datum=WGS84 +no_defs\n"
    }
   ],
   "source": [
    "print(site_df.crs) # what is the projected and geographic coordinate system?"
   ]
  },
  {
   "cell_type": "code",
   "execution_count": 76,
   "metadata": {},
   "outputs": [],
   "source": [
    "# Define some common projections using EPSG codes\n",
    "wgs84=pyproj.Proj(\"+init=EPSG:4326\") # LatLon with WGS84 datum used by GPS units and Google Earth\n",
    "osgb36=pyproj.Proj(\"+init=EPSG:27700\") # UK Ordnance Survey, 1936 datum - this is the one used in the UK"
   ]
  },
  {
   "cell_type": "code",
   "execution_count": 77,
   "metadata": {},
   "outputs": [],
   "source": [
    "site_df['x'], site_df['y'] = pyproj.transform(wgs84, osgb36, list(site_df['longitude']), list(site_df['latitude']))"
   ]
  },
  {
   "cell_type": "code",
   "execution_count": 78,
   "metadata": {},
   "outputs": [],
   "source": [
    "coords = site_df[['x','y']]"
   ]
  },
  {
   "cell_type": "code",
   "execution_count": 79,
   "metadata": {},
   "outputs": [
    {
     "output_type": "execute_result",
     "data": {
      "text/plain": "             x              y\n0 306,955.6252   863,236.8606\n1 321,331.0862   869,902.6482\n2 336,546.1885   952,261.7594\n3 462,571.0091 1,207,872.3585",
      "text/html": "<div>\n<style scoped>\n    .dataframe tbody tr th:only-of-type {\n        vertical-align: middle;\n    }\n\n    .dataframe tbody tr th {\n        vertical-align: top;\n    }\n\n    .dataframe thead th {\n        text-align: right;\n    }\n</style>\n<table border=\"1\" class=\"dataframe\">\n  <thead>\n    <tr style=\"text-align: right;\">\n      <th></th>\n      <th>x</th>\n      <th>y</th>\n    </tr>\n  </thead>\n  <tbody>\n    <tr>\n      <th>0</th>\n      <td>306,955.6252</td>\n      <td>863,236.8606</td>\n    </tr>\n    <tr>\n      <th>1</th>\n      <td>321,331.0862</td>\n      <td>869,902.6482</td>\n    </tr>\n    <tr>\n      <th>2</th>\n      <td>336,546.1885</td>\n      <td>952,261.7594</td>\n    </tr>\n    <tr>\n      <th>3</th>\n      <td>462,571.0091</td>\n      <td>1,207,872.3585</td>\n    </tr>\n  </tbody>\n</table>\n</div>"
     },
     "metadata": {},
     "execution_count": 79
    }
   ],
   "source": [
    "coords.head(4)  #check it"
   ]
  },
  {
   "cell_type": "code",
   "execution_count": 80,
   "metadata": {},
   "outputs": [
    {
     "output_type": "execute_result",
     "data": {
      "text/plain": "array([[     0.        ,  15845.71246676,  93813.82650605, ...,\n        423749.90268121, 112486.52605343, 769320.39247921],\n       [ 15845.71246676,      0.        ,  83752.74643818, ...,\n        423308.10261828, 124432.72091699, 776229.80650556],\n       [ 93813.82650605,  83752.74643818,      0.        , ...,\n        493622.82096431, 206226.35801882, 859058.65690862],\n       ...,\n       [423749.90268121, 423308.10261828, 493622.82096431, ...,\n             0.        , 360125.88027905, 442365.79986916],\n       [112486.52605343, 124432.72091699, 206226.35801882, ...,\n        360125.88027905,      0.        , 665545.75178182],\n       [769320.39247921, 776229.80650556, 859058.65690862, ...,\n        442365.79986916, 665545.75178182,      0.        ]])"
     },
     "metadata": {},
     "execution_count": 80
    }
   ],
   "source": [
    "distance.cdist(coords, coords, 'euclidean')"
   ]
  },
  {
   "cell_type": "markdown",
   "metadata": {},
   "source": [
    "**Verifying it using measure tools in QGIS!!!** The shapefile you created can be opened there."
   ]
  },
  {
   "cell_type": "markdown",
   "metadata": {},
   "source": [
    "## Credits!\n",
    "\n",
    "#### Contributors:\n",
    "The following individuals have contributed to these teaching materials: Yijing Li (yijing.li@kcl.ac.uk), Jon Reades (jonathan.reades@kcl.ac.uk)\n",
    "\n",
    "#### License\n",
    "These teaching materials are licensed under a mix of [The MIT License](https://opensource.org/licenses/mit-license.php) and the [Creative Commons Attribution-NonCommercial-ShareAlike 4.0 license](https://creativecommons.org/licenses/by-nc-sa/4.0/)."
   ]
  }
 ],
 "metadata": {
  "anaconda-cloud": {},
  "kernelspec": {
   "display_name": "Python 3.7.6 64-bit",
   "language": "python",
   "name": "python37664bit8f5d7887469441e1a994bf5b866609b0"
  },
  "language_info": {
   "codemirror_mode": {
    "name": "ipython",
    "version": 3
   },
   "file_extension": ".py",
   "mimetype": "text/x-python",
   "name": "python",
   "nbconvert_exporter": "python",
   "pygments_lexer": "ipython3",
   "version": "3.7.4-final"
  }
 },
 "nbformat": 4,
 "nbformat_minor": 4
}