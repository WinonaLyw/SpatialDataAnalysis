{
 "cells": [
  {
   "cell_type": "markdown",
   "metadata": {},
   "source": [
    "# 7CUSMSDA Practical Week 6 :  Spatial Operation & Multivariate Regression\n",
    "<a href=\"#This Week's Overview\">This Week's Overview</a>\n",
    "\n",
    "<a href=\"#Learn Outcomes\">Learn Outcomes</a> \n",
    "\n",
    "<a href='#Get prepared'>Get prepared</a>\n",
    "\n",
    "<a href='#Point Data'>Point Data</a>\n",
    "  - <a href='#Aspatial inquiry and spatial visualization'>Aspatial inquiry and spatial visualization<a/>\n",
    "  - <a href='#Measure distances between points'>Measure distances between points<a/>\n",
    "    \n",
    "<a href='#Linestring Data'>Linestring Data</a>\n",
    "  - <a href='#Geo-location and spatial operation'>Geo-location and spatial operation<a/>\n",
    "  - <a href='#Spatial relationships between point and line'>Spatial relationships between point and line<a/>\n",
    "  - <a href='#Buffer'>Buffer<a/>\n",
    "    \n",
    "<a href='#Polygon Data'>Polygon Data</a>\n",
    "\n",
    "<a href='#Spatial relationships and operations'>Spatial relationships and operations<a/>\n",
    "  - <a href='#Intersections'>Intersections<a/>\n",
    "  - <a href='#Difference'>Difference<a/>\n",
    "  - <a href='#Union and Cascaded Union'>Union and Cascaded Union<a/>\n",
    "\n",
    "<a href='#Get stations and railways within City of London'>Get stations and railways within City of London</a>\n",
    "  - <a href='#Clip stations within city of london'>Clip stations within city of london<a/>\n",
    "  - <a href='#Clip railways within City of London'>Clip railways within City of London<a/>\n",
    "  - <a href='#Join the spatial data'>Join the spatial data<a/>\n",
    "\n",
    "\n",
    "<a href='#Aspatial Multivariate Regression'>Aspatial Multivariate Regression<a/>\n",
    "  - <a href='#Get data prepared'>Get data prepared<a/>\n",
    "  - <a href='#Multivariate Regression'>Multivariate Regression<a/>\n",
    "  - <a href='#Regression diagnostics'>Regression diagnostics<a/>\n",
    "    - <a href='#Partial Regression Plots'>Partial Regression Plots<a/>\n",
    "    - <a href='#Influence Plots'>Influence Plots<a/>\n",
    "    - <a href='#Leverage-Resid2 Plot'>Leverage-Resid2 Plot<a/>\n",
    "\n",
    "- <a href='#Task 1'>Task 1<a/>\n",
    "- <a href='#Task 2'>Task 2<a/>\n",
    "- <a href='#Task 3'>Task 3<a/>\n",
    "- <a href='#Task 4'>Task 4<a/>\n",
    "- <a href='#Task 5'>Task 5<a/>\n",
    "- <a href='#Task 6'>Task 6<a/>\n",
    "- <a href='#Task 7'>Task 7<a/>\n",
    "- <a href='#Task 8'>Task 8<a/>\n",
    "- <a href='#Task 9'>Task 9<a/>\n",
    "- <a href='#Task 10'>Task 10<a/>\n"
   ]
  },
  {
   "cell_type": "markdown",
   "metadata": {},
   "source": [
    "# <a id=\"This Week's Overview\">This Week's Overview</a>\n",
    "\n",
    "In this practical, besides of the `GeoPandas` introduced in previous weeks, we are going to practice the skills using [Shapely](https://pypi.org/project/Shapely/) in `PyPI`, for manipulation and analysis of planar geometric objects. You may want to explore its functions through [Shapely User Manual](https://shapely.readthedocs.io/en/stable/manual.html) on adding the functionality to work with planar geometric features, including the creation and manipulation of geometries such as points, polylines, and polygons; get familiar with topology on proximity (including adjacency, connectivity and containment) relationships, as well as spatial analysis functions, e.g.intersection, union, dissolve, etc.\n",
    "\n",
    "It is based on the widely deployed [GEOS](https://trac.osgeo.org/geos/) library (the engine of [PostGIS](http://postgis.refractions.net)) and Java Topology Suite  (JTS) (from which GEOS is ported) libraries. GEOS implements the OpenGIS Simple Features for SQL spatial predicate functions and spatial operators. `Shapely` is not concerned with data formats or coordinate systems, but can be readily integrated with other packages. It provides spatial analysis methods that return new geometric objects. To complete the first section on spatial operation, we will use the following datasets: London stations as Point data, London railways as Polyline data and London LSOAs as Polygon data.\n",
    "\n",
    "The second section is aspatial multivariate regression, trying to recall your knowledge on regression, and prepare for the spatial regression next week. For this section, we will reuse the London Airbnb listings data for realization."
   ]
  },
  {
   "cell_type": "markdown",
   "metadata": {},
   "source": [
    "# <a id=\"Learn Outcomes\">Learn Outcomes</a>\n",
    "In previous practicals, we had introduced main geometric objects, the spatial operations and queries on them, as well as the ways to measure distance and proximity (produce buffers), and tessellate space (Voronoi diagrams). By the end of this practical, you should be able to\n",
    "- Gain familiarity with core geometric types (Point, LineString, Polygon, and their collection types)\n",
    "- Make spatial and aspatial inqueries\n",
    "- Identify spatial relationships \n",
    "- Conduct spatial operations to visualize multi-layers \n",
    "- Conduct aspatial multivariate regression for research purpose"
   ]
  },
  {
   "cell_type": "markdown",
   "metadata": {},
   "source": [
    "# <a id=\"Get prepared\">Get prepared</a>"
   ]
  },
  {
   "cell_type": "code",
   "execution_count": 1,
   "metadata": {
    "scrolled": true
   },
   "outputs": [],
   "source": [
    "import numpy as np\n",
    "import pysal\n",
    "from pysal.lib.cg import shapely_ext\n",
    "import scipy.spatial as spatial\n",
    "import geopandas as gpd\n",
    "from geopandas import GeoDataFrame\n",
    "import pandas as pd\n",
    "import shapely.geometry\n",
    "from shapely.geometry import Point\n",
    "import matplotlib as mpl\n",
    "import matplotlib.path as path\n",
    "import matplotlib.pyplot as plt\n",
    "%matplotlib inline\n",
    "\n",
    "import os\n",
    "import urllib\n",
    "import zipfile\n",
    "\n",
    "import warnings\n",
    "warnings.simplefilter('ignore')"
   ]
  },
  {
   "cell_type": "markdown",
   "metadata": {},
   "source": [
    "Basic geometric types\n",
    "------------------------------\n",
    "For Geospatial vector data in Python, they normally have geometric features, and the 3 fundemental geometric types of objects are:\n",
    "- Point data: represents a single point in space.\n",
    "- Polyline data (\"LineString\"): represents a sequence of points that form a line.\n",
    "- Polygon data: represents a filled area.\n",
    "\n",
    "Each of them can be combined in [multi-part geometries](https://shapely.readthedocs.io/en/stable/manual.html#geometric-objects) for extensive overview.\n",
    "\n",
    "## <a id=\"Point Data\">Point Data</a>\n",
    "\n",
    "Our first primitive geometry type is **Point**, by importing from shapely's `geometry` module. Let's start with a simple customized 2D point example:"
   ]
  },
  {
   "cell_type": "code",
   "execution_count": 2,
   "metadata": {},
   "outputs": [
    {
     "output_type": "execute_result",
     "data": {
      "text/plain": "shapely.geometry.point.Point"
     },
     "metadata": {},
     "execution_count": 2
    }
   ],
   "source": [
    "from shapely.geometry import Point\n",
    "\n",
    "point_test=Point(1,1)\n",
    "type(point_test)"
   ]
  },
  {
   "cell_type": "markdown",
   "metadata": {},
   "source": [
    "We defined ($x$,$y$) for point_test as (1,1), by calling the `type` function, we can get its type as `shapely.geometry.point.Point`. For geospatial data, we normally define its geometry by latitude and longitude coordinates. So let's have a look of the london stations data saved as a .shp file last week."
   ]
  },
  {
   "cell_type": "code",
   "execution_count": 3,
   "metadata": {},
   "outputs": [
    {
     "output_type": "execute_result",
     "data": {
      "text/plain": "0     POINT (0.00531 51.53187)\n1    POINT (-0.26157 51.50822)\n2    POINT (-0.27843 51.50214)\n3    POINT (-0.03128 51.35571)\n4    POINT (-0.07163 51.37934)\nName: geometry, dtype: geometry"
     },
     "metadata": {},
     "execution_count": 3
    }
   ],
   "source": [
    "stations=gpd.read_file(\"data/stations.shp\")\n",
    "stations.geometry.head()"
   ]
  },
  {
   "cell_type": "markdown",
   "metadata": {},
   "source": [
    "From the checking on geometry, we can find that the data had already been set as Point as we expected. Do you still remember the code we've used to set up the geometry last week? When we saved the stations .csv file into .shp file, we had called `Shapely.geometry.Point`, which is exactly what we received above. "
   ]
  },
  {
   "cell_type": "code",
   "execution_count": 5,
   "metadata": {
    "scrolled": true
   },
   "outputs": [],
   "source": [
    "# Plot map\n",
    "fig, ax = plt.subplots(1,\n",
    "                       figsize = (8,5),\n",
    "                       dpi = 72,\n",
    "                       facecolor = 'white')\n",
    "\n",
    "ax.set_position([0,0,1,1])   # Puts axis to edge of figure\n",
    "ax.set_axis_on()            # Turns axis on\n",
    "# If you want the facecolour applies to axis area as well as bit around the outside\n",
    "# you may choose to turn the axis off\n",
    "ax.get_xaxis().set_visible(False)   # Turns the x axis off so that 'invisible' axis labels don't take up space\n",
    "ax.get_yaxis().set_visible(False)\n",
    "lims = plt.axis('equal')\n",
    "stations.plot(ax=ax)\n",
    "plt.show()"
   ]
  },
  {
   "cell_type": "markdown",
   "metadata": {},
   "source": [
    "### <a id=\"Aspatial inquiry and spatial visualization\">Aspatial inquiry and spatial visualization<a/>\n",
    "It is common to conduct aspatial inquiries when dealing with your own data. So let's start with finding the stations within Zone 1:\n",
    "1. Locate the stations within london transportation Zone 1 and get it plotted as map for information.\n",
    "2. Save stations in Zone 1 as a new shapefile.\n",
    "3. Get ideas on the differences between these two shapefiles' point features by calling `Shapely.MultiPoint`."
   ]
  },
  {
   "cell_type": "code",
   "execution_count": 4,
   "metadata": {},
   "outputs": [
    {
     "output_type": "execute_result",
     "data": {
      "text/plain": "   FID  OBJECTID               NAME  EASTING  NORTHING                 LINES  \\\n0  291       477         Abbey Road   539077    183399                  None   \n1  258       162      Acton Central   520632    180296                  None   \n2  225       204         Acton Town   519478    179592  District, Piccadilly   \n3  455       421  Addington Village   537066    163744                  None   \n4  422       425         Addiscombe   534188    166297                  None   \n\n              NETWORK  Zone         x          y                   geometry  \\\n0                 DLR     3  0.005308  51.531865   POINT (0.00531 51.53187)   \n1   London Overground     3 -0.261566  51.508218  POINT (-0.26157 51.50822)   \n2  London Underground     3 -0.278433  51.502137  POINT (-0.27843 51.50214)   \n3            Tramlink     6 -0.031284  51.355710  POINT (-0.03128 51.35571)   \n4            Tramlink     5 -0.071626  51.379342  POINT (-0.07163 51.37934)   \n\n        zonename  \n0  out of zone 1  \n1  out of zone 1  \n2  out of zone 1  \n3  out of zone 1  \n4  out of zone 1  ",
      "text/html": "<div>\n<style scoped>\n    .dataframe tbody tr th:only-of-type {\n        vertical-align: middle;\n    }\n\n    .dataframe tbody tr th {\n        vertical-align: top;\n    }\n\n    .dataframe thead th {\n        text-align: right;\n    }\n</style>\n<table border=\"1\" class=\"dataframe\">\n  <thead>\n    <tr style=\"text-align: right;\">\n      <th></th>\n      <th>FID</th>\n      <th>OBJECTID</th>\n      <th>NAME</th>\n      <th>EASTING</th>\n      <th>NORTHING</th>\n      <th>LINES</th>\n      <th>NETWORK</th>\n      <th>Zone</th>\n      <th>x</th>\n      <th>y</th>\n      <th>geometry</th>\n      <th>zonename</th>\n    </tr>\n  </thead>\n  <tbody>\n    <tr>\n      <th>0</th>\n      <td>291</td>\n      <td>477</td>\n      <td>Abbey Road</td>\n      <td>539077</td>\n      <td>183399</td>\n      <td>None</td>\n      <td>DLR</td>\n      <td>3</td>\n      <td>0.005308</td>\n      <td>51.531865</td>\n      <td>POINT (0.00531 51.53187)</td>\n      <td>out of zone 1</td>\n    </tr>\n    <tr>\n      <th>1</th>\n      <td>258</td>\n      <td>162</td>\n      <td>Acton Central</td>\n      <td>520632</td>\n      <td>180296</td>\n      <td>None</td>\n      <td>London Overground</td>\n      <td>3</td>\n      <td>-0.261566</td>\n      <td>51.508218</td>\n      <td>POINT (-0.26157 51.50822)</td>\n      <td>out of zone 1</td>\n    </tr>\n    <tr>\n      <th>2</th>\n      <td>225</td>\n      <td>204</td>\n      <td>Acton Town</td>\n      <td>519478</td>\n      <td>179592</td>\n      <td>District, Piccadilly</td>\n      <td>London Underground</td>\n      <td>3</td>\n      <td>-0.278433</td>\n      <td>51.502137</td>\n      <td>POINT (-0.27843 51.50214)</td>\n      <td>out of zone 1</td>\n    </tr>\n    <tr>\n      <th>3</th>\n      <td>455</td>\n      <td>421</td>\n      <td>Addington Village</td>\n      <td>537066</td>\n      <td>163744</td>\n      <td>None</td>\n      <td>Tramlink</td>\n      <td>6</td>\n      <td>-0.031284</td>\n      <td>51.355710</td>\n      <td>POINT (-0.03128 51.35571)</td>\n      <td>out of zone 1</td>\n    </tr>\n    <tr>\n      <th>4</th>\n      <td>422</td>\n      <td>425</td>\n      <td>Addiscombe</td>\n      <td>534188</td>\n      <td>166297</td>\n      <td>None</td>\n      <td>Tramlink</td>\n      <td>5</td>\n      <td>-0.071626</td>\n      <td>51.379342</td>\n      <td>POINT (-0.07163 51.37934)</td>\n      <td>out of zone 1</td>\n    </tr>\n  </tbody>\n</table>\n</div>"
     },
     "metadata": {},
     "execution_count": 4
    }
   ],
   "source": [
    "stations['zonename']=np.where(stations['Zone']==1,'zone1','out of zone 1')\n",
    "stations.head()"
   ]
  },
  {
   "cell_type": "markdown",
   "metadata": {},
   "source": [
    "`numpy.where` function can help to define our targeted area \"zone value <=1\" with a new value \"zone1\" under new column \"zonename\", while the remaining stations will be valued as \"out of zone 1\". To highlight the difference, we will use different colors to plot them:"
   ]
  },
  {
   "cell_type": "code",
   "execution_count": 16,
   "metadata": {},
   "outputs": [],
   "source": [
    "pointsPalette = {'zone1': 'orange', 'out of zone 1': 'lightblue'}\n",
    "\n",
    "fig, ax = plt.subplots(1,\n",
    "                       figsize = (8,6),\n",
    "                       dpi = 72,\n",
    "                       facecolor = 'white')\n",
    "\n",
    "for ctype, data in stations.groupby('zonename'):\n",
    "    color = pointsPalette[ctype]\n",
    "    label = ctype \n",
    "    data.plot(color=color,\n",
    "              ax=ax,\n",
    "              label=label,\n",
    "              markersize=30)\n",
    "ax.set_position([0,0,1,1])   # Puts axis to edge of figure\n",
    "ax.set_axis_on() \n",
    "ax.get_xaxis().set_visible(False)   \n",
    "ax.get_yaxis().set_visible(False)\n",
    "lims = plt.axis('equal')\n",
    "ax.set(title='Distribution of underground and overground stations in Central London')\n",
    "ax.legend(fontsize=10,\n",
    "          frameon=True,\n",
    "          loc=(.8, .8),\n",
    "          title=\"LEGEND\")\n",
    "plt.show()"
   ]
  },
  {
   "cell_type": "markdown",
   "metadata": {},
   "source": [
    "### <a id=\"Task 1\">Task 1<a/> \n",
    "Can you get the number of stations within Zone 1? You should get an answer around 60. Then please save these points into your directory as `stations_zone1.shp`, with CRS at EPSG: 4326."
   ]
  },
  {
   "cell_type": "code",
   "execution_count": 5,
   "metadata": {},
   "outputs": [
    {
     "output_type": "stream",
     "name": "stdout",
     "text": "69\n"
    }
   ],
   "source": [
    "# your code here\n",
    "st_zone1 = stations[stations['zonename'] == 'zone1']\n",
    "print (len(st_zone1))"
   ]
  },
  {
   "cell_type": "code",
   "execution_count": 21,
   "metadata": {
    "scrolled": true
   },
   "outputs": [],
   "source": [
    "# your code here\n",
    "st_zone1.to_file('data/stations_zone1.shp')"
   ]
  },
  {
   "cell_type": "markdown",
   "metadata": {},
   "source": [
    "Similarly, you may want to repeat these steps to get stations within Zone 3 or out of Zone 3. Feel free to have a try when you complete this whole practical. But now, let's continue to explore the newly generated data: list the coordinates information for these 60 stations in Zone 1. There are 2 ways to get the list, quite similar to each other."
   ]
  },
  {
   "cell_type": "code",
   "execution_count": 6,
   "metadata": {},
   "outputs": [
    {
     "output_type": "execute_result",
     "data": {
      "text/plain": "5      POINT (-0.07424 51.51398)\n6      POINT (-0.06954 51.51492)\n12     POINT (-0.10312 51.53098)\n18     POINT (-0.15545 51.52249)\n20     POINT (-0.08730 51.51292)\n                 ...            \n410    POINT (-0.07491 51.50943)\n423    POINT (-0.14149 51.49589)\n434    POINT (-0.13674 51.52402)\n436    POINT (-0.11282 51.50291)\n460    POINT (-0.12405 51.50045)\nName: geometry, Length: 69, dtype: geometry"
     },
     "metadata": {},
     "execution_count": 6
    }
   ],
   "source": [
    "# check output format for column geometry \n",
    "st_zone1.geometry"
   ]
  },
  {
   "cell_type": "code",
   "execution_count": 7,
   "metadata": {
    "scrolled": true
   },
   "outputs": [
    {
     "output_type": "execute_result",
     "data": {
      "text/plain": "5      POINT (-0.07423630000000001 51.51398203)\n6              POINT (-0.069540402 51.51491653)\n12              POINT (-0.103116359 51.5309796)\n18             POINT (-0.155454387 51.52249387)\n20              POINT (-0.08729695 51.51291511)\n                         ...                   \n410    POINT (-0.07491386899999999 51.50943419)\n423            POINT (-0.141485017 51.49588954)\n434            POINT (-0.136735811 51.52401887)\n436            POINT (-0.112818812 51.50291418)\n460            POINT (-0.124052209 51.50045311)\nName: coordinates, Length: 69, dtype: object"
     },
     "metadata": {},
     "execution_count": 7
    }
   ],
   "source": [
    "# create a new column Coordinates as a tuple of Longitude and Latitude\n",
    "st_zone1['coordinates'] = list(zip(st_zone1['x'], st_zone1['y']))\n",
    "# we transform tuples to Point\n",
    "coords = st_zone1['coordinates'].apply(Point)\n",
    "coords"
   ]
  },
  {
   "cell_type": "markdown",
   "metadata": {},
   "source": [
    "As the geometry takes format as POINT (longitude, latitude), we can use it to draw a bounding polygon for stations within zone 1 by calling Shapely's `MultiPoint`. The methods could be either `convex hull` or `envelope` as introduced in previous weeks. Try to explore both datasets and methods, and identify their differences."
   ]
  },
  {
   "cell_type": "code",
   "execution_count": 8,
   "metadata": {},
   "outputs": [
    {
     "output_type": "execute_result",
     "data": {
      "text/plain": "<shapely.geometry.polygon.Polygon at 0x129279450>",
      "image/svg+xml": "<svg xmlns=\"http://www.w3.org/2000/svg\" xmlns:xlink=\"http://www.w3.org/1999/xlink\" width=\"100.0\" height=\"100.0\" viewBox=\"-0.1994892444 51.4835715076 0.1349468748 0.05240612480000806\" preserveAspectRatio=\"xMinYMin meet\"><g transform=\"matrix(1,0,0,-1,0,103.01954914000001)\"><path fill-rule=\"evenodd\" fill=\"#66cc99\" stroke=\"#555555\" stroke-width=\"0.002698937496\" opacity=\"0.6\" d=\"M -0.132103672,51.48856954 L -0.19157701,51.4914734 L -0.194491212,51.508646899999995 L -0.17719615,51.51800497 L -0.162637346,51.52165079 L -0.132992071,51.52757668 L -0.123168404,51.52927728 L -0.103116359,51.5309796 L -0.074700292,51.52285471 L -0.069540402,51.51491653 L -0.073061976,51.51011047 L -0.091702818,51.50067969 L -0.132103672,51.48856954 z\" /></g></svg>"
     },
     "metadata": {},
     "execution_count": 8
    }
   ],
   "source": [
    "from shapely.geometry import MultiPoint\n",
    "# the geometry for stations within zone 1 is a list of (longitude, latitude) tuples\n",
    "geometry_zone1 = list(st_zone1['coordinates'])\n",
    "# the convex hull of this set of 60 points is like an elastic band stretched around the geometry\n",
    "zone1hull = MultiPoint(geometry_zone1).convex_hull\n",
    "zone1hull"
   ]
  },
  {
   "cell_type": "code",
   "execution_count": 35,
   "metadata": {},
   "outputs": [
    {
     "data": {
      "image/svg+xml": [
       "<svg xmlns=\"http://www.w3.org/2000/svg\" xmlns:xlink=\"http://www.w3.org/1999/xlink\" width=\"100.0\" height=\"100.0\" viewBox=\"-0.1994892444 51.4835715076 0.1349468748 0.05240612480000806\" preserveAspectRatio=\"xMinYMin meet\"><g transform=\"matrix(1,0,0,-1,0,103.01954914000001)\"><path fill-rule=\"evenodd\" fill=\"#66cc99\" stroke=\"#555555\" stroke-width=\"0.002698937496\" opacity=\"0.6\" d=\"M -0.194491212,51.48856954 L -0.069540402,51.48856954 L -0.069540402,51.5309796 L -0.194491212,51.5309796 L -0.194491212,51.48856954 z\" /></g></svg>"
      ],
      "text/plain": [
       "<shapely.geometry.polygon.Polygon at 0x12a5fa910>"
      ]
     },
     "execution_count": 35,
     "metadata": {},
     "output_type": "execute_result"
    }
   ],
   "source": [
    "# The envelope is the point or smallest rectangular polygon (with sides parallel to the coordinate axes) \n",
    "# that contains the geometry\n",
    "zone1enve = MultiPoint(geometry_zone1).envelope\n",
    "zone1enve"
   ]
  },
  {
   "cell_type": "markdown",
   "metadata": {},
   "source": [
    "The coordinates of the envelope polygon above could be derived by calling bounding box `bounds` from `MultiPoint`. The bounding box is a (minx, miny, maxx, maxy) tuple."
   ]
  },
  {
   "cell_type": "code",
   "execution_count": 36,
   "metadata": {},
   "outputs": [
    {
     "data": {
      "text/plain": [
       "(-0.194491212, 51.48856954, -0.069540402, 51.5309796)"
      ]
     },
     "execution_count": 36,
     "metadata": {},
     "output_type": "execute_result"
    }
   ],
   "source": [
    "zone1bounds = MultiPoint(geometry_zone1).bounds\n",
    "zone1bounds"
   ]
  },
  {
   "cell_type": "markdown",
   "metadata": {},
   "source": [
    "### <a id=\"Task 2\">Task 2<a/>\n",
    "Please get your codes to work out the convex hull, envelope and coordinates of bounds for all stations point data. Then try to compare the results. Your codes below:"
   ]
  },
  {
   "cell_type": "code",
   "execution_count": 37,
   "metadata": {},
   "outputs": [
    {
     "data": {
      "image/svg+xml": [
       "<svg xmlns=\"http://www.w3.org/2000/svg\" xmlns:xlink=\"http://www.w3.org/1999/xlink\" width=\"100.0\" height=\"100.0\" viewBox=\"-0.64706476916 51.30431338684 1.01637971532 0.4380720563199958\" preserveAspectRatio=\"xMinYMin meet\"><g transform=\"matrix(1,0,0,-1,0,103.04669883)\"><path fill-rule=\"evenodd\" fill=\"#66cc99\" stroke=\"#555555\" stroke-width=\"0.0203275943064\" opacity=\"0.6\" d=\"M -0.015617483,51.34195708 L -0.444145672,51.45802947 L -0.486475608,51.47201647 L -0.606146762,51.67366188 L -0.609421076,51.70474175 L -0.022373213,51.70246665 L 0.115641374,51.69306818 L 0.331671253,51.6300009 L 0.252767235,51.55857711 L -0.015617483,51.34195708 z\" /></g></svg>"
      ],
      "text/plain": [
       "<shapely.geometry.polygon.Polygon at 0x134f5fd90>"
      ]
     },
     "execution_count": 37,
     "metadata": {},
     "output_type": "execute_result"
    }
   ],
   "source": [
    "# the geometry for all stations \n",
    "geometry_st = list(zip(stations['x'], stations['y']))\n",
    "stationhull = MultiPoint(geometry_st).convex_hull\n",
    "stationhull"
   ]
  },
  {
   "cell_type": "code",
   "execution_count": 40,
   "metadata": {},
   "outputs": [
    {
     "data": {
      "image/svg+xml": [
       "<svg xmlns=\"http://www.w3.org/2000/svg\" xmlns:xlink=\"http://www.w3.org/1999/xlink\" width=\"100.0\" height=\"100.0\" viewBox=\"-0.64706476916 51.30431338684 1.01637971532 0.4380720563199958\" preserveAspectRatio=\"xMinYMin meet\"><g transform=\"matrix(1,0,0,-1,0,103.04669883)\"><path fill-rule=\"evenodd\" fill=\"#66cc99\" stroke=\"#555555\" stroke-width=\"0.0203275943064\" opacity=\"0.6\" d=\"M -0.609421076,51.34195708 L 0.331671253,51.34195708 L 0.331671253,51.70474175 L -0.609421076,51.70474175 L -0.609421076,51.34195708 z\" /></g></svg>"
      ],
      "text/plain": [
       "<shapely.geometry.polygon.Polygon at 0x12a61ac50>"
      ]
     },
     "execution_count": 40,
     "metadata": {},
     "output_type": "execute_result"
    }
   ],
   "source": [
    "zoneenve = MultiPoint(geometry_st).envelope\n",
    "zoneenve"
   ]
  },
  {
   "cell_type": "code",
   "execution_count": 42,
   "metadata": {},
   "outputs": [
    {
     "data": {
      "text/plain": [
       "(-0.609421076, 51.34195708, 0.331671253, 51.70474175)"
      ]
     },
     "execution_count": 42,
     "metadata": {},
     "output_type": "execute_result"
    }
   ],
   "source": [
    "# compare the total stations' bounds\n",
    "# your code here\n",
    "stabounds = MultiPoint(geometry_st).bounds\n",
    "stabounds "
   ]
  },
  {
   "cell_type": "markdown",
   "metadata": {},
   "source": [
    "### <a id='Measure distances between points'>Measure distances between points<a/>\n",
    "\n",
    "In real society, it is often to measure the distances between two targeted observations, say point data. So we will call `Shapely` to measure the distances in different ways: e.g., Euclidean distance, Manhattan distance, Shortest-path distance and Travel-time distance. In this practical, we will use the common Euclidean distance introduced in lecture, to measure the distances between named stations within Zone 1 (**Westminster, Holborn, Bank**) as example. \n",
    "\n",
    "The primary idea is to get their coordinates from their longitude and latitude information. However, please keep in mind that the measurement unit should be **meters**, so we need to turn their `CRS` into National Grid Coordinates EPSG:27700 as the starting point."
   ]
  },
  {
   "cell_type": "markdown",
   "metadata": {},
   "source": [
    "### <a id=\"Task 3\">Task 3<a/>\n",
    "1. Reproject the **crs** for stations in Zone 1 data to EPSG 27700;\n",
    "2. Print out the **geometry** for targeted 3 stations. **Hint**: find the specific \"name\" from dataframe, then print out the geometry information for the dataframe."
   ]
  },
  {
   "cell_type": "code",
   "execution_count": 9,
   "metadata": {},
   "outputs": [
    {
     "output_type": "execute_result",
     "data": {
      "text/plain": "     FID  OBJECTID         NAME  EASTING  NORTHING  \\\n20    35        47         Bank   532710    181120   \n205   37        49      Holborn   530512    181525   \n460   42       195  Westminster   530196    179668   \n\n                                  LINES             NETWORK  Zone         x  \\\n20   Waterloo & City, Northern, Central  London Underground     1 -0.087297   \n205                 Central, Piccadilly  London Underground     1 -0.118809   \n460           District, Circle, Jubilee  London Underground     1 -0.124052   \n\n             y                       geometry zonename  \\\n20   51.512915  POINT (532823.429 181066.068)    zone1   \n205  51.517069  POINT (530625.062 181471.296)    zone1   \n460  51.500453  POINT (530308.626 179614.237)    zone1   \n\n                     coordinates  \n20    (-0.08729695, 51.51291511)  \n205    (-0.1188087, 51.51706879)  \n460  (-0.124052209, 51.50045311)  ",
      "text/html": "<div>\n<style scoped>\n    .dataframe tbody tr th:only-of-type {\n        vertical-align: middle;\n    }\n\n    .dataframe tbody tr th {\n        vertical-align: top;\n    }\n\n    .dataframe thead th {\n        text-align: right;\n    }\n</style>\n<table border=\"1\" class=\"dataframe\">\n  <thead>\n    <tr style=\"text-align: right;\">\n      <th></th>\n      <th>FID</th>\n      <th>OBJECTID</th>\n      <th>NAME</th>\n      <th>EASTING</th>\n      <th>NORTHING</th>\n      <th>LINES</th>\n      <th>NETWORK</th>\n      <th>Zone</th>\n      <th>x</th>\n      <th>y</th>\n      <th>geometry</th>\n      <th>zonename</th>\n      <th>coordinates</th>\n    </tr>\n  </thead>\n  <tbody>\n    <tr>\n      <th>20</th>\n      <td>35</td>\n      <td>47</td>\n      <td>Bank</td>\n      <td>532710</td>\n      <td>181120</td>\n      <td>Waterloo &amp; City, Northern, Central</td>\n      <td>London Underground</td>\n      <td>1</td>\n      <td>-0.087297</td>\n      <td>51.512915</td>\n      <td>POINT (532823.429 181066.068)</td>\n      <td>zone1</td>\n      <td>(-0.08729695, 51.51291511)</td>\n    </tr>\n    <tr>\n      <th>205</th>\n      <td>37</td>\n      <td>49</td>\n      <td>Holborn</td>\n      <td>530512</td>\n      <td>181525</td>\n      <td>Central, Piccadilly</td>\n      <td>London Underground</td>\n      <td>1</td>\n      <td>-0.118809</td>\n      <td>51.517069</td>\n      <td>POINT (530625.062 181471.296)</td>\n      <td>zone1</td>\n      <td>(-0.1188087, 51.51706879)</td>\n    </tr>\n    <tr>\n      <th>460</th>\n      <td>42</td>\n      <td>195</td>\n      <td>Westminster</td>\n      <td>530196</td>\n      <td>179668</td>\n      <td>District, Circle, Jubilee</td>\n      <td>London Underground</td>\n      <td>1</td>\n      <td>-0.124052</td>\n      <td>51.500453</td>\n      <td>POINT (530308.626 179614.237)</td>\n      <td>zone1</td>\n      <td>(-0.124052209, 51.50045311)</td>\n    </tr>\n  </tbody>\n</table>\n</div>"
     },
     "metadata": {},
     "execution_count": 9
    }
   ],
   "source": [
    "# your code here\n",
    "st_zone1 = st_zone1.to_crs(epsg=27700)\n",
    "st_s = st_zone1[st_zone1['NAME'].isin(['Westminster', 'Holborn', 'Bank'])]\n",
    "st_s"
   ]
  },
  {
   "cell_type": "code",
   "execution_count": 92,
   "metadata": {},
   "outputs": [
    {
     "name": "stdout",
     "output_type": "stream",
     "text": [
      "20     POINT (532823.432 181066.067)\n",
      "205    POINT (530625.065 181471.295)\n",
      "460    POINT (530308.629 179614.236)\n",
      "Name: geometry, dtype: geometry\n"
     ]
    }
   ],
   "source": [
    "# your code here\n",
    "print (st_s['geometry'])"
   ]
  },
  {
   "cell_type": "markdown",
   "metadata": {},
   "source": [
    "Once you complete Task 3, we can define their coordinates to points, and get a rough idea of their relative distribution."
   ]
  },
  {
   "cell_type": "code",
   "execution_count": 18,
   "metadata": {},
   "outputs": [
    {
     "output_type": "execute_result",
     "data": {
      "text/plain": "<shapely.geometry.multipoint.MultiPoint at 0x1373fb650>",
      "image/svg+xml": "<svg xmlns=\"http://www.w3.org/2000/svg\" xmlns:xlink=\"http://www.w3.org/1999/xlink\" width=\"300\" height=\"300\" viewBox=\"530208.0368799999 179513.64388 2715.9872400001623 2058.24324000004\" preserveAspectRatio=\"xMinYMin meet\"><g transform=\"matrix(1,0,0,-1,0,361085.531)\"><g><circle cx=\"530308.629\" cy=\"179614.236\" r=\"27.159872400001625\" stroke=\"#555555\" stroke-width=\"9.053290800000541\" fill=\"#66cc99\" opacity=\"0.6\" /><circle cx=\"530625.065\" cy=\"181471.295\" r=\"27.159872400001625\" stroke=\"#555555\" stroke-width=\"9.053290800000541\" fill=\"#66cc99\" opacity=\"0.6\" /><circle cx=\"532823.432\" cy=\"181066.067\" r=\"27.159872400001625\" stroke=\"#555555\" stroke-width=\"9.053290800000541\" fill=\"#66cc99\" opacity=\"0.6\" /></g></g></svg>"
     },
     "metadata": {},
     "execution_count": 18
    }
   ],
   "source": [
    "# measure their distance using shapely\n",
    "from shapely.geometry import Point\n",
    "p1=Point(530308.629, 179614.236) # Westminster\n",
    "p2=Point(530625.065, 181471.295) # Holborn\n",
    "p3=Point(532823.432, 181066.067) # Bank\n",
    "mp=MultiPoint([p1, p2, p3])\n",
    "mp"
   ]
  },
  {
   "cell_type": "markdown",
   "metadata": {},
   "source": [
    "To measure the distances between them, we can simply call shapely's `distance` function.  "
   ]
  },
  {
   "cell_type": "code",
   "execution_count": 94,
   "metadata": {},
   "outputs": [
    {
     "name": "stdout",
     "output_type": "stream",
     "text": [
      "Distance between Westminster and Holborn is: 0.02 meters\n",
      "Distance between Holborn and Bank is: 0.03 meters\n",
      "Distance between Westminster and Bank is: 0.04 meters\n"
     ]
    }
   ],
   "source": [
    "# minimum distance from p1 to p2\n",
    "print(\"Distance between Westminster and Holborn is: \"+str(\"%.2f\"%p1.distance(p2))+\" meters\") \n",
    "# you may swap p1 and p2, see whether any difference\n",
    "# minimum distance from p2 to p3\n",
    "print(\"Distance between Holborn and Bank is: \"+str(\"%.2f\"%p2.distance(p3))+\" meters\")\n",
    "# minimum distance from p1 to p3\n",
    "print(\"Distance between Westminster and Bank is: \"+str(\"%.2f\"%p1.distance(p3))+\" meters\")"
   ]
  },
  {
   "cell_type": "markdown",
   "metadata": {},
   "source": [
    "It returns the minimum distance in float format, and there is also `hausdorff_distance` returning to the furthest distance. However, for our listed 3 points the results are the same, you are encouraged to replace the `distance` function with `hausdorff_distance` for comparison if interested; you are also welcome to choose other stations for calculation if any interest."
   ]
  },
  {
   "cell_type": "markdown",
   "metadata": {},
   "source": [
    "## <a id='Linestring Data'>Linestring Data</a>\n",
    "The second geometric type is **Polyline**, and defined as Linestring in Shapely by calling its `LineString` function. We will use the London Railways data for this section to get familiar with linestring's features. The data is available for downloading from OpenStreetMap as a shapefile data; to save time, I've already prepared it as zipfile in Github, so we should firstly read the London railways data into a geopandas DataFrame, and have a look of the features."
   ]
  },
  {
   "cell_type": "code",
   "execution_count": 61,
   "metadata": {},
   "outputs": [],
   "source": [
    "# Configure the download\n",
    "url  = 'https://github.com/cusp-london/Spatial-Data-Analysis/blob/master/railways.zip?raw=True'\n",
    "path = os.path.join(\"data\",\"railways.zip\")\n",
    "\n",
    "# Download\n",
    "r    = urllib.request.urlretrieve(url, path)\n",
    "\n",
    "# Unzip it into the data folder\n",
    "z    = zipfile.ZipFile(path)\n",
    "m    = z.extractall(\"data\")"
   ]
  },
  {
   "cell_type": "code",
   "execution_count": 10,
   "metadata": {},
   "outputs": [],
   "source": [
    "railways = gpd.read_file('data/railways/gis_osm_railways.shp')\n",
    "railways.plot(figsize=(10,8))"
   ]
  },
  {
   "cell_type": "markdown",
   "metadata": {},
   "source": [
    "### <a id=\"Task 4\">Task 4<a/>\n",
    "Write your codes below to answer questions on: \n",
    "1. The geometric type for railways.\n",
    "2. How many polylines in this dataset?"
   ]
  },
  {
   "cell_type": "code",
   "execution_count": 66,
   "metadata": {
    "scrolled": true
   },
   "outputs": [
    {
     "data": {
      "text/plain": [
       "0    LINESTRING (0.00486 51.62793, 0.00620 51.62927...\n",
       "1    LINESTRING (-0.22496 51.49354, -0.22507 51.494...\n",
       "2    LINESTRING (-0.20555 51.51954, -0.20514 51.519...\n",
       "3    LINESTRING (-0.20407 51.52214, -0.20462 51.522...\n",
       "4    LINESTRING (-0.18626 51.61591, -0.18687 51.61384)\n",
       "Name: geometry, dtype: geometry"
      ]
     },
     "execution_count": 66,
     "metadata": {},
     "output_type": "execute_result"
    }
   ],
   "source": [
    "# your code here\n",
    "railways.geometry.head()"
   ]
  },
  {
   "cell_type": "code",
   "execution_count": 67,
   "metadata": {},
   "outputs": [
    {
     "name": "stdout",
     "output_type": "stream",
     "text": [
      "12118\n"
     ]
    }
   ],
   "source": [
    "# your code here\n",
    "print (len(railways.geometry))"
   ]
  },
  {
   "cell_type": "markdown",
   "metadata": {},
   "source": [
    "From the outputs you got, we can tell that there are 12118 polylines, all of which are geometrically Linestring. \n",
    "Before we conduct any spatial operations between different datasets, it is good practice to check their **crs** information. Although we had already checked the **crs** for london stations point data, we need to keep other spatial layers (polyline or polygon) consistent with each other. So let's check the .crs attribute for railways data as well."
   ]
  },
  {
   "cell_type": "code",
   "execution_count": 68,
   "metadata": {},
   "outputs": [
    {
     "data": {
      "text/plain": [
       "{'init': 'epsg:4326'}"
      ]
     },
     "execution_count": 68,
     "metadata": {},
     "output_type": "execute_result"
    }
   ],
   "source": [
    "railways.crs"
   ]
  },
  {
   "cell_type": "markdown",
   "metadata": {},
   "source": [
    "You may reach at a WGS84 (EPSG: 4326) crs for the railways data, and we need to set it to OSGB 1936(EPSG:27700) to match the stations data. So let's get the new geometry set:"
   ]
  },
  {
   "cell_type": "code",
   "execution_count": 11,
   "metadata": {},
   "outputs": [],
   "source": [
    "new_railways=railways.to_crs(epsg=27700) # reproject\n",
    "new_railways.plot() # check the difference between 2 plots with varied CRS"
   ]
  },
  {
   "cell_type": "markdown",
   "metadata": {},
   "source": [
    "You will find the railway map has been stretched vertically from the view, and now it is ready to be used for distance meansurement as well. Now let's explore the spatial relationships between points and polylines:"
   ]
  },
  {
   "cell_type": "markdown",
   "metadata": {},
   "source": [
    "### <a id=\"Geo-location and spatial operation\">Geo-location and spatial operation<a/>\n",
    "    \n",
    "In this section, we want to select a specific railway line in London, preferrably a line we are familiar with; to find out the spatial relationships between this line and selected points (stations in real society); and measure the distance from point to the line, if the point is not on it. So we need to set up following goals to realize step by step:\n",
    "1. Find the **Circle lines** and save them together by selecting data calling `loc`.\n",
    "2. Locate a specific sub-line in **circle lines** by calling `iloc`.\n",
    "3. Get the geometric features for selected line, e.g. **length, bounds, buffer**.\n",
    "4. Explore the spatial relationship between point and linestring by calling `within` and `contains`.\n",
    "5. Measure the distance from a point to the linestring.\n",
    "\n",
    "Furthermore, if you go back to check the headers for railways data, you will find a `name` column with the searching keywords we are interested (They are: 'Circle line','Circle/District Line' and 'Circle and District Lines'). In order to make it easier to select data by label or by a conditional statment (`.loc`), we can reset the index for each polyline with `name`. "
   ]
  },
  {
   "cell_type": "code",
   "execution_count": 12,
   "metadata": {},
   "outputs": [
    {
     "output_type": "execute_result",
     "data": {
      "text/plain": "                                    osm_id  code  fclass  \\\nname                                                       \nLea Valley Lines                     30804  6101    rail   \nHammersmith and City Line           101298  6103  subway   \nHammersmith and City Line           101486  6103  subway   \nGreat Western Main Line             101511  6101    rail   \nNorthern Line (High Barnet Branch)  282898  6103  subway   \n\n                                                                             geometry  \nname                                                                                   \nLea Valley Lines                    LINESTRING (538867.468 194026.756, 538955.671 ...  \nHammersmith and City Line           LINESTRING (523323.407 178671.296, 523314.881 ...  \nHammersmith and City Line           LINESTRING (524600.153 181595.290, 524627.821 ...  \nGreat Western Main Line             LINESTRING (524695.883 181886.856, 524657.261 ...  \nNorthern Line (High Barnet Branch)  LINESTRING (525672.734 192344.626, 525635.969 ...  ",
      "text/html": "<div>\n<style scoped>\n    .dataframe tbody tr th:only-of-type {\n        vertical-align: middle;\n    }\n\n    .dataframe tbody tr th {\n        vertical-align: top;\n    }\n\n    .dataframe thead th {\n        text-align: right;\n    }\n</style>\n<table border=\"1\" class=\"dataframe\">\n  <thead>\n    <tr style=\"text-align: right;\">\n      <th></th>\n      <th>osm_id</th>\n      <th>code</th>\n      <th>fclass</th>\n      <th>geometry</th>\n    </tr>\n    <tr>\n      <th>name</th>\n      <th></th>\n      <th></th>\n      <th></th>\n      <th></th>\n    </tr>\n  </thead>\n  <tbody>\n    <tr>\n      <th>Lea Valley Lines</th>\n      <td>30804</td>\n      <td>6101</td>\n      <td>rail</td>\n      <td>LINESTRING (538867.468 194026.756, 538955.671 ...</td>\n    </tr>\n    <tr>\n      <th>Hammersmith and City Line</th>\n      <td>101298</td>\n      <td>6103</td>\n      <td>subway</td>\n      <td>LINESTRING (523323.407 178671.296, 523314.881 ...</td>\n    </tr>\n    <tr>\n      <th>Hammersmith and City Line</th>\n      <td>101486</td>\n      <td>6103</td>\n      <td>subway</td>\n      <td>LINESTRING (524600.153 181595.290, 524627.821 ...</td>\n    </tr>\n    <tr>\n      <th>Great Western Main Line</th>\n      <td>101511</td>\n      <td>6101</td>\n      <td>rail</td>\n      <td>LINESTRING (524695.883 181886.856, 524657.261 ...</td>\n    </tr>\n    <tr>\n      <th>Northern Line (High Barnet Branch)</th>\n      <td>282898</td>\n      <td>6103</td>\n      <td>subway</td>\n      <td>LINESTRING (525672.734 192344.626, 525635.969 ...</td>\n    </tr>\n  </tbody>\n</table>\n</div>"
     },
     "metadata": {},
     "execution_count": 12
    }
   ],
   "source": [
    "# we are going to search by name, so set name as the index\n",
    "new_railways.set_index('name', inplace=True)\n",
    "new_railways.head()"
   ]
  },
  {
   "cell_type": "code",
   "execution_count": 13,
   "metadata": {},
   "outputs": [
    {
     "output_type": "stream",
     "name": "stdout",
     "text": "<class 'geopandas.geodataframe.GeoDataFrame'>\nIndex: 117 entries, Circle line to Circle and District Lines\nData columns (total 4 columns):\nosm_id      117 non-null object\ncode        117 non-null int64\nfclass      117 non-null object\ngeometry    117 non-null geometry\ndtypes: geometry(1), int64(1), object(2)\nmemory usage: 4.6+ KB\n"
    }
   ],
   "source": [
    "circleline=new_railways.loc[['Circle line','Circle/District Line', 'Circle and District Lines']]\n",
    "circleline.info()"
   ]
  },
  {
   "cell_type": "markdown",
   "metadata": {},
   "source": [
    "117 polylines have been selected based on our searching criterion, and combined into a new dataframe \"circleline\". For specific linestring, if we want to get more detailed information on its geometric coordinates, we can call `list` function to realize it. So in order to select a linestring object, we can use its row number by calling `iloc`; here I designedly choose the line at \"74\" (you will figure out my intention later), and we can get the points coordinates by calling `coords` as below:"
   ]
  },
  {
   "cell_type": "code",
   "execution_count": 72,
   "metadata": {},
   "outputs": [
    {
     "data": {
      "text/plain": [
       "[(530428.0074790482, 180413.62381644384),\n",
       " (530411.1982466972, 180376.18195359968),\n",
       " (530397.0032235021, 180344.56021560577),\n",
       " (530379.2209069991, 180274.64529610798),\n",
       " (530371.9918020066, 180229.70448672207),\n",
       " (530359.5922412437, 180162.43145132513),\n",
       " (530350.0843889426, 180104.51306821645),\n",
       " (530346.4988183748, 180071.82826697844),\n",
       " (530340.3595443233, 180026.33684885327),\n",
       " (530313.7082672049, 179845.00756705605),\n",
       " (530306.1320168389, 179804.3421753893),\n",
       " (530297.7263252948, 179779.2342295017),\n",
       " (530282.1126631077, 179751.64929959673),\n",
       " (530261.5132050588, 179726.7408450343),\n",
       " (530225.9123594079, 179690.44300068263),\n",
       " (530180.0387492746, 179656.06340498675)]"
      ]
     },
     "execution_count": 72,
     "metadata": {},
     "output_type": "execute_result"
    }
   ],
   "source": [
    "# get the coordinates information on specific polyline\n",
    "list(circleline.geometry.iloc[74].coords)"
   ]
  },
  {
   "cell_type": "markdown",
   "metadata": {},
   "source": [
    "How many points have been used to define this line? You can count it from the output (if you like), or call another method `len` to get the count directly."
   ]
  },
  {
   "cell_type": "code",
   "execution_count": 15,
   "metadata": {},
   "outputs": [
    {
     "output_type": "execute_result",
     "data": {
      "text/plain": "16"
     },
     "metadata": {},
     "execution_count": 15
    }
   ],
   "source": [
    "len(circleline.geometry.iloc[74].coords) # measure the points building up this line"
   ]
  },
  {
   "cell_type": "markdown",
   "metadata": {},
   "source": [
    "YES, you are right, `len` and `length` are different! For polylines, `len` counts the number of points to define linestring, and for this polyline, there are 16 points. However, it is not a fixed number, and the number of points to define a linestring varies. Try any other rows, to see the variations of points counts. Further step, let's try to call `length` to see what we will get:"
   ]
  },
  {
   "cell_type": "code",
   "execution_count": 74,
   "metadata": {},
   "outputs": [
    {
     "data": {
      "text/plain": [
       "822.556923061196"
      ]
     },
     "execution_count": 74,
     "metadata": {},
     "output_type": "execute_result"
    }
   ],
   "source": [
    "circleline.geometry.iloc[74].length # measure the length of the railway line"
   ]
  },
  {
   "cell_type": "markdown",
   "metadata": {},
   "source": [
    "As we know the 16 points used to define specific section of circle line, we use their coordinates to define a new LineString named as circleline_74."
   ]
  },
  {
   "cell_type": "code",
   "execution_count": 16,
   "metadata": {},
   "outputs": [
    {
     "output_type": "execute_result",
     "data": {
      "text/plain": "<shapely.geometry.linestring.LineString at 0x1373fbdd0>",
      "image/svg+xml": "<svg xmlns=\"http://www.w3.org/2000/svg\" xmlns:xlink=\"http://www.w3.org/1999/xlink\" width=\"300\" height=\"300\" viewBox=\"530149.7363328163 179625.76098852843 308.57356269005686 818.1652443744824\" preserveAspectRatio=\"xMinYMin meet\"><g transform=\"matrix(1,0,0,-1,0,360069.68722143135)\"><polyline fill=\"none\" stroke=\"#66cc99\" stroke-width=\"5.454434962496549\" points=\"530428.0074790481,180413.6238164446 530411.1982466972,180376.18195359968 530397.0032235021,180344.56021560577 530379.2209069991,180274.64529610798 530371.9918020066,180229.70448672207 530359.5922412437,180162.43145132443 530350.0843889426,180104.51306821714 530346.4988183748,180071.82826697844 530340.3595443233,180026.33684885327 530313.7082672049,179845.00756705605 530306.1320168389,179804.34217539 530297.7263252948,179779.2342295017 530282.1126631077,179751.64929959673 530261.5132050588,179726.7408450343 530225.912359408,179690.44300068187 530180.0387492746,179656.06340498675\" opacity=\"0.8\" /></g></svg>"
     },
     "metadata": {},
     "execution_count": 16
    }
   ],
   "source": [
    "from shapely.geometry import LineString\n",
    "\n",
    "circleline_74=LineString([(530428.0074790481, 180413.6238164446),\n",
    " (530411.1982466972, 180376.18195359968),\n",
    " (530397.0032235021, 180344.56021560577),\n",
    " (530379.2209069991, 180274.64529610798),\n",
    " (530371.9918020066, 180229.70448672207),\n",
    " (530359.5922412437, 180162.43145132443),\n",
    " (530350.0843889426, 180104.51306821714),\n",
    " (530346.4988183748, 180071.82826697844),\n",
    " (530340.3595443233, 180026.33684885327),\n",
    " (530313.7082672049, 179845.00756705605),\n",
    " (530306.1320168389, 179804.34217539),\n",
    " (530297.7263252948, 179779.2342295017),\n",
    " (530282.1126631077, 179751.64929959673),\n",
    " (530261.5132050588, 179726.7408450343),\n",
    " (530225.912359408, 179690.44300068187),\n",
    " (530180.0387492746, 179656.06340498675)])\n",
    "circleline_74"
   ]
  },
  {
   "cell_type": "markdown",
   "metadata": {},
   "source": [
    "Upon the plotting of this polyline, we can call `.bounds` method to get the coordinates for its bounding boxes, which are the coordinates for the left-bottom and right-top."
   ]
  },
  {
   "cell_type": "code",
   "execution_count": 76,
   "metadata": {},
   "outputs": [
    {
     "data": {
      "text/plain": [
       "(530180.0387492746, 179656.06340498675, 530428.0074790481, 180413.6238164446)"
      ]
     },
     "execution_count": 76,
     "metadata": {},
     "output_type": "execute_result"
    }
   ],
   "source": [
    "circleline_74.bounds"
   ]
  },
  {
   "cell_type": "markdown",
   "metadata": {},
   "source": [
    "### <a id=\"Spatial relationships between point and line\">Spatial relationships between point and line<a/>"
   ]
  },
  {
   "cell_type": "markdown",
   "metadata": {},
   "source": [
    "If you try to google the coordinates for 3 selected stations and the sub-section of circle line, you may find the Westminster station (point $p1$) should be on this line; so let's check it by calling either `within` or `contain`. Think of their relationship, it should be line contain point and point within line."
   ]
  },
  {
   "cell_type": "code",
   "execution_count": 19,
   "metadata": {},
   "outputs": [
    {
     "output_type": "execute_result",
     "data": {
      "text/plain": "False"
     },
     "metadata": {},
     "execution_count": 19
    }
   ],
   "source": [
    "# check whether point is within the line\n",
    "p1.within(circleline_74)"
   ]
  },
  {
   "cell_type": "code",
   "execution_count": 102,
   "metadata": {},
   "outputs": [
    {
     "data": {
      "text/plain": [
       "False"
      ]
     },
     "execution_count": 102,
     "metadata": {},
     "output_type": "execute_result"
    }
   ],
   "source": [
    "# check whether the line contains the point\n",
    "circleline_74.contains(p1)"
   ]
  },
  {
   "cell_type": "markdown",
   "metadata": {},
   "source": [
    "So far, from the boolean results, both return **False**, indicating a not contain/within relationship between the point and polyline. But you know it is not the truth, so what is the problem? Discuss with your neighbors about it. \n",
    "\n",
    "Before we work out the solution, there is a roundabout to find the reason...........measure the distance between point and line!"
   ]
  },
  {
   "cell_type": "code",
   "execution_count": 104,
   "metadata": {},
   "outputs": [
    {
     "data": {
      "text/plain": [
       "112.41532473079273"
      ]
     },
     "execution_count": 104,
     "metadata": {},
     "output_type": "execute_result"
    }
   ],
   "source": [
    "p1.distance(circleline_74)"
   ]
  },
  {
   "cell_type": "markdown",
   "metadata": {},
   "source": [
    "It seems that the station is 112.4 meters away from the line, emmmmm, reasonable. So reflecting from the reality, it could be systematic error generated when collecting the original data; or the measuring of coordinates take different centroid/center point. So a commonly used way to fix this could be use `buffer` function.\n",
    "### <a id=\"Buffer\">Buffer<a/>\n",
    "A buffer is a geometry with an envelope at a given distance from the object's envelope. So let's create a 120 metres (slightly larger than 112.4 meters) buffer zone for the named railway line. "
   ]
  },
  {
   "cell_type": "code",
   "execution_count": 20,
   "metadata": {},
   "outputs": [],
   "source": [
    "# Create buffer of 10 metres on the linestring geometry\n",
    "circleline_74_buf=circleline_74.buffer(120)"
   ]
  },
  {
   "cell_type": "markdown",
   "metadata": {},
   "source": [
    "The coordinates for boundings for the buffered zone are also derivable by `bounds`."
   ]
  },
  {
   "cell_type": "code",
   "execution_count": 106,
   "metadata": {},
   "outputs": [
    {
     "data": {
      "text/plain": [
       "(530060.155311603, 179536.1799673152, 530547.956061778, 180533.57239917456)"
      ]
     },
     "execution_count": 106,
     "metadata": {},
     "output_type": "execute_result"
    }
   ],
   "source": [
    "circleline_74_buf.bounds"
   ]
  },
  {
   "cell_type": "markdown",
   "metadata": {},
   "source": [
    "Let's check the type of newly generated buffer data."
   ]
  },
  {
   "cell_type": "code",
   "execution_count": 107,
   "metadata": {},
   "outputs": [
    {
     "data": {
      "text/plain": [
       "shapely.geometry.polygon.Polygon"
      ]
     },
     "execution_count": 107,
     "metadata": {},
     "output_type": "execute_result"
    }
   ],
   "source": [
    "type(circleline_74_buf)"
   ]
  },
  {
   "cell_type": "markdown",
   "metadata": {},
   "source": [
    "It is no longer Linestring, and now become Polygon. If we try to plot both the linestring and its buffer:"
   ]
  },
  {
   "cell_type": "code",
   "execution_count": 108,
   "metadata": {},
   "outputs": [],
   "source": [
    "import descartes\n",
    "ax = plt.gca()\n",
    "ax.add_patch(descartes.PolygonPatch(circleline_74_buf, fc='r', ec='b', alpha=0.4)) # buffer area in red with 40% transparency\n",
    "ax.add_patch(descartes.PolygonPatch(circleline_74.buffer(0.2))) # original linestring in black in the center\n",
    "minx, miny, maxx, maxy = circleline_74_buf.bounds\n",
    "ax.set_xlim(minx, maxx); ax.set_ylim(miny, maxy)\n",
    "ax.set_aspect('auto') # normally use 'equal', here emphasing the buffering\n",
    "plt.show()"
   ]
  },
  {
   "cell_type": "markdown",
   "metadata": {},
   "source": [
    "Buffering helps us to widen the railway line by 10 meters, and we will further check whether the point locates within the buffered zone. So complete the following task by yourself.\n",
    "### <a id=\"Task 5\">Task 5<a/>\n",
    "1. Test whether Westminster station is in the buffered zone of selected section for circle line.\n",
    "2. Test whether the other point, Bank station, locates in the buffered zone for this line."
   ]
  },
  {
   "cell_type": "markdown",
   "metadata": {},
   "source": [
    "If you receive a **True** output, then try to interpret the result: \n",
    "It means ------------ station is ------------ line. \n",
    "\n",
    "If you receive a **False** output, then further work out how far away from the line:\n",
    "------------ station is ------------ meters away from the specified circle line section."
   ]
  },
  {
   "cell_type": "code",
   "execution_count": 109,
   "metadata": {},
   "outputs": [
    {
     "data": {
      "text/plain": [
       "True"
      ]
     },
     "execution_count": 109,
     "metadata": {},
     "output_type": "execute_result"
    }
   ],
   "source": [
    "# your code here\n",
    "p1.within(circleline_74_buf)"
   ]
  },
  {
   "cell_type": "code",
   "execution_count": 111,
   "metadata": {},
   "outputs": [
    {
     "data": {
      "text/plain": [
       "False"
      ]
     },
     "execution_count": 111,
     "metadata": {},
     "output_type": "execute_result"
    }
   ],
   "source": [
    "# your code here\n",
    "p3.within(circleline_74_buf)  # Bank"
   ]
  },
  {
   "cell_type": "code",
   "execution_count": 112,
   "metadata": {},
   "outputs": [
    {
     "data": {
      "text/plain": [
       "2482.688209047946"
      ]
     },
     "execution_count": 112,
     "metadata": {},
     "output_type": "execute_result"
    }
   ],
   "source": [
    "# your code here\n",
    "p3.distance(circleline_74)"
   ]
  },
  {
   "cell_type": "markdown",
   "metadata": {},
   "source": [
    "## <a id=\"Polygon Data\">Polygon Data<a/>\n",
    "\n",
    "Thus far we have encountered two types of geometries for shapefiles, namely **Point** and **Linestring**, and now we will recap on the most familiar third type, **Polygon**, with London LSOA data as the example, copy the data from Week 1 into this week's data folder."
   ]
  },
  {
   "cell_type": "code",
   "execution_count": 21,
   "metadata": {},
   "outputs": [],
   "source": [
    "from shapely.geometry import Polygon\n",
    "lsoas=gpd.read_file('data/LSOA_IMD2019.shp')\n",
    "lsoas.plot()"
   ]
  },
  {
   "cell_type": "markdown",
   "metadata": {},
   "source": [
    "As you are familiar with Geodataframe, I leave it to you to get the information on data features by completing Task 6.\n",
    "### <a id=\"Task 6\">Task 6<a/>\n",
    "1. This is a polygon, please check the geometry for polygon and its **crs**.\n",
    "2. Try to measure the area and length of London LSOAs as polygon data. \n",
    "3. Get the coordinates of bounding box for London LSOAs."
   ]
  },
  {
   "cell_type": "code",
   "execution_count": 115,
   "metadata": {},
   "outputs": [
    {
     "data": {
      "text/plain": [
       "0    POLYGON ((532095.563 181577.351, 532095.125 18...\n",
       "1    POLYGON ((532267.728 181643.781, 532262.875 18...\n",
       "2    POLYGON ((532105.312 182010.574, 532104.872 18...\n",
       "3    POLYGON ((533610.974 181410.968, 533615.622 18...\n",
       "4    POLYGON ((544817.826 184346.261, 544815.791 18...\n",
       "Name: geometry, dtype: geometry"
      ]
     },
     "execution_count": 115,
     "metadata": {},
     "output_type": "execute_result"
    }
   ],
   "source": [
    "# your code here\n",
    "lsoas.geometry.head()"
   ]
  },
  {
   "cell_type": "code",
   "execution_count": 116,
   "metadata": {},
   "outputs": [
    {
     "data": {
      "text/plain": [
       "{'init': 'epsg:27700'}"
      ]
     },
     "execution_count": 116,
     "metadata": {},
     "output_type": "execute_result"
    }
   ],
   "source": [
    "# your code here\n",
    "lsoas.crs"
   ]
  },
  {
   "cell_type": "code",
   "execution_count": 123,
   "metadata": {},
   "outputs": [
    {
     "name": "stdout",
     "output_type": "stream",
     "text": [
      "Area: 1573009131.177406\n",
      "Length:  0       2635.781429\n",
      "1       2708.052040\n",
      "2       1224.770897\n",
      "3       2275.832056\n",
      "4       1966.162225\n",
      "           ...     \n",
      "4941    1916.462524\n",
      "4942    5329.417389\n",
      "4943    2221.028038\n",
      "4944    4260.442206\n",
      "4945    2602.577430\n",
      "Length: 4946, dtype: float64\n"
     ]
    }
   ],
   "source": [
    "# your code here\n",
    "print (\"Area:\", lsoas.area)\n",
    "print (\"Length: \", lsoas.length)"
   ]
  },
  {
   "cell_type": "code",
   "execution_count": 124,
   "metadata": {},
   "outputs": [
    {
     "data": {
      "text/html": [
       "<div>\n",
       "<style scoped>\n",
       "    .dataframe tbody tr th:only-of-type {\n",
       "        vertical-align: middle;\n",
       "    }\n",
       "\n",
       "    .dataframe tbody tr th {\n",
       "        vertical-align: top;\n",
       "    }\n",
       "\n",
       "    .dataframe thead th {\n",
       "        text-align: right;\n",
       "    }\n",
       "</style>\n",
       "<table border=\"1\" class=\"dataframe\">\n",
       "  <thead>\n",
       "    <tr style=\"text-align: right;\">\n",
       "      <th></th>\n",
       "      <th>minx</th>\n",
       "      <th>miny</th>\n",
       "      <th>maxx</th>\n",
       "      <th>maxy</th>\n",
       "    </tr>\n",
       "  </thead>\n",
       "  <tbody>\n",
       "    <tr>\n",
       "      <th>0</th>\n",
       "      <td>531936.688</td>\n",
       "      <td>181262.547</td>\n",
       "      <td>532308.875</td>\n",
       "      <td>182011.969</td>\n",
       "    </tr>\n",
       "    <tr>\n",
       "      <th>1</th>\n",
       "      <td>532213.064</td>\n",
       "      <td>181184.875</td>\n",
       "      <td>532746.813</td>\n",
       "      <td>182003.600</td>\n",
       "    </tr>\n",
       "    <tr>\n",
       "      <th>2</th>\n",
       "      <td>532056.688</td>\n",
       "      <td>181864.500</td>\n",
       "      <td>532421.965</td>\n",
       "      <td>182198.400</td>\n",
       "    </tr>\n",
       "    <tr>\n",
       "      <th>3</th>\n",
       "      <td>533319.188</td>\n",
       "      <td>180733.859</td>\n",
       "      <td>533842.750</td>\n",
       "      <td>181591.156</td>\n",
       "    </tr>\n",
       "    <tr>\n",
       "      <th>4</th>\n",
       "      <td>544691.522</td>\n",
       "      <td>184120.609</td>\n",
       "      <td>545296.313</td>\n",
       "      <td>184604.871</td>\n",
       "    </tr>\n",
       "    <tr>\n",
       "      <th>...</th>\n",
       "      <td>...</td>\n",
       "      <td>...</td>\n",
       "      <td>...</td>\n",
       "      <td>...</td>\n",
       "    </tr>\n",
       "    <tr>\n",
       "      <th>4941</th>\n",
       "      <td>544201.772</td>\n",
       "      <td>179383.681</td>\n",
       "      <td>544804.875</td>\n",
       "      <td>179827.300</td>\n",
       "    </tr>\n",
       "    <tr>\n",
       "      <th>4942</th>\n",
       "      <td>545121.476</td>\n",
       "      <td>179998.296</td>\n",
       "      <td>546689.571</td>\n",
       "      <td>181097.813</td>\n",
       "    </tr>\n",
       "    <tr>\n",
       "      <th>4943</th>\n",
       "      <td>544228.618</td>\n",
       "      <td>179025.000</td>\n",
       "      <td>544775.294</td>\n",
       "      <td>179581.888</td>\n",
       "    </tr>\n",
       "    <tr>\n",
       "      <th>4944</th>\n",
       "      <td>545647.724</td>\n",
       "      <td>179362.113</td>\n",
       "      <td>546561.999</td>\n",
       "      <td>180701.646</td>\n",
       "    </tr>\n",
       "    <tr>\n",
       "      <th>4945</th>\n",
       "      <td>537791.135</td>\n",
       "      <td>176749.623</td>\n",
       "      <td>538315.818</td>\n",
       "      <td>177313.000</td>\n",
       "    </tr>\n",
       "  </tbody>\n",
       "</table>\n",
       "<p>4946 rows × 4 columns</p>\n",
       "</div>"
      ],
      "text/plain": [
       "            minx        miny        maxx        maxy\n",
       "0     531936.688  181262.547  532308.875  182011.969\n",
       "1     532213.064  181184.875  532746.813  182003.600\n",
       "2     532056.688  181864.500  532421.965  182198.400\n",
       "3     533319.188  180733.859  533842.750  181591.156\n",
       "4     544691.522  184120.609  545296.313  184604.871\n",
       "...          ...         ...         ...         ...\n",
       "4941  544201.772  179383.681  544804.875  179827.300\n",
       "4942  545121.476  179998.296  546689.571  181097.813\n",
       "4943  544228.618  179025.000  544775.294  179581.888\n",
       "4944  545647.724  179362.113  546561.999  180701.646\n",
       "4945  537791.135  176749.623  538315.818  177313.000\n",
       "\n",
       "[4946 rows x 4 columns]"
      ]
     },
     "execution_count": 124,
     "metadata": {},
     "output_type": "execute_result"
    }
   ],
   "source": [
    "# your code here\n",
    "lsoas.bounds"
   ]
  },
  {
   "cell_type": "markdown",
   "metadata": {},
   "source": [
    "What have you got? They should be 4946 measures for lsoa's area and length respectively. \n",
    "\n",
    "Since you've get your task done, let's have the 3 datasets plotted together for visualization."
   ]
  },
  {
   "cell_type": "code",
   "execution_count": 22,
   "metadata": {},
   "outputs": [],
   "source": [
    "# Plot three layers in London together\n",
    "stations=gpd.read_file('data/stations.shp')\n",
    "new_stations=stations.to_crs(epsg=27700)\n",
    "\n",
    "ax = lsoas.plot(edgecolor='lightblue', facecolor='none', figsize=(10, 8))\n",
    "new_railways.plot(ax=ax, color='grey')\n",
    "new_stations.plot(ax=ax, color='red', alpha=0.5)\n",
    "ax.set(xlim=(500000, 560000), ylim=(160000, 200000))"
   ]
  },
  {
   "cell_type": "markdown",
   "metadata": {},
   "source": [
    "## [<a id=\"Spatial relationships and operations\">Spatial relationships and operations</a>](https://en.wikipedia.org/wiki/Spatial_relation)\n",
    "\n",
    "Geospatial data normally have their spatial relationships, e.g. overlap, intersect, contain, ..., etc., to describe how two or more spatial objects relate to each other. We had tried to explore the relationship between point and polyline about `contains` and `within`, and we will further explore their relationships with polygon.\n",
    "\n",
    "<img  height=\"100\" src=\"TopologicSpatialRelations2.png\">"
   ]
  },
  {
   "cell_type": "markdown",
   "metadata": {},
   "source": [
    "### <a id=\"Intersections\">Intersections<a/>\n",
    "The spatial intersection relationship happens between polygons, but we are going to practice it simply with our defined three points and their buffers. As you might notice the distances among these points, we will define a 1000 meters' buffer for test. In addition, the library `decartes` will be used to facilitate visualization of these operations:"
   ]
  },
  {
   "cell_type": "code",
   "execution_count": 23,
   "metadata": {},
   "outputs": [],
   "source": [
    "from shapely.geometry import MultiPolygon\n",
    "poly_1=p1.buffer(1000)\n",
    "poly_2=p2.buffer(1000)\n",
    "poly_3=p3.buffer(1000)\n",
    "mp_buf = MultiPolygon((poly_1, poly_2, poly_3))"
   ]
  },
  {
   "cell_type": "code",
   "execution_count": 129,
   "metadata": {},
   "outputs": [],
   "source": [
    "import descartes\n",
    "ax = plt.gca()\n",
    "ax.add_patch(descartes.PolygonPatch(poly_1, fc='b', ec='k', alpha=0.2))\n",
    "ax.add_patch(descartes.PolygonPatch(poly_2, fc='g', ec='k', alpha=0.2))\n",
    "ax.add_patch(descartes.PolygonPatch(poly_3, fc='r', ec='k', alpha=0.2))\n",
    "minx, miny, maxx, maxy = mp_buf.bounds\n",
    "ax.set_xlim(minx, maxx); ax.set_ylim(miny, maxy)\n",
    "ax.set_aspect('equal')\n",
    "plt.show()"
   ]
  },
  {
   "cell_type": "code",
   "execution_count": 130,
   "metadata": {},
   "outputs": [
    {
     "data": {
      "text/plain": [
       "True"
      ]
     },
     "execution_count": 130,
     "metadata": {},
     "output_type": "execute_result"
    }
   ],
   "source": [
    "# Testing the relationships \n",
    "poly_1.intersects(poly_2)"
   ]
  },
  {
   "cell_type": "code",
   "execution_count": 131,
   "metadata": {},
   "outputs": [
    {
     "data": {
      "image/svg+xml": [
       "<svg xmlns=\"http://www.w3.org/2000/svg\" xmlns:xlink=\"http://www.w3.org/1999/xlink\" width=\"300\" height=\"195.53187815158162\" viewBox=\"530111.8585724769 180444.99956092422 709.9768550461158 195.53187815158162\" preserveAspectRatio=\"xMinYMin meet\"><g transform=\"matrix(1,0,0,-1,0,361085.531)\"><path fill-rule=\"evenodd\" fill=\"#66cc99\" stroke=\"#555555\" stroke-width=\"4.733179033640772\" opacity=\"0.6\" d=\"M 530138.1540115527,180598.67262021676 L 530210.6118596704,180609.4207266722 L 530308.629,180614.236 L 530406.6461403295,180609.4207266722 L 530503.7193220161,180595.02128040325 L 530598.9136772545,180571.17633573222 L 530691.312432365,180538.1155325113 L 530780.025736826,180496.15726434835 L 530795.5399884472,180486.85837978325 L 530723.0821403295,180476.11027332782 L 530625.065,180471.295 L 530527.0478596704,180476.11027332782 L 530429.9746779838,180490.50971959677 L 530334.7803227454,180514.3546642678 L 530242.3815676349,180547.41546748872 L 530153.6682631739,180589.37373565166 L 530138.1540115527,180598.67262021676 z\" /></g></svg>"
      ],
      "text/plain": [
       "<shapely.geometry.polygon.Polygon at 0x1375e3110>"
      ]
     },
     "execution_count": 131,
     "metadata": {},
     "output_type": "execute_result"
    }
   ],
   "source": [
    "# Getting the object from this relationship \n",
    "int_1_2 = poly_1.intersection(poly_2)\n",
    "int_1_2"
   ]
  },
  {
   "cell_type": "markdown",
   "metadata": {},
   "source": [
    "The buffered polygon for $p1$ (blue) and $p2$ (green) are intersecting with each other, and. we plot out the object for intersected part. Now you may want to test the relationship between $p1$ and $p3$ by yourself.\n",
    "### <a id=\"Task 7\">Task 7<a/>"
   ]
  },
  {
   "cell_type": "code",
   "execution_count": 134,
   "metadata": {},
   "outputs": [
    {
     "data": {
      "text/plain": [
       "False"
      ]
     },
     "execution_count": 134,
     "metadata": {},
     "output_type": "execute_result"
    }
   ],
   "source": [
    "# Testing the relationships between poly_1 and poly_3\n",
    "# your code here\n",
    "poly_1.intersects(poly_3)"
   ]
  },
  {
   "cell_type": "code",
   "execution_count": 135,
   "metadata": {},
   "outputs": [
    {
     "data": {
      "image/svg+xml": [
       "<svg xmlns=\"http://www.w3.org/2000/svg\" xmlns:xlink=\"http://www.w3.org/1999/xlink\" />"
      ],
      "text/plain": [
       "<shapely.geometry.collection.GeometryCollection at 0x13763d290>"
      ]
     },
     "execution_count": 135,
     "metadata": {},
     "output_type": "execute_result"
    }
   ],
   "source": [
    "# Getting the object from this relationship \n",
    "# your code here\n",
    "int_1_3 = poly_1.intersection(poly_3)\n",
    "int_1_3"
   ]
  },
  {
   "cell_type": "markdown",
   "metadata": {},
   "source": [
    "`Intersection` focuses on the shared part(s) between two polygons, but how if we want to find their differences?\n",
    "### <a id=\"Difference\">Difference<a/>\n",
    "As the 1000 metres' buffer zone for Point $p1$ and Point $p2$ intersect with each other, we will continue with this data for `Difference` operation:"
   ]
  },
  {
   "cell_type": "code",
   "execution_count": 136,
   "metadata": {},
   "outputs": [
    {
     "data": {
      "image/svg+xml": [
       "<svg xmlns=\"http://www.w3.org/2000/svg\" xmlns:xlink=\"http://www.w3.org/1999/xlink\" width=\"300\" height=\"300\" viewBox=\"529228.629 178534.236 2160.0 2144.4366202167585\" preserveAspectRatio=\"xMinYMin meet\"><g transform=\"matrix(1,0,0,-1,0,359212.90862021677)\"><path fill-rule=\"evenodd\" fill=\"#66cc99\" stroke=\"#555555\" stroke-width=\"14.4\" opacity=\"0.6\" d=\"M 531308.629,179614.236 L 531303.8137266722,179516.21885967045 L 531289.4142804032,179419.14567798388 L 531265.5693357321,179323.95132274553 L 531232.5085325112,179231.5525676349 L 531190.5502643483,179142.839263174 L 531140.0986123024,179058.6657669804 L 531081.6394533627,178979.84271583636 L 531015.7357811865,178907.12921881347 L 530943.0222841636,178841.22554663726 L 530864.1992330196,178782.76638769745 L 530780.025736826,178732.31473565166 L 530691.312432365,178690.35646748872 L 530598.9136772545,178657.2956642678 L 530503.7193220161,178633.45071959676 L 530406.6461403295,178619.05127332782 L 530308.629,178614.236 L 530210.6118596704,178619.05127332782 L 530113.5386779838,178633.45071959676 L 530018.3443227455,178657.2956642678 L 529925.9455676349,178690.35646748872 L 529837.2322631739,178732.31473565166 L 529753.0587669803,178782.76638769745 L 529674.2357158363,178841.22554663726 L 529601.5222188134,178907.12921881347 L 529535.6185466372,178979.84271583636 L 529477.1593876975,179058.6657669804 L 529426.7077356516,179142.839263174 L 529384.7494674887,179231.5525676349 L 529351.6886642678,179323.95132274553 L 529327.8437195967,179419.14567798388 L 529313.4442733277,179516.21885967045 L 529308.629,179614.236 L 529313.4442733277,179712.25314032956 L 529327.8437195967,179809.32632201613 L 529351.6886642678,179904.52067725448 L 529384.7494674887,179996.9194323651 L 529426.7077356516,180085.632736826 L 529477.1593876975,180169.8062330196 L 529535.6185466372,180248.62928416365 L 529601.5222188134,180321.34278118654 L 529674.2357158363,180387.24645336275 L 529753.0587669803,180445.70561230255 L 529837.2322631739,180496.15726434835 L 529925.9455676349,180538.1155325113 L 530018.3443227455,180571.17633573222 L 530113.5386779838,180595.02128040325 L 530138.1540115527,180598.67262021676 L 530153.6682631739,180589.37373565166 L 530242.3815676349,180547.41546748872 L 530334.7803227454,180514.3546642678 L 530429.9746779838,180490.50971959677 L 530527.0478596704,180476.11027332782 L 530625.065,180471.295 L 530723.0821403295,180476.11027332782 L 530795.5399884472,180486.85837978325 L 530864.1992330196,180445.70561230255 L 530943.0222841636,180387.24645336275 L 531015.7357811865,180321.34278118657 L 531081.6394533627,180248.62928416365 L 531140.0986123024,180169.80623301963 L 531190.5502643483,180085.632736826 L 531232.5085325112,179996.9194323651 L 531265.5693357321,179904.52067725448 L 531289.4142804032,179809.32632201613 L 531303.8137266722,179712.2531403296 L 531308.629,179614.236 z\" /></g></svg>"
      ],
      "text/plain": [
       "<shapely.geometry.polygon.Polygon at 0x13763d690>"
      ]
     },
     "execution_count": 136,
     "metadata": {},
     "output_type": "execute_result"
    }
   ],
   "source": [
    "# the difference part in poly_1 from poly_2\n",
    "poly_1.difference(poly_2)"
   ]
  },
  {
   "cell_type": "code",
   "execution_count": 137,
   "metadata": {},
   "outputs": [
    {
     "data": {
      "image/svg+xml": [
       "<svg xmlns=\"http://www.w3.org/2000/svg\" xmlns:xlink=\"http://www.w3.org/1999/xlink\" width=\"300\" height=\"300\" viewBox=\"529228.629 178534.236 2160.0 2155.184726672189\" preserveAspectRatio=\"xMinYMin meet\"><g transform=\"matrix(1,0,0,-1,0,359223.6567266722)\"><path fill-rule=\"evenodd\" fill=\"#66cc99\" stroke=\"#555555\" stroke-width=\"14.4\" opacity=\"0.6\" d=\"M 531308.629,179614.236 L 531303.8137266722,179516.21885967045 L 531289.4142804032,179419.14567798388 L 531265.5693357321,179323.95132274553 L 531232.5085325112,179231.5525676349 L 531190.5502643483,179142.839263174 L 531140.0986123024,179058.6657669804 L 531081.6394533627,178979.84271583636 L 531015.7357811865,178907.12921881347 L 530943.0222841636,178841.22554663726 L 530864.1992330196,178782.76638769745 L 530780.025736826,178732.31473565166 L 530691.312432365,178690.35646748872 L 530598.9136772545,178657.2956642678 L 530503.7193220161,178633.45071959676 L 530406.6461403295,178619.05127332782 L 530308.629,178614.236 L 530210.6118596704,178619.05127332782 L 530113.5386779838,178633.45071959676 L 530018.3443227455,178657.2956642678 L 529925.9455676349,178690.35646748872 L 529837.2322631739,178732.31473565166 L 529753.0587669803,178782.76638769745 L 529674.2357158363,178841.22554663726 L 529601.5222188134,178907.12921881347 L 529535.6185466372,178979.84271583636 L 529477.1593876975,179058.6657669804 L 529426.7077356516,179142.839263174 L 529384.7494674887,179231.5525676349 L 529351.6886642678,179323.95132274553 L 529327.8437195967,179419.14567798388 L 529313.4442733277,179516.21885967045 L 529308.629,179614.236 L 529313.4442733277,179712.25314032956 L 529327.8437195967,179809.32632201613 L 529351.6886642678,179904.52067725448 L 529384.7494674887,179996.9194323651 L 529426.7077356516,180085.632736826 L 529477.1593876975,180169.8062330196 L 529535.6185466372,180248.62928416365 L 529601.5222188134,180321.34278118654 L 529674.2357158363,180387.24645336275 L 529753.0587669803,180445.70561230255 L 529837.2322631739,180496.15726434835 L 529925.9455676349,180538.1155325113 L 530018.3443227455,180571.17633573222 L 530113.5386779838,180595.02128040325 L 530210.6118596704,180609.4207266722 L 530138.1540115527,180598.67262021676 L 530153.6682631739,180589.37373565166 L 530242.3815676349,180547.41546748872 L 530334.7803227454,180514.3546642678 L 530429.9746779838,180490.50971959677 L 530527.0478596704,180476.11027332782 L 530625.065,180471.295 L 530723.0821403295,180476.11027332782 L 530795.5399884472,180486.85837978325 L 530780.025736826,180496.15726434835 L 530864.1992330196,180445.70561230255 L 530943.0222841636,180387.24645336275 L 531015.7357811865,180321.34278118657 L 531081.6394533627,180248.62928416365 L 531140.0986123024,180169.80623301963 L 531190.5502643483,180085.632736826 L 531232.5085325112,179996.9194323651 L 531265.5693357321,179904.52067725448 L 531289.4142804032,179809.32632201613 L 531303.8137266722,179712.2531403296 L 531308.629,179614.236 z\" /></g></svg>"
      ],
      "text/plain": [
       "<shapely.geometry.polygon.Polygon at 0x1371a5e50>"
      ]
     },
     "execution_count": 137,
     "metadata": {},
     "output_type": "execute_result"
    }
   ],
   "source": [
    "# difference between poly_1 and intersection part int_1_2\n",
    "poly_1.difference(int_1_2)"
   ]
  },
  {
   "cell_type": "markdown",
   "metadata": {},
   "source": [
    "You will find this is actually the buffered zone of $p1$, without its shared part with $p2$. The slight difference between these 2 outputs will be the outline of shared part. We could also do it in the other way:"
   ]
  },
  {
   "cell_type": "code",
   "execution_count": 148,
   "metadata": {},
   "outputs": [
    {
     "data": {
      "image/svg+xml": [
       "<svg xmlns=\"http://www.w3.org/2000/svg\" xmlns:xlink=\"http://www.w3.org/1999/xlink\" width=\"300\" height=\"300\" viewBox=\"529228.629 178534.236 2160.0 2144.4366202167585\" preserveAspectRatio=\"xMinYMin meet\"><g transform=\"matrix(1,0,0,-1,0,359212.90862021677)\"><path fill-rule=\"evenodd\" fill=\"#66cc99\" stroke=\"#555555\" stroke-width=\"14.4\" opacity=\"0.6\" d=\"M 531308.629,179614.236 L 531303.8137266722,179516.21885967045 L 531289.4142804032,179419.14567798388 L 531265.5693357321,179323.95132274553 L 531232.5085325112,179231.5525676349 L 531190.5502643483,179142.839263174 L 531140.0986123024,179058.6657669804 L 531081.6394533627,178979.84271583636 L 531015.7357811865,178907.12921881347 L 530943.0222841636,178841.22554663726 L 530864.1992330196,178782.76638769745 L 530780.025736826,178732.31473565166 L 530691.312432365,178690.35646748872 L 530598.9136772545,178657.2956642678 L 530503.7193220161,178633.45071959676 L 530406.6461403295,178619.05127332782 L 530308.629,178614.236 L 530210.6118596704,178619.05127332782 L 530113.5386779838,178633.45071959676 L 530018.3443227455,178657.2956642678 L 529925.9455676349,178690.35646748872 L 529837.2322631739,178732.31473565166 L 529753.0587669803,178782.76638769745 L 529674.2357158363,178841.22554663726 L 529601.5222188134,178907.12921881347 L 529535.6185466372,178979.84271583636 L 529477.1593876975,179058.6657669804 L 529426.7077356516,179142.839263174 L 529384.7494674887,179231.5525676349 L 529351.6886642678,179323.95132274553 L 529327.8437195967,179419.14567798388 L 529313.4442733277,179516.21885967045 L 529308.629,179614.236 L 529313.4442733277,179712.25314032956 L 529327.8437195967,179809.32632201613 L 529351.6886642678,179904.52067725448 L 529384.7494674887,179996.9194323651 L 529426.7077356516,180085.632736826 L 529477.1593876975,180169.8062330196 L 529535.6185466372,180248.62928416365 L 529601.5222188134,180321.34278118654 L 529674.2357158363,180387.24645336275 L 529753.0587669803,180445.70561230255 L 529837.2322631739,180496.15726434835 L 529925.9455676349,180538.1155325113 L 530018.3443227455,180571.17633573222 L 530113.5386779838,180595.02128040325 L 530138.1540115527,180598.67262021676 L 530153.6682631739,180589.37373565166 L 530242.3815676349,180547.41546748872 L 530334.7803227454,180514.3546642678 L 530429.9746779838,180490.50971959677 L 530527.0478596704,180476.11027332782 L 530625.065,180471.295 L 530723.0821403295,180476.11027332782 L 530795.5399884472,180486.85837978325 L 530864.1992330196,180445.70561230255 L 530943.0222841636,180387.24645336275 L 531015.7357811865,180321.34278118657 L 531081.6394533627,180248.62928416365 L 531140.0986123024,180169.80623301963 L 531190.5502643483,180085.632736826 L 531232.5085325112,179996.9194323651 L 531265.5693357321,179904.52067725448 L 531289.4142804032,179809.32632201613 L 531303.8137266722,179712.2531403296 L 531308.629,179614.236 z\" /></g></svg>"
      ],
      "text/plain": [
       "<shapely.geometry.polygon.Polygon at 0x137658ad0>"
      ]
     },
     "execution_count": 148,
     "metadata": {},
     "output_type": "execute_result"
    }
   ],
   "source": [
    "# your code here\n",
    "poly_1.union(poly_2).difference(poly_2)"
   ]
  },
  {
   "cell_type": "markdown",
   "metadata": {},
   "source": [
    "Both `intersection` and `difference` are kind of \"subtraction\", how about \"addition\"?\n",
    "### <a id=\"Union and Cascaded Union\">Union and Cascaded Union<a/>    \n",
    "If we want to get the \"addition\" of two objects, we may call `union` in `shapely`."
   ]
  },
  {
   "cell_type": "code",
   "execution_count": 144,
   "metadata": {},
   "outputs": [
    {
     "data": {
      "image/svg+xml": [
       "<svg xmlns=\"http://www.w3.org/2000/svg\" xmlns:xlink=\"http://www.w3.org/1999/xlink\" width=\"300\" height=\"300\" viewBox=\"529154.34664 178459.95364 2625.0007199998945 4165.623720000032\" preserveAspectRatio=\"xMinYMin meet\"><g transform=\"matrix(1,0,0,-1,0,361085.531)\"><path fill-rule=\"evenodd\" fill=\"#66cc99\" stroke=\"#555555\" stroke-width=\"27.770824800000216\" opacity=\"0.6\" d=\"M 531308.629,179614.236 L 531303.8137266722,179516.21885967045 L 531289.4142804032,179419.14567798388 L 531265.5693357321,179323.95132274553 L 531232.5085325112,179231.5525676349 L 531190.5502643483,179142.839263174 L 531140.0986123024,179058.6657669804 L 531081.6394533627,178979.84271583636 L 531015.7357811865,178907.12921881347 L 530943.0222841636,178841.22554663726 L 530864.1992330196,178782.76638769745 L 530780.025736826,178732.31473565166 L 530691.312432365,178690.35646748872 L 530598.9136772545,178657.2956642678 L 530503.7193220161,178633.45071959676 L 530406.6461403295,178619.05127332782 L 530308.629,178614.236 L 530210.6118596704,178619.05127332782 L 530113.5386779838,178633.45071959676 L 530018.3443227455,178657.2956642678 L 529925.9455676349,178690.35646748872 L 529837.2322631739,178732.31473565166 L 529753.0587669803,178782.76638769745 L 529674.2357158363,178841.22554663726 L 529601.5222188134,178907.12921881347 L 529535.6185466372,178979.84271583636 L 529477.1593876975,179058.6657669804 L 529426.7077356516,179142.839263174 L 529384.7494674887,179231.5525676349 L 529351.6886642678,179323.95132274553 L 529327.8437195967,179419.14567798388 L 529313.4442733277,179516.21885967045 L 529308.629,179614.236 L 529313.4442733277,179712.25314032956 L 529327.8437195967,179809.32632201613 L 529351.6886642678,179904.52067725448 L 529384.7494674887,179996.9194323651 L 529426.7077356516,180085.632736826 L 529477.1593876975,180169.8062330196 L 529535.6185466372,180248.62928416365 L 529601.5222188134,180321.34278118654 L 529674.2357158363,180387.24645336275 L 529753.0587669803,180445.70561230255 L 529837.2322631739,180496.15726434835 L 529925.9455676349,180538.1155325113 L 530018.3443227455,180571.17633573222 L 530113.5386779838,180595.02128040325 L 530138.1540115527,180598.67262021676 L 530069.4947669803,180639.82538769746 L 529990.6717158363,180698.28454663727 L 529917.9582188134,180764.18821881348 L 529852.0545466372,180836.90171583637 L 529793.5953876975,180915.72476698042 L 529743.1437356516,180999.89826317402 L 529701.1854674887,181088.6115676349 L 529668.1246642678,181181.01032274554 L 529644.2797195967,181276.2046779839 L 529629.8802733277,181373.27785967046 L 529625.065,181471.295 L 529629.8802733277,181569.31214032957 L 529644.2797195967,181666.38532201614 L 529668.1246642678,181761.57967725449 L 529701.1854674887,181853.9784323651 L 529743.1437356516,181942.691736826 L 529793.5953876975,182026.8652330196 L 529852.0545466372,182105.68828416365 L 529917.9582188134,182178.40178118655 L 529990.6717158363,182244.30545336276 L 530069.4947669803,182302.76461230256 L 530153.6682631739,182353.21626434836 L 530242.3815676349,182395.1745325113 L 530334.7803227454,182428.23533573223 L 530429.9746779838,182452.08028040326 L 530527.0478596704,182466.4797266722 L 530625.065,182471.295 L 530723.0821403295,182466.4797266722 L 530820.1553220161,182452.08028040326 L 530915.3496772544,182428.23533573223 L 531007.748432365,182395.1745325113 L 531096.461736826,182353.21626434836 L 531180.6352330196,182302.76461230256 L 531259.4582841636,182244.30545336276 L 531332.1717811865,182178.40178118658 L 531398.0754533627,182105.68828416365 L 531456.5346123024,182026.86523301963 L 531506.9862643483,181942.691736826 L 531548.9445325112,181853.9784323651 L 531582.0053357321,181761.57967725449 L 531605.8502804032,181666.38532201614 L 531620.2497266722,181569.3121403296 L 531625.065,181471.295 L 531620.2497266722,181373.27785967046 L 531605.8502804032,181276.2046779839 L 531582.0053357321,181181.01032274554 L 531548.9445325112,181088.6115676349 L 531506.9862643483,180999.89826317402 L 531456.5346123024,180915.72476698042 L 531398.0754533627,180836.90171583637 L 531332.1717811865,180764.18821881348 L 531259.4582841636,180698.28454663727 L 531180.6352330196,180639.82538769746 L 531096.461736826,180589.37373565166 L 531007.748432365,180547.41546748872 L 530915.3496772544,180514.3546642678 L 530820.1553220161,180490.50971959677 L 530795.5399884472,180486.85837978325 L 530864.1992330196,180445.70561230255 L 530943.0222841636,180387.24645336275 L 531015.7357811865,180321.34278118657 L 531081.6394533627,180248.62928416365 L 531140.0986123024,180169.80623301963 L 531190.5502643483,180085.632736826 L 531232.5085325112,179996.9194323651 L 531265.5693357321,179904.52067725448 L 531289.4142804032,179809.32632201613 L 531303.8137266722,179712.2531403296 L 531308.629,179614.236 z\" /></g></svg>"
      ],
      "text/plain": [
       "<shapely.geometry.polygon.Polygon at 0x13763abd0>"
      ]
     },
     "execution_count": 144,
     "metadata": {},
     "output_type": "execute_result"
    }
   ],
   "source": [
    "u_1_2 = poly_1.union(poly_2)\n",
    "u_1_2"
   ]
  },
  {
   "cell_type": "markdown",
   "metadata": {},
   "source": [
    "### <a id='Task 8'>Task 8<a/>\n",
    "Once you've understood the rationale of these 3 spatial operations, try to complete this task by yourself.\n",
    "- Union the difference part in poly_1 from poly_2, and the difference part in poly_2 from poly_1. \n",
    "- Further test the containment of point (531000, 180100) from your output of union."
   ]
  },
  {
   "cell_type": "code",
   "execution_count": 156,
   "metadata": {},
   "outputs": [
    {
     "data": {
      "text/plain": [
       "True"
      ]
     },
     "execution_count": 156,
     "metadata": {},
     "output_type": "execute_result"
    }
   ],
   "source": [
    "# your code here = \n",
    "d_1_2 = poly_1.difference(poly_2)\n",
    "d_2_1 = poly_2.difference(poly_1)\n",
    "p_test = Point(531000, 180100)\n",
    "u_int_1_2 = d_1_2.union(d_2_1)\n",
    "p_test.within(u_int_1_2)"
   ]
  },
  {
   "cell_type": "markdown",
   "metadata": {},
   "source": [
    "You've got your outputs so far, however, if we change the method for union into `cascaded_union`, the results will vary. Try google the differences between these two union methods and discuss with your neighbors."
   ]
  },
  {
   "cell_type": "code",
   "execution_count": 153,
   "metadata": {},
   "outputs": [
    {
     "data": {
      "image/svg+xml": [
       "<svg xmlns=\"http://www.w3.org/2000/svg\" xmlns:xlink=\"http://www.w3.org/1999/xlink\" width=\"300\" height=\"300\" viewBox=\"529154.34664 178459.95364 2625.0007199998945 4165.623720000032\" preserveAspectRatio=\"xMinYMin meet\"><g transform=\"matrix(1,0,0,-1,0,361085.531)\"><path fill-rule=\"evenodd\" fill=\"#66cc99\" stroke=\"#555555\" stroke-width=\"27.770824800000216\" opacity=\"0.6\" d=\"M 531308.629,179614.236 L 531303.8137266722,179516.21885967045 L 531289.4142804032,179419.14567798388 L 531265.5693357321,179323.95132274553 L 531232.5085325112,179231.5525676349 L 531190.5502643483,179142.839263174 L 531140.0986123024,179058.6657669804 L 531081.6394533627,178979.84271583636 L 531015.7357811865,178907.12921881347 L 530943.0222841636,178841.22554663726 L 530864.1992330196,178782.76638769745 L 530780.025736826,178732.31473565166 L 530691.312432365,178690.35646748872 L 530598.9136772545,178657.2956642678 L 530503.7193220161,178633.45071959676 L 530406.6461403295,178619.05127332782 L 530308.629,178614.236 L 530210.6118596704,178619.05127332782 L 530113.5386779838,178633.45071959676 L 530018.3443227455,178657.2956642678 L 529925.9455676349,178690.35646748872 L 529837.2322631739,178732.31473565166 L 529753.0587669803,178782.76638769745 L 529674.2357158363,178841.22554663726 L 529601.5222188134,178907.12921881347 L 529535.6185466372,178979.84271583636 L 529477.1593876975,179058.6657669804 L 529426.7077356516,179142.839263174 L 529384.7494674887,179231.5525676349 L 529351.6886642678,179323.95132274553 L 529327.8437195967,179419.14567798388 L 529313.4442733277,179516.21885967045 L 529308.629,179614.236 L 529313.4442733277,179712.25314032956 L 529327.8437195967,179809.32632201613 L 529351.6886642678,179904.52067725448 L 529384.7494674887,179996.9194323651 L 529426.7077356516,180085.632736826 L 529477.1593876975,180169.8062330196 L 529535.6185466372,180248.62928416365 L 529601.5222188134,180321.34278118654 L 529674.2357158363,180387.24645336275 L 529753.0587669803,180445.70561230255 L 529837.2322631739,180496.15726434835 L 529925.9455676349,180538.1155325113 L 530018.3443227455,180571.17633573222 L 530113.5386779838,180595.02128040325 L 530138.1540115527,180598.67262021676 L 530069.4947669803,180639.82538769746 L 529990.6717158363,180698.28454663727 L 529917.9582188134,180764.18821881348 L 529852.0545466372,180836.90171583637 L 529793.5953876975,180915.72476698042 L 529743.1437356516,180999.89826317402 L 529701.1854674887,181088.6115676349 L 529668.1246642678,181181.01032274554 L 529644.2797195967,181276.2046779839 L 529629.8802733277,181373.27785967046 L 529625.065,181471.295 L 529629.8802733277,181569.31214032957 L 529644.2797195967,181666.38532201614 L 529668.1246642678,181761.57967725449 L 529701.1854674887,181853.9784323651 L 529743.1437356516,181942.691736826 L 529793.5953876975,182026.8652330196 L 529852.0545466372,182105.68828416365 L 529917.9582188134,182178.40178118655 L 529990.6717158363,182244.30545336276 L 530069.4947669803,182302.76461230256 L 530153.6682631739,182353.21626434836 L 530242.3815676349,182395.1745325113 L 530334.7803227454,182428.23533573223 L 530429.9746779838,182452.08028040326 L 530527.0478596704,182466.4797266722 L 530625.065,182471.295 L 530723.0821403295,182466.4797266722 L 530820.1553220161,182452.08028040326 L 530915.3496772544,182428.23533573223 L 531007.748432365,182395.1745325113 L 531096.461736826,182353.21626434836 L 531180.6352330196,182302.76461230256 L 531259.4582841636,182244.30545336276 L 531332.1717811865,182178.40178118658 L 531398.0754533627,182105.68828416365 L 531456.5346123024,182026.86523301963 L 531506.9862643483,181942.691736826 L 531548.9445325112,181853.9784323651 L 531582.0053357321,181761.57967725449 L 531605.8502804032,181666.38532201614 L 531620.2497266722,181569.3121403296 L 531625.065,181471.295 L 531620.2497266722,181373.27785967046 L 531605.8502804032,181276.2046779839 L 531582.0053357321,181181.01032274554 L 531548.9445325112,181088.6115676349 L 531506.9862643483,180999.89826317402 L 531456.5346123024,180915.72476698042 L 531398.0754533627,180836.90171583637 L 531332.1717811865,180764.18821881348 L 531259.4582841636,180698.28454663727 L 531180.6352330196,180639.82538769746 L 531096.461736826,180589.37373565166 L 531007.748432365,180547.41546748872 L 530915.3496772544,180514.3546642678 L 530820.1553220161,180490.50971959677 L 530795.5399884472,180486.85837978325 L 530864.1992330196,180445.70561230255 L 530943.0222841636,180387.24645336275 L 531015.7357811865,180321.34278118657 L 531081.6394533627,180248.62928416365 L 531140.0986123024,180169.80623301963 L 531190.5502643483,180085.632736826 L 531232.5085325112,179996.9194323651 L 531265.5693357321,179904.52067725448 L 531289.4142804032,179809.32632201613 L 531303.8137266722,179712.2531403296 L 531308.629,179614.236 z\" /></g></svg>"
      ],
      "text/plain": [
       "<shapely.geometry.polygon.Polygon at 0x138754490>"
      ]
     },
     "execution_count": 153,
     "metadata": {},
     "output_type": "execute_result"
    }
   ],
   "source": [
    "from shapely.ops import cascaded_union\n",
    "cu = cascaded_union([d_1_2, d_2_1, int_1_2])\n",
    "cu"
   ]
  },
  {
   "cell_type": "markdown",
   "metadata": {},
   "source": [
    "Have you spotted out, which element is the crucial reason for the different union outputs? Why?"
   ]
  },
  {
   "cell_type": "code",
   "execution_count": 157,
   "metadata": {},
   "outputs": [
    {
     "data": {
      "text/plain": [
       "True"
      ]
     },
     "execution_count": 157,
     "metadata": {},
     "output_type": "execute_result"
    }
   ],
   "source": [
    "# test the containment of test point again\n",
    "cu.contains(p_test)"
   ]
  },
  {
   "cell_type": "markdown",
   "metadata": {},
   "source": [
    "Once you are happy with these operations on three main types of vector data. Let's define a specific region, which is City of London, and get the stations and railways within the area \"cut\" out.\n",
    "\n",
    "## <a id='Get stations and railways within City of London'>Get stations and railways within City of London<a/>\n",
    "To select only the railways within City of London, we could take several approaches. We have the lsoa layer for 4946 polygons, as well as the railway network layer for London with 12118 segments. We could then use the intersects method for each lsoa to test if it intersects with a particular segment of the railway network, and keep all the segments where we find an intersection with the lsoa.\n",
    "\n",
    "Although this would work, it turns out to be very inefficient requiring we compare each lsoas against each railway segments and test for an intersection. If we think about our problem from a slightly different perspective, we know that if we find a segment that intersects with a lsoa within **city_ldn**, it must, by definition, intersect with the polygon, if we had such a thing. This would substantially reduce the number of intersection tests we need to conduct. We now only need compare 1 polygon against each of the railway segments. Great.\n",
    "\n",
    "Before we start our computation, there is still one crucial thing to be solved: we do not yet have the magical **city_ldn** polygon, and this could be got by calling `Dissolve`."
   ]
  },
  {
   "cell_type": "code",
   "execution_count": 24,
   "metadata": {},
   "outputs": [],
   "source": [
    "# find city of london polygon\n",
    "lsoas.set_index('lsoa11nm', inplace=True)\n",
    "city_ldn = lsoas.loc[['City of London 001A','City of London 001B', 'City of London 001C', 'City of London 001E', 'City of London 001F', 'City of London 001G']]\n",
    "city_ldn.plot(edgecolor='lightblue')"
   ]
  },
  {
   "cell_type": "markdown",
   "metadata": {},
   "source": [
    "We are going to dissolve all the lsoa boundaries that do not coincide with the boundary of the DataFrame\\'s geometry collection. This is done by creating a new attribute that takes on the same values for each feature, and calling the `dissovle` method with that attribute\n",
    "as the argument to the `by` option:"
   ]
  },
  {
   "cell_type": "code",
   "execution_count": 25,
   "metadata": {},
   "outputs": [],
   "source": [
    "city_ldn['dummy'] = 1.0\n",
    "city_london = city_ldn.dissolve(by='dummy')\n",
    "city_london.plot()"
   ]
  },
  {
   "cell_type": "markdown",
   "metadata": {},
   "source": [
    "Or else, we could also obtained this polygon by using the `unary_union` method of the GeoSeries, and this gives us a vector object combining all of the polygons in boundary layer. We would then have to construct a new GeoDataFrame with this as the Geometry column. "
   ]
  },
  {
   "cell_type": "code",
   "execution_count": 27,
   "metadata": {},
   "outputs": [
    {
     "output_type": "execute_result",
     "data": {
      "text/plain": "<shapely.geometry.multipolygon.MultiPolygon at 0x136f39090>",
      "image/svg+xml": "<svg xmlns=\"http://www.w3.org/2000/svg\" xmlns:xlink=\"http://www.w3.org/1999/xlink\" width=\"300\" height=\"300\" viewBox=\"530851.6455200001 180401.2037190742 3106.146959999809 1912.2387609261787\" preserveAspectRatio=\"xMinYMin meet\"><g transform=\"matrix(1,0,0,-1,0,362714.6461990746)\"><g><path fill-rule=\"evenodd\" fill=\"#66cc99\" stroke=\"#555555\" stroke-width=\"20.707646399998726\" opacity=\"0.6\" d=\"M 531627.0561007272,180537.06947927098 L 531627.0690327316,180537.07075939034 L 531628.2999999998,180531.09999999963 L 531667.6239999998,180534.99200000055 L 531667.625,180534.93700000085 L 531652.0480000004,180533.4110000003 L 531647.182,180532.93400000036 L 531641.1509999996,180532.34200000018 L 531628.25,180531.07799999975 L 531627.0561007272,180537.06947927098 z\" /><path fill-rule=\"evenodd\" fill=\"#66cc99\" stroke=\"#555555\" stroke-width=\"20.707646399998726\" opacity=\"0.6\" d=\"M 531625.1749999998,180542.30000000075 L 531621.5,180547.1559999995 L 531621.5149999997,180547.1799999997 L 531625.1749999998,180542.30000000075 z\" /><path fill-rule=\"evenodd\" fill=\"#66cc99\" stroke=\"#555555\" stroke-width=\"20.707646399998726\" opacity=\"0.6\" d=\"M 533610.9740000004,181410.96800000034 L 533615.6220000004,181406.02300000004 L 533619.0619999999,181402.36400000006 L 533639.8679999998,181380.22699999996 L 533646.6370000001,181373.02600000054 L 533659.4380000001,181359.4059999995 L 533661.9349999996,181356.49200000055 L 533674.8399999999,181341.43200000003 L 533682.0,181333.0730000008 L 533683.1880000001,181331.68700000085 L 533687.267,181326.52600000054 L 533689.8020000001,181323.31799999997 L 533695.284,181316.38199999928 L 533695.9950000001,181315.48299999908 L 533709.8130000001,181298.0 L 533717.8310000002,181288.78800000064 L 533719.5630000001,181286.79800000042 L 533720.4019999998,181285.9110000003 L 533743.6880000001,181261.32799999975 L 533744.2199999997,181260.4810000006 L 533754.0,181244.89800000004 L 533754.0580000002,181244.8049999997 L 533765.8059999999,181226.08699999936 L 533766.932,181221.92200000025 L 533767.6229999997,181219.35700000077 L 533770.199,181209.79399999976 L 533778.5319999997,181178.86500000022 L 533778.6330000004,181178.48699999973 L 533779.375,181175.73399999924 L 533781.1529999999,181167.89699999988 L 533782.4589999998,181162.14499999955 L 533782.5769999996,181161.62299999967 L 533786.6090000002,181143.85700000077 L 533786.9380000001,181142.4059999995 L 533792.3039999995,181116.41899999976 L 533793.7640000004,181109.34999999963 L 533796.75,181094.89100000076 L 533798.5750000002,181083.1160000004 L 533803.1739999996,181053.43200000003 L 533805.2819999997,181039.83300000057 L 533805.648,181037.47100000083 L 533806.4390000002,181032.36199999973 L 533807.125,181027.93700000085 L 533808.3389999997,181017.86500000022 L 533808.892,181013.27999999933 L 533811.7759999996,180989.35500000045 L 533811.9919999996,180987.5639999993 L 533814.7719999999,180964.49499999918 L 533814.8859999999,180963.5519999992 L 533815.9380000001,180954.82799999975 L 533818.6469999999,180940.23399999924 L 533819.0599999996,180938.00799999945 L 533819.9270000001,180933.34100000001 L 533820.875,180928.23399999924 L 533826.0630000001,180907.43700000085 L 533830.875,180894.13499999978 L 533831.7000000002,180891.85500000045 L 533832.2180000003,180890.42400000058 L 533832.8130000001,180888.7809999995 L 533833.2300000004,180886.61400000006 L 533834.756,180878.68700000085 L 533837.3130000001,180865.4059999995 L 533837.3880000003,180864.4969999995 L 533837.5099999998,180863.02199999988 L 533837.9380000001,180857.85899999924 L 533838.142,180855.38099999912 L 533838.7709999997,180847.72900000028 L 533839.0080000004,180844.8509999998 L 533839.4380000001,180839.625 L 533840.9859999996,180820.78299999982 L 533841.625,180813.0 L 533841.608,180811.37099999934 L 533841.5860000001,180809.1860000007 L 533841.5010000002,180800.80000000075 L 533841.5,180800.75 L 533842.375,180797.70299999975 L 533842.75,180793.60899999924 L 533842.3130000001,180789.31299999915 L 533841.25,180786.4690000005 L 533840.9850000003,180785.99499999918 L 533839.75,180783.79700000025 L 533837.6869999999,180781.45299999975 L 533835.585,180779.54399999976 L 533835.3130000001,180779.29700000025 L 533835.1320000002,180779.1559999995 L 533833.9840000002,180778.26099999994 L 533832.75,180777.29700000025 L 533831.8619999997,180776.69600000046 L 533831.2220000001,180776.26400000043 L 533830.2340000002,180775.59500000067 L 533830.0329999998,180775.4600000009 L 533830.0,180775.43700000085 L 533828.5939999996,180774.56299999915 L 533827.1880000001,180773.68700000085 L 533824.1880000001,180772.2039999999 L 533823.8459999999,180772.0610000007 L 533822.5,180771.5 L 533821.6579999998,180771.1490000002 L 533820.8200000003,180770.80000000075 L 533820.4380000001,180770.64100000076 L 533820.0640000002,180770.52999999933 L 533817.5719999997,180769.79199999943 L 533816.375,180769.4360000007 L 533815.5769999996,180769.24799999967 L 533813.1490000002,180768.6679999996 L 533812.3130000001,180768.4690000005 L 533811.8090000004,180768.38599999994 L 533809.2029999997,180767.95800000057 L 533808.125,180767.7809999995 L 533807.9460000005,180767.76999999955 L 533806.591,180767.6830000002 L 533802.8940000003,180767.44700000063 L 533802.5,180767.42200000025 L 533802.4340000004,180767.42300000042 L 533798.7309999997,180767.47699999996 L 533798.25,180767.48399999924 L 533795.1220000004,180767.83400000073 L 533794.4239999996,180767.91300000064 L 533794.0640000002,180767.95299999975 L 533791.932,180768.32100000046 L 533790.4589999998,180768.57599999942 L 533789.8130000001,180768.68700000085 L 533786.1880000001,180769.625 L 533785.631,180769.8080000002 L 533783.3909999998,180770.54499999993 L 533782.625,180770.79700000025 L 533779.875,180771.89100000076 L 533764.6459999997,180768.33799999952 L 533757.4380000001,180766.6559999995 L 533747.1799999997,180761.4360000007 L 533735.6679999996,180755.57799999975 L 533731.7630000003,180753.58999999985 L 533728.2929999996,180751.8239999991 L 533727.6730000004,180751.5089999996 L 533727.625,180751.48399999924 L 533721.0630000001,180753.56200000085 L 533716.784,180754.88599999994 L 533716.0949999997,180755.09899999946 L 533715.3779999996,180755.32100000046 L 533714.432,180755.6129999999 L 533711.1150000002,180756.63900000043 L 533700.2819999997,180759.99000000022 L 533700.25,180760.0 L 533686.0710000005,180751.94700000063 L 533665.182,180740.08300000057 L 533658.625,180736.35899999924 L 533649.0630000001,180733.85899999924 L 533649.0109999999,180733.90399999917 L 533647.2889999999,180735.40699999966 L 533647.2649999997,180735.42799999937 L 533640.25,180741.54700000025 L 533637.0630000001,180746.93700000085 L 533635.5669999998,180753.73599999957 L 533631.5630000001,180771.93700000085 L 533608.9409999996,180767.38599999994 L 533607.875,180767.17200000025 L 533607.3030000003,180772.22000000067 L 533606.7460000003,180777.14200000092 L 533602.4380000001,180815.17300000042 L 533599.023,180813.8239999991 L 533598.5350000001,180813.63199999928 L 533595.6689999998,180812.5 L 533595.3130000001,180812.35899999924 L 533595.3039999995,180812.40100000054 L 533595.1529999999,180813.17799999937 L 533593.5630000001,180821.3440000005 L 533591.3059999999,180820.8169999998 L 533577.8959999997,180817.6889999993 L 533573.9380000001,180816.76600000076 L 533558.7620000001,180814.11800000072 L 533552.5920000002,180813.04199999943 L 533551.1940000001,180812.79700000025 L 533553.7989999996,180795.06799999997 L 533553.9720000001,180793.88900000043 L 533554.2340000002,180792.1099999994 L 533556.3130000001,180778.0 L 533548.0590000004,180777.32799999975 L 533544.8360000001,180777.0669999998 L 533543.5640000002,180776.96299999952 L 533518.3470000001,180774.90899999999 L 533518.125,180774.89100000076 L 533503.256,180769.04099999927 L 533499.0630000001,180767.39100000076 L 533497.8550000004,180766.66000000015 L 533483.875,180758.20299999975 L 533469.8820000002,180740.33699999936 L 533466.3779999996,180735.8629999999 L 533455.5520000001,180717.2039999999 L 533455.0360000003,180716.3139999993 L 533453.0800000001,180712.94299999997 L 533452.125,180711.29700000025 L 533449.7939999998,180707.76799999923 L 533449.0250000004,180706.60500000045 L 533447.7879999997,180704.7310000006 L 533441.8799999999,180695.7890000008 L 533441.0209999997,180695.62399999984 L 533440.9670000002,180695.61400000006 L 533420.125,180691.7809999995 L 533418.4199999999,180682.1860000007 L 533414.8949999996,180662.3440000005 L 533413.8130000001,180656.25 L 533407.0,180658.2190000005 L 533405.2920000004,180654.2809999995 L 533404.0240000002,180651.35500000045 L 533403.375,180649.85899999924 L 533431.7929999996,180637.84100000001 L 533433.375,180637.17200000025 L 533428.375,180625.5309999995 L 533428.4079999998,180625.51799999923 L 533431.4790000003,180624.25799999945 L 533434.0930000003,180623.18500000052 L 533434.125,180623.17200000025 L 533433.227,180621.29800000042 L 533428.5880000005,180611.6160000004 L 533410.2520000003,180573.34699999914 L 533408.648,180569.0 L 533405.6739999996,180560.93799999915 L 533405.4380000001,180560.29700000025 L 533405.4890000001,180560.2589999996 L 533410.9450000003,180556.18200000003 L 533411.0930000003,180556.07100000046 L 533411.125,180556.04700000025 L 533410.7980000004,180554.83000000007 L 533401.2635076798,180519.3103914813 L 533399.515047481,180519.94618793193 L 533399.215056975,180519.04620541562 L 533397.0150994672,180519.84618083207 L 533391.9151978057,180521.74612290313 L 533390.8152194186,180522.0461126761 L 533386.0153174284,180522.34608888318 L 533383.8153621204,180522.54607668868 L 533382.5154028934,180518.74615038797 L 533381.7154285769,180516.2461990742 L 533332.616390328,180530.4457258662 L 533321.0166023478,180537.9455284782 L 533319.0166403442,180538.84550256334 L 533314.5167259274,180540.84544477047 L 533305.9168892015,180544.74533271353 L 533293.6171237403,180550.04517818522 L 533254.4178700813,180567.24467932642 L 533247.6865804151,180568.49118892543 L 533247.5999999996,180570.80000000075 L 533246.229155812,180571.11441380528 L 533246.0180086963,180576.74445237388 L 533235.1182245931,180579.2443607935 L 533232.8183014116,180571.2445175461 L 533104.2208815794,180591.7436228121 L 533100.1209640362,180592.3435953923 L 533090.6211557924,180593.54353578575 L 533085.5213274509,180575.44389082515 L 533042.722190653,180581.04361828993 L 532967.6236929235,180594.24307042122 L 532961.9238084173,180594.84303713695 L 532960.423838656,180595.04302750836 L 532920.2246511079,180599.84278102516 L 532915.2247517817,180600.54274824372 L 532878.6254884349,180605.742506698 L 532857.4958561946,180612.98403118452 L 532856.7999999998,180615.90000000037 L 532856.6355778,180615.93501583923 L 532855.225912577,180621.84208847844 L 532812.0267708446,180631.04174014536 L 532800.0270120222,180632.84165898612 L 532788.6272415441,180634.44158416078 L 532785.8273110895,180631.24163996958 L 532782.4273798263,180631.64161924546 L 532780.7274383896,180625.2417451637 L 532778.9274781221,180624.54175301874 L 532776.727524281,180624.34174908517 L 532758.1279024687,180625.94164786063 L 532742.8282180169,180626.04158970877 L 532742.0282345352,180626.0415867768 L 532739.5282854221,180626.24157348234 L 532737.4283280498,180626.44156165532 L 532695.5291803719,180629.94133578637 L 532673.7296286663,180630.44124554563 L 532660.0299203426,180628.04124488 L 532641.5302931669,180630.5411254412 L 532583.6314300365,180646.5405828135 L 532555.5319794547,180654.9403063585 L 532527.9325181828,180663.4400296699 L 532507.1329135711,180672.73976138997 L 532506.5329252268,180672.93975506088 L 532504.7329605606,180673.43973813823 L 532478.9334665213,180680.73949282657 L 532472.6335885397,180682.9394243057 L 532417.7346502725,180702.538818344 L 532389.4351924584,180714.0384771445 L 532344.5360744715,180726.33805857564 L 532313.6366857399,180733.63779456838 L 532309.2367707266,180735.2377454011 L 532277.4373855492,180746.63739343744 L 532275.9361452523,180747.18329276916 L 532283.0,180773.0 L 532286.7000000002,180786.59999999963 L 532283.8486339172,180787.8005751928 L 532285.1370583007,180792.53647389374 L 532277.5372034966,180795.73637995787 L 532274.4372982982,180787.33654204133 L 532248.3378166882,180792.93633073446 L 532248.037827648,180791.6363564803 L 532239.0381300519,180759.83698011178 L 532223.4384378676,180763.73684239696 L 532215.4386338452,180755.336986518 L 532168.7847139508,180772.33697891276 L 532168.7999999998,180773.30000000075 L 532167.1513464343,180773.67874473878 L 532167.2395414786,180779.2363163305 L 532122.8404208696,180789.43594295648 L 532101.5408397827,180795.13574718247 L 532095.440988464,180788.93585284374 L 532083.4412102167,180796.03566224826 L 532077.1413307698,180798.6355854696 L 532071.341459694,180796.1356158288 L 532059.7416863837,180799.63550103822 L 532033.5422068404,180805.2352893643 L 532014.4425957238,180806.73518837598 L 532012.7426300927,180806.93517801602 L 532011.2426606986,180807.03517045075 L 531989.9430994069,180807.33508617943 L 531966.7435725819,180808.934968098 L 531955.8437987479,180808.63493433758 L 531953.4438483038,180808.63492553955 L 531746.9481301405,180803.73426977172 L 531744.5482141528,180794.3344550731 L 531731.7484799178,180793.93441641028 L 531725.248614865,180793.73439671588 L 531720.6487105804,180793.53438398195 L 531716.6487935402,180793.4343713866 L 531714.3345973667,180793.36824300617 L 531714.0999999996,180797.19999999925 L 531712.9137328778,180797.1746403696 L 531712.5488426426,180803.13415606326 L 531670.4497152369,180802.23402032896 L 531626.0610198354,180803.86016736092 L 531624.0506670891,180803.9338151472 L 531566.6518512059,180804.23359855026 L 531425.4547751895,180801.93312847614 L 531424.2548003342,180801.8331261429 L 531419.1549063742,180801.6331115794 L 531358.6561625679,180799.7329290507 L 531357.7561811516,180799.73292575317 L 531183.2597949352,180796.83234602056 L 531182.5598445766,180787.23254168418 L 531166.9601674258,180787.03248863382 L 531164.8602023574,180789.33243344398 L 531144.7797588209,180788.1067925926 L 531144.6880000001,180789.70299999975 L 531145.75,180803.875 L 531145.7249999996,180805.6129999999 L 531145.5559999999,180817.39699999988 L 531145.4910000004,180821.875 L 531145.125,180847.4690000005 L 531147.4380000001,180882.1559999995 L 531146.8310000002,180883.78199999966 L 531144.25,180890.70299999975 L 531142.9510000004,180893.66599999927 L 531134.1849999996,180913.65300000086 L 531131.307,180920.19999999925 L 531117.375,180914.07799999975 L 531106.932,180932.8479999993 L 531106.6660000002,180933.32699999958 L 531097.9380000001,180949.01600000076 L 531098.0130000003,180949.07699999958 L 531106.023,180955.60199999996 L 531109.5630000001,180958.48399999924 L 531103.4689999996,180969.86099999957 L 531102.0769999996,180972.4600000009 L 531101.8679999998,180972.84899999946 L 531094.8799999999,180985.90000000037 L 531088.5329999998,180983.53199999966 L 531083.3990000002,180981.6099999994 L 531082.8090000004,180981.39599999972 L 531082.3210000005,180981.93200000003 L 531075.2230000002,180989.75500000082 L 531074.6880000001,180990.3440000005 L 531074.7220000001,180990.37600000016 L 531077.1330000004,180992.60500000045 L 531078.3190000001,180993.70299999975 L 531080.8049999997,180996.0 L 531083.006,180998.03500000015 L 531084.5,180999.41699999943 L 531099.5590000004,181013.3509999998 L 531099.108,181014.24300000072 L 531095.8339999998,181020.7190000005 L 531090.6030000001,181031.0639999993 L 531090.5410000002,181031.18799999915 L 531090.375,181031.51600000076 L 531090.4289999995,181031.54199999943 L 531093.5939999996,181033.0580000002 L 531106.7960000001,181039.3780000005 L 531114.165,181042.9059999995 L 531115.159,181043.38099999912 L 531124.244,181047.7310000006 L 531127.9380000001,181049.49899999984 L 531125.6699999999,181059.22900000028 L 531121.3490000004,181077.76600000076 L 531120.9380000001,181079.5309999995 L 531113.3150000004,181101.41999999993 L 531112.3130000001,181104.29700000025 L 531123.9460000005,181107.74200000055 L 531131.1840000004,181109.8870000001 L 531137.8289999999,181111.8560000006 L 531150.375,181115.57200000063 L 531160.057,181118.43999999948 L 531161.7980000004,181118.95600000024 L 531172.8049999997,181122.21700000018 L 531172.3250000002,181124.25999999978 L 531172.233,181124.63800000027 L 531172.0549999997,181125.38099999912 L 531169.8849999998,181134.44600000046 L 531169.8470000001,181134.60400000028 L 531167.2089999998,181145.62299999967 L 531160.4850000003,181173.7100000009 L 531154.8130000001,181197.4059999995 L 531153.3190000001,181202.54900000058 L 531144.875,181231.625 L 531141.085,181247.7589999996 L 531141.0609999998,181247.86099999957 L 531133.75,181278.9849999994 L 531132.7240000004,181282.92500000075 L 531132.0,181285.70099999942 L 531131.7450000001,181286.36700000055 L 531130.7549999999,181288.93700000085 L 531110.8169999998,181340.73399999924 L 531110.5199999996,181341.50599999912 L 531110.1239999998,181342.5309999995 L 531106.3210000005,181351.11900000088 L 531104.9299999997,181354.25999999978 L 531104.5959999999,181355.01400000043 L 531099.0310000004,181367.58300000057 L 531096.8480000002,181372.51099999994 L 531090.6880000001,181386.42300000042 L 531089.125,181389.14100000076 L 531087.3959999997,181392.1640000008 L 531082.7740000002,181400.24200000055 L 531080.3609999996,181404.45800000057 L 531075.4309999999,181413.07699999958 L 531059.2750000004,181441.31299999915 L 531059.1579999998,181441.51799999923 L 531045.9869999997,181464.54199999943 L 531045.2800000003,181465.77600000054 L 531042.0369999995,181471.4450000003 L 531039.3159999996,181476.20299999975 L 531037.75,181478.93700000085 L 531035.7089999998,181481.9480000008 L 531035.4390000002,181482.34600000083 L 531027.7230000002,181493.7310000006 L 531025.477,181497.0460000001 L 531022.8859999999,181500.86900000088 L 531020.1699999999,181504.87600000016 L 531009.6710000001,181520.36700000055 L 531005.04,181527.20099999942 L 530997.1780000003,181538.8010000009 L 530993.5159999998,181544.20500000007 L 530992.5,181545.7039999999 L 530991.6299999999,181547.29800000042 L 530987.2719999999,181555.2899999991 L 530984.3640000001,181560.62399999984 L 530978.7819999997,181570.8599999994 L 530973.8399999999,181579.92400000058 L 530972.1880000001,181582.95299999975 L 530971.869,181583.75 L 530966.994,181595.96600000001 L 530966.858,181596.30700000003 L 530966.6880000001,181596.73399999924 L 530967.8130000001,181608.17200000025 L 530967.8439999996,181608.17300000042 L 530977.5779999997,181608.6520000007 L 530990.5650000004,181609.29199999943 L 530999.9119999995,181609.75200000033 L 531016.2340000002,181610.5549999997 L 531016.3109999998,181610.55900000036 L 531026.9340000004,181611.0820000004 L 531028.5070000002,181611.15899999999 L 531036.0630000001,181611.5309999995 L 531043.5,181611.2929999996 L 531060.5520000001,181610.74799999967 L 531073.9570000004,181610.31799999997 L 531075.6900000004,181610.2620000001 L 531080.5,181610.1099999994 L 531107.0029999996,181609.25999999978 L 531111.2810000004,181609.12299999967 L 531117.0630000001,181608.93700000085 L 531117.1059999997,181608.93099999987 L 531128.9029999999,181607.39699999988 L 531143.3109999998,181605.52600000054 L 531158.5379999997,181603.54700000025 L 531162.7429999998,181603.00100000016 L 531163.0899999999,181602.95500000007 L 531177.4119999995,181601.0940000005 L 531182.3760000002,181600.4480000008 L 531186.6279999996,181599.89599999972 L 531188.0020000003,181599.71800000034 L 531200.25,181598.125 L 531212.9330000002,181595.26999999955 L 531225.9519999996,181592.3389999997 L 531266.1880000001,181583.2809999995 L 531269.1150000002,181582.55000000075 L 531274.9780000001,181581.08400000073 L 531304.074,181573.81000000052 L 531304.8590000002,181573.6129999999 L 531308.9689999996,181572.5859999992 L 531310.5630000001,181572.18700000085 L 531317.8169999998,181571.13499999978 L 531338.335,181568.15699999966 L 531356.75,181565.48399999924 L 531364.6710000001,181564.47800000012 L 531368.2450000001,181564.0240000002 L 531369.5829999996,181563.85400000028 L 531383.1880000001,181562.125 L 531386.3720000004,181563.4570000004 L 531392.4040000001,181565.98000000045 L 531392.8899999997,181566.1830000002 L 531397.1469999999,181567.9639999997 L 531402.2170000002,181570.08400000073 L 531405.0049999999,181571.25 L 531409.3779999996,181573.0850000009 L 531410.665,181576.11199999973 L 531412.6050000004,181580.67400000058 L 531413.8099999996,181583.50999999978 L 531420.267,181586.75699999928 L 531424.0619999999,181588.66300000064 L 531427.557,181590.4179999996 L 531463.25,181608.34500000067 L 531465.2800000003,181609.36400000006 L 531495.3130000001,181624.43700000085 L 531510.5480000004,181633.35899999924 L 531511.1869999999,181633.73399999924 L 531513.6799999997,181635.1919999998 L 531515.0310000004,181635.98299999908 L 531521.6440000003,181639.84899999946 L 531542.1119999997,181651.81799999997 L 531543.7999999998,181652.8049999997 L 531550.1059999997,181656.49300000072 L 531554.875,181659.2809999995 L 531556.0140000004,181659.84999999963 L 531571.1449999996,181667.41599999927 L 531583.9380000001,181673.81200000085 L 531589.4390000002,181676.55700000003 L 531602.369,181683.00599999912 L 531627.8190000001,181695.6860000007 L 531699.5630000001,181731.48399999924 L 531703.8660000004,181733.83999999985 L 531713.5719999997,181739.1520000007 L 531721.7479999997,181743.62600000016 L 531727.3130000001,181746.6710000001 L 531747.5029999996,181757.72100000083 L 531747.8899999997,181757.9330000002 L 531773.9680000003,181772.20500000007 L 531778.0109999999,181774.4179999996 L 531780.8650000002,181775.98000000045 L 531785.3150000004,181778.41599999927 L 531786.9689999996,181779.32100000046 L 531796.375,181784.4690000005 L 531806.125,181789.76600000076 L 531809.818,181791.66999999993 L 531825.9139999999,181799.96700000018 L 531836.0010000002,181805.1679999996 L 531854.7089999998,181814.81299999915 L 531856.4289999995,181815.6989999991 L 531871.1129999999,181823.26999999955 L 531883.085,181829.4419999998 L 531900.625,181838.48399999924 L 531905.3279999997,181840.70299999975 L 531905.3470000001,181840.71199999936 L 531912.8130000001,181844.23399999924 L 531925.4790000003,181850.17899999954 L 531941.3820000002,181857.64599999972 L 531944.3150000004,181859.02199999988 L 531944.5480000004,181859.13199999928 L 531955.4960000003,181864.27199999988 L 531961.1270000003,181866.91599999927 L 531963.9359999998,181868.23399999924 L 531971.7450000001,181871.90000000037 L 531972.1260000002,181872.07799999975 L 531984.8470000001,181877.49400000088 L 531988.6579999998,181879.1160000004 L 532007.415,181887.1009999998 L 532008.4879999999,181887.55700000003 L 532012.6260000002,181889.31900000013 L 532022.3739999998,181893.4690000005 L 532034.2410000004,181897.06900000013 L 532052.4890000001,181902.58400000073 L 532055.9570000004,181903.6339999996 L 532056.9790000003,181903.94400000013 L 532082.8760000002,181911.7809999995 L 532082.9119999995,181912.22000000067 L 532083.5549999997,181919.86099999957 L 532083.9119999995,181924.0979999993 L 532083.9539999999,181924.59300000034 L 532084.6009999998,181932.27500000037 L 532084.7359999996,181933.88499999978 L 532087.0,181960.7770000007 L 532087.0429999996,181961.2860000003 L 532088.3080000002,181976.31599999964 L 532088.8130000001,181982.31200000085 L 532089.7390000001,181988.87399999984 L 532090.25,181992.49400000088 L 532090.7309999997,181995.90100000054 L 532093.0,182011.9690000005 L 532098.8799999999,182011.92200000025 L 532099.0,182011.9210000001 L 532104.8720000004,182011.8870000001 L 532103.0609999998,182019.4360000007 L 532101.6260000002,182025.4210000001 L 532099.551,182034.0739999991 L 532092.8629999999,182061.94999999925 L 532089.2640000004,182076.9849999994 L 532087.6880000001,182083.5309999995 L 532083.5659999996,182095.36700000055 L 532081.2220000001,182102.09999999963 L 532078.0630000001,182111.17200000025 L 532073.5630000001,182121.375 L 532071.3499999996,182125.69099999964 L 532067.25,182133.68700000085 L 532060.8930000002,182144.1980000008 L 532059.0,182147.32699999958 L 532056.6880000001,182150.76600000076 L 532061.4900000002,182153.6649999991 L 532065.176,182155.8900000006 L 532071.3020000001,182159.5859999992 L 532080.4840000002,182165.12700000033 L 532092.9649999999,182172.65899999999 L 532135.1449999996,182198.11900000088 L 532135.6150000002,182198.40000000037 L 532138.2659999998,182194.73900000006 L 532148.9369999999,182179.92200000025 L 532149.9000000004,182176.93799999915 L 532153.7029999997,182165.15499999933 L 532158.25,182151.06200000085 L 532158.7860000003,182151.33100000024 L 532160.8890000004,182152.3900000006 L 532178.7529999996,182161.37600000016 L 532179.6629999997,182161.83400000073 L 532189.3099999996,182166.6860000007 L 532190.0999999996,182164.8320000004 L 532193.5,182156.82799999975 L 532204.0099999998,182160.8080000002 L 532218.892,182166.44299999997 L 532219.1890000002,182166.5549999997 L 532219.4019999998,182166.63599999994 L 532221.4979999997,182167.4299999997 L 532252.8720000004,182179.31000000052 L 532253.8020000001,182179.66300000064 L 532253.9529999997,182179.72000000067 L 532255.3130000001,182180.23399999924 L 532256.648,182176.27800000086 L 532257.5810000002,182173.51700000092 L 532257.7249999996,182173.08999999985 L 532261.3660000004,182162.30700000003 L 532265.4800000004,182150.12399999984 L 532266.1069999998,182148.26799999923 L 532270.0470000003,182136.59899999946 L 532271.9730000002,182130.8939999994 L 532275.4780000001,182120.5150000006 L 532275.7000000002,182119.8560000006 L 532283.9409999996,182095.45299999975 L 532284.04,182095.16000000015 L 532287.0420000004,182086.27099999972 L 532293.068,182068.42300000042 L 532293.1349999998,182068.2259999998 L 532295.7920000004,182060.35700000077 L 532298.2429999998,182053.09899999946 L 532300.2750000004,182047.08300000057 L 532304.3130000001,182035.125 L 532305.0539999995,182031.07499999925 L 532306.6890000002,182022.14200000092 L 532310.091,182003.6370000001 L 532310.3959999997,182002.02099999972 L 532312.398,182002.53399999999 L 532313.3080000002,182002.76700000092 L 532347.6900000004,182011.5700000003 L 532351.7580000004,182012.6099999994 L 532359.4170000004,182014.95900000073 L 532360.0630000001,182015.1559999995 L 532361.5990000004,182009.1009999998 L 532361.6880000001,182008.75 L 532374.0,182012.375 L 532375.6940000001,182006.84999999963 L 532378.9850000003,181996.10700000077 L 532379.0800000001,181995.79700000025 L 532381.875,181986.67200000025 L 532414.2139999997,181996.64599999972 L 532415.0010000002,181996.88900000043 L 532416.29,181997.28700000048 L 532419.5920000002,181998.3049999997 L 532435.7920000004,182003.3200000003 L 532436.7000000002,182003.59999999963 L 532436.8210000005,182002.95099999942 L 532444.9850000003,181961.8169999998 L 532445.3600000003,181959.92799999937 L 532445.7429999998,181958.0 L 532445.7690000003,181957.87099999934 L 532446.0,181956.7070000004 L 532446.125,181956.07799999975 L 532458.807,181954.34899999946 L 532496.085,181949.2650000006 L 532502.9050000003,181948.3350000009 L 532506.267,181947.87700000033 L 532520.5690000001,181945.9269999992 L 532538.858,181943.4330000002 L 532554.1459999997,181941.3479999993 L 532572.3250000002,181938.86900000088 L 532573.3119999999,181938.73399999924 L 532614.2149999999,181930.24300000072 L 532632.4409999996,181926.45900000073 L 532632.5360000003,181926.4389999993 L 532634.5,181926.0309999995 L 532634.494,181926.00100000016 L 532632.0480000004,181913.44600000046 L 532619.1409999998,181847.18799999915 L 532618.6880000001,181844.85899999924 L 532624.3229999999,181842.31000000052 L 532626.4950000001,181841.32699999958 L 532629.8660000004,181839.8019999992 L 532644.6979999999,181833.09200000018 L 532667.8820000002,181822.6009999998 L 532668.0539999995,181822.5240000002 L 532725.1670000004,181796.6830000002 L 532743.2699999996,181788.49400000088 L 532746.8130000001,181786.89100000076 L 532763.0650000004,181777.5030000005 L 532765.5149999997,181776.08799999952 L 532774.5820000004,181770.8509999998 L 532776.1710000001,181769.93400000036 L 532776.5939999996,181769.6889999993 L 532777.1359999999,181769.375 L 532778.1490000002,181768.7890000008 L 532778.1799999997,181768.77199999988 L 532819.9550000001,181744.64200000092 L 532820.0049999999,181744.6129999999 L 532840.1600000001,181732.97100000083 L 532840.807,181732.59699999914 L 532883.5,181715.39599999972 L 532883.9079999998,181718.93099999987 L 532884.3130000001,181722.43700000085 L 532886.375,181727.9330000002 L 532898.2879999997,181759.67300000042 L 532911.5,181794.875 L 532932.3420000002,181852.2809999995 L 532939.3130000001,181871.48399999924 L 532943.7539999997,181886.84699999914 L 532945.5029999996,181892.89100000076 L 532945.858,181894.12099999934 L 532946.0650000004,181894.82699999958 L 532953.6569999997,181891.72100000083 L 532965.0290000001,181887.06799999997 L 532966.4759999998,181886.4759999998 L 532985.8700000001,181878.54199999943 L 532986.5010000002,181878.28399999999 L 533042.1830000002,181855.50200000033 L 533075.1840000004,181842.0 L 533075.2379999999,181842.0 L 533078.8300000001,181840.52899999917 L 533080.858,181842.0 L 533105.6239999998,181859.97100000083 L 533110.0810000002,181863.20500000007 L 533119.1880000001,181869.81200000085 L 533146.8130000001,181897.92200000025 L 533148.8049999997,181900.55399999954 L 533167.5,181925.25 L 533170.2170000002,181928.90699999966 L 533171.1359999999,181930.1439999994 L 533171.807,181931.04700000025 L 533174.6710000001,181934.90300000086 L 533176.3629999999,181937.18200000003 L 533177.1050000004,181938.18099999987 L 533184.5630000001,181948.2190000005 L 533190.5920000002,181960.9539999999 L 533191.1629999997,181962.16000000015 L 533192.2130000005,181964.37700000033 L 533194.1030000001,181968.36900000088 L 533195.2989999996,181970.89599999972 L 533195.7520000003,181971.85199999996 L 533198.625,181977.92200000025 L 533206.2520000003,181998.49899999984 L 533206.7970000003,181999.9690000005 L 533208.8449999997,182005.49400000088 L 533215.75,182024.125 L 533227.9440000001,182072.34600000083 L 533229.1610000003,182077.16200000048 L 533230.5,182082.45299999975 L 533238.0700000003,182080.0 L 533245.1179999998,182077.71600000001 L 533254.9220000003,182074.5390000008 L 533255.0489999996,182074.49799999967 L 533287.9060000004,182063.8509999998 L 533290.642,182062.96499999985 L 533311.6500000004,182056.15699999966 L 533320.1880000001,182053.39100000076 L 533324.926,182052.57799999975 L 533354.2410000004,182047.54700000025 L 533354.3080000002,182047.53500000015 L 533366.6979999999,182045.40899999999 L 533384.5659999996,182042.34200000018 L 533388.0800000001,182041.73900000006 L 533395.3200000003,182040.49599999934 L 533405.3449999997,182038.77600000054 L 533410.6880000001,182037.8599999994 L 533403.2479999997,182014.13599999994 L 533397.7230000002,181996.51999999955 L 533396.966,181994.10500000045 L 533396.8279999997,181993.66599999927 L 533395.8269999996,181990.47399999946 L 533394.125,181985.04800000042 L 533393.4639999997,181980.3139999993 L 533390.193,181956.90000000037 L 533389.4380000001,181951.5 L 533387.5020000003,181942.0270000007 L 533386.9040000001,181937.91200000048 L 533384.4620000003,181921.09500000067 L 533384.392,181920.60899999924 L 533383.4859999996,181914.37099999934 L 533383.3420000002,181913.38000000082 L 533376.1560000004,181863.88800000027 L 533372.1560000004,181836.3440000005 L 533368.0,181807.7190000005 L 533364.4440000001,181792.61199999973 L 533361.8219999997,181781.46800000034 L 533353.6610000003,181746.79099999927 L 533353.0729999999,181744.29199999943 L 533352.0159999998,181739.80299999937 L 533352.0,181739.73399999924 L 533354.0360000003,181740.0859999992 L 533399.3569999998,181747.9360000007 L 533419.7199999997,181751.4639999997 L 533427.6880000001,181752.8440000005 L 533442.5290000001,181755.4059999995 L 533443.0140000004,181755.49000000022 L 533445.0630000001,181755.8440000005 L 533445.2479999997,181753.23699999973 L 533447.4380000001,181722.43799999915 L 533447.9409999996,181715.37299999967 L 533448.5460000001,181706.8660000004 L 533448.7630000003,181703.80399999954 L 533448.8710000003,181702.29099999927 L 533447.7939999998,181701.97499999963 L 533447.7580000004,181701.9059999995 L 533442.1799999997,181700.26600000076 L 533442.125,181700.25 L 533444.5460000001,181695.8440000005 L 533451.7920000004,181682.64599999972 L 533455.3130000001,181676.23399999924 L 533460.3609999996,181669.5030000005 L 533462.5319999997,181666.60799999908 L 533463.2929999996,181665.5940000005 L 533466.5159999998,181661.29499999993 L 533466.9380000001,181660.73299999908 L 533469.9160000002,181656.13800000027 L 533471.9380000001,181653.01600000076 L 533473.5109999999,181649.96499999985 L 533475.2139999997,181646.66300000064 L 533475.5,181646.10899999924 L 533478.8130000001,181634.07799999975 L 533479.7479999997,181631.6520000007 L 533483.7149999999,181621.37099999934 L 533490.665,181603.3560000006 L 533494.1529999999,181594.31200000085 L 533494.4299999997,181593.59300000034 L 533496.625,181587.9059999995 L 533499.0630000001,181582.4059999995 L 533513.2630000003,181550.12900000066 L 533514.1699999999,181548.06799999997 L 533518.9359999998,181537.23200000077 L 533518.9850000003,181537.12399999984 L 533520.8739999998,181533.00500000082 L 533524.6200000001,181524.4969999995 L 533532.5,181506.59999999963 L 533534.9000000004,181502.40000000037 L 533535.0070000002,181502.16699999943 L 533535.1540000001,181501.84500000067 L 533536.1720000003,181500.08300000057 L 533536.318,181499.83100000024 L 533537.2170000002,181498.27600000054 L 533537.2630000003,181498.1950000003 L 533539.6880000001,181494.0 L 533543.2589999996,181489.27199999988 L 533545.3020000001,181486.56599999964 L 533546.4440000001,181485.05299999937 L 533546.6950000003,181484.72100000083 L 533556.0829999996,181472.2899999991 L 533556.1749999998,181472.16699999943 L 533558.7570000002,181468.75 L 533559.0070000002,181468.4179999996 L 533562.6689999998,181463.57100000046 L 533565.676,181459.5889999997 L 533566.6979999999,181458.23699999973 L 533567.3130000001,181457.42200000025 L 533568.2790000001,181456.3939999994 L 533568.4730000002,181456.18799999915 L 533571.8080000002,181452.63900000043 L 533573.2860000003,181451.06599999964 L 533573.8119999999,181450.50599999912 L 533578.4809999997,181445.53700000048 L 533580.5590000004,181443.3289999999 L 533582.807,181440.9360000007 L 533586.182,181437.34500000067 L 533586.7419999996,181436.75 L 533595.2949999999,181427.65000000037 L 533595.3530000001,181427.58799999952 L 533604.244,181418.12900000066 L 533610.0760000004,181411.92400000058 L 533610.4359999998,181411.5390000008 L 533610.9740000004,181410.96800000034 z\" /><path fill-rule=\"evenodd\" fill=\"#66cc99\" stroke=\"#555555\" stroke-width=\"20.707646399998726\" opacity=\"0.6\" d=\"M 531667.6009999998,180541.8839999996 L 531667.6009999998,180541.90000000037 L 531668.4009999996,180543.0789999999 L 531668.1260000002,180542.66899999976 L 531667.6009999998,180541.8839999996 z\" /></g></g></svg>"
     },
     "metadata": {},
     "execution_count": 27
    }
   ],
   "source": [
    "city_london_uu = city_ldn['geometry'].unary_union\n",
    "city_london_uu"
   ]
  },
  {
   "cell_type": "markdown",
   "metadata": {},
   "source": [
    "### <a id='Clip stations within city of london'>Clip stations within city of london<a/>\n",
    "<img  height=\"100\" src=\"clip.png\">\n",
    "When you clip a vector data set with another layer, you remove points, lines or polygons that are outside of the spatial extent of the area that you use to clip the data. (Image Source: ESRI)\n",
    "\n",
    "We can do the `clip` operation by `intersects`: We firstly use the above created unified polygon **city_london_uu** to represent City of London area covered by clip layer. Next we can use the `intersects` method to select just the points within the stations object that fall within the geometry in **city_london_uu** object. It will return a boolean mask for every point and further subset the stations object."
   ]
  },
  {
   "cell_type": "code",
   "execution_count": 28,
   "metadata": {},
   "outputs": [
    {
     "output_type": "execute_result",
     "data": {
      "text/plain": "    FID  OBJECTID         NAME  EASTING  NORTHING  \\\n5     6        84      Aldgate   533613    181262   \n20   35        47         Bank   532710    181120   \n21   67       473   BANK - DLR   532709    181114   \n22    9        87     Barbican   532004    181856   \n40    1        79  Blackfriars   531694    180893   \n\n                                       LINES             NETWORK  Zone  \\\n5                       Metropolitan, Circle  London Underground     1   \n20        Waterloo & City, Northern, Central  London Underground     1   \n21                                      None                 DLR     1   \n22  Metropolitan, Circle, Hammersmith & City  London Underground     1   \n40                          District, Circle  London Underground     1   \n\n           x          y                       geometry  \n5  -0.074236  51.513982  POINT (533726.539 181208.479)  \n20 -0.087297  51.512915  POINT (532823.429 181066.068)  \n21 -0.087317  51.512862  POINT (532822.222 181060.134)  \n22 -0.097190  51.519699  POINT (532117.391 181802.587)  \n40 -0.102020  51.511114  POINT (531807.023 180839.233)  ",
      "text/html": "<div>\n<style scoped>\n    .dataframe tbody tr th:only-of-type {\n        vertical-align: middle;\n    }\n\n    .dataframe tbody tr th {\n        vertical-align: top;\n    }\n\n    .dataframe thead th {\n        text-align: right;\n    }\n</style>\n<table border=\"1\" class=\"dataframe\">\n  <thead>\n    <tr style=\"text-align: right;\">\n      <th></th>\n      <th>FID</th>\n      <th>OBJECTID</th>\n      <th>NAME</th>\n      <th>EASTING</th>\n      <th>NORTHING</th>\n      <th>LINES</th>\n      <th>NETWORK</th>\n      <th>Zone</th>\n      <th>x</th>\n      <th>y</th>\n      <th>geometry</th>\n    </tr>\n  </thead>\n  <tbody>\n    <tr>\n      <th>5</th>\n      <td>6</td>\n      <td>84</td>\n      <td>Aldgate</td>\n      <td>533613</td>\n      <td>181262</td>\n      <td>Metropolitan, Circle</td>\n      <td>London Underground</td>\n      <td>1</td>\n      <td>-0.074236</td>\n      <td>51.513982</td>\n      <td>POINT (533726.539 181208.479)</td>\n    </tr>\n    <tr>\n      <th>20</th>\n      <td>35</td>\n      <td>47</td>\n      <td>Bank</td>\n      <td>532710</td>\n      <td>181120</td>\n      <td>Waterloo &amp; City, Northern, Central</td>\n      <td>London Underground</td>\n      <td>1</td>\n      <td>-0.087297</td>\n      <td>51.512915</td>\n      <td>POINT (532823.429 181066.068)</td>\n    </tr>\n    <tr>\n      <th>21</th>\n      <td>67</td>\n      <td>473</td>\n      <td>BANK - DLR</td>\n      <td>532709</td>\n      <td>181114</td>\n      <td>None</td>\n      <td>DLR</td>\n      <td>1</td>\n      <td>-0.087317</td>\n      <td>51.512862</td>\n      <td>POINT (532822.222 181060.134)</td>\n    </tr>\n    <tr>\n      <th>22</th>\n      <td>9</td>\n      <td>87</td>\n      <td>Barbican</td>\n      <td>532004</td>\n      <td>181856</td>\n      <td>Metropolitan, Circle, Hammersmith &amp; City</td>\n      <td>London Underground</td>\n      <td>1</td>\n      <td>-0.097190</td>\n      <td>51.519699</td>\n      <td>POINT (532117.391 181802.587)</td>\n    </tr>\n    <tr>\n      <th>40</th>\n      <td>1</td>\n      <td>79</td>\n      <td>Blackfriars</td>\n      <td>531694</td>\n      <td>180893</td>\n      <td>District, Circle</td>\n      <td>London Underground</td>\n      <td>1</td>\n      <td>-0.102020</td>\n      <td>51.511114</td>\n      <td>POINT (531807.023 180839.233)</td>\n    </tr>\n  </tbody>\n</table>\n</div>"
     },
     "metadata": {},
     "execution_count": 28
    }
   ],
   "source": [
    "stations_clip = new_stations[new_stations.geometry.intersects(city_london_uu)]\n",
    "stations_clip.head()"
   ]
  },
  {
   "cell_type": "markdown",
   "metadata": {},
   "source": [
    "### <a id='Clip railways within City of London'>Clip railways within City of London<a/>"
   ]
  },
  {
   "cell_type": "code",
   "execution_count": 162,
   "metadata": {},
   "outputs": [
    {
     "data": {
      "text/html": [
       "<div>\n",
       "<style scoped>\n",
       "    .dataframe tbody tr th:only-of-type {\n",
       "        vertical-align: middle;\n",
       "    }\n",
       "\n",
       "    .dataframe tbody tr th {\n",
       "        vertical-align: top;\n",
       "    }\n",
       "\n",
       "    .dataframe thead th {\n",
       "        text-align: right;\n",
       "    }\n",
       "</style>\n",
       "<table border=\"1\" class=\"dataframe\">\n",
       "  <thead>\n",
       "    <tr style=\"text-align: right;\">\n",
       "      <th></th>\n",
       "      <th>osm_id</th>\n",
       "      <th>code</th>\n",
       "      <th>fclass</th>\n",
       "      <th>geometry</th>\n",
       "    </tr>\n",
       "    <tr>\n",
       "      <th>name</th>\n",
       "      <th></th>\n",
       "      <th></th>\n",
       "      <th></th>\n",
       "      <th></th>\n",
       "    </tr>\n",
       "  </thead>\n",
       "  <tbody>\n",
       "    <tr>\n",
       "      <th>Central Line - Westbound</th>\n",
       "      <td>571633912</td>\n",
       "      <td>6103</td>\n",
       "      <td>subway</td>\n",
       "      <td>LINESTRING (533392.100 181970.554, 533193.729 ...</td>\n",
       "    </tr>\n",
       "    <tr>\n",
       "      <th>Central Line - Eastbound</th>\n",
       "      <td>571633911</td>\n",
       "      <td>6103</td>\n",
       "      <td>subway</td>\n",
       "      <td>LINESTRING (533183.946 181734.587, 533391.539 ...</td>\n",
       "    </tr>\n",
       "    <tr>\n",
       "      <th>Circle, Hammersmith &amp; City and Metropolitan lines</th>\n",
       "      <td>355004980</td>\n",
       "      <td>6103</td>\n",
       "      <td>subway</td>\n",
       "      <td>LINESTRING (532697.193 181654.627, 532710.779 ...</td>\n",
       "    </tr>\n",
       "    <tr>\n",
       "      <th>Circle, Hammersmith &amp; City and Metropolitan lines</th>\n",
       "      <td>428585128</td>\n",
       "      <td>6103</td>\n",
       "      <td>subway</td>\n",
       "      <td>LINESTRING (532588.083 181679.398, 532595.280 ...</td>\n",
       "    </tr>\n",
       "    <tr>\n",
       "      <th>Thameslink</th>\n",
       "      <td>17521901</td>\n",
       "      <td>6101</td>\n",
       "      <td>rail</td>\n",
       "      <td>LINESTRING (531659.076 181566.530, 531636.299 ...</td>\n",
       "    </tr>\n",
       "    <tr>\n",
       "      <th>...</th>\n",
       "      <td>...</td>\n",
       "      <td>...</td>\n",
       "      <td>...</td>\n",
       "      <td>...</td>\n",
       "    </tr>\n",
       "    <tr>\n",
       "      <th>South Eastern Main Line</th>\n",
       "      <td>622994249</td>\n",
       "      <td>6101</td>\n",
       "      <td>rail</td>\n",
       "      <td>GEOMETRYCOLLECTION EMPTY</td>\n",
       "    </tr>\n",
       "    <tr>\n",
       "      <th>Northern Line (Bank Branch)</th>\n",
       "      <td>139434393</td>\n",
       "      <td>6103</td>\n",
       "      <td>subway</td>\n",
       "      <td>GEOMETRYCOLLECTION EMPTY</td>\n",
       "    </tr>\n",
       "    <tr>\n",
       "      <th>District Line</th>\n",
       "      <td>90331174</td>\n",
       "      <td>6103</td>\n",
       "      <td>subway</td>\n",
       "      <td>GEOMETRYCOLLECTION EMPTY</td>\n",
       "    </tr>\n",
       "    <tr>\n",
       "      <th>District Line</th>\n",
       "      <td>90331175</td>\n",
       "      <td>6103</td>\n",
       "      <td>subway</td>\n",
       "      <td>GEOMETRYCOLLECTION EMPTY</td>\n",
       "    </tr>\n",
       "    <tr>\n",
       "      <th>Circle and District Lines</th>\n",
       "      <td>446363377</td>\n",
       "      <td>6103</td>\n",
       "      <td>subway</td>\n",
       "      <td>MULTILINESTRING ((533630.305 180796.657, 53362...</td>\n",
       "    </tr>\n",
       "  </tbody>\n",
       "</table>\n",
       "<p>286 rows × 4 columns</p>\n",
       "</div>"
      ],
      "text/plain": [
       "                                                      osm_id  code  fclass  \\\n",
       "name                                                                         \n",
       "Central Line - Westbound                           571633912  6103  subway   \n",
       "Central Line - Eastbound                           571633911  6103  subway   \n",
       "Circle, Hammersmith & City and Metropolitan lines  355004980  6103  subway   \n",
       "Circle, Hammersmith & City and Metropolitan lines  428585128  6103  subway   \n",
       "Thameslink                                          17521901  6101    rail   \n",
       "...                                                      ...   ...     ...   \n",
       "South Eastern Main Line                            622994249  6101    rail   \n",
       "Northern Line (Bank Branch)                        139434393  6103  subway   \n",
       "District Line                                       90331174  6103  subway   \n",
       "District Line                                       90331175  6103  subway   \n",
       "Circle and District Lines                          446363377  6103  subway   \n",
       "\n",
       "                                                                                            geometry  \n",
       "name                                                                                                  \n",
       "Central Line - Westbound                           LINESTRING (533392.100 181970.554, 533193.729 ...  \n",
       "Central Line - Eastbound                           LINESTRING (533183.946 181734.587, 533391.539 ...  \n",
       "Circle, Hammersmith & City and Metropolitan lines  LINESTRING (532697.193 181654.627, 532710.779 ...  \n",
       "Circle, Hammersmith & City and Metropolitan lines  LINESTRING (532588.083 181679.398, 532595.280 ...  \n",
       "Thameslink                                         LINESTRING (531659.076 181566.530, 531636.299 ...  \n",
       "...                                                                                              ...  \n",
       "South Eastern Main Line                                                     GEOMETRYCOLLECTION EMPTY  \n",
       "Northern Line (Bank Branch)                                                 GEOMETRYCOLLECTION EMPTY  \n",
       "District Line                                                               GEOMETRYCOLLECTION EMPTY  \n",
       "District Line                                                               GEOMETRYCOLLECTION EMPTY  \n",
       "Circle and District Lines                          MULTILINESTRING ((533630.305 180796.657, 53362...  \n",
       "\n",
       "[286 rows x 4 columns]"
      ]
     },
     "execution_count": 162,
     "metadata": {},
     "output_type": "execute_result"
    }
   ],
   "source": [
    "spatial_index = new_railways.sindex\n",
    "# Create a box for the initial intersection\n",
    "bbox = city_london_uu.bounds\n",
    "# Get a list of railway polylines that overlap the bounding box and subset the data to just those lines\n",
    "sidx = list(spatial_index.intersection(bbox))\n",
    "rail_sub = new_railways.iloc[sidx]\n",
    "\n",
    "# Clip the data - with these data\n",
    "railways_clip = rail_sub.copy()\n",
    "railways_clip['geometry'] = rail_sub.intersection(city_london_uu)\n",
    "\n",
    "# Return the clipped layer with no null geometry values\n",
    "railways_clip[railways_clip.geometry.notnull()]"
   ]
  },
  {
   "cell_type": "markdown",
   "metadata": {},
   "source": [
    "There are 286 segments of railways fall in City of London as shown. So let's plot the stations and railways within City of London together for a view.\n",
    "### <a id=\"Task 9\">Task 9<a/>\n",
    "Recall you plotting skillks acquired before, plot three layers on stations, railways and LSOAs for City of London together. \n",
    "\n",
    "**Hint**: assign color 'grey' for railways, 'yellow' for stations, and edgecolor 'red', facecolor 'lightblue' for lsoas. Legend should be present, and be careful about your axis setting. "
   ]
  },
  {
   "cell_type": "code",
   "execution_count": 179,
   "metadata": {},
   "outputs": [],
   "source": [
    "# your code here\n",
    "ax = city_london.plot(edgecolor='lightblue', facecolor='none', figsize=(10, 8))\n",
    "railways_clip.plot(ax=ax, color='grey')\n",
    "stations_clip.plot(ax=ax, color='yellow', alpha=0.5)\n",
    "ax.set(xlim=(530000, 535000), ylim=(180000, 183000))"
   ]
  },
  {
   "cell_type": "markdown",
   "metadata": {},
   "source": [
    "Here we go, let's check the containment of defined stations $p2$ and $p3$ in the city of london boundary."
   ]
  },
  {
   "cell_type": "code",
   "execution_count": 168,
   "metadata": {},
   "outputs": [
    {
     "data": {
      "text/plain": [
       "False"
      ]
     },
     "execution_count": 168,
     "metadata": {},
     "output_type": "execute_result"
    }
   ],
   "source": [
    "p2.within(city_london_uu) # Holborn station"
   ]
  },
  {
   "cell_type": "code",
   "execution_count": 170,
   "metadata": {},
   "outputs": [
    {
     "data": {
      "text/plain": [
       "True"
      ]
     },
     "execution_count": 170,
     "metadata": {},
     "output_type": "execute_result"
    }
   ],
   "source": [
    "city_london_uu.contains(p3) # Bank station"
   ]
  },
  {
   "cell_type": "markdown",
   "metadata": {},
   "source": [
    "As you may find Holborn station is not in City of London, but how far is it away from the area? and one step further, will a 1000 meters' buffer zone of Holborn station happened to overlap City of London somehow? Let's try practice our techniques acquired before. "
   ]
  },
  {
   "cell_type": "code",
   "execution_count": 171,
   "metadata": {},
   "outputs": [
    {
     "data": {
      "text/plain": [
       "363.92474064001243"
      ]
     },
     "execution_count": 171,
     "metadata": {},
     "output_type": "execute_result"
    }
   ],
   "source": [
    "# your code here\n",
    "p2.distance(city_london_uu)"
   ]
  },
  {
   "cell_type": "code",
   "execution_count": 175,
   "metadata": {},
   "outputs": [
    {
     "data": {
      "text/plain": [
       "True"
      ]
     },
     "execution_count": 175,
     "metadata": {},
     "output_type": "execute_result"
    }
   ],
   "source": [
    "# your code here\n",
    "poly_1000=p2.buffer(1000)\n",
    "poly_1000.intersects(city_london_uu)"
   ]
  },
  {
   "cell_type": "markdown",
   "metadata": {},
   "source": [
    "### ! (Optional) Other realization of clipping :\n",
    "If time permits, you may want to try other two ways to clip the railways in City of London: \n",
    "\n",
    "(1) use **lambdas**\n",
    "\n",
    "(2) use loop."
   ]
  },
  {
   "cell_type": "code",
   "execution_count": 29,
   "metadata": {},
   "outputs": [],
   "source": [
    "r = new_railways['geometry']\n",
    "rc_routes = r[r.apply(lambda x: x.intersects(city_london.iloc[0]['geometry']))]\n",
    "rc_routes.plot()"
   ]
  },
  {
   "cell_type": "code",
   "execution_count": 177,
   "metadata": {},
   "outputs": [
    {
     "data": {
      "text/plain": [
       "(221,)"
      ]
     },
     "execution_count": 177,
     "metadata": {},
     "output_type": "execute_result"
    }
   ],
   "source": [
    "rc_routes.shape"
   ]
  },
  {
   "cell_type": "code",
   "execution_count": 178,
   "metadata": {},
   "outputs": [],
   "source": [
    "ax = plt.gca()\n",
    "rc_routes.plot(ax=ax, edgecolor='grey')\n",
    "city_london.plot(ax=ax, color='lightblue')\n",
    "plt.show()"
   ]
  },
  {
   "cell_type": "markdown",
   "metadata": {},
   "source": [
    "How do you think? **Lambdas** are handy, but tend to be a bit more difficult to read as \\\"anonymous functions\\\". So let's try another more \\\"transparent\\\" approach by using a simple loop. The rationale is to test the intersection between each railway segment and City of London, if the result returns to be true, then append the segment to a list and store the list of final segments intersecting with City of London."
   ]
  },
  {
   "cell_type": "code",
   "execution_count": 30,
   "metadata": {},
   "outputs": [],
   "source": [
    "rails = [] # create an empty list for further storage\n",
    "for ids, route in enumerate(rc_routes):\n",
    "    # print(ids)\n",
    "    rails.append(route.intersection(city_london.iloc[0]['geometry']))\n",
    "# use list of intersection segments above into a GeoSeries:\n",
    "rc_l = gpd.GeoSeries(rails)"
   ]
  },
  {
   "cell_type": "code",
   "execution_count": 181,
   "metadata": {
    "scrolled": true
   },
   "outputs": [],
   "source": [
    "plt.rcParams['figure.figsize'] = (10, 8)\n",
    "ax = plt.gca()\n",
    "city_london.plot(ax=ax, color='lightblue')\n",
    "rc_l.plot(ax=ax, edgecolor='grey')\n",
    "ax.set_xlim(530900, 533900); ax.set_ylim(180500, 182200)\n",
    "ax.set_aspect('equal')\n",
    "plt.show()"
   ]
  },
  {
   "cell_type": "code",
   "execution_count": 182,
   "metadata": {},
   "outputs": [
    {
     "data": {
      "text/plain": [
       "geopandas.geoseries.GeoSeries"
      ]
     },
     "execution_count": 182,
     "metadata": {},
     "output_type": "execute_result"
    }
   ],
   "source": [
    "type(rc_l)"
   ]
  },
  {
   "cell_type": "code",
   "execution_count": 31,
   "metadata": {},
   "outputs": [],
   "source": [
    "rc_l = gpd.GeoDataFrame({'geometry': rc_l})"
   ]
  },
  {
   "cell_type": "code",
   "execution_count": 184,
   "metadata": {},
   "outputs": [
    {
     "data": {
      "text/plain": [
       "(221, 1)"
      ]
     },
     "execution_count": 184,
     "metadata": {},
     "output_type": "execute_result"
    }
   ],
   "source": [
    "rc_l.shape"
   ]
  },
  {
   "cell_type": "code",
   "execution_count": 185,
   "metadata": {},
   "outputs": [
    {
     "data": {
      "text/plain": [
       "(6, 67)"
      ]
     },
     "execution_count": 185,
     "metadata": {},
     "output_type": "execute_result"
    }
   ],
   "source": [
    "city_ldn.shape"
   ]
  },
  {
   "cell_type": "markdown",
   "metadata": {},
   "source": [
    "The output is more tidy than **lambada** method, and you may be interested to check the spatial relationships between rc_l and city_london then, feel free to write your own codes. \n",
    "\n",
    "**Hint**: `contains`, `crosses` and `touches`."
   ]
  },
  {
   "cell_type": "code",
   "execution_count": 32,
   "metadata": {},
   "outputs": [
    {
     "output_type": "execute_result",
     "data": {
      "text/plain": "                                                geometry  objectid   lsoa11cd  \\\ndummy                                                                           \n1.0    MULTIPOLYGON (((531627.056 180537.069, 531627....         1  E01000001   \n\n                 lsoa11nmw     st_areasha   st_lengths  IMD_Rand  IMD_Decile  \\\ndummy                                                                          \n1.0    City of London 001A  133320.768872  2291.846072     29199           9   \n\n                  LSOA01NM      LADcd  ... OutScore  OutRank  OutDec  \\\ndummy                                  ...                             \n1.0    City of London 001A  E09000001  ...    1.503     1615       1   \n\n       TotScore  TotRank  TotDec  DepChi  Pop16_59        Pop60_     WorkPop  \ndummy                                                                         \n1.0        1296      175     656     465     715.0  343907.41983  3682.43942  \n\n[1 rows x 66 columns]",
      "text/html": "<div>\n<style scoped>\n    .dataframe tbody tr th:only-of-type {\n        vertical-align: middle;\n    }\n\n    .dataframe tbody tr th {\n        vertical-align: top;\n    }\n\n    .dataframe thead th {\n        text-align: right;\n    }\n</style>\n<table border=\"1\" class=\"dataframe\">\n  <thead>\n    <tr style=\"text-align: right;\">\n      <th></th>\n      <th>geometry</th>\n      <th>objectid</th>\n      <th>lsoa11cd</th>\n      <th>lsoa11nmw</th>\n      <th>st_areasha</th>\n      <th>st_lengths</th>\n      <th>IMD_Rand</th>\n      <th>IMD_Decile</th>\n      <th>LSOA01NM</th>\n      <th>LADcd</th>\n      <th>...</th>\n      <th>OutScore</th>\n      <th>OutRank</th>\n      <th>OutDec</th>\n      <th>TotScore</th>\n      <th>TotRank</th>\n      <th>TotDec</th>\n      <th>DepChi</th>\n      <th>Pop16_59</th>\n      <th>Pop60_</th>\n      <th>WorkPop</th>\n    </tr>\n    <tr>\n      <th>dummy</th>\n      <th></th>\n      <th></th>\n      <th></th>\n      <th></th>\n      <th></th>\n      <th></th>\n      <th></th>\n      <th></th>\n      <th></th>\n      <th></th>\n      <th></th>\n      <th></th>\n      <th></th>\n      <th></th>\n      <th></th>\n      <th></th>\n      <th></th>\n      <th></th>\n      <th></th>\n      <th></th>\n      <th></th>\n    </tr>\n  </thead>\n  <tbody>\n    <tr>\n      <th>1.0</th>\n      <td>MULTIPOLYGON (((531627.056 180537.069, 531627....</td>\n      <td>1</td>\n      <td>E01000001</td>\n      <td>City of London 001A</td>\n      <td>133320.768872</td>\n      <td>2291.846072</td>\n      <td>29199</td>\n      <td>9</td>\n      <td>City of London 001A</td>\n      <td>E09000001</td>\n      <td>...</td>\n      <td>1.503</td>\n      <td>1615</td>\n      <td>1</td>\n      <td>1296</td>\n      <td>175</td>\n      <td>656</td>\n      <td>465</td>\n      <td>715.0</td>\n      <td>343907.41983</td>\n      <td>3682.43942</td>\n    </tr>\n  </tbody>\n</table>\n<p>1 rows × 66 columns</p>\n</div>"
     },
     "metadata": {},
     "execution_count": 32
    }
   ],
   "source": [
    "city_london[city_london.contains(rc_l)]"
   ]
  },
  {
   "cell_type": "markdown",
   "metadata": {},
   "source": [
    "### <a id='Join the spatial data'>Join the spatial data<a/>\n",
    "\n",
    "We had introduced you how to join or merge dataframes through functionality provided in Pandas, see [full documentation](https://pandas.pydata.org/pandas-docs/stable/merging.html)；we have seen the notion of spatial relationships between geometry objects: within, contains, intersects, ..., now we are going to transfer attributes from one layer to another based on their spatial relationship by using `geopandas.sjoin` function with following elements:\n",
    "- The GeoDataFrame to which we want add information\n",
    "- The GeoDataFrame that contains the information we want to add\n",
    "- The spatial relationship we want to use to match both datasets ('intersects', 'contains', 'within')\n",
    "- The type of join: left or inner join\n",
    "\n",
    "Since the stations and railway network clipped to the extent of City of London have prepared already, let's determine which LSOAs intersect the railway network within City of London. "
   ]
  },
  {
   "cell_type": "code",
   "execution_count": 199,
   "metadata": {},
   "outputs": [
    {
     "data": {
      "text/html": [
       "<div>\n",
       "<style scoped>\n",
       "    .dataframe tbody tr th:only-of-type {\n",
       "        vertical-align: middle;\n",
       "    }\n",
       "\n",
       "    .dataframe tbody tr th {\n",
       "        vertical-align: top;\n",
       "    }\n",
       "\n",
       "    .dataframe thead th {\n",
       "        text-align: right;\n",
       "    }\n",
       "</style>\n",
       "<table border=\"1\" class=\"dataframe\">\n",
       "  <thead>\n",
       "    <tr style=\"text-align: right;\">\n",
       "      <th></th>\n",
       "      <th>objectid</th>\n",
       "      <th>lsoa11cd</th>\n",
       "      <th>lsoa11nmw</th>\n",
       "      <th>st_areasha</th>\n",
       "      <th>st_lengths</th>\n",
       "      <th>IMD_Rand</th>\n",
       "      <th>IMD_Decile</th>\n",
       "      <th>LSOA01NM</th>\n",
       "      <th>LADcd</th>\n",
       "      <th>LADnm</th>\n",
       "      <th>...</th>\n",
       "      <th>FID</th>\n",
       "      <th>OBJECTID</th>\n",
       "      <th>NAME</th>\n",
       "      <th>EASTING</th>\n",
       "      <th>NORTHING</th>\n",
       "      <th>LINES</th>\n",
       "      <th>NETWORK</th>\n",
       "      <th>Zone</th>\n",
       "      <th>x</th>\n",
       "      <th>y</th>\n",
       "    </tr>\n",
       "  </thead>\n",
       "  <tbody>\n",
       "    <tr>\n",
       "      <th>City of London 001A</th>\n",
       "      <td>1</td>\n",
       "      <td>E01000001</td>\n",
       "      <td>City of London 001A</td>\n",
       "      <td>1.333208e+05</td>\n",
       "      <td>2291.846072</td>\n",
       "      <td>29199</td>\n",
       "      <td>9</td>\n",
       "      <td>City of London 001A</td>\n",
       "      <td>E09000001</td>\n",
       "      <td>City of London</td>\n",
       "      <td>...</td>\n",
       "      <td>9</td>\n",
       "      <td>87</td>\n",
       "      <td>Barbican</td>\n",
       "      <td>532004</td>\n",
       "      <td>181856</td>\n",
       "      <td>Metropolitan, Circle, Hammersmith &amp; City</td>\n",
       "      <td>London Underground</td>\n",
       "      <td>1</td>\n",
       "      <td>-0.097190</td>\n",
       "      <td>51.519699</td>\n",
       "    </tr>\n",
       "    <tr>\n",
       "      <th>City of London 001E</th>\n",
       "      <td>4</td>\n",
       "      <td>E01000005</td>\n",
       "      <td>City of London 001E</td>\n",
       "      <td>1.907388e+05</td>\n",
       "      <td>2167.868343</td>\n",
       "      <td>8678</td>\n",
       "      <td>3</td>\n",
       "      <td>City of London 001E</td>\n",
       "      <td>E09000001</td>\n",
       "      <td>City of London</td>\n",
       "      <td>...</td>\n",
       "      <td>6</td>\n",
       "      <td>84</td>\n",
       "      <td>Aldgate</td>\n",
       "      <td>533613</td>\n",
       "      <td>181262</td>\n",
       "      <td>Metropolitan, Circle</td>\n",
       "      <td>London Underground</td>\n",
       "      <td>1</td>\n",
       "      <td>-0.074236</td>\n",
       "      <td>51.513982</td>\n",
       "    </tr>\n",
       "    <tr>\n",
       "      <th>City of London 001E</th>\n",
       "      <td>4</td>\n",
       "      <td>E01000005</td>\n",
       "      <td>City of London 001E</td>\n",
       "      <td>1.907388e+05</td>\n",
       "      <td>2167.868343</td>\n",
       "      <td>8678</td>\n",
       "      <td>3</td>\n",
       "      <td>City of London 001E</td>\n",
       "      <td>E09000001</td>\n",
       "      <td>City of London</td>\n",
       "      <td>...</td>\n",
       "      <td>66</td>\n",
       "      <td>470</td>\n",
       "      <td>Tower Gateway</td>\n",
       "      <td>533706</td>\n",
       "      <td>180834</td>\n",
       "      <td>None</td>\n",
       "      <td>DLR</td>\n",
       "      <td>1</td>\n",
       "      <td>-0.073062</td>\n",
       "      <td>51.510110</td>\n",
       "    </tr>\n",
       "    <tr>\n",
       "      <th>City of London 001F</th>\n",
       "      <td>31921</td>\n",
       "      <td>E01032739</td>\n",
       "      <td>City of London 001F</td>\n",
       "      <td>1.658496e+06</td>\n",
       "      <td>7441.243976</td>\n",
       "      <td>20391</td>\n",
       "      <td>7</td>\n",
       "      <td>City of London 001F</td>\n",
       "      <td>E09000001</td>\n",
       "      <td>City of London</td>\n",
       "      <td>...</td>\n",
       "      <td>1</td>\n",
       "      <td>79</td>\n",
       "      <td>Blackfriars</td>\n",
       "      <td>531694</td>\n",
       "      <td>180893</td>\n",
       "      <td>District, Circle</td>\n",
       "      <td>London Underground</td>\n",
       "      <td>1</td>\n",
       "      <td>-0.102020</td>\n",
       "      <td>51.511114</td>\n",
       "    </tr>\n",
       "    <tr>\n",
       "      <th>City of London 001F</th>\n",
       "      <td>31921</td>\n",
       "      <td>E01032739</td>\n",
       "      <td>City of London 001F</td>\n",
       "      <td>1.658496e+06</td>\n",
       "      <td>7441.243976</td>\n",
       "      <td>20391</td>\n",
       "      <td>7</td>\n",
       "      <td>City of London 001F</td>\n",
       "      <td>E09000001</td>\n",
       "      <td>City of London</td>\n",
       "      <td>...</td>\n",
       "      <td>39</td>\n",
       "      <td>51</td>\n",
       "      <td>St. Paul's</td>\n",
       "      <td>532108</td>\n",
       "      <td>181274</td>\n",
       "      <td>Central</td>\n",
       "      <td>London Underground</td>\n",
       "      <td>1</td>\n",
       "      <td>-0.095908</td>\n",
       "      <td>51.514443</td>\n",
       "    </tr>\n",
       "  </tbody>\n",
       "</table>\n",
       "<p>5 rows × 78 columns</p>\n",
       "</div>"
      ],
      "text/plain": [
       "                     objectid   lsoa11cd            lsoa11nmw    st_areasha  \\\n",
       "City of London 001A         1  E01000001  City of London 001A  1.333208e+05   \n",
       "City of London 001E         4  E01000005  City of London 001E  1.907388e+05   \n",
       "City of London 001E         4  E01000005  City of London 001E  1.907388e+05   \n",
       "City of London 001F     31921  E01032739  City of London 001F  1.658496e+06   \n",
       "City of London 001F     31921  E01032739  City of London 001F  1.658496e+06   \n",
       "\n",
       "                      st_lengths  IMD_Rand  IMD_Decile             LSOA01NM  \\\n",
       "City of London 001A  2291.846072     29199           9  City of London 001A   \n",
       "City of London 001E  2167.868343      8678           3  City of London 001E   \n",
       "City of London 001E  2167.868343      8678           3  City of London 001E   \n",
       "City of London 001F  7441.243976     20391           7  City of London 001F   \n",
       "City of London 001F  7441.243976     20391           7  City of London 001F   \n",
       "\n",
       "                         LADcd           LADnm  ...  FID  OBJECTID  \\\n",
       "City of London 001A  E09000001  City of London  ...    9        87   \n",
       "City of London 001E  E09000001  City of London  ...    6        84   \n",
       "City of London 001E  E09000001  City of London  ...   66       470   \n",
       "City of London 001F  E09000001  City of London  ...    1        79   \n",
       "City of London 001F  E09000001  City of London  ...   39        51   \n",
       "\n",
       "                              NAME  EASTING  NORTHING  \\\n",
       "City of London 001A       Barbican   532004    181856   \n",
       "City of London 001E        Aldgate   533613    181262   \n",
       "City of London 001E  Tower Gateway   533706    180834   \n",
       "City of London 001F    Blackfriars   531694    180893   \n",
       "City of London 001F     St. Paul's   532108    181274   \n",
       "\n",
       "                                                        LINES  \\\n",
       "City of London 001A  Metropolitan, Circle, Hammersmith & City   \n",
       "City of London 001E                      Metropolitan, Circle   \n",
       "City of London 001E                                      None   \n",
       "City of London 001F                          District, Circle   \n",
       "City of London 001F                                   Central   \n",
       "\n",
       "                                NETWORK  Zone         x          y  \n",
       "City of London 001A  London Underground     1 -0.097190  51.519699  \n",
       "City of London 001E  London Underground     1 -0.074236  51.513982  \n",
       "City of London 001E                 DLR     1 -0.073062  51.510110  \n",
       "City of London 001F  London Underground     1 -0.102020  51.511114  \n",
       "City of London 001F  London Underground     1 -0.095908  51.514443  \n",
       "\n",
       "[5 rows x 78 columns]"
      ]
     },
     "execution_count": 199,
     "metadata": {},
     "output_type": "execute_result"
    }
   ],
   "source": [
    "# spatial join, lsoas with stations\n",
    "lsoas_with_stations = gpd.sjoin(city_ldn, stations_clip, op='contains', how='inner')\n",
    "lsoas_with_stations.head()"
   ]
  },
  {
   "cell_type": "markdown",
   "metadata": {},
   "source": [
    "If we scroll to the right of the DataFrame output, we see a column labeled \"index_right\". The values in this column indicate the index of the features in the right DataFrame (in our case the stations) within the feature in the current row of the left DataFrame (the lsoas).\n",
    "\n",
    "You may noticed that spatial join operation doesn't change the geometries. In another word, we are not joining respective geometries, but joining attributes based on a spatial relationship between the geometries. This means that the geometries need to at least overlap partially."
   ]
  },
  {
   "cell_type": "code",
   "execution_count": 200,
   "metadata": {},
   "outputs": [
    {
     "data": {
      "text/plain": [
       "(15, 78)"
      ]
     },
     "execution_count": 200,
     "metadata": {},
     "output_type": "execute_result"
    }
   ],
   "source": [
    "lsoas_with_stations.shape # check the number of rows and columns"
   ]
  },
  {
   "cell_type": "markdown",
   "metadata": {},
   "source": [
    "As usual, we need to further clean our joined data by dropping some useless columns, and further check the **crs** for all relevant layers."
   ]
  },
  {
   "cell_type": "code",
   "execution_count": 201,
   "metadata": {},
   "outputs": [
    {
     "data": {
      "text/plain": [
       "{'init': 'epsg:27700'}"
      ]
     },
     "execution_count": 201,
     "metadata": {},
     "output_type": "execute_result"
    }
   ],
   "source": [
    "a=lsoas_with_stations.drop(['objectid', 'st_lengths', 'LSOA01NM', 'LADcd', 'LADnm', 'FID', 'OBJECTID', 'dummy',\n",
    "       'index_right'], axis=1)\n",
    "a.crs"
   ]
  },
  {
   "cell_type": "code",
   "execution_count": 202,
   "metadata": {},
   "outputs": [
    {
     "data": {
      "text/plain": [
       "{'init': 'epsg:27700'}"
      ]
     },
     "execution_count": 202,
     "metadata": {},
     "output_type": "execute_result"
    }
   ],
   "source": [
    "city_ldn.crs"
   ]
  },
  {
   "cell_type": "code",
   "execution_count": 204,
   "metadata": {},
   "outputs": [],
   "source": [
    "rc_l.crs"
   ]
  },
  {
   "cell_type": "markdown",
   "metadata": {},
   "source": [
    "You are not wrong! It should be blank, as the railway DataFrame does not have a **crs**. To correct this, we need to set it to that of the city_ldn dataframe:"
   ]
  },
  {
   "cell_type": "code",
   "execution_count": 33,
   "metadata": {},
   "outputs": [],
   "source": [
    "rc_l.crs = city_ldn.crs # create a crs for the rc_l\n",
    "rc_l = rc_l.to_crs(city_ldn.crs) # update the coordinates accordingly"
   ]
  },
  {
   "cell_type": "markdown",
   "metadata": {},
   "source": [
    "All prepared, and let's join!"
   ]
  },
  {
   "cell_type": "code",
   "execution_count": 206,
   "metadata": {},
   "outputs": [
    {
     "data": {
      "text/html": [
       "<div>\n",
       "<style scoped>\n",
       "    .dataframe tbody tr th:only-of-type {\n",
       "        vertical-align: middle;\n",
       "    }\n",
       "\n",
       "    .dataframe tbody tr th {\n",
       "        vertical-align: top;\n",
       "    }\n",
       "\n",
       "    .dataframe thead th {\n",
       "        text-align: right;\n",
       "    }\n",
       "</style>\n",
       "<table border=\"1\" class=\"dataframe\">\n",
       "  <thead>\n",
       "    <tr style=\"text-align: right;\">\n",
       "      <th></th>\n",
       "      <th>lsoa11cd</th>\n",
       "      <th>lsoa11nmw</th>\n",
       "      <th>st_areasha</th>\n",
       "      <th>IMD_Rand</th>\n",
       "      <th>IMD_Decile</th>\n",
       "      <th>IMDScore</th>\n",
       "      <th>IMDRank0</th>\n",
       "      <th>IMDDec0</th>\n",
       "      <th>IncScore</th>\n",
       "      <th>IncRank</th>\n",
       "      <th>...</th>\n",
       "      <th>geometry</th>\n",
       "      <th>NAME</th>\n",
       "      <th>EASTING</th>\n",
       "      <th>NORTHING</th>\n",
       "      <th>LINES</th>\n",
       "      <th>NETWORK</th>\n",
       "      <th>Zone</th>\n",
       "      <th>x</th>\n",
       "      <th>y</th>\n",
       "      <th>index_right</th>\n",
       "    </tr>\n",
       "  </thead>\n",
       "  <tbody>\n",
       "    <tr>\n",
       "      <th>City of London 001A</th>\n",
       "      <td>E01000001</td>\n",
       "      <td>City of London 001A</td>\n",
       "      <td>133320.768872</td>\n",
       "      <td>29199</td>\n",
       "      <td>9</td>\n",
       "      <td>6.208</td>\n",
       "      <td>29199</td>\n",
       "      <td>9</td>\n",
       "      <td>0.007</td>\n",
       "      <td>32831</td>\n",
       "      <td>...</td>\n",
       "      <td>POLYGON ((532095.563 181577.351, 532095.125 18...</td>\n",
       "      <td>Barbican</td>\n",
       "      <td>532004</td>\n",
       "      <td>181856</td>\n",
       "      <td>Metropolitan, Circle, Hammersmith &amp; City</td>\n",
       "      <td>London Underground</td>\n",
       "      <td>1</td>\n",
       "      <td>-0.097190</td>\n",
       "      <td>51.519699</td>\n",
       "      <td>129</td>\n",
       "    </tr>\n",
       "    <tr>\n",
       "      <th>City of London 001A</th>\n",
       "      <td>E01000001</td>\n",
       "      <td>City of London 001A</td>\n",
       "      <td>133320.768872</td>\n",
       "      <td>29199</td>\n",
       "      <td>9</td>\n",
       "      <td>6.208</td>\n",
       "      <td>29199</td>\n",
       "      <td>9</td>\n",
       "      <td>0.007</td>\n",
       "      <td>32831</td>\n",
       "      <td>...</td>\n",
       "      <td>POLYGON ((532095.563 181577.351, 532095.125 18...</td>\n",
       "      <td>Barbican</td>\n",
       "      <td>532004</td>\n",
       "      <td>181856</td>\n",
       "      <td>Metropolitan, Circle, Hammersmith &amp; City</td>\n",
       "      <td>London Underground</td>\n",
       "      <td>1</td>\n",
       "      <td>-0.097190</td>\n",
       "      <td>51.519699</td>\n",
       "      <td>7</td>\n",
       "    </tr>\n",
       "    <tr>\n",
       "      <th>City of London 001A</th>\n",
       "      <td>E01000001</td>\n",
       "      <td>City of London 001A</td>\n",
       "      <td>133320.768872</td>\n",
       "      <td>29199</td>\n",
       "      <td>9</td>\n",
       "      <td>6.208</td>\n",
       "      <td>29199</td>\n",
       "      <td>9</td>\n",
       "      <td>0.007</td>\n",
       "      <td>32831</td>\n",
       "      <td>...</td>\n",
       "      <td>POLYGON ((532095.563 181577.351, 532095.125 18...</td>\n",
       "      <td>Barbican</td>\n",
       "      <td>532004</td>\n",
       "      <td>181856</td>\n",
       "      <td>Metropolitan, Circle, Hammersmith &amp; City</td>\n",
       "      <td>London Underground</td>\n",
       "      <td>1</td>\n",
       "      <td>-0.097190</td>\n",
       "      <td>51.519699</td>\n",
       "      <td>76</td>\n",
       "    </tr>\n",
       "    <tr>\n",
       "      <th>City of London 001G</th>\n",
       "      <td>E01032740</td>\n",
       "      <td>City of London 001G</td>\n",
       "      <td>639349.313830</td>\n",
       "      <td>18089</td>\n",
       "      <td>6</td>\n",
       "      <td>15.841</td>\n",
       "      <td>18089</td>\n",
       "      <td>6</td>\n",
       "      <td>0.024</td>\n",
       "      <td>31774</td>\n",
       "      <td>...</td>\n",
       "      <td>POLYGON ((531626.061 180803.860, 531624.051 18...</td>\n",
       "      <td>Chancery Lane</td>\n",
       "      <td>531124</td>\n",
       "      <td>181615</td>\n",
       "      <td>Central</td>\n",
       "      <td>London Underground</td>\n",
       "      <td>1</td>\n",
       "      <td>-0.109961</td>\n",
       "      <td>51.517740</td>\n",
       "      <td>76</td>\n",
       "    </tr>\n",
       "    <tr>\n",
       "      <th>City of London 001A</th>\n",
       "      <td>E01000001</td>\n",
       "      <td>City of London 001A</td>\n",
       "      <td>133320.768872</td>\n",
       "      <td>29199</td>\n",
       "      <td>9</td>\n",
       "      <td>6.208</td>\n",
       "      <td>29199</td>\n",
       "      <td>9</td>\n",
       "      <td>0.007</td>\n",
       "      <td>32831</td>\n",
       "      <td>...</td>\n",
       "      <td>POLYGON ((532095.563 181577.351, 532095.125 18...</td>\n",
       "      <td>Barbican</td>\n",
       "      <td>532004</td>\n",
       "      <td>181856</td>\n",
       "      <td>Metropolitan, Circle, Hammersmith &amp; City</td>\n",
       "      <td>London Underground</td>\n",
       "      <td>1</td>\n",
       "      <td>-0.097190</td>\n",
       "      <td>51.519699</td>\n",
       "      <td>79</td>\n",
       "    </tr>\n",
       "    <tr>\n",
       "      <th>...</th>\n",
       "      <td>...</td>\n",
       "      <td>...</td>\n",
       "      <td>...</td>\n",
       "      <td>...</td>\n",
       "      <td>...</td>\n",
       "      <td>...</td>\n",
       "      <td>...</td>\n",
       "      <td>...</td>\n",
       "      <td>...</td>\n",
       "      <td>...</td>\n",
       "      <td>...</td>\n",
       "      <td>...</td>\n",
       "      <td>...</td>\n",
       "      <td>...</td>\n",
       "      <td>...</td>\n",
       "      <td>...</td>\n",
       "      <td>...</td>\n",
       "      <td>...</td>\n",
       "      <td>...</td>\n",
       "      <td>...</td>\n",
       "      <td>...</td>\n",
       "    </tr>\n",
       "    <tr>\n",
       "      <th>City of London 001G</th>\n",
       "      <td>E01032740</td>\n",
       "      <td>City of London 001G</td>\n",
       "      <td>639349.313830</td>\n",
       "      <td>18089</td>\n",
       "      <td>6</td>\n",
       "      <td>15.841</td>\n",
       "      <td>18089</td>\n",
       "      <td>6</td>\n",
       "      <td>0.024</td>\n",
       "      <td>31774</td>\n",
       "      <td>...</td>\n",
       "      <td>POLYGON ((531626.061 180803.860, 531624.051 18...</td>\n",
       "      <td>Chancery Lane</td>\n",
       "      <td>531124</td>\n",
       "      <td>181615</td>\n",
       "      <td>Central</td>\n",
       "      <td>London Underground</td>\n",
       "      <td>1</td>\n",
       "      <td>-0.109961</td>\n",
       "      <td>51.517740</td>\n",
       "      <td>65</td>\n",
       "    </tr>\n",
       "    <tr>\n",
       "      <th>City of London 001G</th>\n",
       "      <td>E01032740</td>\n",
       "      <td>City of London 001G</td>\n",
       "      <td>639349.313830</td>\n",
       "      <td>18089</td>\n",
       "      <td>6</td>\n",
       "      <td>15.841</td>\n",
       "      <td>18089</td>\n",
       "      <td>6</td>\n",
       "      <td>0.024</td>\n",
       "      <td>31774</td>\n",
       "      <td>...</td>\n",
       "      <td>POLYGON ((531626.061 180803.860, 531624.051 18...</td>\n",
       "      <td>Chancery Lane</td>\n",
       "      <td>531124</td>\n",
       "      <td>181615</td>\n",
       "      <td>Central</td>\n",
       "      <td>London Underground</td>\n",
       "      <td>1</td>\n",
       "      <td>-0.109961</td>\n",
       "      <td>51.517740</td>\n",
       "      <td>5</td>\n",
       "    </tr>\n",
       "    <tr>\n",
       "      <th>City of London 001G</th>\n",
       "      <td>E01032740</td>\n",
       "      <td>City of London 001G</td>\n",
       "      <td>639349.313830</td>\n",
       "      <td>18089</td>\n",
       "      <td>6</td>\n",
       "      <td>15.841</td>\n",
       "      <td>18089</td>\n",
       "      <td>6</td>\n",
       "      <td>0.024</td>\n",
       "      <td>31774</td>\n",
       "      <td>...</td>\n",
       "      <td>POLYGON ((531626.061 180803.860, 531624.051 18...</td>\n",
       "      <td>Chancery Lane</td>\n",
       "      <td>531124</td>\n",
       "      <td>181615</td>\n",
       "      <td>Central</td>\n",
       "      <td>London Underground</td>\n",
       "      <td>1</td>\n",
       "      <td>-0.109961</td>\n",
       "      <td>51.517740</td>\n",
       "      <td>37</td>\n",
       "    </tr>\n",
       "    <tr>\n",
       "      <th>City of London 001G</th>\n",
       "      <td>E01032740</td>\n",
       "      <td>City of London 001G</td>\n",
       "      <td>639349.313830</td>\n",
       "      <td>18089</td>\n",
       "      <td>6</td>\n",
       "      <td>15.841</td>\n",
       "      <td>18089</td>\n",
       "      <td>6</td>\n",
       "      <td>0.024</td>\n",
       "      <td>31774</td>\n",
       "      <td>...</td>\n",
       "      <td>POLYGON ((531626.061 180803.860, 531624.051 18...</td>\n",
       "      <td>Chancery Lane</td>\n",
       "      <td>531124</td>\n",
       "      <td>181615</td>\n",
       "      <td>Central</td>\n",
       "      <td>London Underground</td>\n",
       "      <td>1</td>\n",
       "      <td>-0.109961</td>\n",
       "      <td>51.517740</td>\n",
       "      <td>77</td>\n",
       "    </tr>\n",
       "    <tr>\n",
       "      <th>City of London 001G</th>\n",
       "      <td>E01032740</td>\n",
       "      <td>City of London 001G</td>\n",
       "      <td>639349.313830</td>\n",
       "      <td>18089</td>\n",
       "      <td>6</td>\n",
       "      <td>15.841</td>\n",
       "      <td>18089</td>\n",
       "      <td>6</td>\n",
       "      <td>0.024</td>\n",
       "      <td>31774</td>\n",
       "      <td>...</td>\n",
       "      <td>POLYGON ((531626.061 180803.860, 531624.051 18...</td>\n",
       "      <td>Chancery Lane</td>\n",
       "      <td>531124</td>\n",
       "      <td>181615</td>\n",
       "      <td>Central</td>\n",
       "      <td>London Underground</td>\n",
       "      <td>1</td>\n",
       "      <td>-0.109961</td>\n",
       "      <td>51.517740</td>\n",
       "      <td>10</td>\n",
       "    </tr>\n",
       "  </tbody>\n",
       "</table>\n",
       "<p>1835 rows × 70 columns</p>\n",
       "</div>"
      ],
      "text/plain": [
       "                      lsoa11cd            lsoa11nmw     st_areasha  IMD_Rand  \\\n",
       "City of London 001A  E01000001  City of London 001A  133320.768872     29199   \n",
       "City of London 001A  E01000001  City of London 001A  133320.768872     29199   \n",
       "City of London 001A  E01000001  City of London 001A  133320.768872     29199   \n",
       "City of London 001G  E01032740  City of London 001G  639349.313830     18089   \n",
       "City of London 001A  E01000001  City of London 001A  133320.768872     29199   \n",
       "...                        ...                  ...            ...       ...   \n",
       "City of London 001G  E01032740  City of London 001G  639349.313830     18089   \n",
       "City of London 001G  E01032740  City of London 001G  639349.313830     18089   \n",
       "City of London 001G  E01032740  City of London 001G  639349.313830     18089   \n",
       "City of London 001G  E01032740  City of London 001G  639349.313830     18089   \n",
       "City of London 001G  E01032740  City of London 001G  639349.313830     18089   \n",
       "\n",
       "                     IMD_Decile  IMDScore  IMDRank0  IMDDec0  IncScore  \\\n",
       "City of London 001A           9     6.208     29199        9     0.007   \n",
       "City of London 001A           9     6.208     29199        9     0.007   \n",
       "City of London 001A           9     6.208     29199        9     0.007   \n",
       "City of London 001G           6    15.841     18089        6     0.024   \n",
       "City of London 001A           9     6.208     29199        9     0.007   \n",
       "...                         ...       ...       ...      ...       ...   \n",
       "City of London 001G           6    15.841     18089        6     0.024   \n",
       "City of London 001G           6    15.841     18089        6     0.024   \n",
       "City of London 001G           6    15.841     18089        6     0.024   \n",
       "City of London 001G           6    15.841     18089        6     0.024   \n",
       "City of London 001G           6    15.841     18089        6     0.024   \n",
       "\n",
       "                     IncRank  ...  \\\n",
       "City of London 001A    32831  ...   \n",
       "City of London 001A    32831  ...   \n",
       "City of London 001A    32831  ...   \n",
       "City of London 001G    31774  ...   \n",
       "City of London 001A    32831  ...   \n",
       "...                      ...  ...   \n",
       "City of London 001G    31774  ...   \n",
       "City of London 001G    31774  ...   \n",
       "City of London 001G    31774  ...   \n",
       "City of London 001G    31774  ...   \n",
       "City of London 001G    31774  ...   \n",
       "\n",
       "                                                              geometry  \\\n",
       "City of London 001A  POLYGON ((532095.563 181577.351, 532095.125 18...   \n",
       "City of London 001A  POLYGON ((532095.563 181577.351, 532095.125 18...   \n",
       "City of London 001A  POLYGON ((532095.563 181577.351, 532095.125 18...   \n",
       "City of London 001G  POLYGON ((531626.061 180803.860, 531624.051 18...   \n",
       "City of London 001A  POLYGON ((532095.563 181577.351, 532095.125 18...   \n",
       "...                                                                ...   \n",
       "City of London 001G  POLYGON ((531626.061 180803.860, 531624.051 18...   \n",
       "City of London 001G  POLYGON ((531626.061 180803.860, 531624.051 18...   \n",
       "City of London 001G  POLYGON ((531626.061 180803.860, 531624.051 18...   \n",
       "City of London 001G  POLYGON ((531626.061 180803.860, 531624.051 18...   \n",
       "City of London 001G  POLYGON ((531626.061 180803.860, 531624.051 18...   \n",
       "\n",
       "                              NAME  EASTING  NORTHING  \\\n",
       "City of London 001A       Barbican   532004    181856   \n",
       "City of London 001A       Barbican   532004    181856   \n",
       "City of London 001A       Barbican   532004    181856   \n",
       "City of London 001G  Chancery Lane   531124    181615   \n",
       "City of London 001A       Barbican   532004    181856   \n",
       "...                            ...      ...       ...   \n",
       "City of London 001G  Chancery Lane   531124    181615   \n",
       "City of London 001G  Chancery Lane   531124    181615   \n",
       "City of London 001G  Chancery Lane   531124    181615   \n",
       "City of London 001G  Chancery Lane   531124    181615   \n",
       "City of London 001G  Chancery Lane   531124    181615   \n",
       "\n",
       "                                                        LINES  \\\n",
       "City of London 001A  Metropolitan, Circle, Hammersmith & City   \n",
       "City of London 001A  Metropolitan, Circle, Hammersmith & City   \n",
       "City of London 001A  Metropolitan, Circle, Hammersmith & City   \n",
       "City of London 001G                                   Central   \n",
       "City of London 001A  Metropolitan, Circle, Hammersmith & City   \n",
       "...                                                       ...   \n",
       "City of London 001G                                   Central   \n",
       "City of London 001G                                   Central   \n",
       "City of London 001G                                   Central   \n",
       "City of London 001G                                   Central   \n",
       "City of London 001G                                   Central   \n",
       "\n",
       "                                NETWORK  Zone         x          y  \\\n",
       "City of London 001A  London Underground     1 -0.097190  51.519699   \n",
       "City of London 001A  London Underground     1 -0.097190  51.519699   \n",
       "City of London 001A  London Underground     1 -0.097190  51.519699   \n",
       "City of London 001G  London Underground     1 -0.109961  51.517740   \n",
       "City of London 001A  London Underground     1 -0.097190  51.519699   \n",
       "...                                 ...   ...       ...        ...   \n",
       "City of London 001G  London Underground     1 -0.109961  51.517740   \n",
       "City of London 001G  London Underground     1 -0.109961  51.517740   \n",
       "City of London 001G  London Underground     1 -0.109961  51.517740   \n",
       "City of London 001G  London Underground     1 -0.109961  51.517740   \n",
       "City of London 001G  London Underground     1 -0.109961  51.517740   \n",
       "\n",
       "                     index_right  \n",
       "City of London 001A          129  \n",
       "City of London 001A            7  \n",
       "City of London 001A           76  \n",
       "City of London 001G           76  \n",
       "City of London 001A           79  \n",
       "...                          ...  \n",
       "City of London 001G           65  \n",
       "City of London 001G            5  \n",
       "City of London 001G           37  \n",
       "City of London 001G           77  \n",
       "City of London 001G           10  \n",
       "\n",
       "[1835 rows x 70 columns]"
      ]
     },
     "execution_count": 206,
     "metadata": {},
     "output_type": "execute_result"
    }
   ],
   "source": [
    "# spatial join again\n",
    "lsoas_with_stations_railways = gpd.sjoin(a, rc_l, how='inner', op='intersects')\n",
    "lsoas_with_stations_railways"
   ]
  },
  {
   "cell_type": "code",
   "execution_count": 207,
   "metadata": {},
   "outputs": [
    {
     "data": {
      "text/plain": [
       "(1835, 70)"
      ]
     },
     "execution_count": 207,
     "metadata": {},
     "output_type": "execute_result"
    }
   ],
   "source": [
    "# shape for joined data with lsoa, railways and stations in City of London\n",
    "lsoas_with_stations_railways.shape"
   ]
  },
  {
   "cell_type": "markdown",
   "metadata": {},
   "source": [
    "So far, three layers had joined together, and you may want to save it into shapefile data for further use. Please do as you wish if interested."
   ]
  },
  {
   "cell_type": "code",
   "execution_count": 208,
   "metadata": {},
   "outputs": [],
   "source": [
    "plt.rcParams['figure.figsize'] = (10, 8)\n",
    "ax = plt.gca()\n",
    "lsoas_with_stations_railways.plot(ax=ax, color='lightblue')\n",
    "ax.set_xlim(530900, 533900); ax.set_ylim(180500, 182200)\n",
    "ax.set_aspect('equal')\n",
    "plt.show()"
   ]
  },
  {
   "cell_type": "markdown",
   "metadata": {},
   "source": [
    "Besides of spatial analysis, we also should be acknowledged with aspatial analysis, especially the regression analysis, for our project and coursework. So we are going to use the familiar London Airbnb listing data for this section, to analyze the relationships between Airbnb listing price and multiple inflential factors; it will also help us to prepare well for spatial regression analysis next week. \n",
    "# <a id='Aspatial Multivariate Regression'>Aspatial Multivariate Regression</a>\n",
    "To realize aspatial multivariate regression, we need call `spreg` from `pysal`. We are going to use 3 datasets: besides of the **airbnb data** we've used in previous practicals, the **shapefile data for London LSOAs** will be utilized as geographical units, and we add a new dataset **House Prices in London (Year ending December 2017)** [Tackling London's housing crisis](https://www.london.gov.uk/what-we-do/housing-and-land/tackling-londons-housing-crisis) (If you want more housing price data since 1995, it is also available from London Datastore)."
   ]
  },
  {
   "cell_type": "code",
   "execution_count": 34,
   "metadata": {},
   "outputs": [],
   "source": [
    "import pysal as ps\n",
    "from pysal.model.spreg import ols\n",
    "\n",
    "import seaborn as sns\n",
    "sns.set(style=\"whitegrid\")"
   ]
  },
  {
   "cell_type": "markdown",
   "metadata": {},
   "source": [
    "### <a id='Get data prepared'>Get data prepared<a/>\n",
    "Copy your airbnb listings data into this week's \"data\" folder, download the other two datasets from CUSP London Github as usual."
   ]
  },
  {
   "cell_type": "code",
   "execution_count": 10,
   "metadata": {},
   "outputs": [],
   "source": [
    "# Configure the download\n",
    "url  = 'https://github.com/cusp-london/Spatial-Data-Analysis/blob/master/housing_in_london.csv?raw=true'\n",
    "path = os.path.join(\"data\",\"housing_in_london.csv\")\n",
    "\n",
    "# Download\n",
    "r    = urllib.request.urlretrieve(url, path)"
   ]
  },
  {
   "cell_type": "code",
   "execution_count": 35,
   "metadata": {},
   "outputs": [],
   "source": [
    "# read the airbnb listings data, copy from previous weeks\n",
    "df0=pd.read_csv('data/airbnb_listings.csv')\n",
    "print(\"Data frame shape: \" + str(df0.shape)) # What is the shape of the data?\n",
    "\n",
    "geometry = [Point(xy) for xy in zip(df0.longitude, df0.latitude)]\n",
    "df0.drop(['longitude', 'latitude'], axis=1, inplace=True)\n",
    "crs = {'init': 'epsg:4326'}\n",
    "airbnb = gpd.GeoDataFrame(df0, crs=crs, geometry=geometry)\n",
    "airbnb = airbnb.to_crs({'init': 'epsg:27700'})\n",
    "airbnb.plot()\n",
    "del(df0)"
   ]
  },
  {
   "cell_type": "markdown",
   "metadata": {},
   "source": [
    "Join Airbnb data with LSOAs by spatial join."
   ]
  },
  {
   "cell_type": "code",
   "execution_count": 36,
   "metadata": {},
   "outputs": [],
   "source": [
    "df = gpd.sjoin(airbnb, lsoas, how=\"inner\", op='within')\n",
    "# df = df[df.columns[0:30]]"
   ]
  },
  {
   "cell_type": "code",
   "execution_count": 37,
   "metadata": {},
   "outputs": [],
   "source": [
    "df['Multiple Location Host'] = df.calculated_host_listings_count >= 3\n",
    "df.drop(['objectid', 'st_lengths', 'LSOA01NM', 'LADcd', 'LADnm', 'IMDRank0', 'IMDDec0', \n",
    "         'index_right','geometry',\n",
    "         'id','name', 'host_id', 'host_name','neighbourhood',\n",
    "         'last_review','calculated_host_listings_count',\n",
    "         'reviews_per_month', 'availability_365'\n",
    "        ], axis=1, inplace=True)"
   ]
  },
  {
   "cell_type": "code",
   "execution_count": 38,
   "metadata": {},
   "outputs": [],
   "source": [
    "df['price'].fillna('$0')\n",
    "df['price'] = [(w.split('$')[1]).replace(',','') for w in df['price']]\n",
    "df['price'] = df['price'].astype(float)"
   ]
  },
  {
   "cell_type": "code",
   "execution_count": 39,
   "metadata": {},
   "outputs": [
    {
     "output_type": "execute_result",
     "data": {
      "text/plain": "        Code                       Area                  Year      Value  \\\n0  E01000001        City of London 001A  Year ending Dec 2017  1204928.0   \n1  E01000002        City of London 001B  Year ending Dec 2017   991549.0   \n2  E01000003        City of London 001C  Year ending Dec 2017   913007.0   \n3  E01000005        City of London 001E  Year ending Dec 2017        NaN   \n4  E01000006  Barking and Dagenham 016A  Year ending Dec 2017   354300.0   \n\n  Measure  \n0    Mean  \n1    Mean  \n2    Mean  \n3    Mean  \n4    Mean  ",
      "text/html": "<div>\n<style scoped>\n    .dataframe tbody tr th:only-of-type {\n        vertical-align: middle;\n    }\n\n    .dataframe tbody tr th {\n        vertical-align: top;\n    }\n\n    .dataframe thead th {\n        text-align: right;\n    }\n</style>\n<table border=\"1\" class=\"dataframe\">\n  <thead>\n    <tr style=\"text-align: right;\">\n      <th></th>\n      <th>Code</th>\n      <th>Area</th>\n      <th>Year</th>\n      <th>Value</th>\n      <th>Measure</th>\n    </tr>\n  </thead>\n  <tbody>\n    <tr>\n      <th>0</th>\n      <td>E01000001</td>\n      <td>City of London 001A</td>\n      <td>Year ending Dec 2017</td>\n      <td>1204928.0</td>\n      <td>Mean</td>\n    </tr>\n    <tr>\n      <th>1</th>\n      <td>E01000002</td>\n      <td>City of London 001B</td>\n      <td>Year ending Dec 2017</td>\n      <td>991549.0</td>\n      <td>Mean</td>\n    </tr>\n    <tr>\n      <th>2</th>\n      <td>E01000003</td>\n      <td>City of London 001C</td>\n      <td>Year ending Dec 2017</td>\n      <td>913007.0</td>\n      <td>Mean</td>\n    </tr>\n    <tr>\n      <th>3</th>\n      <td>E01000005</td>\n      <td>City of London 001E</td>\n      <td>Year ending Dec 2017</td>\n      <td>NaN</td>\n      <td>Mean</td>\n    </tr>\n    <tr>\n      <th>4</th>\n      <td>E01000006</td>\n      <td>Barking and Dagenham 016A</td>\n      <td>Year ending Dec 2017</td>\n      <td>354300.0</td>\n      <td>Mean</td>\n    </tr>\n  </tbody>\n</table>\n</div>"
     },
     "metadata": {},
     "execution_count": 39
    }
   ],
   "source": [
    "df1=pd.read_csv('data/housing_in_london.csv')\n",
    "df1.head()"
   ]
  },
  {
   "cell_type": "markdown",
   "metadata": {},
   "source": [
    "### Price data"
   ]
  },
  {
   "cell_type": "code",
   "execution_count": 40,
   "metadata": {},
   "outputs": [
    {
     "output_type": "execute_result",
     "data": {
      "text/plain": "array(['listing_url', 'scrape_id', 'last_scraped', 'summary', 'space',\n       'description', 'experiences_offered', 'neighborhood_overview',\n       'notes', 'transit', 'access', 'interaction', 'house_rules',\n       'thumbnail_url', 'medium_url', 'picture_url', 'xl_picture_url',\n       'host_url', 'host_since', 'host_location', 'host_about',\n       'host_response_time', 'host_response_rate', 'host_acceptance_rate',\n       'host_is_superhost', 'host_thumbnail_url', 'host_picture_url',\n       'host_neighbourhood', 'host_listings_count',\n       'host_total_listings_count', 'host_verifications',\n       'host_has_profile_pic', 'host_identity_verified', 'street',\n       'neighbourhood_cleansed', 'neighbourhood_group_cleansed', 'city',\n       'state', 'zipcode', 'market', 'smart_location', 'country_code',\n       'country', 'is_location_exact', 'property_type', 'room_type',\n       'accommodates', 'bathrooms', 'bedrooms', 'beds', 'bed_type',\n       'amenities', 'square_feet', 'price', 'weekly_price',\n       'monthly_price', 'security_deposit', 'cleaning_fee',\n       'guests_included', 'extra_people', 'minimum_nights',\n       'maximum_nights', 'minimum_minimum_nights',\n       'maximum_minimum_nights', 'minimum_maximum_nights',\n       'maximum_maximum_nights', 'minimum_nights_avg_ntm',\n       'maximum_nights_avg_ntm', 'calendar_updated', 'has_availability',\n       'availability_30', 'availability_60', 'availability_90',\n       'calendar_last_scraped', 'number_of_reviews',\n       'number_of_reviews_ltm', 'first_review', 'review_scores_rating',\n       'review_scores_accuracy', 'review_scores_cleanliness',\n       'review_scores_checkin', 'review_scores_communication',\n       'review_scores_location', 'review_scores_value',\n       'requires_license', 'license', 'jurisdiction_names',\n       'instant_bookable', 'is_business_travel_ready',\n       'cancellation_policy', 'require_guest_profile_picture',\n       'require_guest_phone_verification',\n       'calculated_host_listings_count_entire_homes',\n       'calculated_host_listings_count_private_rooms',\n       'calculated_host_listings_count_shared_rooms', 'lsoa11cd',\n       'lsoa11nmw', 'st_areasha', 'IMD_Rand', 'IMD_Decile', 'IMDScore',\n       'IncScore', 'IncRank', 'IncDec', 'EmpScore', 'EmpRank', 'EmpDec',\n       'EduScore', 'EduRank', 'EduDec', 'HDDScore', 'HDDRank', 'HDDDec',\n       'CriScore', 'CriRank', 'CriDec', 'BHSScore', 'BHSRank', 'BHSDec',\n       'EnvScore', 'EnvRank', 'EnvDec', 'IDCScore', 'IDCRank', 'IDCDec',\n       'IDOScore', 'IDORank', 'IDODec', 'CYPScore', 'CYPRank', 'CYPDec',\n       'ASScore', 'ASRank', 'ASDec', 'GBScore', 'GBRank', 'GBDec',\n       'WBScore', 'WBRank', 'WBDec', 'IndScore', 'IndRank', 'IndDec',\n       'OutScore', 'OutRank', 'OutDec', 'TotScore', 'TotRank', 'TotDec',\n       'DepChi', 'Pop16_59', 'Pop60_', 'WorkPop',\n       'Multiple Location Host'], dtype=object)"
     },
     "metadata": {},
     "execution_count": 40
    }
   ],
   "source": [
    "df.columns.values"
   ]
  },
  {
   "cell_type": "code",
   "execution_count": 41,
   "metadata": {},
   "outputs": [],
   "source": [
    "f = {'price':['mean']}\n",
    "airbnbg = df.groupby(['lsoa11cd']).agg(f)\n",
    "airbnbg = airbnbg.price.reset_index().set_index('lsoa11cd').rename(columns=lambda x: x.title() + \" Price\")\n",
    "lsoa_new = pd.merge(lsoas, airbnbg, how='left', left_on='lsoa11cd', right_index=True)"
   ]
  },
  {
   "cell_type": "code",
   "execution_count": 42,
   "metadata": {},
   "outputs": [],
   "source": [
    "airbnbg = df[['lsoa11cd','Multiple Location Host']].groupby(['lsoa11cd','Multiple Location Host']).size().reset_index(name='counts')\n",
    "airbnbg = airbnbg.pivot(index='lsoa11cd', columns='Multiple Location Host', values='counts').fillna(0).rename(columns = {True:'Multiple Location Host', False:'Small Host'})\n",
    "lsoa = pd.merge(lsoa_new, airbnbg, how='left', left_on='lsoa11cd', right_index=True)\n",
    "lsoa['Property Count'] = lsoa['Multiple Location Host'] + lsoa['Small Host']"
   ]
  },
  {
   "cell_type": "markdown",
   "metadata": {},
   "source": [
    "In this case, the airbnbs have been grouped by LSOAs, with some newly created variables on: the mean price of Airbnbs in each LSOA, the total number of properties in each LSOA, etc.\n",
    "\n",
    "check the information on **lsoa**, you may find varied number of entries for columns. For example, variables from LSOA_IMD2019 have 4946 rows, whilst variables from Airbnb summarization have 4467 rows.\n",
    "\n",
    "Dataset 1 is ready, and now let's have a look of dataset 2."
   ]
  },
  {
   "cell_type": "code",
   "execution_count": 43,
   "metadata": {},
   "outputs": [
    {
     "output_type": "stream",
     "name": "stdout",
     "text": "<class 'pandas.core.frame.DataFrame'>\nRangeIndex: 4835 entries, 0 to 4834\nData columns (total 5 columns):\nCode       4835 non-null object\nArea       4835 non-null object\nYear       4835 non-null object\nValue      4543 non-null float64\nMeasure    4835 non-null object\ndtypes: float64(1), object(4)\nmemory usage: 189.0+ KB\n"
    }
   ],
   "source": [
    "# read the london housing data and have a look\n",
    "df2=pd.read_csv('data/housing_in_london.csv')\n",
    "df2.info()"
   ]
  },
  {
   "cell_type": "markdown",
   "metadata": {},
   "source": [
    "As we will use **'Value'** (average house price) for further analysis, we need to guarantee the data type is numeric.\n",
    "\n",
    "The column \"code\" in df2 is actually the same with \"lsoa11cd\" in lsoa, so we can try to join these two datasets by the shared column."
   ]
  },
  {
   "cell_type": "code",
   "execution_count": 44,
   "metadata": {},
   "outputs": [
    {
     "output_type": "execute_result",
     "data": {
      "text/plain": "(4835, 74)"
     },
     "metadata": {},
     "execution_count": 44
    }
   ],
   "source": [
    "# Join these two datasets\n",
    "db=df2.join(lsoa.set_index(['lsoa11cd']), on=['Code'], how='left')\n",
    "db.shape"
   ]
  },
  {
   "cell_type": "markdown",
   "metadata": {},
   "source": [
    "Delete the rows with missing values by calling **dropna** function."
   ]
  },
  {
   "cell_type": "code",
   "execution_count": 45,
   "metadata": {
    "scrolled": false
   },
   "outputs": [],
   "source": [
    "db_new=db.dropna()"
   ]
  },
  {
   "cell_type": "markdown",
   "metadata": {},
   "source": [
    "Now we will further change this newly generated asaptial dataset (if you check the data type, it should be dataframe), and save it as shapefile just in our usual way. This spatial data will be further used next week to realize spatial regression."
   ]
  },
  {
   "cell_type": "code",
   "execution_count": 46,
   "metadata": {
    "scrolled": false
   },
   "outputs": [],
   "source": [
    "db_geo = gpd.GeoDataFrame(db_new, geometry='geometry')\n",
    "db_geo.to_file(driver='ESRI Shapefile', filename='data/lsoa_IMD_airbnb_housing.shp')"
   ]
  },
  {
   "cell_type": "code",
   "execution_count": 47,
   "metadata": {},
   "outputs": [
    {
     "output_type": "execute_result",
     "data": {
      "text/plain": "        Code                       Area                  Year      Value  \\\n0  E01000001        City of London 001A  Year ending Dec 2017  1204928.0   \n1  E01000002        City of London 001B  Year ending Dec 2017   991549.0   \n2  E01000003        City of London 001C  Year ending Dec 2017   913007.0   \n3  E01000006  Barking and Dagenham 016A  Year ending Dec 2017   354300.0   \n4  E01000007  Barking and Dagenham 015A  Year ending Dec 2017   230380.0   \n\n  Measure  objectid                  lsoa11nmw     st_areasha   st_lengths  \\\n0    Mean         1        City of London 001A  133320.768872  2291.846072   \n1    Mean         2        City of London 001B  226191.272990  2433.960112   \n2    Mean         3        City of London 001C   57302.966538  1142.359799   \n3    Mean         5  Barking and Dagenham 016A  144195.846857  1935.510354   \n4    Mean         6  Barking and Dagenham 015A  198134.809244  2824.036914   \n\n   IMD_Rand  ...  TotDec DepChi Pop16_59         Pop60_      WorkPop  \\\n0     29199  ...     656    465   715.00  343907.419830  3682.439420   \n1     30379  ...     580    394   619.75  583474.041779  3910.387240   \n2     14915  ...     759    445   804.00  147839.506081  1834.931320   \n3     14486  ...    1297    221  1284.50  372257.321186  3108.610781   \n4      7256  ...    1424    105  1404.00  511543.283051  4537.675635   \n\n   Mean Price  Small Host  Multiple L  Property C  \\\n0  148.444444         8.0        10.0        18.0   \n1  200.400000         8.0         2.0        10.0   \n2  139.428571         5.0         2.0         7.0   \n3   44.200000         5.0         0.0         5.0   \n4   62.000000        10.0         4.0        14.0   \n\n                                            geometry  \n0  POLYGON ((532095.563 181577.351, 532095.125 18...  \n1  POLYGON ((532267.728 181643.781, 532262.875 18...  \n2  POLYGON ((532105.312 182010.574, 532104.872 18...  \n3  POLYGON ((544817.826 184346.261, 544815.791 18...  \n4  POLYGON ((544175.331 184526.180, 544175.880 18...  \n\n[5 rows x 74 columns]",
      "text/html": "<div>\n<style scoped>\n    .dataframe tbody tr th:only-of-type {\n        vertical-align: middle;\n    }\n\n    .dataframe tbody tr th {\n        vertical-align: top;\n    }\n\n    .dataframe thead th {\n        text-align: right;\n    }\n</style>\n<table border=\"1\" class=\"dataframe\">\n  <thead>\n    <tr style=\"text-align: right;\">\n      <th></th>\n      <th>Code</th>\n      <th>Area</th>\n      <th>Year</th>\n      <th>Value</th>\n      <th>Measure</th>\n      <th>objectid</th>\n      <th>lsoa11nmw</th>\n      <th>st_areasha</th>\n      <th>st_lengths</th>\n      <th>IMD_Rand</th>\n      <th>...</th>\n      <th>TotDec</th>\n      <th>DepChi</th>\n      <th>Pop16_59</th>\n      <th>Pop60_</th>\n      <th>WorkPop</th>\n      <th>Mean Price</th>\n      <th>Small Host</th>\n      <th>Multiple L</th>\n      <th>Property C</th>\n      <th>geometry</th>\n    </tr>\n  </thead>\n  <tbody>\n    <tr>\n      <th>0</th>\n      <td>E01000001</td>\n      <td>City of London 001A</td>\n      <td>Year ending Dec 2017</td>\n      <td>1204928.0</td>\n      <td>Mean</td>\n      <td>1</td>\n      <td>City of London 001A</td>\n      <td>133320.768872</td>\n      <td>2291.846072</td>\n      <td>29199</td>\n      <td>...</td>\n      <td>656</td>\n      <td>465</td>\n      <td>715.00</td>\n      <td>343907.419830</td>\n      <td>3682.439420</td>\n      <td>148.444444</td>\n      <td>8.0</td>\n      <td>10.0</td>\n      <td>18.0</td>\n      <td>POLYGON ((532095.563 181577.351, 532095.125 18...</td>\n    </tr>\n    <tr>\n      <th>1</th>\n      <td>E01000002</td>\n      <td>City of London 001B</td>\n      <td>Year ending Dec 2017</td>\n      <td>991549.0</td>\n      <td>Mean</td>\n      <td>2</td>\n      <td>City of London 001B</td>\n      <td>226191.272990</td>\n      <td>2433.960112</td>\n      <td>30379</td>\n      <td>...</td>\n      <td>580</td>\n      <td>394</td>\n      <td>619.75</td>\n      <td>583474.041779</td>\n      <td>3910.387240</td>\n      <td>200.400000</td>\n      <td>8.0</td>\n      <td>2.0</td>\n      <td>10.0</td>\n      <td>POLYGON ((532267.728 181643.781, 532262.875 18...</td>\n    </tr>\n    <tr>\n      <th>2</th>\n      <td>E01000003</td>\n      <td>City of London 001C</td>\n      <td>Year ending Dec 2017</td>\n      <td>913007.0</td>\n      <td>Mean</td>\n      <td>3</td>\n      <td>City of London 001C</td>\n      <td>57302.966538</td>\n      <td>1142.359799</td>\n      <td>14915</td>\n      <td>...</td>\n      <td>759</td>\n      <td>445</td>\n      <td>804.00</td>\n      <td>147839.506081</td>\n      <td>1834.931320</td>\n      <td>139.428571</td>\n      <td>5.0</td>\n      <td>2.0</td>\n      <td>7.0</td>\n      <td>POLYGON ((532105.312 182010.574, 532104.872 18...</td>\n    </tr>\n    <tr>\n      <th>3</th>\n      <td>E01000006</td>\n      <td>Barking and Dagenham 016A</td>\n      <td>Year ending Dec 2017</td>\n      <td>354300.0</td>\n      <td>Mean</td>\n      <td>5</td>\n      <td>Barking and Dagenham 016A</td>\n      <td>144195.846857</td>\n      <td>1935.510354</td>\n      <td>14486</td>\n      <td>...</td>\n      <td>1297</td>\n      <td>221</td>\n      <td>1284.50</td>\n      <td>372257.321186</td>\n      <td>3108.610781</td>\n      <td>44.200000</td>\n      <td>5.0</td>\n      <td>0.0</td>\n      <td>5.0</td>\n      <td>POLYGON ((544817.826 184346.261, 544815.791 18...</td>\n    </tr>\n    <tr>\n      <th>4</th>\n      <td>E01000007</td>\n      <td>Barking and Dagenham 015A</td>\n      <td>Year ending Dec 2017</td>\n      <td>230380.0</td>\n      <td>Mean</td>\n      <td>6</td>\n      <td>Barking and Dagenham 015A</td>\n      <td>198134.809244</td>\n      <td>2824.036914</td>\n      <td>7256</td>\n      <td>...</td>\n      <td>1424</td>\n      <td>105</td>\n      <td>1404.00</td>\n      <td>511543.283051</td>\n      <td>4537.675635</td>\n      <td>62.000000</td>\n      <td>10.0</td>\n      <td>4.0</td>\n      <td>14.0</td>\n      <td>POLYGON ((544175.331 184526.180, 544175.880 18...</td>\n    </tr>\n  </tbody>\n</table>\n<p>5 rows × 74 columns</p>\n</div>"
     },
     "metadata": {},
     "execution_count": 47
    }
   ],
   "source": [
    "gdf=gpd.read_file('data/lsoa_IMD_airbnb_housing.shp')\n",
    "gdf.head()"
   ]
  },
  {
   "cell_type": "code",
   "execution_count": 60,
   "metadata": {},
   "outputs": [
    {
     "data": {
      "text/plain": [
       "array(['Code', 'Area', 'Year', 'Value', 'Measure', 'objectid', 'lsoa11nm',\n",
       "       'lsoa11nmw', 'st_areasha', 'st_lengths', 'IMD_Rand', 'IMD_Decile',\n",
       "       'LSOA01NM', 'LADcd', 'LADnm', 'IMDScore', 'IMDRank0', 'IMDDec0',\n",
       "       'IncScore', 'IncRank', 'IncDec', 'EmpScore', 'EmpRank', 'EmpDec',\n",
       "       'EduScore', 'EduRank', 'EduDec', 'HDDScore', 'HDDRank', 'HDDDec',\n",
       "       'CriScore', 'CriRank', 'CriDec', 'BHSScore', 'BHSRank', 'BHSDec',\n",
       "       'EnvScore', 'EnvRank', 'EnvDec', 'IDCScore', 'IDCRank', 'IDCDec',\n",
       "       'IDOScore', 'IDORank', 'IDODec', 'CYPScore', 'CYPRank', 'CYPDec',\n",
       "       'ASScore', 'ASRank', 'ASDec', 'GBScore', 'GBRank', 'GBDec',\n",
       "       'WBScore', 'WBRank', 'WBDec', 'IndScore', 'IndRank', 'IndDec',\n",
       "       'OutScore', 'OutRank', 'OutDec', 'TotScore', 'TotRank', 'TotDec',\n",
       "       'DepChi', 'Pop16_59', 'Pop60_', 'WorkPop', 'geometry',\n",
       "       'Mean Price', 'Small Host', 'Multiple Location Host',\n",
       "       'Property Count'], dtype=object)"
      ]
     },
     "execution_count": 60,
     "metadata": {},
     "output_type": "execute_result"
    }
   ],
   "source": [
    "db_new.columns.values"
   ]
  },
  {
   "cell_type": "markdown",
   "metadata": {},
   "source": [
    "### <a id='Multivariate Regression'>Multivariate Regression</a>\n",
    "    \n",
    "We will use `PySAL` to analyse the relations between `Airbnb listing price` , `deprivation indices` and other housing and earning variables by LSOA in London. Before introducing explicitly spatial methods next week, we will run a simple ordinary least squares (OLS) linear regression model to analyze the relationship between these variables. Hence providing us the capability to interpret regression results on which the spatial models will build on; and enabling us to evaluate the meaningfulness of spatial regression models upon comparions. \n",
    "\n",
    "Normally, an OLS linear regression is to explain a given variable $y$, as a linear function of a set of other variables $X$:\n",
    "\n",
    "$y_i$=α+β$X_i$+$ϵ_i$\n",
    "\n",
    "where $i$ is the boroughs in our example, and $\\epsilon_i$ is the error term for our probabilistic model. \n",
    "\n",
    "Now let's start with read in the dependent variable $y$ and independent variables $X$:\n",
    "\n",
    "We will start directly with more than 6 independant variables for today, but if in your own project, the X is a 2 dimensional array, which means only 2 independant variables, then the ordinary least squares (OLS) regression is performed with [pysal.model.spreg](https://pysal.readthedocs.io/en/latest/generated/pysal.model.spreg.OLS.html), with outputs callable through its `summary` feature and I leave more to explore by yourself. "
   ]
  },
  {
   "cell_type": "code",
   "execution_count": 63,
   "metadata": {},
   "outputs": [],
   "source": [
    "# read the .dbf file from your shapefile data\n",
    "f = ps.lib.io.open('data/lsoa_IMD_airbnb_housing.dbf','r')\n",
    "# Read in the listing_price (dependent variable) into an array y\n",
    "y = np.array(f.by_col['Mean Price']) # airbnb average price in each lsoa\n",
    "y.shape = (len(y),1)\n",
    "# value for independent variables into a one dimmensional array X. \n",
    "# You can feel free to change the independant variables\n",
    "X= []\n",
    "X.append(f.by_col['Value']) # average house price\n",
    "X.append(f.by_col['IncScore']) # Income score in 2019\n",
    "X.append(f.by_col['EduScore']) # Education score in 2019\n",
    "X.append(f.by_col['BHSScore']) # Barrier to Housing Services score in 2019\n",
    "X.append(f.by_col['IMDScore']) # Deprivation index in 2019\n",
    "X.append(f.by_col['Property C']) # number of airbnbs\n",
    "X = np.array(X).T"
   ]
  },
  {
   "cell_type": "code",
   "execution_count": 64,
   "metadata": {
    "scrolled": true
   },
   "outputs": [
    {
     "name": "stdout",
     "output_type": "stream",
     "text": [
      "REGRESSION\n",
      "----------\n",
      "SUMMARY OF OUTPUT: ORDINARY LEAST SQUARES\n",
      "-----------------------------------------\n",
      "Data set            :lsoa_IMD_airbnb_housing\n",
      "Weights matrix      :        None\n",
      "Dependent Variable  :  Mean Price                Number of Observations:        4201\n",
      "Mean dependent var  :     87.6544                Number of Variables   :           7\n",
      "S.D. dependent var  :     71.2100                Degrees of Freedom    :        4194\n",
      "R-squared           :      0.2850\n",
      "Adjusted R-squared  :      0.2840\n",
      "Sum squared residual:15227770.305                F-statistic           :    278.6251\n",
      "Sigma-square        :    3630.847                Prob(F-statistic)     :  5.379e-301\n",
      "S.E. of regression  :      60.257                Log likelihood        :  -23175.721\n",
      "Sigma-square ML     :    3624.797                Akaike info criterion :   46365.442\n",
      "S.E of regression ML:     60.2063                Schwarz criterion     :   46409.843\n",
      "\n",
      "------------------------------------------------------------------------------------\n",
      "            Variable     Coefficient       Std.Error     t-Statistic     Probability\n",
      "------------------------------------------------------------------------------------\n",
      "            CONSTANT      51.3833029       4.0571490      12.6648793       0.0000000\n",
      "               Value       0.0000620       0.0000023      26.6199056       0.0000000\n",
      "            IncScore    -135.0255169      45.5018362      -2.9674740       0.0030195\n",
      "            EduScore      -0.1285321       0.1584403      -0.8112338       0.4172775\n",
      "            BHSScore      -0.3725380       0.1408755      -2.6444487       0.0082129\n",
      "            IMDScore       0.9566041       0.3670790       2.6059895       0.0091933\n",
      "          Property C       0.4574684       0.0386521      11.8355274       0.0000000\n",
      "------------------------------------------------------------------------------------\n",
      "\n",
      "REGRESSION DIAGNOSTICS\n",
      "MULTICOLLINEARITY CONDITION NUMBER           27.848\n",
      "\n",
      "TEST ON NORMALITY OF ERRORS\n",
      "TEST                             DF        VALUE           PROB\n",
      "Jarque-Bera                       2     9710840.058           0.0000\n",
      "\n",
      "DIAGNOSTICS FOR HETEROSKEDASTICITY\n",
      "RANDOM COEFFICIENTS\n",
      "TEST                             DF        VALUE           PROB\n",
      "Breusch-Pagan test                6         861.658           0.0000\n",
      "Koenker-Bassett test              6           7.288           0.2950\n",
      "================================ END OF REPORT =====================================\n"
     ]
    }
   ],
   "source": [
    "m1 = ps.model.spreg.OLS(y, X, name_y = 'Mean Price', \n",
    "                        name_x = ['Value', 'IncScore', 'EduScore', 'BHSScore', 'IMDScore', 'Property C'], \n",
    "                        name_ds = 'lsoa_IMD_airbnb_housing')\n",
    "print(m1.summary)"
   ]
  },
  {
   "cell_type": "markdown",
   "metadata": {},
   "source": [
    "### <a id=\"Task 10\">Task 10<a/>\n",
    "Interpret the regression summary, and get your answers to:\n",
    "- Is current OLS model well enough? What is the adjusted R-squared value and how to interpret it?\n",
    "- Which variable(s) have significant influence on airbnb listing price, and how they are going to affect the pricing?\n",
    "- Which are the parameters telling us the model fit?\n",
    "- Is multicollinearity existing? If so, do you have better solutions? If you are going to replace some variables for improvement, which variables will be considered?\n",
    "\n",
    "However, you may already found this method is not good enough! We call the array by using pysal wrapper $f$, so we can only define **X** with the original cutted labels for variables, which is not easy to interpret. How if we want to keep using the geodataframe to do the regression? We can use `statsmodels` (you've seen it last week in optional section) to realize the function."
   ]
  },
  {
   "cell_type": "code",
   "execution_count": 49,
   "metadata": {},
   "outputs": [
    {
     "output_type": "execute_result",
     "data": {
      "text/plain": "<class 'statsmodels.iolib.summary.Summary'>\n\"\"\"\n                                 OLS Regression Results                                \n=======================================================================================\nDep. Variable:                      y   R-squared (uncentered):                   0.705\nModel:                            OLS   Adj. R-squared (uncentered):              0.704\nMethod:                 Least Squares   F-statistic:                              1670.\nDate:                Wed, 22 Apr 2020   Prob (F-statistic):                        0.00\nTime:                        23:45:01   Log-Likelihood:                         -23255.\nNo. Observations:                4201   AIC:                                  4.652e+04\nDf Residuals:                    4195   BIC:                                  4.656e+04\nDf Model:                           6                                                  \nCovariance Type:            nonrobust                                                  \n==============================================================================\n                 coef    std err          t      P>|t|      [0.025      0.975]\n------------------------------------------------------------------------------\nValue       7.824e-05   1.98e-06     39.496      0.000    7.44e-05    8.21e-05\nIncScore      27.5433     44.475      0.619      0.536     -59.651     114.738\nEduScore       0.0603      0.161      0.375      0.708      -0.255       0.375\nBHSScore       0.8834      0.102      8.665      0.000       0.683       1.083\nIMDScore      -0.2338      0.362     -0.647      0.518      -0.943       0.475\nProperty C     0.4775      0.039     12.135      0.000       0.400       0.555\n==============================================================================\nOmnibus:                     6901.272   Durbin-Watson:                   1.911\nProb(Omnibus):                  0.000   Jarque-Bera (JB):          8541384.438\nSkew:                          10.603   Prob(JB):                         0.00\nKurtosis:                     222.879   Cond. No.                     3.67e+07\n==============================================================================\n\nWarnings:\n[1] Standard Errors assume that the covariance matrix of the errors is correctly specified.\n[2] The condition number is large, 3.67e+07. This might indicate that there are\nstrong multicollinearity or other numerical problems.\n\"\"\"",
      "text/html": "<table class=\"simpletable\">\n<caption>OLS Regression Results</caption>\n<tr>\n  <th>Dep. Variable:</th>            <td>y</td>        <th>  R-squared (uncentered):</th>      <td>   0.705</td> \n</tr>\n<tr>\n  <th>Model:</th>                   <td>OLS</td>       <th>  Adj. R-squared (uncentered):</th> <td>   0.704</td> \n</tr>\n<tr>\n  <th>Method:</th>             <td>Least Squares</td>  <th>  F-statistic:       </th>          <td>   1670.</td> \n</tr>\n<tr>\n  <th>Date:</th>             <td>Wed, 22 Apr 2020</td> <th>  Prob (F-statistic):</th>           <td>  0.00</td>  \n</tr>\n<tr>\n  <th>Time:</th>                 <td>23:45:01</td>     <th>  Log-Likelihood:    </th>          <td> -23255.</td> \n</tr>\n<tr>\n  <th>No. Observations:</th>      <td>  4201</td>      <th>  AIC:               </th>          <td>4.652e+04</td>\n</tr>\n<tr>\n  <th>Df Residuals:</th>          <td>  4195</td>      <th>  BIC:               </th>          <td>4.656e+04</td>\n</tr>\n<tr>\n  <th>Df Model:</th>              <td>     6</td>      <th>                     </th>              <td> </td>    \n</tr>\n<tr>\n  <th>Covariance Type:</th>      <td>nonrobust</td>    <th>                     </th>              <td> </td>    \n</tr>\n</table>\n<table class=\"simpletable\">\n<tr>\n       <td></td>         <th>coef</th>     <th>std err</th>      <th>t</th>      <th>P>|t|</th>  <th>[0.025</th>    <th>0.975]</th>  \n</tr>\n<tr>\n  <th>Value</th>      <td> 7.824e-05</td> <td> 1.98e-06</td> <td>   39.496</td> <td> 0.000</td> <td> 7.44e-05</td> <td> 8.21e-05</td>\n</tr>\n<tr>\n  <th>IncScore</th>   <td>   27.5433</td> <td>   44.475</td> <td>    0.619</td> <td> 0.536</td> <td>  -59.651</td> <td>  114.738</td>\n</tr>\n<tr>\n  <th>EduScore</th>   <td>    0.0603</td> <td>    0.161</td> <td>    0.375</td> <td> 0.708</td> <td>   -0.255</td> <td>    0.375</td>\n</tr>\n<tr>\n  <th>BHSScore</th>   <td>    0.8834</td> <td>    0.102</td> <td>    8.665</td> <td> 0.000</td> <td>    0.683</td> <td>    1.083</td>\n</tr>\n<tr>\n  <th>IMDScore</th>   <td>   -0.2338</td> <td>    0.362</td> <td>   -0.647</td> <td> 0.518</td> <td>   -0.943</td> <td>    0.475</td>\n</tr>\n<tr>\n  <th>Property C</th> <td>    0.4775</td> <td>    0.039</td> <td>   12.135</td> <td> 0.000</td> <td>    0.400</td> <td>    0.555</td>\n</tr>\n</table>\n<table class=\"simpletable\">\n<tr>\n  <th>Omnibus:</th>       <td>6901.272</td> <th>  Durbin-Watson:     </th>  <td>   1.911</td>  \n</tr>\n<tr>\n  <th>Prob(Omnibus):</th>  <td> 0.000</td>  <th>  Jarque-Bera (JB):  </th> <td>8541384.438</td>\n</tr>\n<tr>\n  <th>Skew:</th>           <td>10.603</td>  <th>  Prob(JB):          </th>  <td>    0.00</td>  \n</tr>\n<tr>\n  <th>Kurtosis:</th>       <td>222.879</td> <th>  Cond. No.          </th>  <td>3.67e+07</td>  \n</tr>\n</table><br/><br/>Warnings:<br/>[1] Standard Errors assume that the covariance matrix of the errors is correctly specified.<br/>[2] The condition number is large, 3.67e+07. This might indicate that there are<br/>strong multicollinearity or other numerical problems."
     },
     "metadata": {},
     "execution_count": 49
    }
   ],
   "source": [
    "import statsmodels.api as sm\n",
    "x = ['Value', 'IncScore', 'EduScore', 'BHSScore', 'IMDScore', 'Property C'] # define input/independant variables\n",
    "X = gdf.loc[:, x].dropna()\n",
    "y = np.array(gdf['Mean Price']) # define output/dependant variable\n",
    "# Note the difference in argument order\n",
    "model = sm.OLS(y, X).fit()\n",
    "predictions = model.predict(X) # make the predictions by the model\n",
    "\n",
    "# Print out the statistics\n",
    "model.summary()"
   ]
  },
  {
   "cell_type": "markdown",
   "metadata": {},
   "source": [
    "What have you got this time? The output summary is very different from the previous one."
   ]
  },
  {
   "cell_type": "markdown",
   "metadata": {},
   "source": [
    "\"Ordinary Least Squares (OLS)\" method means that we’re trying to fit a regression line that would minimize the square of distance from the regression line. Date and Time are the precise moment you got this summary, Number of observations is the count of rows, and in our dataset it equals to the number of boroughs. $Df$ of residuals and models relates to the degrees of freedom (\"number of values in the final calculation of a statistic that are free to vary\").\n",
    "\n",
    "Take the Barriers to House Services Score variable as an example, the coefficient of 0.8833 means that as the Barriers to house services deprivation score in the LSOA increases by 1, the predicted average Airbnb listing price increases by 0.8833 (sterlings). Similar explanations could be made on other coefficients with a signifant $p$ value.\n",
    "\n",
    "Other important measures include: \n",
    "\n",
    "- R-squared: how much percentage of variance the model can explain; \n",
    "Std err (standard error): standard deviation of the sampling distribution of a statistic, e.g. mean; \n",
    "\n",
    "- t scores and p-values: hypothesis test. If private_rent_price variable has statistically significant p-value; there is a 95% confidence intervals for it.\n",
    "\n",
    "If we want to add a constant intercept to the model, we can call the following:"
   ]
  },
  {
   "cell_type": "code",
   "execution_count": 66,
   "metadata": {
    "scrolled": true
   },
   "outputs": [
    {
     "data": {
      "text/html": [
       "<table class=\"simpletable\">\n",
       "<caption>OLS Regression Results</caption>\n",
       "<tr>\n",
       "  <th>Dep. Variable:</th>            <td>y</td>        <th>  R-squared:         </th> <td>   0.285</td> \n",
       "</tr>\n",
       "<tr>\n",
       "  <th>Model:</th>                   <td>OLS</td>       <th>  Adj. R-squared:    </th> <td>   0.284</td> \n",
       "</tr>\n",
       "<tr>\n",
       "  <th>Method:</th>             <td>Least Squares</td>  <th>  F-statistic:       </th> <td>   278.6</td> \n",
       "</tr>\n",
       "<tr>\n",
       "  <th>Date:</th>             <td>Sun, 08 Mar 2020</td> <th>  Prob (F-statistic):</th> <td>5.38e-301</td>\n",
       "</tr>\n",
       "<tr>\n",
       "  <th>Time:</th>                 <td>11:39:32</td>     <th>  Log-Likelihood:    </th> <td> -23176.</td> \n",
       "</tr>\n",
       "<tr>\n",
       "  <th>No. Observations:</th>      <td>  4201</td>      <th>  AIC:               </th> <td>4.637e+04</td>\n",
       "</tr>\n",
       "<tr>\n",
       "  <th>Df Residuals:</th>          <td>  4194</td>      <th>  BIC:               </th> <td>4.641e+04</td>\n",
       "</tr>\n",
       "<tr>\n",
       "  <th>Df Model:</th>              <td>     6</td>      <th>                     </th>     <td> </td>    \n",
       "</tr>\n",
       "<tr>\n",
       "  <th>Covariance Type:</th>      <td>nonrobust</td>    <th>                     </th>     <td> </td>    \n",
       "</tr>\n",
       "</table>\n",
       "<table class=\"simpletable\">\n",
       "<tr>\n",
       "       <td></td>         <th>coef</th>     <th>std err</th>      <th>t</th>      <th>P>|t|</th>  <th>[0.025</th>    <th>0.975]</th>  \n",
       "</tr>\n",
       "<tr>\n",
       "  <th>const</th>      <td>   51.3833</td> <td>    4.057</td> <td>   12.665</td> <td> 0.000</td> <td>   43.429</td> <td>   59.337</td>\n",
       "</tr>\n",
       "<tr>\n",
       "  <th>Value</th>      <td>   6.2e-05</td> <td> 2.33e-06</td> <td>   26.620</td> <td> 0.000</td> <td> 5.74e-05</td> <td> 6.66e-05</td>\n",
       "</tr>\n",
       "<tr>\n",
       "  <th>IncScore</th>   <td> -135.0255</td> <td>   45.502</td> <td>   -2.967</td> <td> 0.003</td> <td> -224.233</td> <td>  -45.818</td>\n",
       "</tr>\n",
       "<tr>\n",
       "  <th>EduScore</th>   <td>   -0.1285</td> <td>    0.158</td> <td>   -0.811</td> <td> 0.417</td> <td>   -0.439</td> <td>    0.182</td>\n",
       "</tr>\n",
       "<tr>\n",
       "  <th>BHSScore</th>   <td>   -0.3725</td> <td>    0.141</td> <td>   -2.644</td> <td> 0.008</td> <td>   -0.649</td> <td>   -0.096</td>\n",
       "</tr>\n",
       "<tr>\n",
       "  <th>IMDScore</th>   <td>    0.9566</td> <td>    0.367</td> <td>    2.606</td> <td> 0.009</td> <td>    0.237</td> <td>    1.676</td>\n",
       "</tr>\n",
       "<tr>\n",
       "  <th>Property C</th> <td>    0.4575</td> <td>    0.039</td> <td>   11.836</td> <td> 0.000</td> <td>    0.382</td> <td>    0.533</td>\n",
       "</tr>\n",
       "</table>\n",
       "<table class=\"simpletable\">\n",
       "<tr>\n",
       "  <th>Omnibus:</th>       <td>7104.176</td> <th>  Durbin-Watson:     </th>  <td>   1.934</td>  \n",
       "</tr>\n",
       "<tr>\n",
       "  <th>Prob(Omnibus):</th>  <td> 0.000</td>  <th>  Jarque-Bera (JB):  </th> <td>9710840.058</td>\n",
       "</tr>\n",
       "<tr>\n",
       "  <th>Skew:</th>           <td>11.258</td>  <th>  Prob(JB):          </th>  <td>    0.00</td>  \n",
       "</tr>\n",
       "<tr>\n",
       "  <th>Kurtosis:</th>       <td>237.458</td> <th>  Cond. No.          </th>  <td>3.82e+07</td>  \n",
       "</tr>\n",
       "</table><br/><br/>Warnings:<br/>[1] Standard Errors assume that the covariance matrix of the errors is correctly specified.<br/>[2] The condition number is large, 3.82e+07. This might indicate that there are<br/>strong multicollinearity or other numerical problems."
      ],
      "text/plain": [
       "<class 'statsmodels.iolib.summary.Summary'>\n",
       "\"\"\"\n",
       "                            OLS Regression Results                            \n",
       "==============================================================================\n",
       "Dep. Variable:                      y   R-squared:                       0.285\n",
       "Model:                            OLS   Adj. R-squared:                  0.284\n",
       "Method:                 Least Squares   F-statistic:                     278.6\n",
       "Date:                Sun, 08 Mar 2020   Prob (F-statistic):          5.38e-301\n",
       "Time:                        11:39:32   Log-Likelihood:                -23176.\n",
       "No. Observations:                4201   AIC:                         4.637e+04\n",
       "Df Residuals:                    4194   BIC:                         4.641e+04\n",
       "Df Model:                           6                                         \n",
       "Covariance Type:            nonrobust                                         \n",
       "==============================================================================\n",
       "                 coef    std err          t      P>|t|      [0.025      0.975]\n",
       "------------------------------------------------------------------------------\n",
       "const         51.3833      4.057     12.665      0.000      43.429      59.337\n",
       "Value         6.2e-05   2.33e-06     26.620      0.000    5.74e-05    6.66e-05\n",
       "IncScore    -135.0255     45.502     -2.967      0.003    -224.233     -45.818\n",
       "EduScore      -0.1285      0.158     -0.811      0.417      -0.439       0.182\n",
       "BHSScore      -0.3725      0.141     -2.644      0.008      -0.649      -0.096\n",
       "IMDScore       0.9566      0.367      2.606      0.009       0.237       1.676\n",
       "Property C     0.4575      0.039     11.836      0.000       0.382       0.533\n",
       "==============================================================================\n",
       "Omnibus:                     7104.176   Durbin-Watson:                   1.934\n",
       "Prob(Omnibus):                  0.000   Jarque-Bera (JB):          9710840.058\n",
       "Skew:                          11.258   Prob(JB):                         0.00\n",
       "Kurtosis:                     237.458   Cond. No.                     3.82e+07\n",
       "==============================================================================\n",
       "\n",
       "Warnings:\n",
       "[1] Standard Errors assume that the covariance matrix of the errors is correctly specified.\n",
       "[2] The condition number is large, 3.82e+07. This might indicate that there are\n",
       "strong multicollinearity or other numerical problems.\n",
       "\"\"\""
      ]
     },
     "execution_count": 66,
     "metadata": {},
     "output_type": "execute_result"
    }
   ],
   "source": [
    "X = sm.add_constant(X) ## let's add an intercept (beta_0) to our model\n",
    "\n",
    "# Note the difference in argument order\n",
    "model_c = sm.OLS(y, X).fit() ## sm.OLS(output, input)\n",
    "predictions = model_c.predict(X)\n",
    "\n",
    "# Print out the statistics\n",
    "model_c.summary()"
   ]
  },
  {
   "cell_type": "markdown",
   "metadata": {},
   "source": [
    "With the constant term the coefficients are different now. The previous model without constant term, we forced our model to go through the origin data, but now we have a y-intercept at 51.3833, the slope of the Barriers to House Services index variable also changed from 0.8833 to -0.3725.\n",
    "\n",
    "The model explanation capability decreased from 70.4% of the variance in dependent variable, airbnb listing price, to 28.4%, reading from the R-squared values of summaries. Think of another scenario, how if we add other variables to this regression model, will the R² get higher? Discuss with your neighbours if you want to share your opinion.\n",
    "\n",
    "We can see all independent variables are statistically significant in predicting (or estimating) the airbnb listing price. As the barrier to house services deprivation score increases by 1, the airbnb listing price will decrease by 0.3725, which is a reversed relationship, etc.. In all, `Statsmodels` is functionally sufficient to conduct multivariate regression, and you can add up to 13 variables for your research！In addition, it also provide follow-on methods to diagnose your regression result."
   ]
  },
  {
   "cell_type": "markdown",
   "metadata": {},
   "source": [
    "### <a id='Regression diagnostics'>Regression diagnostics<a/>\n",
    "\n",
    "The rationale is to check the normality of the residuals from our model. The meanings of statistics could be googled or discuss with your neighbors in class."
   ]
  },
  {
   "cell_type": "code",
   "execution_count": 50,
   "metadata": {},
   "outputs": [
    {
     "output_type": "execute_result",
     "data": {
      "text/plain": "[('Chi^2', 6901.2721923939425), ('Two-tail probability', 0.0)]"
     },
     "metadata": {},
     "execution_count": 50
    }
   ],
   "source": [
    "from statsmodels.compat import lzip\n",
    "import statsmodels.stats.api as sms\n",
    "# Omni test\n",
    "name = ['Chi^2', 'Two-tail probability']\n",
    "test = sms.omni_normtest(model.resid)\n",
    "lzip(name, test)"
   ]
  },
  {
   "cell_type": "code",
   "execution_count": 51,
   "metadata": {},
   "outputs": [
    {
     "output_type": "execute_result",
     "data": {
      "text/plain": "[('Jarque-Bera', 8541384.437977437),\n ('Chi^2 two-tail prob.', 0.0),\n ('Skew', 10.603056124888507),\n ('Kurtosis', 222.8785885720305)]"
     },
     "metadata": {},
     "execution_count": 51
    }
   ],
   "source": [
    "# Jarque-Bera test\n",
    "name = ['Jarque-Bera', 'Chi^2 two-tail prob.', 'Skew', 'Kurtosis']\n",
    "test = sms.jarque_bera(model.resid)\n",
    "lzip(name, test)"
   ]
  },
  {
   "cell_type": "code",
   "execution_count": 52,
   "metadata": {},
   "outputs": [
    {
     "output_type": "execute_result",
     "data": {
      "text/plain": "36660390.601976335"
     },
     "metadata": {},
     "execution_count": 52
    }
   ],
   "source": [
    "# Multicollinearity on condition number\n",
    "np.linalg.cond(model.model.exog)"
   ]
  },
  {
   "cell_type": "code",
   "execution_count": 53,
   "metadata": {},
   "outputs": [
    {
     "output_type": "execute_result",
     "data": {
      "text/plain": "[('Lagrange multiplier statistic', 29.03485730324291),\n ('p-value', 2.2825325461680073e-05),\n ('f-value', 4.865861459410169),\n ('f p-value', 5.804188680463761e-05)]"
     },
     "metadata": {},
     "execution_count": 53
    }
   ],
   "source": [
    "# Heteroskedasticity tests\n",
    "# Breush-Pagan test\n",
    "name = ['Lagrange multiplier statistic', 'p-value',\n",
    "        'f-value', 'f p-value']\n",
    "test = sms.het_breuschpagan(model.resid, model.model.exog)\n",
    "lzip(name, test)"
   ]
  },
  {
   "cell_type": "code",
   "execution_count": 54,
   "metadata": {},
   "outputs": [
    {
     "output_type": "execute_result",
     "data": {
      "text/plain": "[('F statistic', 1.6636994593063101), ('p-value', 2.4477087942196828e-31)]"
     },
     "metadata": {},
     "execution_count": 54
    }
   ],
   "source": [
    "# Goldfeld-Quandt test\n",
    "name = ['F statistic', 'p-value']\n",
    "test = sms.het_goldfeldquandt(model.resid, model.model.exog)\n",
    "lzip(name, test)"
   ]
  },
  {
   "cell_type": "markdown",
   "metadata": {},
   "source": [
    "### <a id='Partial Regression Plots'>Partial Regression Plots<a/>\n",
    "Partial regression plots show us the relationships between each independent variable and dependent varaiable individually, with a linear fit line added. However, you may find partical regression take natural log transformed data as default variables, the axis is with $ e(X) $ specification, and the scales for axis had changed even with negative values. But for our analysis, we didn't do data transformation beforehand for consistence, hence the axis have changed into Xth power of e. It doesn't affect the result for this practical, we only take it as an additional supportive part, helping you better interpret your regression summary intuitively. "
   ]
  },
  {
   "cell_type": "code",
   "execution_count": 55,
   "metadata": {},
   "outputs": [],
   "source": [
    "fig = plt.figure(figsize=(12,8))\n",
    "fig = sm.graphics.plot_partregress_grid(model, fig=fig)"
   ]
  },
  {
   "cell_type": "markdown",
   "metadata": {},
   "source": [
    "### <a id='Influence Plots'>Influence Plots<a/>\n",
    "Influence plots could be used to signify the influences on regression result from each row."
   ]
  },
  {
   "cell_type": "code",
   "execution_count": 56,
   "metadata": {},
   "outputs": [],
   "source": [
    "# visualize the influence from each borough\n",
    "fig, ax = plt.subplots(figsize=(10,6))\n",
    "fig = sm.graphics.influence_plot(model, ax=ax)"
   ]
  },
  {
   "cell_type": "code",
   "execution_count": 58,
   "metadata": {},
   "outputs": [
    {
     "output_type": "execute_result",
     "data": {
      "text/plain": "array([[ 4.85267059e-03, -4.57757803e-03, -8.64066358e-04,\n         5.12957799e-03,  1.64965568e-03, -2.01044514e-03],\n       [ 2.02155330e-02,  1.36964797e-02, -4.61325175e-03,\n         2.67913791e-02, -2.05984659e-02, -6.68594513e-03],\n       [ 2.90123518e-03, -1.11168534e-02, -7.24760399e-03,\n         4.54775539e-03,  9.98347781e-03, -8.46972014e-03],\n       [ 5.29252431e-03, -4.40145938e-05, -2.54337499e-03,\n        -1.22944440e-02,  4.10465373e-03, -2.49270808e-04],\n       [ 2.04455902e-03, -7.45197793e-04,  2.30787534e-03,\n        -2.08644616e-03,  2.44454581e-04,  4.05980785e-04]])"
     },
     "metadata": {},
     "execution_count": 58
    }
   ],
   "source": [
    "# Influence tests\n",
    "from statsmodels.stats.outliers_influence import OLSInfluence\n",
    "test_class = OLSInfluence(model)\n",
    "test_class.dfbetas[:5,:]"
   ]
  },
  {
   "cell_type": "markdown",
   "metadata": {},
   "source": [
    "It will return a ndarray ($m*n$), where $m$ is the number you defined (here we give 5, but you may change it by yourself), $n$ is the number of independent variables (6 for our model), the value is studentized residuals."
   ]
  },
  {
   "cell_type": "markdown",
   "metadata": {},
   "source": [
    "### <a id='Leverage-Resid2 Plot'>Leverage-Resid2 Plot</a>\n",
    "Closely related to the influence_plot is the leverage-resid2 plot. Let's have a look of the leverage plot first. In order to interpret the diagnostic plot better, you are encourage to explore the [leverage](http://sphweb.bumc.bu.edu/otlt/MPH-Modules/BS/R/R5_Correlation-Regression/R5_Correlation-Regression7.html)."
   ]
  },
  {
   "cell_type": "code",
   "execution_count": 59,
   "metadata": {},
   "outputs": [],
   "source": [
    "fig = sm.graphics.plot_leverage_resid2(model, ax=ax)"
   ]
  },
  {
   "cell_type": "markdown",
   "metadata": {},
   "source": [
    "The plot_regress_exog function is a convenience function that gives a 2x2 plot containing the dependent variable and fitted values with confidence intervals vs. the independent variable chosen, the residuals of the model vs. the chosen independent variable, a partial regression plot, and a CCPR plot. This function can be used for quickly checking modeling assumptions with respect to a single regressor. Let's take the most significant variable \"Value\" as an example:"
   ]
  },
  {
   "cell_type": "code",
   "execution_count": 60,
   "metadata": {},
   "outputs": [],
   "source": [
    "fig = plt.figure(figsize=(12,8))\n",
    "fig = sm.graphics.plot_regress_exog(model, 'Value', fig=fig)"
   ]
  },
  {
   "cell_type": "markdown",
   "metadata": {},
   "source": [
    "The plot_fit function plots the fitted values versus a chosen independent variable. It includes prediction confidence intervals and optionally plots the true dependent variable."
   ]
  },
  {
   "cell_type": "code",
   "execution_count": 61,
   "metadata": {},
   "outputs": [],
   "source": [
    "fig, ax = plt.subplots(figsize=(12, 8))\n",
    "fig = sm.graphics.plot_fit(model, \"Value\", ax=ax)"
   ]
  },
  {
   "cell_type": "markdown",
   "metadata": {},
   "source": [
    "More functions to explore from `statsmodel` at http://www.statsmodels.org/stable/index.html.\n",
    "\n",
    "## Credits!\n",
    "\n",
    "#### Contributors:\n",
    "The following individual(s) have contributed to these teaching materials: Yijing Li (yijing.li@kcl.ac.uk).\n",
    "\n",
    "#### License\n",
    "These teaching materials are licensed under a mix of [The MIT License](https://opensource.org/licenses/mit-license.php) and the [Creative Commons Attribution-NonCommercial-ShareAlike 4.0 license](https://creativecommons.org/licenses/by-nc-sa/4.0/)."
   ]
  }
 ],
 "metadata": {
  "kernelspec": {
   "display_name": "cusplondon",
   "language": "python",
   "name": "cusplondon"
  },
  "language_info": {
   "codemirror_mode": {
    "name": "ipython",
    "version": 3
   },
   "file_extension": ".py",
   "mimetype": "text/x-python",
   "name": "python",
   "nbconvert_exporter": "python",
   "pygments_lexer": "ipython3",
   "version": "3.7.4-final"
  }
 },
 "nbformat": 4,
 "nbformat_minor": 2
}